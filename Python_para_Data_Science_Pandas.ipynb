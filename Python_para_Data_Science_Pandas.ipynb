{
 "cells": [
  {
   "cell_type": "markdown",
   "metadata": {
    "id": "W4bTJkJED0-t"
   },
   "source": [
    "# <font color=green> PYTHON PARA DATA SCIENCE - PANDAS\n",
    "---"
   ]
  },
  {
   "cell_type": "markdown",
   "metadata": {
    "id": "4rUYsPrXD0-4"
   },
   "source": [
    "### Verificando versão"
   ]
  },
  {
   "cell_type": "code",
   "execution_count": null,
   "metadata": {
    "colab": {
     "base_uri": "https://localhost:8080/"
    },
    "executionInfo": {
     "elapsed": 803,
     "status": "ok",
     "timestamp": 1609781636872,
     "user": {
      "displayName": "Diego Cowen Pinto",
      "photoUrl": "https://lh3.googleusercontent.com/a-/AOh14GhkSbJn7uVBQmIkmxpBAHIeyBv3MYDnDVJE13xm8w=s64",
      "userId": "00433632151485364739"
     },
     "user_tz": 180
    },
    "id": "PgTCVRB2D0-5",
    "outputId": "18e39ca9-8dc2-4a3e-cca6-ea990041b1e9"
   },
   "outputs": [
    {
     "name": "stdout",
     "output_type": "stream",
     "text": [
      "Python 3.6.9\n"
     ]
    }
   ],
   "source": [
    "!python3 -V"
   ]
  },
  {
   "cell_type": "markdown",
   "metadata": {
    "id": "lTtI6so4D0-9"
   },
   "source": [
    "# Trabalhando com dados"
   ]
  },
  {
   "cell_type": "code",
   "execution_count": null,
   "metadata": {
    "id": "E_n4FUUWD0-9"
   },
   "outputs": [],
   "source": [
    "import pandas as pd\n",
    "# pd.set_option('display.max_rows', 10)\n",
    "# pd.set_option('display.max_columns', 1000)"
   ]
  },
  {
   "cell_type": "code",
   "execution_count": null,
   "metadata": {
    "id": "Kq-JdRHFD0-_"
   },
   "outputs": [],
   "source": [
    "dataset = pd.read_csv('db.csv', sep = ';')"
   ]
  },
  {
   "cell_type": "code",
   "execution_count": null,
   "metadata": {
    "colab": {
     "base_uri": "https://localhost:8080/",
     "height": 538
    },
    "executionInfo": {
     "elapsed": 1887,
     "status": "ok",
     "timestamp": 1610647812024,
     "user": {
      "displayName": "Diego Cowen Pinto",
      "photoUrl": "https://lh3.googleusercontent.com/a-/AOh14GhkSbJn7uVBQmIkmxpBAHIeyBv3MYDnDVJE13xm8w=s64",
      "userId": "00433632151485364739"
     },
     "user_tz": 180
    },
    "id": "mOV1rCA6D0_A",
    "outputId": "e327d262-fedb-4d5d-af52-321b91ed8ee2",
    "scrolled": true
   },
   "outputs": [
    {
     "data": {
      "text/html": [
       "<div>\n",
       "<style scoped>\n",
       "    .dataframe tbody tr th:only-of-type {\n",
       "        vertical-align: middle;\n",
       "    }\n",
       "\n",
       "    .dataframe tbody tr th {\n",
       "        vertical-align: top;\n",
       "    }\n",
       "\n",
       "    .dataframe thead th {\n",
       "        text-align: right;\n",
       "    }\n",
       "</style>\n",
       "<table border=\"1\" class=\"dataframe\">\n",
       "  <thead>\n",
       "    <tr style=\"text-align: right;\">\n",
       "      <th></th>\n",
       "      <th>Nome</th>\n",
       "      <th>Motor</th>\n",
       "      <th>Ano</th>\n",
       "      <th>Quilometragem</th>\n",
       "      <th>Zero_km</th>\n",
       "      <th>Acessórios</th>\n",
       "      <th>Valor</th>\n",
       "    </tr>\n",
       "  </thead>\n",
       "  <tbody>\n",
       "    <tr>\n",
       "      <th>0</th>\n",
       "      <td>Jetta Variant</td>\n",
       "      <td>Motor 4.0 Turbo</td>\n",
       "      <td>2003</td>\n",
       "      <td>44410.0</td>\n",
       "      <td>False</td>\n",
       "      <td>['Rodas de liga', 'Travas elétricas', 'Piloto ...</td>\n",
       "      <td>88078.64</td>\n",
       "    </tr>\n",
       "    <tr>\n",
       "      <th>1</th>\n",
       "      <td>Passat</td>\n",
       "      <td>Motor Diesel</td>\n",
       "      <td>1991</td>\n",
       "      <td>5712.0</td>\n",
       "      <td>False</td>\n",
       "      <td>['Central multimídia', 'Teto panorâmico', 'Fre...</td>\n",
       "      <td>106161.94</td>\n",
       "    </tr>\n",
       "    <tr>\n",
       "      <th>2</th>\n",
       "      <td>Crossfox</td>\n",
       "      <td>Motor Diesel V8</td>\n",
       "      <td>1990</td>\n",
       "      <td>37123.0</td>\n",
       "      <td>False</td>\n",
       "      <td>['Piloto automático', 'Controle de estabilidad...</td>\n",
       "      <td>72832.16</td>\n",
       "    </tr>\n",
       "    <tr>\n",
       "      <th>3</th>\n",
       "      <td>DS5</td>\n",
       "      <td>Motor 2.4 Turbo</td>\n",
       "      <td>2019</td>\n",
       "      <td>NaN</td>\n",
       "      <td>True</td>\n",
       "      <td>['Travas elétricas', '4 X 4', 'Vidros elétrico...</td>\n",
       "      <td>124549.07</td>\n",
       "    </tr>\n",
       "    <tr>\n",
       "      <th>4</th>\n",
       "      <td>Aston Martin DB4</td>\n",
       "      <td>Motor 2.4 Turbo</td>\n",
       "      <td>2006</td>\n",
       "      <td>25757.0</td>\n",
       "      <td>False</td>\n",
       "      <td>['Rodas de liga', '4 X 4', 'Central multimídia...</td>\n",
       "      <td>92612.10</td>\n",
       "    </tr>\n",
       "    <tr>\n",
       "      <th>...</th>\n",
       "      <td>...</td>\n",
       "      <td>...</td>\n",
       "      <td>...</td>\n",
       "      <td>...</td>\n",
       "      <td>...</td>\n",
       "      <td>...</td>\n",
       "      <td>...</td>\n",
       "    </tr>\n",
       "    <tr>\n",
       "      <th>253</th>\n",
       "      <td>Phantom 2013</td>\n",
       "      <td>Motor V8</td>\n",
       "      <td>2014</td>\n",
       "      <td>27505.0</td>\n",
       "      <td>False</td>\n",
       "      <td>['Controle de estabilidade', 'Piloto automátic...</td>\n",
       "      <td>51759.58</td>\n",
       "    </tr>\n",
       "    <tr>\n",
       "      <th>254</th>\n",
       "      <td>Cadillac Ciel concept</td>\n",
       "      <td>Motor V8</td>\n",
       "      <td>1991</td>\n",
       "      <td>29981.0</td>\n",
       "      <td>False</td>\n",
       "      <td>['Bancos de couro', 'Painel digital', 'Sensor ...</td>\n",
       "      <td>51667.06</td>\n",
       "    </tr>\n",
       "    <tr>\n",
       "      <th>255</th>\n",
       "      <td>Classe GLK</td>\n",
       "      <td>Motor 5.0 V8 Bi-Turbo</td>\n",
       "      <td>2002</td>\n",
       "      <td>52637.0</td>\n",
       "      <td>False</td>\n",
       "      <td>['Rodas de liga', 'Controle de tração', 'Câmbi...</td>\n",
       "      <td>68934.03</td>\n",
       "    </tr>\n",
       "    <tr>\n",
       "      <th>256</th>\n",
       "      <td>Aston Martin DB5</td>\n",
       "      <td>Motor Diesel</td>\n",
       "      <td>1996</td>\n",
       "      <td>7685.0</td>\n",
       "      <td>False</td>\n",
       "      <td>['Ar condicionado', '4 X 4', 'Câmbio automátic...</td>\n",
       "      <td>122110.90</td>\n",
       "    </tr>\n",
       "    <tr>\n",
       "      <th>257</th>\n",
       "      <td>Macan</td>\n",
       "      <td>Motor Diesel V6</td>\n",
       "      <td>1992</td>\n",
       "      <td>50188.0</td>\n",
       "      <td>False</td>\n",
       "      <td>['Central multimídia', 'Teto panorâmico', 'Vid...</td>\n",
       "      <td>90381.47</td>\n",
       "    </tr>\n",
       "  </tbody>\n",
       "</table>\n",
       "<p>258 rows × 7 columns</p>\n",
       "</div>"
      ],
      "text/plain": [
       "                      Nome  ...      Valor\n",
       "0            Jetta Variant  ...   88078.64\n",
       "1                   Passat  ...  106161.94\n",
       "2                 Crossfox  ...   72832.16\n",
       "3                      DS5  ...  124549.07\n",
       "4         Aston Martin DB4  ...   92612.10\n",
       "..                     ...  ...        ...\n",
       "253           Phantom 2013  ...   51759.58\n",
       "254  Cadillac Ciel concept  ...   51667.06\n",
       "255             Classe GLK  ...   68934.03\n",
       "256       Aston Martin DB5  ...  122110.90\n",
       "257                  Macan  ...   90381.47\n",
       "\n",
       "[258 rows x 7 columns]"
      ]
     },
     "execution_count": 5,
     "metadata": {
      "tags": []
     },
     "output_type": "execute_result"
    }
   ],
   "source": [
    "dataset"
   ]
  },
  {
   "cell_type": "code",
   "execution_count": null,
   "metadata": {
    "colab": {
     "base_uri": "https://localhost:8080/"
    },
    "executionInfo": {
     "elapsed": 1053,
     "status": "ok",
     "timestamp": 1610647817832,
     "user": {
      "displayName": "Diego Cowen Pinto",
      "photoUrl": "https://lh3.googleusercontent.com/a-/AOh14GhkSbJn7uVBQmIkmxpBAHIeyBv3MYDnDVJE13xm8w=s64",
      "userId": "00433632151485364739"
     },
     "user_tz": 180
    },
    "id": "5D739PzJD0_B",
    "outputId": "816a4b48-94f1-493a-e90d-85ef3d714cef"
   },
   "outputs": [
    {
     "data": {
      "text/plain": [
       "Nome              object\n",
       "Motor             object\n",
       "Ano                int64\n",
       "Quilometragem    float64\n",
       "Zero_km             bool\n",
       "Acessórios        object\n",
       "Valor            float64\n",
       "dtype: object"
      ]
     },
     "execution_count": 7,
     "metadata": {
      "tags": []
     },
     "output_type": "execute_result"
    }
   ],
   "source": [
    "dataset.dtypes"
   ]
  },
  {
   "cell_type": "code",
   "execution_count": null,
   "metadata": {
    "colab": {
     "base_uri": "https://localhost:8080/",
     "height": 163
    },
    "executionInfo": {
     "elapsed": 2126,
     "status": "error",
     "timestamp": 1610647793513,
     "user": {
      "displayName": "Diego Cowen Pinto",
      "photoUrl": "https://lh3.googleusercontent.com/a-/AOh14GhkSbJn7uVBQmIkmxpBAHIeyBv3MYDnDVJE13xm8w=s64",
      "userId": "00433632151485364739"
     },
     "user_tz": 180
    },
    "id": "r_qUf16LD0_D",
    "outputId": "1a98ac91-9a07-424d-e479-8a256cb17c76"
   },
   "outputs": [
    {
     "ename": "NameError",
     "evalue": "ignored",
     "output_type": "error",
     "traceback": [
      "\u001b[0;31m---------------------------------------------------------------------------\u001b[0m",
      "\u001b[0;31mNameError\u001b[0m                                 Traceback (most recent call last)",
      "\u001b[0;32m<ipython-input-2-57e615d764f3>\u001b[0m in \u001b[0;36m<module>\u001b[0;34m()\u001b[0m\n\u001b[0;32m----> 1\u001b[0;31m \u001b[0mdataset\u001b[0m\u001b[0;34m[\u001b[0m\u001b[0;34m[\u001b[0m\u001b[0;34m'Quilometragem'\u001b[0m\u001b[0;34m,\u001b[0m\u001b[0;34m'Valor'\u001b[0m\u001b[0;34m]\u001b[0m\u001b[0;34m]\u001b[0m\u001b[0;34m.\u001b[0m\u001b[0mdescribe\u001b[0m\u001b[0;34m(\u001b[0m\u001b[0;34m)\u001b[0m\u001b[0;34m\u001b[0m\u001b[0;34m\u001b[0m\u001b[0m\n\u001b[0m",
      "\u001b[0;31mNameError\u001b[0m: name 'dataset' is not defined"
     ]
    }
   ],
   "source": [
    "dataset[['Quilometragem','Valor']].describe()"
   ]
  },
  {
   "cell_type": "code",
   "execution_count": null,
   "metadata": {
    "colab": {
     "base_uri": "https://localhost:8080/"
    },
    "executionInfo": {
     "elapsed": 1542,
     "status": "ok",
     "timestamp": 1610647816597,
     "user": {
      "displayName": "Diego Cowen Pinto",
      "photoUrl": "https://lh3.googleusercontent.com/a-/AOh14GhkSbJn7uVBQmIkmxpBAHIeyBv3MYDnDVJE13xm8w=s64",
      "userId": "00433632151485364739"
     },
     "user_tz": 180
    },
    "id": "0R-_7PH5D0_E",
    "outputId": "bff7e345-1dcf-49b2-a89d-c1bcd9e2e8a4"
   },
   "outputs": [
    {
     "name": "stdout",
     "output_type": "stream",
     "text": [
      "<class 'pandas.core.frame.DataFrame'>\n",
      "RangeIndex: 258 entries, 0 to 257\n",
      "Data columns (total 7 columns):\n",
      " #   Column         Non-Null Count  Dtype  \n",
      "---  ------         --------------  -----  \n",
      " 0   Nome           258 non-null    object \n",
      " 1   Motor          258 non-null    object \n",
      " 2   Ano            258 non-null    int64  \n",
      " 3   Quilometragem  197 non-null    float64\n",
      " 4   Zero_km        258 non-null    bool   \n",
      " 5   Acessórios     258 non-null    object \n",
      " 6   Valor          258 non-null    float64\n",
      "dtypes: bool(1), float64(2), int64(1), object(3)\n",
      "memory usage: 12.5+ KB\n"
     ]
    }
   ],
   "source": [
    "dataset.info()"
   ]
  },
  {
   "cell_type": "markdown",
   "metadata": {
    "id": "htjoBLwiD0_F"
   },
   "source": [
    "# <font color=green> 2. TRABALHANDO COM TUPLAS\n",
    "---"
   ]
  },
  {
   "cell_type": "markdown",
   "metadata": {
    "id": "MZH5_QnYD0_G"
   },
   "source": [
    "# 2.1 Criando tuplas\n",
    "\n",
    "Tuplas são sequências imutáveis que são utilizadas para armazenar coleções de itens, geralmente heterogêneos. Podem ser construídas de várias formas:\n",
    "```\n",
    "- Utilizando um par de parênteses: ( )\n",
    "- Utilizando uma vírgula à direita: x,\n",
    "- Utilizando um par de parênteses com itens separados por vírgulas: ( x, y, z )\n",
    "- Utilizando: tuple() ou tuple(iterador)\n",
    "```"
   ]
  },
  {
   "cell_type": "code",
   "execution_count": null,
   "metadata": {
    "colab": {
     "base_uri": "https://localhost:8080/"
    },
    "executionInfo": {
     "elapsed": 2388,
     "status": "ok",
     "timestamp": 1610470584361,
     "user": {
      "displayName": "Diego Cowen Pinto",
      "photoUrl": "https://lh3.googleusercontent.com/a-/AOh14GhkSbJn7uVBQmIkmxpBAHIeyBv3MYDnDVJE13xm8w=s64",
      "userId": "00433632151485364739"
     },
     "user_tz": 180
    },
    "id": "xzcs9fzeD0_G",
    "outputId": "af0737b2-a890-4e87-a5bd-aa4565f4f2a4"
   },
   "outputs": [
    {
     "data": {
      "text/plain": [
       "()"
      ]
     },
     "execution_count": 1,
     "metadata": {
      "tags": []
     },
     "output_type": "execute_result"
    }
   ],
   "source": [
    "()"
   ]
  },
  {
   "cell_type": "code",
   "execution_count": null,
   "metadata": {
    "colab": {
     "base_uri": "https://localhost:8080/"
    },
    "executionInfo": {
     "elapsed": 3375,
     "status": "ok",
     "timestamp": 1610470585359,
     "user": {
      "displayName": "Diego Cowen Pinto",
      "photoUrl": "https://lh3.googleusercontent.com/a-/AOh14GhkSbJn7uVBQmIkmxpBAHIeyBv3MYDnDVJE13xm8w=s64",
      "userId": "00433632151485364739"
     },
     "user_tz": 180
    },
    "id": "qJq7a2qTD0_I",
    "outputId": "6e0a4ac2-387f-4fc4-897b-7b7e0d58d246"
   },
   "outputs": [
    {
     "data": {
      "text/plain": [
       "(1, 2, 3)"
      ]
     },
     "execution_count": 2,
     "metadata": {
      "tags": []
     },
     "output_type": "execute_result"
    }
   ],
   "source": [
    "1, 2, 3"
   ]
  },
  {
   "cell_type": "code",
   "execution_count": null,
   "metadata": {
    "colab": {
     "base_uri": "https://localhost:8080/"
    },
    "executionInfo": {
     "elapsed": 1580,
     "status": "ok",
     "timestamp": 1609942484959,
     "user": {
      "displayName": "Diego Cowen Pinto",
      "photoUrl": "https://lh3.googleusercontent.com/a-/AOh14GhkSbJn7uVBQmIkmxpBAHIeyBv3MYDnDVJE13xm8w=s64",
      "userId": "00433632151485364739"
     },
     "user_tz": 180
    },
    "id": "sg7LdvptD0_J",
    "outputId": "b73c7d94-b5a4-4b39-bdfa-4a898f836788"
   },
   "outputs": [
    {
     "data": {
      "text/plain": [
       "('Passat', 153000)"
      ]
     },
     "execution_count": 3,
     "metadata": {
      "tags": []
     },
     "output_type": "execute_result"
    }
   ],
   "source": [
    "nome = 'Passat'\n",
    "valor = 153000\n",
    "(nome, valor)"
   ]
  },
  {
   "cell_type": "code",
   "execution_count": null,
   "metadata": {
    "colab": {
     "base_uri": "https://localhost:8080/"
    },
    "executionInfo": {
     "elapsed": 686,
     "status": "ok",
     "timestamp": 1609942573242,
     "user": {
      "displayName": "Diego Cowen Pinto",
      "photoUrl": "https://lh3.googleusercontent.com/a-/AOh14GhkSbJn7uVBQmIkmxpBAHIeyBv3MYDnDVJE13xm8w=s64",
      "userId": "00433632151485364739"
     },
     "user_tz": 180
    },
    "id": "XSSMebXjD0_K",
    "outputId": "1d42f900-4717-4569-c16a-6a7eed344eee"
   },
   "outputs": [
    {
     "data": {
      "text/plain": [
       "('Jetta Variant', 'Passat', 'Crossfox', 'DS5')"
      ]
     },
     "execution_count": 4,
     "metadata": {
      "tags": []
     },
     "output_type": "execute_result"
    }
   ],
   "source": [
    "nomes_carros = tuple(['Jetta Variant', 'Passat', 'Crossfox', 'DS5'])\n",
    "nomes_carros"
   ]
  },
  {
   "cell_type": "code",
   "execution_count": null,
   "metadata": {
    "colab": {
     "base_uri": "https://localhost:8080/"
    },
    "executionInfo": {
     "elapsed": 815,
     "status": "ok",
     "timestamp": 1609942616596,
     "user": {
      "displayName": "Diego Cowen Pinto",
      "photoUrl": "https://lh3.googleusercontent.com/a-/AOh14GhkSbJn7uVBQmIkmxpBAHIeyBv3MYDnDVJE13xm8w=s64",
      "userId": "00433632151485364739"
     },
     "user_tz": 180
    },
    "id": "dpkdzrzRD0_M",
    "outputId": "4de459b2-5c5b-41da-ebd4-0d437ea665d2"
   },
   "outputs": [
    {
     "data": {
      "text/plain": [
       "tuple"
      ]
     },
     "execution_count": 5,
     "metadata": {
      "tags": []
     },
     "output_type": "execute_result"
    }
   ],
   "source": [
    "type(nomes_carros)"
   ]
  },
  {
   "cell_type": "markdown",
   "metadata": {
    "id": "iKUY2DOUD0_N"
   },
   "source": [
    "# 2.2 Seleções em tuplas"
   ]
  },
  {
   "cell_type": "code",
   "execution_count": null,
   "metadata": {
    "colab": {
     "base_uri": "https://localhost:8080/"
    },
    "executionInfo": {
     "elapsed": 1506,
     "status": "ok",
     "timestamp": 1609954843453,
     "user": {
      "displayName": "Diego Cowen Pinto",
      "photoUrl": "https://lh3.googleusercontent.com/a-/AOh14GhkSbJn7uVBQmIkmxpBAHIeyBv3MYDnDVJE13xm8w=s64",
      "userId": "00433632151485364739"
     },
     "user_tz": 180
    },
    "id": "hBEeAM7_D0_N",
    "outputId": "fed3cb7e-04aa-4964-f4f1-11a48728b0b1"
   },
   "outputs": [
    {
     "data": {
      "text/plain": [
       "('Jetta Variant', 'Passat', 'Crossfox', 'DS5')"
      ]
     },
     "execution_count": 1,
     "metadata": {
      "tags": []
     },
     "output_type": "execute_result"
    }
   ],
   "source": [
    "nomes_carros = tuple(['Jetta Variant', 'Passat', 'Crossfox', 'DS5'])\n",
    "nomes_carros"
   ]
  },
  {
   "cell_type": "code",
   "execution_count": null,
   "metadata": {
    "colab": {
     "base_uri": "https://localhost:8080/",
     "height": 35
    },
    "executionInfo": {
     "elapsed": 674,
     "status": "ok",
     "timestamp": 1609955235723,
     "user": {
      "displayName": "Diego Cowen Pinto",
      "photoUrl": "https://lh3.googleusercontent.com/a-/AOh14GhkSbJn7uVBQmIkmxpBAHIeyBv3MYDnDVJE13xm8w=s64",
      "userId": "00433632151485364739"
     },
     "user_tz": 180
    },
    "id": "-mx_1E_tD0_P",
    "outputId": "5336a7f0-e575-4c8f-b426-9b59efba0354"
   },
   "outputs": [
    {
     "data": {
      "application/vnd.google.colaboratory.intrinsic+json": {
       "type": "string"
      },
      "text/plain": [
       "'Jetta Variant'"
      ]
     },
     "execution_count": 3,
     "metadata": {
      "tags": []
     },
     "output_type": "execute_result"
    }
   ],
   "source": [
    "nomes_carros[0]"
   ]
  },
  {
   "cell_type": "code",
   "execution_count": null,
   "metadata": {
    "colab": {
     "base_uri": "https://localhost:8080/"
    },
    "executionInfo": {
     "elapsed": 698,
     "status": "ok",
     "timestamp": 1609955272155,
     "user": {
      "displayName": "Diego Cowen Pinto",
      "photoUrl": "https://lh3.googleusercontent.com/a-/AOh14GhkSbJn7uVBQmIkmxpBAHIeyBv3MYDnDVJE13xm8w=s64",
      "userId": "00433632151485364739"
     },
     "user_tz": 180
    },
    "id": "LMhyqnFID0_Q",
    "outputId": "6b9ec671-a781-434a-a037-8a5f01361f53"
   },
   "outputs": [
    {
     "data": {
      "text/plain": [
       "('Jetta Variant', 'Passat', 'Crossfox')"
      ]
     },
     "execution_count": 5,
     "metadata": {
      "tags": []
     },
     "output_type": "execute_result"
    }
   ],
   "source": [
    "nomes_carros[0:3]"
   ]
  },
  {
   "cell_type": "code",
   "execution_count": null,
   "metadata": {
    "colab": {
     "base_uri": "https://localhost:8080/",
     "height": 35
    },
    "executionInfo": {
     "elapsed": 642,
     "status": "ok",
     "timestamp": 1609955296372,
     "user": {
      "displayName": "Diego Cowen Pinto",
      "photoUrl": "https://lh3.googleusercontent.com/a-/AOh14GhkSbJn7uVBQmIkmxpBAHIeyBv3MYDnDVJE13xm8w=s64",
      "userId": "00433632151485364739"
     },
     "user_tz": 180
    },
    "id": "6btHff4BD0_T",
    "outputId": "4bfd1e46-f996-40ff-9d37-81cf7e68a9ad"
   },
   "outputs": [
    {
     "data": {
      "application/vnd.google.colaboratory.intrinsic+json": {
       "type": "string"
      },
      "text/plain": [
       "'DS5'"
      ]
     },
     "execution_count": 6,
     "metadata": {
      "tags": []
     },
     "output_type": "execute_result"
    }
   ],
   "source": [
    "nomes_carros[-1]"
   ]
  },
  {
   "cell_type": "code",
   "execution_count": null,
   "metadata": {
    "colab": {
     "base_uri": "https://localhost:8080/"
    },
    "executionInfo": {
     "elapsed": 622,
     "status": "ok",
     "timestamp": 1609955341258,
     "user": {
      "displayName": "Diego Cowen Pinto",
      "photoUrl": "https://lh3.googleusercontent.com/a-/AOh14GhkSbJn7uVBQmIkmxpBAHIeyBv3MYDnDVJE13xm8w=s64",
      "userId": "00433632151485364739"
     },
     "user_tz": 180
    },
    "id": "K_Dc12xBD0_U",
    "outputId": "ecb3baa7-852f-48bd-99f4-e24211211971"
   },
   "outputs": [
    {
     "data": {
      "text/plain": [
       "('Passat', 'Crossfox')"
      ]
     },
     "execution_count": 9,
     "metadata": {
      "tags": []
     },
     "output_type": "execute_result"
    }
   ],
   "source": [
    "nomes_carros[1:3]"
   ]
  },
  {
   "cell_type": "code",
   "execution_count": null,
   "metadata": {
    "colab": {
     "base_uri": "https://localhost:8080/"
    },
    "executionInfo": {
     "elapsed": 908,
     "status": "ok",
     "timestamp": 1609955628505,
     "user": {
      "displayName": "Diego Cowen Pinto",
      "photoUrl": "https://lh3.googleusercontent.com/a-/AOh14GhkSbJn7uVBQmIkmxpBAHIeyBv3MYDnDVJE13xm8w=s64",
      "userId": "00433632151485364739"
     },
     "user_tz": 180
    },
    "id": "zvrWYkkeD0_W",
    "outputId": "c4d71476-8ed1-4107-8c9a-52b25b73e837"
   },
   "outputs": [
    {
     "data": {
      "text/plain": [
       "('Jetta Variant', 'Passat', 'Crossfox', 'DS5', ('Fusca', 'Gol', 'C4'))"
      ]
     },
     "execution_count": 10,
     "metadata": {
      "tags": []
     },
     "output_type": "execute_result"
    }
   ],
   "source": [
    "nomes_carros = ('Jetta Variant', 'Passat', 'Crossfox', 'DS5', ('Fusca', 'Gol', 'C4'))\n",
    "nomes_carros"
   ]
  },
  {
   "cell_type": "code",
   "execution_count": null,
   "metadata": {
    "colab": {
     "base_uri": "https://localhost:8080/"
    },
    "executionInfo": {
     "elapsed": 613,
     "status": "ok",
     "timestamp": 1609955753200,
     "user": {
      "displayName": "Diego Cowen Pinto",
      "photoUrl": "https://lh3.googleusercontent.com/a-/AOh14GhkSbJn7uVBQmIkmxpBAHIeyBv3MYDnDVJE13xm8w=s64",
      "userId": "00433632151485364739"
     },
     "user_tz": 180
    },
    "id": "Dw7tbM2ED0_Z",
    "outputId": "0796b0d7-ecc8-44a1-d406-292ddb49aed8"
   },
   "outputs": [
    {
     "data": {
      "text/plain": [
       "('Fusca', 'Gol', 'C4')"
      ]
     },
     "execution_count": 18,
     "metadata": {
      "tags": []
     },
     "output_type": "execute_result"
    }
   ],
   "source": [
    "nomes_carros[-1]"
   ]
  },
  {
   "cell_type": "code",
   "execution_count": null,
   "metadata": {
    "colab": {
     "base_uri": "https://localhost:8080/",
     "height": 35
    },
    "executionInfo": {
     "elapsed": 883,
     "status": "ok",
     "timestamp": 1609955766674,
     "user": {
      "displayName": "Diego Cowen Pinto",
      "photoUrl": "https://lh3.googleusercontent.com/a-/AOh14GhkSbJn7uVBQmIkmxpBAHIeyBv3MYDnDVJE13xm8w=s64",
      "userId": "00433632151485364739"
     },
     "user_tz": 180
    },
    "id": "SAMD3BtXD0_b",
    "outputId": "045dd030-c8b6-465e-b944-587b22bcf101"
   },
   "outputs": [
    {
     "data": {
      "application/vnd.google.colaboratory.intrinsic+json": {
       "type": "string"
      },
      "text/plain": [
       "'Fusca'"
      ]
     },
     "execution_count": 19,
     "metadata": {
      "tags": []
     },
     "output_type": "execute_result"
    }
   ],
   "source": [
    "nomes_carros[-1][0]"
   ]
  },
  {
   "cell_type": "markdown",
   "metadata": {
    "id": "KLMxh4-0D0_c"
   },
   "source": [
    "# 2.3 Iterando em tuplas"
   ]
  },
  {
   "cell_type": "code",
   "execution_count": null,
   "metadata": {
    "colab": {
     "base_uri": "https://localhost:8080/"
    },
    "executionInfo": {
     "elapsed": 763,
     "status": "ok",
     "timestamp": 1609956580325,
     "user": {
      "displayName": "Diego Cowen Pinto",
      "photoUrl": "https://lh3.googleusercontent.com/a-/AOh14GhkSbJn7uVBQmIkmxpBAHIeyBv3MYDnDVJE13xm8w=s64",
      "userId": "00433632151485364739"
     },
     "user_tz": 180
    },
    "id": "K53elKsYD0_c",
    "outputId": "8a667e4a-9d04-4d63-c67d-a1e13cdb62e0"
   },
   "outputs": [
    {
     "data": {
      "text/plain": [
       "('Jetta Variant', 'Passat', 'Crossfox', 'DS5')"
      ]
     },
     "execution_count": 20,
     "metadata": {
      "tags": []
     },
     "output_type": "execute_result"
    }
   ],
   "source": [
    "nomes_carros = ('Jetta Variant', 'Passat', 'Crossfox', 'DS5')\n",
    "nomes_carros"
   ]
  },
  {
   "cell_type": "code",
   "execution_count": null,
   "metadata": {
    "colab": {
     "base_uri": "https://localhost:8080/"
    },
    "executionInfo": {
     "elapsed": 637,
     "status": "ok",
     "timestamp": 1609956613826,
     "user": {
      "displayName": "Diego Cowen Pinto",
      "photoUrl": "https://lh3.googleusercontent.com/a-/AOh14GhkSbJn7uVBQmIkmxpBAHIeyBv3MYDnDVJE13xm8w=s64",
      "userId": "00433632151485364739"
     },
     "user_tz": 180
    },
    "id": "igZhZ5zdD0_d",
    "outputId": "2522e052-869c-4d5d-8857-ea1d218aa105"
   },
   "outputs": [
    {
     "name": "stdout",
     "output_type": "stream",
     "text": [
      "Jetta Variant\n",
      "Passat\n",
      "Crossfox\n",
      "DS5\n"
     ]
    }
   ],
   "source": [
    "for item in nomes_carros:\n",
    "  print(item)"
   ]
  },
  {
   "cell_type": "markdown",
   "metadata": {
    "id": "AOBjxBk8D0_f"
   },
   "source": [
    "### Desempacotamento de tuplas"
   ]
  },
  {
   "cell_type": "code",
   "execution_count": null,
   "metadata": {
    "id": "UoEFnumhD0_f"
   },
   "outputs": [],
   "source": [
    "carro_1, carro_2, carro_3, carro_4 =  nomes_carros"
   ]
  },
  {
   "cell_type": "code",
   "execution_count": null,
   "metadata": {
    "colab": {
     "base_uri": "https://localhost:8080/",
     "height": 35
    },
    "executionInfo": {
     "elapsed": 772,
     "status": "ok",
     "timestamp": 1609957163109,
     "user": {
      "displayName": "Diego Cowen Pinto",
      "photoUrl": "https://lh3.googleusercontent.com/a-/AOh14GhkSbJn7uVBQmIkmxpBAHIeyBv3MYDnDVJE13xm8w=s64",
      "userId": "00433632151485364739"
     },
     "user_tz": 180
    },
    "id": "AaCLcNYTD0_g",
    "outputId": "afc16081-96f4-4d0d-e6b3-5ccd4c119fc8"
   },
   "outputs": [
    {
     "data": {
      "application/vnd.google.colaboratory.intrinsic+json": {
       "type": "string"
      },
      "text/plain": [
       "'Jetta Variant'"
      ]
     },
     "execution_count": 23,
     "metadata": {
      "tags": []
     },
     "output_type": "execute_result"
    }
   ],
   "source": [
    "carro_1"
   ]
  },
  {
   "cell_type": "code",
   "execution_count": null,
   "metadata": {
    "colab": {
     "base_uri": "https://localhost:8080/",
     "height": 35
    },
    "executionInfo": {
     "elapsed": 646,
     "status": "ok",
     "timestamp": 1609957731839,
     "user": {
      "displayName": "Diego Cowen Pinto",
      "photoUrl": "https://lh3.googleusercontent.com/a-/AOh14GhkSbJn7uVBQmIkmxpBAHIeyBv3MYDnDVJE13xm8w=s64",
      "userId": "00433632151485364739"
     },
     "user_tz": 180
    },
    "id": "TA71S9egD0_h",
    "outputId": "e50e7839-926f-488b-a3c7-59590246a1cf"
   },
   "outputs": [
    {
     "data": {
      "application/vnd.google.colaboratory.intrinsic+json": {
       "type": "string"
      },
      "text/plain": [
       "'Passat'"
      ]
     },
     "execution_count": 24,
     "metadata": {
      "tags": []
     },
     "output_type": "execute_result"
    }
   ],
   "source": [
    "carro_2"
   ]
  },
  {
   "cell_type": "code",
   "execution_count": null,
   "metadata": {
    "colab": {
     "base_uri": "https://localhost:8080/",
     "height": 35
    },
    "executionInfo": {
     "elapsed": 674,
     "status": "ok",
     "timestamp": 1609957735109,
     "user": {
      "displayName": "Diego Cowen Pinto",
      "photoUrl": "https://lh3.googleusercontent.com/a-/AOh14GhkSbJn7uVBQmIkmxpBAHIeyBv3MYDnDVJE13xm8w=s64",
      "userId": "00433632151485364739"
     },
     "user_tz": 180
    },
    "id": "CHoJ034MD0_i",
    "outputId": "d96ccc46-256a-4fa9-ab18-354f6e38e16b"
   },
   "outputs": [
    {
     "data": {
      "application/vnd.google.colaboratory.intrinsic+json": {
       "type": "string"
      },
      "text/plain": [
       "'Crossfox'"
      ]
     },
     "execution_count": 25,
     "metadata": {
      "tags": []
     },
     "output_type": "execute_result"
    }
   ],
   "source": [
    "carro_3"
   ]
  },
  {
   "cell_type": "code",
   "execution_count": null,
   "metadata": {
    "colab": {
     "base_uri": "https://localhost:8080/",
     "height": 35
    },
    "executionInfo": {
     "elapsed": 698,
     "status": "ok",
     "timestamp": 1609957738991,
     "user": {
      "displayName": "Diego Cowen Pinto",
      "photoUrl": "https://lh3.googleusercontent.com/a-/AOh14GhkSbJn7uVBQmIkmxpBAHIeyBv3MYDnDVJE13xm8w=s64",
      "userId": "00433632151485364739"
     },
     "user_tz": 180
    },
    "id": "oxJrOuCSD0_j",
    "outputId": "f3f6015d-2d03-4366-b646-ef007e11b33a"
   },
   "outputs": [
    {
     "data": {
      "application/vnd.google.colaboratory.intrinsic+json": {
       "type": "string"
      },
      "text/plain": [
       "'DS5'"
      ]
     },
     "execution_count": 26,
     "metadata": {
      "tags": []
     },
     "output_type": "execute_result"
    }
   ],
   "source": [
    "carro_4"
   ]
  },
  {
   "cell_type": "code",
   "execution_count": null,
   "metadata": {
    "id": "BbR9sB4BD0_k"
   },
   "outputs": [],
   "source": [
    "_, A, _, B = nomes_carros"
   ]
  },
  {
   "cell_type": "code",
   "execution_count": null,
   "metadata": {
    "colab": {
     "base_uri": "https://localhost:8080/",
     "height": 35
    },
    "executionInfo": {
     "elapsed": 664,
     "status": "ok",
     "timestamp": 1609957903724,
     "user": {
      "displayName": "Diego Cowen Pinto",
      "photoUrl": "https://lh3.googleusercontent.com/a-/AOh14GhkSbJn7uVBQmIkmxpBAHIeyBv3MYDnDVJE13xm8w=s64",
      "userId": "00433632151485364739"
     },
     "user_tz": 180
    },
    "id": "aZvokrjPD0_m",
    "outputId": "64d81e9b-1d6f-4352-b480-dcafd026786f"
   },
   "outputs": [
    {
     "data": {
      "application/vnd.google.colaboratory.intrinsic+json": {
       "type": "string"
      },
      "text/plain": [
       "'Passat'"
      ]
     },
     "execution_count": 28,
     "metadata": {
      "tags": []
     },
     "output_type": "execute_result"
    }
   ],
   "source": [
    "A"
   ]
  },
  {
   "cell_type": "code",
   "execution_count": null,
   "metadata": {
    "colab": {
     "base_uri": "https://localhost:8080/",
     "height": 35
    },
    "executionInfo": {
     "elapsed": 686,
     "status": "ok",
     "timestamp": 1609957906660,
     "user": {
      "displayName": "Diego Cowen Pinto",
      "photoUrl": "https://lh3.googleusercontent.com/a-/AOh14GhkSbJn7uVBQmIkmxpBAHIeyBv3MYDnDVJE13xm8w=s64",
      "userId": "00433632151485364739"
     },
     "user_tz": 180
    },
    "id": "wZXDbVg0D0_o",
    "outputId": "e5044973-09fa-44e9-b0c3-68821b77faed"
   },
   "outputs": [
    {
     "data": {
      "application/vnd.google.colaboratory.intrinsic+json": {
       "type": "string"
      },
      "text/plain": [
       "'DS5'"
      ]
     },
     "execution_count": 29,
     "metadata": {
      "tags": []
     },
     "output_type": "execute_result"
    }
   ],
   "source": [
    "B"
   ]
  },
  {
   "cell_type": "code",
   "execution_count": null,
   "metadata": {
    "id": "aWgDMBXiD0_p"
   },
   "outputs": [],
   "source": [
    "_, C, *_ = nomes_carros"
   ]
  },
  {
   "cell_type": "code",
   "execution_count": null,
   "metadata": {
    "colab": {
     "base_uri": "https://localhost:8080/",
     "height": 35
    },
    "executionInfo": {
     "elapsed": 699,
     "status": "ok",
     "timestamp": 1609958011852,
     "user": {
      "displayName": "Diego Cowen Pinto",
      "photoUrl": "https://lh3.googleusercontent.com/a-/AOh14GhkSbJn7uVBQmIkmxpBAHIeyBv3MYDnDVJE13xm8w=s64",
      "userId": "00433632151485364739"
     },
     "user_tz": 180
    },
    "id": "OdpgNh-ND0_q",
    "outputId": "1e65b37e-f891-4dab-9f00-eca3e497aab4"
   },
   "outputs": [
    {
     "data": {
      "application/vnd.google.colaboratory.intrinsic+json": {
       "type": "string"
      },
      "text/plain": [
       "'Passat'"
      ]
     },
     "execution_count": 31,
     "metadata": {
      "tags": []
     },
     "output_type": "execute_result"
    }
   ],
   "source": [
    "C"
   ]
  },
  {
   "cell_type": "code",
   "execution_count": null,
   "metadata": {
    "id": "upVYFnMdD0_r"
   },
   "outputs": [],
   "source": []
  },
  {
   "cell_type": "markdown",
   "metadata": {
    "id": "u85Aou8WD0_s"
   },
   "source": [
    "## *zip()*\n",
    "\n",
    "https://docs.python.org/3.6/library/functions.html#zip"
   ]
  },
  {
   "cell_type": "code",
   "execution_count": null,
   "metadata": {
    "colab": {
     "base_uri": "https://localhost:8080/"
    },
    "executionInfo": {
     "elapsed": 954,
     "status": "ok",
     "timestamp": 1610470666332,
     "user": {
      "displayName": "Diego Cowen Pinto",
      "photoUrl": "https://lh3.googleusercontent.com/a-/AOh14GhkSbJn7uVBQmIkmxpBAHIeyBv3MYDnDVJE13xm8w=s64",
      "userId": "00433632151485364739"
     },
     "user_tz": 180
    },
    "id": "PaC2oXGED0_t",
    "outputId": "e4695b6c-bdf1-4b3c-858c-19968f7a7fe9"
   },
   "outputs": [
    {
     "data": {
      "text/plain": [
       "['Jetta Variant', 'Passat', 'Crossfox', 'DS5']"
      ]
     },
     "execution_count": 4,
     "metadata": {
      "tags": []
     },
     "output_type": "execute_result"
    }
   ],
   "source": [
    "carros = ['Jetta Variant', 'Passat', 'Crossfox', 'DS5']\n",
    "carros"
   ]
  },
  {
   "cell_type": "code",
   "execution_count": null,
   "metadata": {
    "colab": {
     "base_uri": "https://localhost:8080/"
    },
    "executionInfo": {
     "elapsed": 962,
     "status": "ok",
     "timestamp": 1610470668437,
     "user": {
      "displayName": "Diego Cowen Pinto",
      "photoUrl": "https://lh3.googleusercontent.com/a-/AOh14GhkSbJn7uVBQmIkmxpBAHIeyBv3MYDnDVJE13xm8w=s64",
      "userId": "00433632151485364739"
     },
     "user_tz": 180
    },
    "id": "_02O1VnHD0_u",
    "outputId": "d7ebb353-a773-413f-d0a2-b36d6cccdb1d"
   },
   "outputs": [
    {
     "data": {
      "text/plain": [
       "[88078.64, 106161.94, 72832.16, 124549.07]"
      ]
     },
     "execution_count": 5,
     "metadata": {
      "tags": []
     },
     "output_type": "execute_result"
    }
   ],
   "source": [
    "valores = [88078.64, 106161.94, 72832.16, 124549.07]\n",
    "valores"
   ]
  },
  {
   "cell_type": "code",
   "execution_count": null,
   "metadata": {
    "colab": {
     "base_uri": "https://localhost:8080/"
    },
    "executionInfo": {
     "elapsed": 973,
     "status": "ok",
     "timestamp": 1610470670328,
     "user": {
      "displayName": "Diego Cowen Pinto",
      "photoUrl": "https://lh3.googleusercontent.com/a-/AOh14GhkSbJn7uVBQmIkmxpBAHIeyBv3MYDnDVJE13xm8w=s64",
      "userId": "00433632151485364739"
     },
     "user_tz": 180
    },
    "id": "roQK5nYRD0_v",
    "outputId": "9ed1641e-5875-466f-b51d-cebd76816cba"
   },
   "outputs": [
    {
     "data": {
      "text/plain": [
       "<zip at 0x7f2b78e28208>"
      ]
     },
     "execution_count": 6,
     "metadata": {
      "tags": []
     },
     "output_type": "execute_result"
    }
   ],
   "source": [
    "zip(carros, valores)"
   ]
  },
  {
   "cell_type": "code",
   "execution_count": null,
   "metadata": {
    "colab": {
     "base_uri": "https://localhost:8080/"
    },
    "executionInfo": {
     "elapsed": 878,
     "status": "ok",
     "timestamp": 1610470673413,
     "user": {
      "displayName": "Diego Cowen Pinto",
      "photoUrl": "https://lh3.googleusercontent.com/a-/AOh14GhkSbJn7uVBQmIkmxpBAHIeyBv3MYDnDVJE13xm8w=s64",
      "userId": "00433632151485364739"
     },
     "user_tz": 180
    },
    "id": "_WRxIRHrD0_w",
    "outputId": "c0765944-d450-4e31-9f6d-0b81dc550631"
   },
   "outputs": [
    {
     "data": {
      "text/plain": [
       "[('Jetta Variant', 88078.64),\n",
       " ('Passat', 106161.94),\n",
       " ('Crossfox', 72832.16),\n",
       " ('DS5', 124549.07)]"
      ]
     },
     "execution_count": 7,
     "metadata": {
      "tags": []
     },
     "output_type": "execute_result"
    }
   ],
   "source": [
    "list(zip(carros, valores))"
   ]
  },
  {
   "cell_type": "code",
   "execution_count": null,
   "metadata": {
    "colab": {
     "base_uri": "https://localhost:8080/"
    },
    "executionInfo": {
     "elapsed": 908,
     "status": "ok",
     "timestamp": 1610470688916,
     "user": {
      "displayName": "Diego Cowen Pinto",
      "photoUrl": "https://lh3.googleusercontent.com/a-/AOh14GhkSbJn7uVBQmIkmxpBAHIeyBv3MYDnDVJE13xm8w=s64",
      "userId": "00433632151485364739"
     },
     "user_tz": 180
    },
    "id": "2zIuhIILD0_x",
    "outputId": "de2e572b-b52e-45e0-b96c-968cf63face9"
   },
   "outputs": [
    {
     "name": "stdout",
     "output_type": "stream",
     "text": [
      "('Jetta Variant', 88078.64)\n",
      "('Passat', 106161.94)\n",
      "('Crossfox', 72832.16)\n",
      "('DS5', 124549.07)\n"
     ]
    }
   ],
   "source": [
    "for item in zip(carros, valores):\n",
    "  print(item)"
   ]
  },
  {
   "cell_type": "code",
   "execution_count": null,
   "metadata": {
    "colab": {
     "base_uri": "https://localhost:8080/"
    },
    "executionInfo": {
     "elapsed": 892,
     "status": "ok",
     "timestamp": 1610470705919,
     "user": {
      "displayName": "Diego Cowen Pinto",
      "photoUrl": "https://lh3.googleusercontent.com/a-/AOh14GhkSbJn7uVBQmIkmxpBAHIeyBv3MYDnDVJE13xm8w=s64",
      "userId": "00433632151485364739"
     },
     "user_tz": 180
    },
    "id": "ZJaL62IpD0_y",
    "outputId": "39de28c0-5725-4e3a-fa08-5a135a8eabd9"
   },
   "outputs": [
    {
     "name": "stdout",
     "output_type": "stream",
     "text": [
      "Jetta Variant 88078.64\n",
      "Passat 106161.94\n",
      "Crossfox 72832.16\n",
      "DS5 124549.07\n"
     ]
    }
   ],
   "source": [
    "for carro, valor in zip(carros, valores):\n",
    "  print(carro, valor)"
   ]
  },
  {
   "cell_type": "code",
   "execution_count": null,
   "metadata": {
    "colab": {
     "base_uri": "https://localhost:8080/"
    },
    "executionInfo": {
     "elapsed": 1131,
     "status": "ok",
     "timestamp": 1610471396625,
     "user": {
      "displayName": "Diego Cowen Pinto",
      "photoUrl": "https://lh3.googleusercontent.com/a-/AOh14GhkSbJn7uVBQmIkmxpBAHIeyBv3MYDnDVJE13xm8w=s64",
      "userId": "00433632151485364739"
     },
     "user_tz": 180
    },
    "id": "B6GQHd8kBddr",
    "outputId": "23f988cf-47c9-4394-8ba2-617503218ca4"
   },
   "outputs": [
    {
     "name": "stdout",
     "output_type": "stream",
     "text": [
      "Passat\n",
      "DS5\n"
     ]
    }
   ],
   "source": [
    "for carro, valor in zip(carros, valores):\n",
    "  if(valor > 100000):\n",
    "   print(carro)"
   ]
  },
  {
   "cell_type": "markdown",
   "metadata": {
    "id": "xo76nR8rD0_0"
   },
   "source": [
    "# <font color=green> 3. TRABALHANDO COM DICIONÁRIOS\n",
    "---"
   ]
  },
  {
   "cell_type": "markdown",
   "metadata": {
    "id": "wfWzOuztD0_0"
   },
   "source": [
    "# 3.1 Criando dicionários\n",
    "\n",
    "Listas são coleções sequenciais, isto é, os itens destas sequências estão ordenados e utilizam índices (números inteiros) para acessar os valores.\n",
    "\n",
    "Os dicionários são coleções um pouco diferentes. São estruturas de dados que representam um tipo de mapeamento. Mapeamentos são coleções de associações entre pares de valores onde o primeiro elemento do par é conhecido como chave (*key*) e o segundo como valor (*value*).\n",
    "\n",
    "```\n",
    "dicionario = {key_1: value_1, key_2: value_2, ..., key_n: value_n}\n",
    "```\n",
    "\n",
    "https://docs.python.org/3.6/library/stdtypes.html#typesmapping"
   ]
  },
  {
   "cell_type": "code",
   "execution_count": null,
   "metadata": {
    "id": "SuPcV9v6D0_0"
   },
   "outputs": [],
   "source": []
  },
  {
   "cell_type": "code",
   "execution_count": null,
   "metadata": {
    "colab": {
     "base_uri": "https://localhost:8080/"
    },
    "executionInfo": {
     "elapsed": 1233,
     "status": "ok",
     "timestamp": 1610647887236,
     "user": {
      "displayName": "Diego Cowen Pinto",
      "photoUrl": "https://lh3.googleusercontent.com/a-/AOh14GhkSbJn7uVBQmIkmxpBAHIeyBv3MYDnDVJE13xm8w=s64",
      "userId": "00433632151485364739"
     },
     "user_tz": 180
    },
    "id": "YIFVkWT6D0_1",
    "outputId": "d75348bc-f8de-4ad9-8f50-38e23f686764"
   },
   "outputs": [
    {
     "data": {
      "text/plain": [
       "['Jetta Variant', 'Passat', 'Crossfox']"
      ]
     },
     "execution_count": 8,
     "metadata": {
      "tags": []
     },
     "output_type": "execute_result"
    }
   ],
   "source": [
    "carros = ['Jetta Variant', 'Passat', 'Crossfox']\n",
    "carros"
   ]
  },
  {
   "cell_type": "code",
   "execution_count": null,
   "metadata": {
    "colab": {
     "base_uri": "https://localhost:8080/"
    },
    "executionInfo": {
     "elapsed": 982,
     "status": "ok",
     "timestamp": 1610647888125,
     "user": {
      "displayName": "Diego Cowen Pinto",
      "photoUrl": "https://lh3.googleusercontent.com/a-/AOh14GhkSbJn7uVBQmIkmxpBAHIeyBv3MYDnDVJE13xm8w=s64",
      "userId": "00433632151485364739"
     },
     "user_tz": 180
    },
    "id": "2LHiBn3-D0_2",
    "outputId": "d464ad97-03a1-4393-f609-4c8a758ff73e"
   },
   "outputs": [
    {
     "data": {
      "text/plain": [
       "[88078.64, 106161.94, 72832.16]"
      ]
     },
     "execution_count": 9,
     "metadata": {
      "tags": []
     },
     "output_type": "execute_result"
    }
   ],
   "source": [
    "valores = [88078.64, 106161.94, 72832.16]\n",
    "valores"
   ]
  },
  {
   "cell_type": "code",
   "execution_count": null,
   "metadata": {
    "colab": {
     "base_uri": "https://localhost:8080/"
    },
    "executionInfo": {
     "elapsed": 752,
     "status": "ok",
     "timestamp": 1610648256851,
     "user": {
      "displayName": "Diego Cowen Pinto",
      "photoUrl": "https://lh3.googleusercontent.com/a-/AOh14GhkSbJn7uVBQmIkmxpBAHIeyBv3MYDnDVJE13xm8w=s64",
      "userId": "00433632151485364739"
     },
     "user_tz": 180
    },
    "id": "YxLAx_sqD0_4",
    "outputId": "e4c6f73d-f5b4-4e86-9e47-cb15ed0eeced"
   },
   "outputs": [
    {
     "data": {
      "text/plain": [
       "1"
      ]
     },
     "execution_count": 10,
     "metadata": {
      "tags": []
     },
     "output_type": "execute_result"
    }
   ],
   "source": [
    "carros.index('Passat')"
   ]
  },
  {
   "cell_type": "code",
   "execution_count": null,
   "metadata": {
    "colab": {
     "base_uri": "https://localhost:8080/"
    },
    "executionInfo": {
     "elapsed": 555,
     "status": "ok",
     "timestamp": 1610648294749,
     "user": {
      "displayName": "Diego Cowen Pinto",
      "photoUrl": "https://lh3.googleusercontent.com/a-/AOh14GhkSbJn7uVBQmIkmxpBAHIeyBv3MYDnDVJE13xm8w=s64",
      "userId": "00433632151485364739"
     },
     "user_tz": 180
    },
    "id": "WITNWExID0_7",
    "outputId": "1f2e1cdc-3305-4a6b-c0a8-91ce15ea866b"
   },
   "outputs": [
    {
     "data": {
      "text/plain": [
       "106161.94"
      ]
     },
     "execution_count": 11,
     "metadata": {
      "tags": []
     },
     "output_type": "execute_result"
    }
   ],
   "source": [
    "valores[carros.index('Passat')]"
   ]
  },
  {
   "cell_type": "code",
   "execution_count": null,
   "metadata": {
    "colab": {
     "base_uri": "https://localhost:8080/"
    },
    "executionInfo": {
     "elapsed": 792,
     "status": "ok",
     "timestamp": 1610648500085,
     "user": {
      "displayName": "Diego Cowen Pinto",
      "photoUrl": "https://lh3.googleusercontent.com/a-/AOh14GhkSbJn7uVBQmIkmxpBAHIeyBv3MYDnDVJE13xm8w=s64",
      "userId": "00433632151485364739"
     },
     "user_tz": 180
    },
    "id": "bHNqoDbTD0_8",
    "outputId": "8629d1de-fe96-4fe0-886d-2fef7aa6ffa5"
   },
   "outputs": [
    {
     "data": {
      "text/plain": [
       "{'Crossfox': 72832.16, 'Jetta Variant': 88078.64, 'Passat': 106161.94}"
      ]
     },
     "execution_count": 12,
     "metadata": {
      "tags": []
     },
     "output_type": "execute_result"
    }
   ],
   "source": [
    "dados = {'Jetta Variant': 88078.64, 'Passat': 106161.94, 'Crossfox': 72832.16}\n",
    "dados"
   ]
  },
  {
   "cell_type": "code",
   "execution_count": null,
   "metadata": {
    "colab": {
     "base_uri": "https://localhost:8080/"
    },
    "executionInfo": {
     "elapsed": 662,
     "status": "ok",
     "timestamp": 1610648536697,
     "user": {
      "displayName": "Diego Cowen Pinto",
      "photoUrl": "https://lh3.googleusercontent.com/a-/AOh14GhkSbJn7uVBQmIkmxpBAHIeyBv3MYDnDVJE13xm8w=s64",
      "userId": "00433632151485364739"
     },
     "user_tz": 180
    },
    "id": "4FyQgmcAD0_9",
    "outputId": "302721c5-f7c1-4783-c6cd-26783ac5cf33"
   },
   "outputs": [
    {
     "data": {
      "text/plain": [
       "dict"
      ]
     },
     "execution_count": 13,
     "metadata": {
      "tags": []
     },
     "output_type": "execute_result"
    }
   ],
   "source": [
    "type(dados)"
   ]
  },
  {
   "cell_type": "markdown",
   "metadata": {
    "id": "PQg-MLkGD0_-"
   },
   "source": [
    "### Criando dicionários com *zip()*"
   ]
  },
  {
   "cell_type": "code",
   "execution_count": null,
   "metadata": {
    "colab": {
     "base_uri": "https://localhost:8080/"
    },
    "executionInfo": {
     "elapsed": 591,
     "status": "ok",
     "timestamp": 1610648677723,
     "user": {
      "displayName": "Diego Cowen Pinto",
      "photoUrl": "https://lh3.googleusercontent.com/a-/AOh14GhkSbJn7uVBQmIkmxpBAHIeyBv3MYDnDVJE13xm8w=s64",
      "userId": "00433632151485364739"
     },
     "user_tz": 180
    },
    "id": "iB4Q_gbND0__",
    "outputId": "1f2771d6-33fe-447e-9c7c-ab3b18caed1b"
   },
   "outputs": [
    {
     "data": {
      "text/plain": [
       "[('Jetta Variant', 88078.64), ('Passat', 106161.94), ('Crossfox', 72832.16)]"
      ]
     },
     "execution_count": 14,
     "metadata": {
      "tags": []
     },
     "output_type": "execute_result"
    }
   ],
   "source": [
    "list(zip(carros, valores))"
   ]
  },
  {
   "cell_type": "code",
   "execution_count": null,
   "metadata": {
    "colab": {
     "base_uri": "https://localhost:8080/"
    },
    "executionInfo": {
     "elapsed": 599,
     "status": "ok",
     "timestamp": 1610648745243,
     "user": {
      "displayName": "Diego Cowen Pinto",
      "photoUrl": "https://lh3.googleusercontent.com/a-/AOh14GhkSbJn7uVBQmIkmxpBAHIeyBv3MYDnDVJE13xm8w=s64",
      "userId": "00433632151485364739"
     },
     "user_tz": 180
    },
    "id": "mIgZqdKKD1AA",
    "outputId": "fc9e852e-f3d7-4ba8-f810-5b277af6e8b6"
   },
   "outputs": [
    {
     "data": {
      "text/plain": [
       "{'Crossfox': 72832.16, 'Jetta Variant': 88078.64, 'Passat': 106161.94}"
      ]
     },
     "execution_count": 16,
     "metadata": {
      "tags": []
     },
     "output_type": "execute_result"
    }
   ],
   "source": [
    "dados = dict(zip(carros, valores))\n",
    "dados"
   ]
  },
  {
   "cell_type": "markdown",
   "metadata": {
    "id": "KYeRqavFD1AD"
   },
   "source": [
    "# 3.2 Operações com dicionários"
   ]
  },
  {
   "cell_type": "markdown",
   "metadata": {
    "id": "KzmWbEltD1AD"
   },
   "source": [
    "## *dict[ key ]*\n",
    "\n",
    "Retorna o valor correspondente à chave (*key*) no dicionário."
   ]
  },
  {
   "cell_type": "code",
   "execution_count": null,
   "metadata": {
    "colab": {
     "base_uri": "https://localhost:8080/"
    },
    "executionInfo": {
     "elapsed": 1817,
     "status": "ok",
     "timestamp": 1610649397619,
     "user": {
      "displayName": "Diego Cowen Pinto",
      "photoUrl": "https://lh3.googleusercontent.com/a-/AOh14GhkSbJn7uVBQmIkmxpBAHIeyBv3MYDnDVJE13xm8w=s64",
      "userId": "00433632151485364739"
     },
     "user_tz": 180
    },
    "id": "hFFDz6wKD1AD",
    "outputId": "34a11673-fc4d-4ed1-f80a-a260ae85a198"
   },
   "outputs": [
    {
     "data": {
      "text/plain": [
       "106161.94"
      ]
     },
     "execution_count": 17,
     "metadata": {
      "tags": []
     },
     "output_type": "execute_result"
    }
   ],
   "source": [
    "dados['Passat']"
   ]
  },
  {
   "cell_type": "markdown",
   "metadata": {
    "id": "SWlE6VTBD1AE"
   },
   "source": [
    "## *key in dict*\n",
    "\n",
    "Retorna **True** se a chave (*key*) for encontrada no dicionário."
   ]
  },
  {
   "cell_type": "code",
   "execution_count": null,
   "metadata": {
    "colab": {
     "base_uri": "https://localhost:8080/"
    },
    "executionInfo": {
     "elapsed": 604,
     "status": "ok",
     "timestamp": 1610649738180,
     "user": {
      "displayName": "Diego Cowen Pinto",
      "photoUrl": "https://lh3.googleusercontent.com/a-/AOh14GhkSbJn7uVBQmIkmxpBAHIeyBv3MYDnDVJE13xm8w=s64",
      "userId": "00433632151485364739"
     },
     "user_tz": 180
    },
    "id": "Iy88SxBtD1AE",
    "outputId": "27efef0d-4e18-47cc-ff84-676fe5ef8dae"
   },
   "outputs": [
    {
     "data": {
      "text/plain": [
       "True"
      ]
     },
     "execution_count": 18,
     "metadata": {
      "tags": []
     },
     "output_type": "execute_result"
    }
   ],
   "source": [
    "'Passat' in dados"
   ]
  },
  {
   "cell_type": "code",
   "execution_count": null,
   "metadata": {
    "colab": {
     "base_uri": "https://localhost:8080/"
    },
    "executionInfo": {
     "elapsed": 642,
     "status": "ok",
     "timestamp": 1610649753944,
     "user": {
      "displayName": "Diego Cowen Pinto",
      "photoUrl": "https://lh3.googleusercontent.com/a-/AOh14GhkSbJn7uVBQmIkmxpBAHIeyBv3MYDnDVJE13xm8w=s64",
      "userId": "00433632151485364739"
     },
     "user_tz": 180
    },
    "id": "Oma56NkAD1AF",
    "outputId": "eadd24e3-e23a-4c91-e1f5-48dd389800ae"
   },
   "outputs": [
    {
     "data": {
      "text/plain": [
       "False"
      ]
     },
     "execution_count": 19,
     "metadata": {
      "tags": []
     },
     "output_type": "execute_result"
    }
   ],
   "source": [
    "'Fusca' in dados"
   ]
  },
  {
   "cell_type": "code",
   "execution_count": null,
   "metadata": {
    "colab": {
     "base_uri": "https://localhost:8080/"
    },
    "executionInfo": {
     "elapsed": 644,
     "status": "ok",
     "timestamp": 1610649768303,
     "user": {
      "displayName": "Diego Cowen Pinto",
      "photoUrl": "https://lh3.googleusercontent.com/a-/AOh14GhkSbJn7uVBQmIkmxpBAHIeyBv3MYDnDVJE13xm8w=s64",
      "userId": "00433632151485364739"
     },
     "user_tz": 180
    },
    "id": "yS2U-_8gD1AG",
    "outputId": "60703bea-2df6-48c0-d2c2-1249ead28e65"
   },
   "outputs": [
    {
     "data": {
      "text/plain": [
       "True"
      ]
     },
     "execution_count": 20,
     "metadata": {
      "tags": []
     },
     "output_type": "execute_result"
    }
   ],
   "source": [
    "'Fusca' not in dados"
   ]
  },
  {
   "cell_type": "markdown",
   "metadata": {
    "id": "oWbWyDd0D1AI"
   },
   "source": [
    "## *len(dict)*\n",
    "\n",
    "Retorna o número de itens do dicionário."
   ]
  },
  {
   "cell_type": "code",
   "execution_count": null,
   "metadata": {
    "colab": {
     "base_uri": "https://localhost:8080/"
    },
    "executionInfo": {
     "elapsed": 380,
     "status": "ok",
     "timestamp": 1610649787417,
     "user": {
      "displayName": "Diego Cowen Pinto",
      "photoUrl": "https://lh3.googleusercontent.com/a-/AOh14GhkSbJn7uVBQmIkmxpBAHIeyBv3MYDnDVJE13xm8w=s64",
      "userId": "00433632151485364739"
     },
     "user_tz": 180
    },
    "id": "k08YkCc1D1AJ",
    "outputId": "3a5cb786-126a-4c71-bfa7-55c628f52d3c"
   },
   "outputs": [
    {
     "data": {
      "text/plain": [
       "3"
      ]
     },
     "execution_count": 21,
     "metadata": {
      "tags": []
     },
     "output_type": "execute_result"
    }
   ],
   "source": [
    "len(dados)"
   ]
  },
  {
   "cell_type": "markdown",
   "metadata": {
    "id": "yYNqIHJBD1AK"
   },
   "source": [
    "## *dict[ key ] = value*\n",
    "\n",
    "Inclui um item ao dicionário."
   ]
  },
  {
   "cell_type": "code",
   "execution_count": null,
   "metadata": {
    "id": "5jj3i52bD1AK"
   },
   "outputs": [],
   "source": [
    "dados['DS5'] = 124549.07"
   ]
  },
  {
   "cell_type": "code",
   "execution_count": null,
   "metadata": {
    "colab": {
     "base_uri": "https://localhost:8080/"
    },
    "executionInfo": {
     "elapsed": 626,
     "status": "ok",
     "timestamp": 1610650811517,
     "user": {
      "displayName": "Diego Cowen Pinto",
      "photoUrl": "https://lh3.googleusercontent.com/a-/AOh14GhkSbJn7uVBQmIkmxpBAHIeyBv3MYDnDVJE13xm8w=s64",
      "userId": "00433632151485364739"
     },
     "user_tz": 180
    },
    "id": "y6rso5hLD1AL",
    "outputId": "44c725fc-47a7-4960-e17c-5163ec1a954c"
   },
   "outputs": [
    {
     "data": {
      "text/plain": [
       "{'Crossfox': 72832.16,\n",
       " 'DS5': 124549.07,\n",
       " 'Jetta Variant': 88078.64,\n",
       " 'Passat': 106161.94}"
      ]
     },
     "execution_count": 27,
     "metadata": {
      "tags": []
     },
     "output_type": "execute_result"
    }
   ],
   "source": [
    "dados"
   ]
  },
  {
   "cell_type": "markdown",
   "metadata": {
    "id": "_z0JySuqD1AL"
   },
   "source": [
    "## *del dict[ key ]*\n",
    "\n",
    "Remove o item de chave (*key*) do dicionário."
   ]
  },
  {
   "cell_type": "code",
   "execution_count": null,
   "metadata": {
    "id": "PPfh6sfID1AM"
   },
   "outputs": [],
   "source": [
    "del dados['Passat']"
   ]
  },
  {
   "cell_type": "code",
   "execution_count": null,
   "metadata": {
    "colab": {
     "base_uri": "https://localhost:8080/"
    },
    "executionInfo": {
     "elapsed": 592,
     "status": "ok",
     "timestamp": 1610650821717,
     "user": {
      "displayName": "Diego Cowen Pinto",
      "photoUrl": "https://lh3.googleusercontent.com/a-/AOh14GhkSbJn7uVBQmIkmxpBAHIeyBv3MYDnDVJE13xm8w=s64",
      "userId": "00433632151485364739"
     },
     "user_tz": 180
    },
    "id": "BtjGpXtGD1AN",
    "outputId": "0e9ccf14-90da-4133-ed72-d4f2f65e1cff"
   },
   "outputs": [
    {
     "data": {
      "text/plain": [
       "{'Crossfox': 72832.16, 'DS5': 124549.07, 'Jetta Variant': 88078.64}"
      ]
     },
     "execution_count": 29,
     "metadata": {
      "tags": []
     },
     "output_type": "execute_result"
    }
   ],
   "source": [
    "dados"
   ]
  },
  {
   "cell_type": "markdown",
   "metadata": {
    "id": "FodJVx5sD1AP"
   },
   "source": [
    "# 3.3 Métodos de dicionários"
   ]
  },
  {
   "cell_type": "markdown",
   "metadata": {
    "id": "7pqdPOkYD1AP"
   },
   "source": [
    "## *dict.update()*\n",
    "\n",
    "Atualiza o dicionário."
   ]
  },
  {
   "cell_type": "code",
   "execution_count": null,
   "metadata": {
    "id": "DUySYxKQD1AQ"
   },
   "outputs": [],
   "source": [
    "dados.update({'Passat' : 106161.95, 'Fusca' : 150000})"
   ]
  },
  {
   "cell_type": "code",
   "execution_count": null,
   "metadata": {
    "colab": {
     "base_uri": "https://localhost:8080/"
    },
    "executionInfo": {
     "elapsed": 408,
     "status": "ok",
     "timestamp": 1610651005181,
     "user": {
      "displayName": "Diego Cowen Pinto",
      "photoUrl": "https://lh3.googleusercontent.com/a-/AOh14GhkSbJn7uVBQmIkmxpBAHIeyBv3MYDnDVJE13xm8w=s64",
      "userId": "00433632151485364739"
     },
     "user_tz": 180
    },
    "id": "DLsqp71cD1AR",
    "outputId": "61ef7fa2-53c3-4fc6-bc8c-3940653f62b8"
   },
   "outputs": [
    {
     "data": {
      "text/plain": [
       "{'Crossfox': 72832.16,\n",
       " 'DS5': 124549.07,\n",
       " 'Fusca': 150000,\n",
       " 'Jetta Variant': 88078.64,\n",
       " 'Passat': 106161.95}"
      ]
     },
     "execution_count": 34,
     "metadata": {
      "tags": []
     },
     "output_type": "execute_result"
    }
   ],
   "source": [
    "dados"
   ]
  },
  {
   "cell_type": "markdown",
   "metadata": {
    "id": "JLs5c0DeD1AR"
   },
   "source": [
    "## *dict.copy()*\n",
    "\n",
    "Cria uma cópia do dicionário."
   ]
  },
  {
   "cell_type": "code",
   "execution_count": null,
   "metadata": {
    "id": "X9F7OB3eD1AS"
   },
   "outputs": [],
   "source": [
    "dados_Copy = dados.copy()"
   ]
  },
  {
   "cell_type": "code",
   "execution_count": null,
   "metadata": {
    "id": "v0rL0bveD1AS"
   },
   "outputs": [],
   "source": [
    "dados_Copy.update({'Kicks' : 75000})"
   ]
  },
  {
   "cell_type": "code",
   "execution_count": null,
   "metadata": {
    "colab": {
     "base_uri": "https://localhost:8080/"
    },
    "executionInfo": {
     "elapsed": 586,
     "status": "ok",
     "timestamp": 1610651151101,
     "user": {
      "displayName": "Diego Cowen Pinto",
      "photoUrl": "https://lh3.googleusercontent.com/a-/AOh14GhkSbJn7uVBQmIkmxpBAHIeyBv3MYDnDVJE13xm8w=s64",
      "userId": "00433632151485364739"
     },
     "user_tz": 180
    },
    "id": "M-abRGGrD1AT",
    "outputId": "b3c6598c-ac7c-40ac-8bd1-2c42195e268a"
   },
   "outputs": [
    {
     "data": {
      "text/plain": [
       "{'Crossfox': 72832.16,\n",
       " 'DS5': 124549.07,\n",
       " 'Fusca': 150000,\n",
       " 'Jetta Variant': 88078.64,\n",
       " 'Kicks': 75000,\n",
       " 'Passat': 106161.95}"
      ]
     },
     "execution_count": 38,
     "metadata": {
      "tags": []
     },
     "output_type": "execute_result"
    }
   ],
   "source": [
    "dados_Copy"
   ]
  },
  {
   "cell_type": "code",
   "execution_count": null,
   "metadata": {
    "colab": {
     "base_uri": "https://localhost:8080/"
    },
    "executionInfo": {
     "elapsed": 648,
     "status": "ok",
     "timestamp": 1610651156056,
     "user": {
      "displayName": "Diego Cowen Pinto",
      "photoUrl": "https://lh3.googleusercontent.com/a-/AOh14GhkSbJn7uVBQmIkmxpBAHIeyBv3MYDnDVJE13xm8w=s64",
      "userId": "00433632151485364739"
     },
     "user_tz": 180
    },
    "id": "ETBD0TkND1AU",
    "outputId": "7b394fec-bd8b-4654-b18f-79408896c920"
   },
   "outputs": [
    {
     "data": {
      "text/plain": [
       "{'Crossfox': 72832.16,\n",
       " 'DS5': 124549.07,\n",
       " 'Fusca': 150000,\n",
       " 'Jetta Variant': 88078.64,\n",
       " 'Passat': 106161.95}"
      ]
     },
     "execution_count": 39,
     "metadata": {
      "tags": []
     },
     "output_type": "execute_result"
    }
   ],
   "source": [
    "dados"
   ]
  },
  {
   "cell_type": "markdown",
   "metadata": {
    "id": "mNODkmHCD1AV"
   },
   "source": [
    "## *dict.pop(key[, default ])*\n",
    "\n",
    "Se a chave for encontrada no dicionário, o item é removido e seu valor é retornado. Caso contrário, o valor especificado como *default* é retornado. Se o valor *default* não for fornecido e a chave não for encontrada no dicionário um erro será gerado."
   ]
  },
  {
   "cell_type": "code",
   "execution_count": null,
   "metadata": {
    "colab": {
     "base_uri": "https://localhost:8080/"
    },
    "executionInfo": {
     "elapsed": 630,
     "status": "ok",
     "timestamp": 1610651494043,
     "user": {
      "displayName": "Diego Cowen Pinto",
      "photoUrl": "https://lh3.googleusercontent.com/a-/AOh14GhkSbJn7uVBQmIkmxpBAHIeyBv3MYDnDVJE13xm8w=s64",
      "userId": "00433632151485364739"
     },
     "user_tz": 180
    },
    "id": "_4QEPwScD1AW",
    "outputId": "200acde8-ef69-430d-dff3-bbbf3199b6ac"
   },
   "outputs": [
    {
     "data": {
      "text/plain": [
       "106161.95"
      ]
     },
     "execution_count": 41,
     "metadata": {
      "tags": []
     },
     "output_type": "execute_result"
    }
   ],
   "source": [
    "dados_Copy.pop('Passat')"
   ]
  },
  {
   "cell_type": "code",
   "execution_count": null,
   "metadata": {
    "colab": {
     "base_uri": "https://localhost:8080/"
    },
    "executionInfo": {
     "elapsed": 630,
     "status": "ok",
     "timestamp": 1610651507277,
     "user": {
      "displayName": "Diego Cowen Pinto",
      "photoUrl": "https://lh3.googleusercontent.com/a-/AOh14GhkSbJn7uVBQmIkmxpBAHIeyBv3MYDnDVJE13xm8w=s64",
      "userId": "00433632151485364739"
     },
     "user_tz": 180
    },
    "id": "Hjh0MuymD1AX",
    "outputId": "ac51a080-0f5a-4f14-bea6-a05a4cc3688e"
   },
   "outputs": [
    {
     "data": {
      "text/plain": [
       "{'Crossfox': 72832.16,\n",
       " 'DS5': 124549.07,\n",
       " 'Fusca': 150000,\n",
       " 'Jetta Variant': 88078.64,\n",
       " 'Kicks': 75000}"
      ]
     },
     "execution_count": 42,
     "metadata": {
      "tags": []
     },
     "output_type": "execute_result"
    }
   ],
   "source": [
    "dados_Copy"
   ]
  },
  {
   "cell_type": "code",
   "execution_count": null,
   "metadata": {
    "id": "f51rKjkuD1AX"
   },
   "outputs": [],
   "source": [
    "# dados_Copy.pop('Passat')"
   ]
  },
  {
   "cell_type": "code",
   "execution_count": null,
   "metadata": {
    "colab": {
     "base_uri": "https://localhost:8080/"
    },
    "executionInfo": {
     "elapsed": 558,
     "status": "ok",
     "timestamp": 1610651787642,
     "user": {
      "displayName": "Diego Cowen Pinto",
      "photoUrl": "https://lh3.googleusercontent.com/a-/AOh14GhkSbJn7uVBQmIkmxpBAHIeyBv3MYDnDVJE13xm8w=s64",
      "userId": "00433632151485364739"
     },
     "user_tz": 180
    },
    "id": "Ah4sZ7axD1AZ",
    "outputId": "3ebd04db-216d-4c60-e0a7-bd332727d469"
   },
   "outputs": [
    {
     "data": {
      "text/plain": [
       "75000"
      ]
     },
     "execution_count": 46,
     "metadata": {
      "tags": []
     },
     "output_type": "execute_result"
    }
   ],
   "source": [
    "dados_Copy.pop('Kicks', 'Chave não encontrada')"
   ]
  },
  {
   "cell_type": "code",
   "execution_count": null,
   "metadata": {
    "colab": {
     "base_uri": "https://localhost:8080/"
    },
    "executionInfo": {
     "elapsed": 616,
     "status": "ok",
     "timestamp": 1610651803910,
     "user": {
      "displayName": "Diego Cowen Pinto",
      "photoUrl": "https://lh3.googleusercontent.com/a-/AOh14GhkSbJn7uVBQmIkmxpBAHIeyBv3MYDnDVJE13xm8w=s64",
      "userId": "00433632151485364739"
     },
     "user_tz": 180
    },
    "id": "SJATRY8RD1Aa",
    "outputId": "eb288feb-0454-47d1-e007-60bd968efd5e"
   },
   "outputs": [
    {
     "data": {
      "text/plain": [
       "{'Crossfox': 72832.16,\n",
       " 'DS5': 124549.07,\n",
       " 'Fusca': 150000,\n",
       " 'Jetta Variant': 88078.64}"
      ]
     },
     "execution_count": 47,
     "metadata": {
      "tags": []
     },
     "output_type": "execute_result"
    }
   ],
   "source": [
    "dados_Copy"
   ]
  },
  {
   "cell_type": "code",
   "execution_count": null,
   "metadata": {
    "colab": {
     "base_uri": "https://localhost:8080/"
    },
    "executionInfo": {
     "elapsed": 577,
     "status": "ok",
     "timestamp": 1610651833811,
     "user": {
      "displayName": "Diego Cowen Pinto",
      "photoUrl": "https://lh3.googleusercontent.com/a-/AOh14GhkSbJn7uVBQmIkmxpBAHIeyBv3MYDnDVJE13xm8w=s64",
      "userId": "00433632151485364739"
     },
     "user_tz": 180
    },
    "id": "V36wHdzmD1Ab",
    "outputId": "2146bcf3-f9ec-44af-d588-5bc10d4bd515"
   },
   "outputs": [
    {
     "data": {
      "text/plain": [
       "150000"
      ]
     },
     "execution_count": 48,
     "metadata": {
      "tags": []
     },
     "output_type": "execute_result"
    }
   ],
   "source": [
    "dados_Copy.pop('Fusca', 'Chave não encontrada')"
   ]
  },
  {
   "cell_type": "code",
   "execution_count": null,
   "metadata": {
    "colab": {
     "base_uri": "https://localhost:8080/"
    },
    "executionInfo": {
     "elapsed": 554,
     "status": "ok",
     "timestamp": 1610651842814,
     "user": {
      "displayName": "Diego Cowen Pinto",
      "photoUrl": "https://lh3.googleusercontent.com/a-/AOh14GhkSbJn7uVBQmIkmxpBAHIeyBv3MYDnDVJE13xm8w=s64",
      "userId": "00433632151485364739"
     },
     "user_tz": 180
    },
    "id": "LJ0lQIrdD1Ac",
    "outputId": "3a9a9966-4b42-4dd7-c70c-6d1cfcf5915e"
   },
   "outputs": [
    {
     "data": {
      "text/plain": [
       "124549.07"
      ]
     },
     "execution_count": 49,
     "metadata": {
      "tags": []
     },
     "output_type": "execute_result"
    }
   ],
   "source": [
    "dados_Copy.pop('DS5', 'Chave não encontrada')"
   ]
  },
  {
   "cell_type": "markdown",
   "metadata": {
    "id": "Q5J0R7d3D1Ag"
   },
   "source": [
    "## *dict.clear()*\n",
    "\n",
    "Remove todos os itens do dicionário."
   ]
  },
  {
   "cell_type": "code",
   "execution_count": null,
   "metadata": {
    "id": "AvkP_8mND1Ag"
   },
   "outputs": [],
   "source": [
    "dados_Copy.clear()"
   ]
  },
  {
   "cell_type": "code",
   "execution_count": null,
   "metadata": {
    "colab": {
     "base_uri": "https://localhost:8080/"
    },
    "executionInfo": {
     "elapsed": 640,
     "status": "ok",
     "timestamp": 1610652073936,
     "user": {
      "displayName": "Diego Cowen Pinto",
      "photoUrl": "https://lh3.googleusercontent.com/a-/AOh14GhkSbJn7uVBQmIkmxpBAHIeyBv3MYDnDVJE13xm8w=s64",
      "userId": "00433632151485364739"
     },
     "user_tz": 180
    },
    "id": "S69pMYboD1Ah",
    "outputId": "5040e256-cc41-49cb-e578-1f43a34635bc"
   },
   "outputs": [
    {
     "data": {
      "text/plain": [
       "{}"
      ]
     },
     "execution_count": 59,
     "metadata": {
      "tags": []
     },
     "output_type": "execute_result"
    }
   ],
   "source": [
    "dados_Copy"
   ]
  },
  {
   "cell_type": "markdown",
   "metadata": {
    "id": "QhoSRfPsD1Ai"
   },
   "source": [
    "# 3.4 Iterando em dicionários"
   ]
  },
  {
   "cell_type": "code",
   "execution_count": null,
   "metadata": {
    "colab": {
     "base_uri": "https://localhost:8080/"
    },
    "executionInfo": {
     "elapsed": 600,
     "status": "ok",
     "timestamp": 1610661900272,
     "user": {
      "displayName": "Diego Cowen Pinto",
      "photoUrl": "https://lh3.googleusercontent.com/a-/AOh14GhkSbJn7uVBQmIkmxpBAHIeyBv3MYDnDVJE13xm8w=s64",
      "userId": "00433632151485364739"
     },
     "user_tz": 180
    },
    "id": "qSLHz8lF7KZQ",
    "outputId": "f308fa2a-6628-4de6-8dfb-1b559032681e"
   },
   "outputs": [
    {
     "data": {
      "text/plain": [
       "{'Crossfox': 72832.16,\n",
       " 'DS5': 214549.07,\n",
       " 'Fusca': 150000,\n",
       " 'Jetta Variant ': 88078.64,\n",
       " 'Passat': 106161.95}"
      ]
     },
     "execution_count": 64,
     "metadata": {
      "tags": []
     },
     "output_type": "execute_result"
    }
   ],
   "source": [
    "dados = {'Crossfox' :  72832.16,  'DS5' : 214549.07,  'Fusca' : 150000,  'Jetta Variant ' :  88078.64, 'Passat' : 106161.95}\n",
    "dados"
   ]
  },
  {
   "cell_type": "markdown",
   "metadata": {
    "id": "E-agaqakD1Ai"
   },
   "source": [
    "## *dict.keys()*\n",
    "\n",
    "Retorna uma lista contendo as chaves (*keys*) do dicionário."
   ]
  },
  {
   "cell_type": "code",
   "execution_count": null,
   "metadata": {
    "colab": {
     "base_uri": "https://localhost:8080/"
    },
    "executionInfo": {
     "elapsed": 575,
     "status": "ok",
     "timestamp": 1610661932543,
     "user": {
      "displayName": "Diego Cowen Pinto",
      "photoUrl": "https://lh3.googleusercontent.com/a-/AOh14GhkSbJn7uVBQmIkmxpBAHIeyBv3MYDnDVJE13xm8w=s64",
      "userId": "00433632151485364739"
     },
     "user_tz": 180
    },
    "id": "qFADEYmBD1Aj",
    "outputId": "e659f78f-5266-4794-d578-6d4bbe317392"
   },
   "outputs": [
    {
     "data": {
      "text/plain": [
       "dict_keys(['Crossfox', 'DS5', 'Fusca', 'Jetta Variant ', 'Passat'])"
      ]
     },
     "execution_count": 65,
     "metadata": {
      "tags": []
     },
     "output_type": "execute_result"
    }
   ],
   "source": [
    "dados.keys()"
   ]
  },
  {
   "cell_type": "code",
   "execution_count": null,
   "metadata": {
    "colab": {
     "base_uri": "https://localhost:8080/"
    },
    "executionInfo": {
     "elapsed": 598,
     "status": "ok",
     "timestamp": 1610662028551,
     "user": {
      "displayName": "Diego Cowen Pinto",
      "photoUrl": "https://lh3.googleusercontent.com/a-/AOh14GhkSbJn7uVBQmIkmxpBAHIeyBv3MYDnDVJE13xm8w=s64",
      "userId": "00433632151485364739"
     },
     "user_tz": 180
    },
    "id": "niwh9AgDD1Aj",
    "outputId": "c5b8ab08-02ab-40cd-e41a-98f0fd61deb1"
   },
   "outputs": [
    {
     "name": "stdout",
     "output_type": "stream",
     "text": [
      "72832.16\n",
      "214549.07\n",
      "150000\n",
      "88078.64\n",
      "106161.95\n"
     ]
    }
   ],
   "source": [
    "for key in dados.keys():\n",
    "  print(dados[key])"
   ]
  },
  {
   "cell_type": "markdown",
   "metadata": {
    "id": "qFj6Cc7dD1Ak"
   },
   "source": [
    "## *dict.values()*\n",
    "\n",
    "Retorna uma lista com todos os valores (*values*) do dicionário."
   ]
  },
  {
   "cell_type": "code",
   "execution_count": null,
   "metadata": {
    "colab": {
     "base_uri": "https://localhost:8080/"
    },
    "executionInfo": {
     "elapsed": 606,
     "status": "ok",
     "timestamp": 1610662061670,
     "user": {
      "displayName": "Diego Cowen Pinto",
      "photoUrl": "https://lh3.googleusercontent.com/a-/AOh14GhkSbJn7uVBQmIkmxpBAHIeyBv3MYDnDVJE13xm8w=s64",
      "userId": "00433632151485364739"
     },
     "user_tz": 180
    },
    "id": "nfpLxrQVD1Al",
    "outputId": "2c498adb-6533-473f-8a6f-ef0e3e6386e0"
   },
   "outputs": [
    {
     "data": {
      "text/plain": [
       "dict_values([72832.16, 214549.07, 150000, 88078.64, 106161.95])"
      ]
     },
     "execution_count": 67,
     "metadata": {
      "tags": []
     },
     "output_type": "execute_result"
    }
   ],
   "source": [
    "dados.values()"
   ]
  },
  {
   "cell_type": "markdown",
   "metadata": {
    "id": "-NGRwX0AD1Al"
   },
   "source": [
    "## *dict.items()*\n",
    "\n",
    "Retorna uma lista contendo uma tupla para cada par chave-valor (*key-value*) do dicionário."
   ]
  },
  {
   "cell_type": "code",
   "execution_count": null,
   "metadata": {
    "colab": {
     "base_uri": "https://localhost:8080/"
    },
    "executionInfo": {
     "elapsed": 583,
     "status": "ok",
     "timestamp": 1610662098390,
     "user": {
      "displayName": "Diego Cowen Pinto",
      "photoUrl": "https://lh3.googleusercontent.com/a-/AOh14GhkSbJn7uVBQmIkmxpBAHIeyBv3MYDnDVJE13xm8w=s64",
      "userId": "00433632151485364739"
     },
     "user_tz": 180
    },
    "id": "Q2I9_6YvD1Am",
    "outputId": "e4ccf464-fb28-4ce2-bdad-d25cfd26ca9e"
   },
   "outputs": [
    {
     "data": {
      "text/plain": [
       "dict_items([('Crossfox', 72832.16), ('DS5', 214549.07), ('Fusca', 150000), ('Jetta Variant ', 88078.64), ('Passat', 106161.95)])"
      ]
     },
     "execution_count": 68,
     "metadata": {
      "tags": []
     },
     "output_type": "execute_result"
    }
   ],
   "source": [
    "dados.items()"
   ]
  },
  {
   "cell_type": "code",
   "execution_count": null,
   "metadata": {
    "colab": {
     "base_uri": "https://localhost:8080/"
    },
    "executionInfo": {
     "elapsed": 1128,
     "status": "ok",
     "timestamp": 1610667197175,
     "user": {
      "displayName": "Diego Cowen Pinto",
      "photoUrl": "https://lh3.googleusercontent.com/a-/AOh14GhkSbJn7uVBQmIkmxpBAHIeyBv3MYDnDVJE13xm8w=s64",
      "userId": "00433632151485364739"
     },
     "user_tz": 180
    },
    "id": "0j41ZqgQD1Am",
    "outputId": "ea1cbf33-e26c-490a-fa2f-0b978cd96517"
   },
   "outputs": [
    {
     "name": "stdout",
     "output_type": "stream",
     "text": [
      "('Crossfox', 72832.16)\n",
      "('DS5', 214549.07)\n",
      "('Fusca', 150000)\n",
      "('Jetta Variant ', 88078.64)\n",
      "('Passat', 106161.95)\n"
     ]
    }
   ],
   "source": [
    "for item in dados.items():\n",
    "  print(item)"
   ]
  },
  {
   "cell_type": "code",
   "execution_count": null,
   "metadata": {
    "colab": {
     "base_uri": "https://localhost:8080/"
    },
    "executionInfo": {
     "elapsed": 681,
     "status": "ok",
     "timestamp": 1610667283912,
     "user": {
      "displayName": "Diego Cowen Pinto",
      "photoUrl": "https://lh3.googleusercontent.com/a-/AOh14GhkSbJn7uVBQmIkmxpBAHIeyBv3MYDnDVJE13xm8w=s64",
      "userId": "00433632151485364739"
     },
     "user_tz": 180
    },
    "id": "OVY9rIwFD1An",
    "outputId": "a5c3984d-7315-4e77-836a-7c600218e0df"
   },
   "outputs": [
    {
     "name": "stdout",
     "output_type": "stream",
     "text": [
      "Crossfox 72832.16\n",
      "DS5 214549.07\n",
      "Fusca 150000\n",
      "Jetta Variant  88078.64\n",
      "Passat 106161.95\n"
     ]
    }
   ],
   "source": [
    "for key, value in dados.items():\n",
    "  print(key, value)"
   ]
  },
  {
   "cell_type": "code",
   "execution_count": null,
   "metadata": {
    "colab": {
     "base_uri": "https://localhost:8080/"
    },
    "executionInfo": {
     "elapsed": 545,
     "status": "ok",
     "timestamp": 1610667409473,
     "user": {
      "displayName": "Diego Cowen Pinto",
      "photoUrl": "https://lh3.googleusercontent.com/a-/AOh14GhkSbJn7uVBQmIkmxpBAHIeyBv3MYDnDVJE13xm8w=s64",
      "userId": "00433632151485364739"
     },
     "user_tz": 180
    },
    "id": "ma2Ol8vcD1Ap",
    "outputId": "06c04d79-2a65-4e63-b1e3-bab2b4ceed30"
   },
   "outputs": [
    {
     "name": "stdout",
     "output_type": "stream",
     "text": [
      "DS5\n",
      "Fusca\n",
      "Passat\n"
     ]
    }
   ],
   "source": [
    "for key, value in dados.items():\n",
    "  if(value > 100000):\n",
    "    print(key)"
   ]
  },
  {
   "cell_type": "markdown",
   "metadata": {
    "id": "-q3AlSg3D1Aq"
   },
   "source": [
    "# <font color=green> 4. FUNÇÕES E PACOTES\n",
    "---\n",
    "    \n",
    "Funções são unidades de código reutilizáveis que realizam uma tarefa específica, podem receber alguma entrada e também podem retornar alguma resultado."
   ]
  },
  {
   "cell_type": "markdown",
   "metadata": {
    "id": "5CfEcU58D1Aq"
   },
   "source": [
    "# 4.1 Built-in function\n",
    "\n",
    "A linguagem Python possui várias funções integradas que estão sempre acessíveis. Algumas já utilizamos em nosso treinamento: type(), print(), zip(), len(), set() etc.\n",
    "\n",
    "https://docs.python.org/3.6/library/functions.html"
   ]
  },
  {
   "cell_type": "code",
   "execution_count": null,
   "metadata": {
    "colab": {
     "base_uri": "https://localhost:8080/"
    },
    "executionInfo": {
     "elapsed": 1039,
     "status": "ok",
     "timestamp": 1610736235641,
     "user": {
      "displayName": "Diego Cowen Pinto",
      "photoUrl": "https://lh3.googleusercontent.com/a-/AOh14GhkSbJn7uVBQmIkmxpBAHIeyBv3MYDnDVJE13xm8w=s64",
      "userId": "00433632151485364739"
     },
     "user_tz": 180
    },
    "id": "DP7cmY7xD1Aq",
    "outputId": "3048a2a0-cfb2-4d4d-a17d-dfd97568d5a1"
   },
   "outputs": [
    {
     "data": {
      "text/plain": [
       "{'Crossfox': 72832.16, 'Jetta Variant': 88078.64, 'Passat': 106161.94}"
      ]
     },
     "execution_count": 17,
     "metadata": {
      "tags": []
     },
     "output_type": "execute_result"
    }
   ],
   "source": [
    "dados = {'Jetta Variant': 88078.64, 'Passat': 106161.94, 'Crossfox': 72832.16}\n",
    "dados"
   ]
  },
  {
   "cell_type": "code",
   "execution_count": null,
   "metadata": {
    "colab": {
     "base_uri": "https://localhost:8080/"
    },
    "executionInfo": {
     "elapsed": 1977,
     "status": "ok",
     "timestamp": 1610736236606,
     "user": {
      "displayName": "Diego Cowen Pinto",
      "photoUrl": "https://lh3.googleusercontent.com/a-/AOh14GhkSbJn7uVBQmIkmxpBAHIeyBv3MYDnDVJE13xm8w=s64",
      "userId": "00433632151485364739"
     },
     "user_tz": 180
    },
    "id": "5zAcGSCbD1Ar",
    "outputId": "4e407dbf-b44d-4c13-ed15-e2ff8c9aefaa"
   },
   "outputs": [
    {
     "data": {
      "text/plain": [
       "[88078.64, 106161.94, 72832.16]"
      ]
     },
     "execution_count": 18,
     "metadata": {
      "tags": []
     },
     "output_type": "execute_result"
    }
   ],
   "source": [
    "valores = []\n",
    "for valor in dados.values():\n",
    "  valores.append(valor)\n",
    "valores"
   ]
  },
  {
   "cell_type": "code",
   "execution_count": null,
   "metadata": {
    "colab": {
     "base_uri": "https://localhost:8080/"
    },
    "executionInfo": {
     "elapsed": 1966,
     "status": "ok",
     "timestamp": 1610736236607,
     "user": {
      "displayName": "Diego Cowen Pinto",
      "photoUrl": "https://lh3.googleusercontent.com/a-/AOh14GhkSbJn7uVBQmIkmxpBAHIeyBv3MYDnDVJE13xm8w=s64",
      "userId": "00433632151485364739"
     },
     "user_tz": 180
    },
    "id": "zG9_jU_1D1At",
    "outputId": "1021c51f-b84b-495b-dc81-8316c102e00a"
   },
   "outputs": [
    {
     "data": {
      "text/plain": [
       "267072.74"
      ]
     },
     "execution_count": 19,
     "metadata": {
      "tags": []
     },
     "output_type": "execute_result"
    }
   ],
   "source": [
    "soma = 0\n",
    "for valor in dados.values():\n",
    "  soma += valor \n",
    "soma"
   ]
  },
  {
   "cell_type": "code",
   "execution_count": null,
   "metadata": {
    "colab": {
     "base_uri": "https://localhost:8080/"
    },
    "executionInfo": {
     "elapsed": 1953,
     "status": "ok",
     "timestamp": 1610736236607,
     "user": {
      "displayName": "Diego Cowen Pinto",
      "photoUrl": "https://lh3.googleusercontent.com/a-/AOh14GhkSbJn7uVBQmIkmxpBAHIeyBv3MYDnDVJE13xm8w=s64",
      "userId": "00433632151485364739"
     },
     "user_tz": 180
    },
    "id": "jn0O3uXZD1Au",
    "outputId": "8b87ca2a-9566-4a53-fff3-28fb5fe844c6"
   },
   "outputs": [
    {
     "data": {
      "text/plain": [
       "[88078.64, 106161.94, 72832.16]"
      ]
     },
     "execution_count": 20,
     "metadata": {
      "tags": []
     },
     "output_type": "execute_result"
    }
   ],
   "source": [
    "list(dados.values())"
   ]
  },
  {
   "cell_type": "code",
   "execution_count": null,
   "metadata": {
    "colab": {
     "base_uri": "https://localhost:8080/"
    },
    "executionInfo": {
     "elapsed": 1940,
     "status": "ok",
     "timestamp": 1610736236608,
     "user": {
      "displayName": "Diego Cowen Pinto",
      "photoUrl": "https://lh3.googleusercontent.com/a-/AOh14GhkSbJn7uVBQmIkmxpBAHIeyBv3MYDnDVJE13xm8w=s64",
      "userId": "00433632151485364739"
     },
     "user_tz": 180
    },
    "id": "lnUjKVnoD1Aw",
    "outputId": "21307ad8-73c8-4c28-b277-ab135ec3ea31"
   },
   "outputs": [
    {
     "data": {
      "text/plain": [
       "267072.74"
      ]
     },
     "execution_count": 21,
     "metadata": {
      "tags": []
     },
     "output_type": "execute_result"
    }
   ],
   "source": [
    "sum(dados.values())"
   ]
  },
  {
   "cell_type": "code",
   "execution_count": null,
   "metadata": {
    "colab": {
     "base_uri": "https://localhost:8080/"
    },
    "executionInfo": {
     "elapsed": 1929,
     "status": "ok",
     "timestamp": 1610736236609,
     "user": {
      "displayName": "Diego Cowen Pinto",
      "photoUrl": "https://lh3.googleusercontent.com/a-/AOh14GhkSbJn7uVBQmIkmxpBAHIeyBv3MYDnDVJE13xm8w=s64",
      "userId": "00433632151485364739"
     },
     "user_tz": 180
    },
    "id": "WdEuYXe2D1Ay",
    "outputId": "8009026d-e08d-4c7d-b863-fd0948de2e67",
    "scrolled": false
   },
   "outputs": [
    {
     "name": "stdout",
     "output_type": "stream",
     "text": [
      "Help on built-in function print in module builtins:\n",
      "\n",
      "print(...)\n",
      "    print(value, ..., sep=' ', end='\\n', file=sys.stdout, flush=False)\n",
      "    \n",
      "    Prints the values to a stream, or to sys.stdout by default.\n",
      "    Optional keyword arguments:\n",
      "    file:  a file-like object (stream); defaults to the current sys.stdout.\n",
      "    sep:   string inserted between values, default a space.\n",
      "    end:   string appended after the last value, default a newline.\n",
      "    flush: whether to forcibly flush the stream.\n",
      "\n"
     ]
    }
   ],
   "source": [
    "help(print)"
   ]
  },
  {
   "cell_type": "code",
   "execution_count": null,
   "metadata": {
    "id": "hIA29O3tD1Az"
   },
   "outputs": [],
   "source": [
    "print?"
   ]
  },
  {
   "cell_type": "markdown",
   "metadata": {
    "id": "6w62Sl5ZD1A0"
   },
   "source": [
    "# 4.2 Definindo funções sem e com parâmetros"
   ]
  },
  {
   "cell_type": "markdown",
   "metadata": {
    "id": "OADZiBP2D1A0"
   },
   "source": [
    "### Funções sem parâmetros\n",
    "\n",
    "#### Formato padrão\n",
    "\n",
    "```\n",
    "def <nome>():\n",
    "    <instruções>\n",
    "```"
   ]
  },
  {
   "cell_type": "code",
   "execution_count": null,
   "metadata": {
    "id": "uCkplEpQD1A0"
   },
   "outputs": [],
   "source": [
    "def media():\n",
    "  valor = (1 + 2 + 3) / 3\n",
    "  print(valor)"
   ]
  },
  {
   "cell_type": "code",
   "execution_count": null,
   "metadata": {
    "colab": {
     "base_uri": "https://localhost:8080/"
    },
    "executionInfo": {
     "elapsed": 836,
     "status": "ok",
     "timestamp": 1610736653181,
     "user": {
      "displayName": "Diego Cowen Pinto",
      "photoUrl": "https://lh3.googleusercontent.com/a-/AOh14GhkSbJn7uVBQmIkmxpBAHIeyBv3MYDnDVJE13xm8w=s64",
      "userId": "00433632151485364739"
     },
     "user_tz": 180
    },
    "id": "fOCEGq5VD1A1",
    "outputId": "cb0e025c-ed55-4a38-d594-63b076e6d690"
   },
   "outputs": [
    {
     "name": "stdout",
     "output_type": "stream",
     "text": [
      "2.0\n"
     ]
    }
   ],
   "source": [
    "media()"
   ]
  },
  {
   "cell_type": "markdown",
   "metadata": {
    "id": "PwSlYSVAD1A2"
   },
   "source": [
    "### Funções com parâmetros\n",
    "\n",
    "#### Formato padrão\n",
    "\n",
    "```\n",
    "def <nome>(<param_1>, <param_2>, ..., <param_n>):\n",
    "    <instruções>\n",
    "```"
   ]
  },
  {
   "cell_type": "code",
   "execution_count": null,
   "metadata": {
    "id": "A3YnBUduD1A3"
   },
   "outputs": [],
   "source": [
    "def media(num1, num2, num3):\n",
    "  valor = (num1 +num2 + num3) / 3\n",
    "  print(valor)"
   ]
  },
  {
   "cell_type": "code",
   "execution_count": null,
   "metadata": {
    "colab": {
     "base_uri": "https://localhost:8080/"
    },
    "executionInfo": {
     "elapsed": 881,
     "status": "ok",
     "timestamp": 1610737040051,
     "user": {
      "displayName": "Diego Cowen Pinto",
      "photoUrl": "https://lh3.googleusercontent.com/a-/AOh14GhkSbJn7uVBQmIkmxpBAHIeyBv3MYDnDVJE13xm8w=s64",
      "userId": "00433632151485364739"
     },
     "user_tz": 180
    },
    "id": "rGUZbRERD1A3",
    "outputId": "1582982d-2203-4ee9-fbc2-373da5a501cf"
   },
   "outputs": [
    {
     "name": "stdout",
     "output_type": "stream",
     "text": [
      "45.0\n"
     ]
    }
   ],
   "source": [
    "media(23, 45, 67)"
   ]
  },
  {
   "cell_type": "code",
   "execution_count": null,
   "metadata": {
    "id": "B9WDlRE7D1A5"
   },
   "outputs": [],
   "source": [
    "def media(lista):\n",
    "  valor = sum(lista) / len(lista)\n",
    "  print(valor)"
   ]
  },
  {
   "cell_type": "code",
   "execution_count": null,
   "metadata": {
    "colab": {
     "base_uri": "https://localhost:8080/"
    },
    "executionInfo": {
     "elapsed": 946,
     "status": "ok",
     "timestamp": 1610737586818,
     "user": {
      "displayName": "Diego Cowen Pinto",
      "photoUrl": "https://lh3.googleusercontent.com/a-/AOh14GhkSbJn7uVBQmIkmxpBAHIeyBv3MYDnDVJE13xm8w=s64",
      "userId": "00433632151485364739"
     },
     "user_tz": 180
    },
    "id": "1HAy8OK_D1A6",
    "outputId": "869d1e33-7fc8-47ef-ebe1-e666e209be27"
   },
   "outputs": [
    {
     "name": "stdout",
     "output_type": "stream",
     "text": [
      "15.0\n"
     ]
    }
   ],
   "source": [
    "resultado = media([5, 10, 15, 20, 25])"
   ]
  },
  {
   "cell_type": "code",
   "execution_count": null,
   "metadata": {
    "id": "_CDa4oOfD1A6"
   },
   "outputs": [],
   "source": [
    "resultado"
   ]
  },
  {
   "cell_type": "code",
   "execution_count": null,
   "metadata": {
    "colab": {
     "base_uri": "https://localhost:8080/"
    },
    "executionInfo": {
     "elapsed": 795,
     "status": "ok",
     "timestamp": 1610737598613,
     "user": {
      "displayName": "Diego Cowen Pinto",
      "photoUrl": "https://lh3.googleusercontent.com/a-/AOh14GhkSbJn7uVBQmIkmxpBAHIeyBv3MYDnDVJE13xm8w=s64",
      "userId": "00433632151485364739"
     },
     "user_tz": 180
    },
    "id": "xH-mxqYAD1A8",
    "outputId": "c2d83fea-70b4-4dc0-aadf-c93072530cf2"
   },
   "outputs": [
    {
     "data": {
      "text/plain": [
       "NoneType"
      ]
     },
     "execution_count": 37,
     "metadata": {
      "tags": []
     },
     "output_type": "execute_result"
    }
   ],
   "source": [
    "type(resultado)"
   ]
  },
  {
   "cell_type": "code",
   "execution_count": null,
   "metadata": {
    "id": "WXXC_UidD1A8"
   },
   "outputs": [],
   "source": []
  },
  {
   "cell_type": "markdown",
   "metadata": {
    "id": "8zNYrmFbD1A9"
   },
   "source": [
    "# 4.3 Definindo funções que retornam valores"
   ]
  },
  {
   "cell_type": "markdown",
   "metadata": {
    "id": "J44K-dMOD1A9"
   },
   "source": [
    "### Funções que retornam um valor\n",
    "\n",
    "#### Formato padrão\n",
    "\n",
    "```\n",
    "def <nome>(<param_1>, <param_2>, ..., <param_n>):\n",
    "    <instruções>\n",
    "    return <resultado>\n",
    "```"
   ]
  },
  {
   "cell_type": "code",
   "execution_count": null,
   "metadata": {
    "id": "-UG42RQJD1A9"
   },
   "outputs": [],
   "source": [
    "def media(lista):\n",
    "  valor = sum(lista) / len(lista)\n",
    "  return valor"
   ]
  },
  {
   "cell_type": "code",
   "execution_count": null,
   "metadata": {
    "colab": {
     "base_uri": "https://localhost:8080/"
    },
    "executionInfo": {
     "elapsed": 808,
     "status": "ok",
     "timestamp": 1610990104204,
     "user": {
      "displayName": "Diego Cowen Pinto",
      "photoUrl": "https://lh3.googleusercontent.com/a-/AOh14GhkSbJn7uVBQmIkmxpBAHIeyBv3MYDnDVJE13xm8w=s64",
      "userId": "00433632151485364739"
     },
     "user_tz": 180
    },
    "id": "VJwdvoT5D1A-",
    "outputId": "565707b1-58bd-42f7-f5d5-57ecd8250dfa"
   },
   "outputs": [
    {
     "data": {
      "text/plain": [
       "4.5"
      ]
     },
     "execution_count": 10,
     "metadata": {
      "tags": []
     },
     "output_type": "execute_result"
    }
   ],
   "source": [
    "media([1, 2, 3, 4, 5, 6, 7, 8])"
   ]
  },
  {
   "cell_type": "code",
   "execution_count": null,
   "metadata": {
    "id": "AgAeJkpND1A-"
   },
   "outputs": [],
   "source": [
    "resultado = media([1, 2, 3, 4, 5, 6, 7, 8])"
   ]
  },
  {
   "cell_type": "code",
   "execution_count": null,
   "metadata": {
    "colab": {
     "base_uri": "https://localhost:8080/"
    },
    "executionInfo": {
     "elapsed": 606,
     "status": "ok",
     "timestamp": 1610990126555,
     "user": {
      "displayName": "Diego Cowen Pinto",
      "photoUrl": "https://lh3.googleusercontent.com/a-/AOh14GhkSbJn7uVBQmIkmxpBAHIeyBv3MYDnDVJE13xm8w=s64",
      "userId": "00433632151485364739"
     },
     "user_tz": 180
    },
    "id": "_r616TevD1A_",
    "outputId": "f0d44a2f-6abc-45d8-c784-4d9e9a51610b"
   },
   "outputs": [
    {
     "data": {
      "text/plain": [
       "4.5"
      ]
     },
     "execution_count": 12,
     "metadata": {
      "tags": []
     },
     "output_type": "execute_result"
    }
   ],
   "source": [
    "resultado"
   ]
  },
  {
   "cell_type": "markdown",
   "metadata": {
    "id": "MQaK8GV5D1BA"
   },
   "source": [
    "### Funções que retornam mais de um valor\n",
    "\n",
    "#### Formato padrão\n",
    "\n",
    "```\n",
    "def <nome>(<param_1>, <param_2>, ..., <param_n>):\n",
    "    <instruções>\n",
    "    return (<resultado_1>, <resultado_2>, ..., <resultado_n>)\n",
    "```"
   ]
  },
  {
   "cell_type": "code",
   "execution_count": null,
   "metadata": {
    "id": "v0PUMegVD1BA"
   },
   "outputs": [],
   "source": [
    "def media(lista):\n",
    "  valor = sum(lista) / len(lista)\n",
    "  return (valor, len(lista))"
   ]
  },
  {
   "cell_type": "code",
   "execution_count": null,
   "metadata": {
    "colab": {
     "base_uri": "https://localhost:8080/"
    },
    "executionInfo": {
     "elapsed": 680,
     "status": "ok",
     "timestamp": 1610990291980,
     "user": {
      "displayName": "Diego Cowen Pinto",
      "photoUrl": "https://lh3.googleusercontent.com/a-/AOh14GhkSbJn7uVBQmIkmxpBAHIeyBv3MYDnDVJE13xm8w=s64",
      "userId": "00433632151485364739"
     },
     "user_tz": 180
    },
    "id": "Ys-etom8D1BA",
    "outputId": "e3a1ab6a-d01b-4a25-88a4-18d977f65e0f"
   },
   "outputs": [
    {
     "data": {
      "text/plain": [
       "(5.0, 9)"
      ]
     },
     "execution_count": 16,
     "metadata": {
      "tags": []
     },
     "output_type": "execute_result"
    }
   ],
   "source": [
    "media([1, 2, 3, 4, 5, 6, 7, 8, 9])"
   ]
  },
  {
   "cell_type": "code",
   "execution_count": null,
   "metadata": {
    "id": "LERrvkMHD1BC"
   },
   "outputs": [],
   "source": [
    "resultado, n = media([1, 2, 3, 4, 5, 6, 7, 8, 9])"
   ]
  },
  {
   "cell_type": "code",
   "execution_count": null,
   "metadata": {
    "colab": {
     "base_uri": "https://localhost:8080/"
    },
    "executionInfo": {
     "elapsed": 683,
     "status": "ok",
     "timestamp": 1610990327082,
     "user": {
      "displayName": "Diego Cowen Pinto",
      "photoUrl": "https://lh3.googleusercontent.com/a-/AOh14GhkSbJn7uVBQmIkmxpBAHIeyBv3MYDnDVJE13xm8w=s64",
      "userId": "00433632151485364739"
     },
     "user_tz": 180
    },
    "id": "sqoFOWSsD1BC",
    "outputId": "ad700ad6-876e-492d-a1e7-01c5465bb62b"
   },
   "outputs": [
    {
     "data": {
      "text/plain": [
       "5.0"
      ]
     },
     "execution_count": 18,
     "metadata": {
      "tags": []
     },
     "output_type": "execute_result"
    }
   ],
   "source": [
    "resultado"
   ]
  },
  {
   "cell_type": "code",
   "execution_count": null,
   "metadata": {
    "colab": {
     "base_uri": "https://localhost:8080/"
    },
    "executionInfo": {
     "elapsed": 649,
     "status": "ok",
     "timestamp": 1610990329397,
     "user": {
      "displayName": "Diego Cowen Pinto",
      "photoUrl": "https://lh3.googleusercontent.com/a-/AOh14GhkSbJn7uVBQmIkmxpBAHIeyBv3MYDnDVJE13xm8w=s64",
      "userId": "00433632151485364739"
     },
     "user_tz": 180
    },
    "id": "NdB_Jyw_D1BD",
    "outputId": "ecd6ce29-6937-4843-b233-d5d91cf3a1fe"
   },
   "outputs": [
    {
     "data": {
      "text/plain": [
       "9"
      ]
     },
     "execution_count": 19,
     "metadata": {
      "tags": []
     },
     "output_type": "execute_result"
    }
   ],
   "source": [
    "n"
   ]
  },
  {
   "cell_type": "code",
   "execution_count": null,
   "metadata": {
    "id": "EK8qVozQjeHN"
   },
   "outputs": [],
   "source": [
    "dados = {\n",
    "    'Crossfox': {'km': 35000, 'ano': 2005}, \n",
    "    'DS5': {'km': 17000, 'ano': 2015}, \n",
    "    'Fusca': {'km': 130000, 'ano': 1979}, \n",
    "    'Jetta': {'km': 56000, 'ano': 2011}, \n",
    "    'Passat': {'km': 62000, 'ano': 1999}\n",
    "}"
   ]
  },
  {
   "cell_type": "code",
   "execution_count": null,
   "metadata": {
    "id": "_XLpA4hYjisY"
   },
   "outputs": [],
   "source": [
    "def km_media(dataset, ano_atual):\n",
    "    result = {}\n",
    "    for item in dataset.items():\n",
    "        media = item[1]['km'] / (ano_atual - item[1]['ano'])\n",
    "        item[1].update({ 'km_media': media })\n",
    "        result.update({ item[0]: item[1] })\n",
    "    return result"
   ]
  },
  {
   "cell_type": "code",
   "execution_count": null,
   "metadata": {
    "colab": {
     "base_uri": "https://localhost:8080/"
    },
    "executionInfo": {
     "elapsed": 429,
     "status": "ok",
     "timestamp": 1610991382963,
     "user": {
      "displayName": "Diego Cowen Pinto",
      "photoUrl": "https://lh3.googleusercontent.com/a-/AOh14GhkSbJn7uVBQmIkmxpBAHIeyBv3MYDnDVJE13xm8w=s64",
      "userId": "00433632151485364739"
     },
     "user_tz": 180
    },
    "id": "HyPm3ulGji4G",
    "outputId": "0f488048-10cf-4f83-ac91-3479238fcaab"
   },
   "outputs": [
    {
     "data": {
      "text/plain": [
       "{'Crossfox': {'ano': 2005, 'km': 35000, 'km_media': 2500.0},\n",
       " 'DS5': {'ano': 2015, 'km': 17000, 'km_media': 4250.0},\n",
       " 'Fusca': {'ano': 1979, 'km': 130000, 'km_media': 3250.0},\n",
       " 'Jetta': {'ano': 2011, 'km': 56000, 'km_media': 7000.0},\n",
       " 'Passat': {'ano': 1999, 'km': 62000, 'km_media': 3100.0}}"
      ]
     },
     "execution_count": 31,
     "metadata": {
      "tags": []
     },
     "output_type": "execute_result"
    }
   ],
   "source": [
    "km_media(dados, 2019)"
   ]
  },
  {
   "cell_type": "markdown",
   "metadata": {
    "id": "uQ5lNnKrD1BD"
   },
   "source": [
    "# <font color=green> 5. PANDAS BÁSICO\n",
    "---\n",
    "\n",
    "**versão: 0.25.2**\n",
    "  \n",
    "Pandas é uma ferramenta de manipulação de dados de alto nível, construída com base no pacote Numpy. O pacote pandas possui estruturas de dados bastante interessantes para manipulação de dados e por isso é muito utilizado por cientistas de dados.\n",
    "\n",
    "\n",
    "## Estruturas de Dados\n",
    "\n",
    "### Series\n",
    "\n",
    "Series são arrays unidimensionais rotulados capazes de armazenar qualquer tipo de dado. Os rótulos das linhas são chamados de **index**. A forma básica de criação de uma Series é a seguinte:\n",
    "\n",
    "\n",
    "```\n",
    "    s = pd.Series(dados, index = index)\n",
    "```\n",
    "\n",
    "O argumento *dados* pode ser um dicionário, uma lista, um array Numpy ou uma constante.\n",
    "\n",
    "### DataFrames\n",
    "\n",
    "DataFrame é uma estrutura de dados tabular bidimensional com rótulos nas linha e colunas. Como a Series, os DataFrames são capazes de armazenar qualquer tipo de dados.\n",
    "\n",
    "\n",
    "```\n",
    "    df = pd.DataFrame(dados, index = index, columns = columns)\n",
    "```\n",
    "\n",
    "O argumento *dados* pode ser um dicionário, uma lista, um array Numpy, uma Series e outro DataFrame.\n",
    "\n",
    "**Documentação:** https://pandas.pydata.org/pandas-docs/version/0.25/"
   ]
  },
  {
   "cell_type": "code",
   "execution_count": 2,
   "metadata": {
    "executionInfo": {
     "elapsed": 786,
     "status": "ok",
     "timestamp": 1611963172849,
     "user": {
      "displayName": "Diego Cowen Pinto",
      "photoUrl": "https://lh3.googleusercontent.com/a-/AOh14GhkSbJn7uVBQmIkmxpBAHIeyBv3MYDnDVJE13xm8w=s64",
      "userId": "00433632151485364739"
     },
     "user_tz": 180
    },
    "id": "-i7CkmUujhAa"
   },
   "outputs": [],
   "source": [
    "import pandas as pd"
   ]
  },
  {
   "cell_type": "markdown",
   "metadata": {
    "id": "2qa7RC03D1BD"
   },
   "source": [
    "# 5.1 Estruturas de dados"
   ]
  },
  {
   "cell_type": "code",
   "execution_count": null,
   "metadata": {
    "id": "4QyFDeS4D1BD"
   },
   "outputs": [],
   "source": []
  },
  {
   "cell_type": "markdown",
   "metadata": {
    "id": "kIey8_OcD1BF"
   },
   "source": [
    "### Criando uma Series a partir de uma lista"
   ]
  },
  {
   "cell_type": "code",
   "execution_count": null,
   "metadata": {
    "colab": {
     "base_uri": "https://localhost:8080/"
    },
    "executionInfo": {
     "elapsed": 1182,
     "status": "ok",
     "timestamp": 1611066287711,
     "user": {
      "displayName": "Diego Cowen Pinto",
      "photoUrl": "https://lh3.googleusercontent.com/a-/AOh14GhkSbJn7uVBQmIkmxpBAHIeyBv3MYDnDVJE13xm8w=s64",
      "userId": "00433632151485364739"
     },
     "user_tz": 180
    },
    "id": "yEZR6DWiD1BF",
    "outputId": "70426b38-4b7d-4de7-f979-c340eecdf88b"
   },
   "outputs": [
    {
     "data": {
      "text/plain": [
       "['Jetta Variant', 'Passat', 'Crossfox']"
      ]
     },
     "execution_count": 2,
     "metadata": {
      "tags": []
     },
     "output_type": "execute_result"
    }
   ],
   "source": [
    "carros = ['Jetta Variant', 'Passat', 'Crossfox']\n",
    "carros"
   ]
  },
  {
   "cell_type": "code",
   "execution_count": null,
   "metadata": {
    "colab": {
     "base_uri": "https://localhost:8080/"
    },
    "executionInfo": {
     "elapsed": 679,
     "status": "ok",
     "timestamp": 1611066324067,
     "user": {
      "displayName": "Diego Cowen Pinto",
      "photoUrl": "https://lh3.googleusercontent.com/a-/AOh14GhkSbJn7uVBQmIkmxpBAHIeyBv3MYDnDVJE13xm8w=s64",
      "userId": "00433632151485364739"
     },
     "user_tz": 180
    },
    "id": "rLudWKZ_D1BF",
    "outputId": "fa37e472-57fc-4027-9dcf-0f9a9c5079fb"
   },
   "outputs": [
    {
     "data": {
      "text/plain": [
       "0    Jetta Variant\n",
       "1           Passat\n",
       "2         Crossfox\n",
       "dtype: object"
      ]
     },
     "execution_count": 3,
     "metadata": {
      "tags": []
     },
     "output_type": "execute_result"
    }
   ],
   "source": [
    "pd.Series(carros)"
   ]
  },
  {
   "cell_type": "markdown",
   "metadata": {
    "id": "VYVIKd1-D1BG"
   },
   "source": [
    "### Criando um DataFrame a partir de uma lista de dicionários"
   ]
  },
  {
   "cell_type": "code",
   "execution_count": 3,
   "metadata": {
    "executionInfo": {
     "elapsed": 1045,
     "status": "ok",
     "timestamp": 1611963183202,
     "user": {
      "displayName": "Diego Cowen Pinto",
      "photoUrl": "https://lh3.googleusercontent.com/a-/AOh14GhkSbJn7uVBQmIkmxpBAHIeyBv3MYDnDVJE13xm8w=s64",
      "userId": "00433632151485364739"
     },
     "user_tz": 180
    },
    "id": "QFNS9PckD1BG"
   },
   "outputs": [],
   "source": [
    "dados = [\n",
    "    {'Nome': 'Jetta Variant', 'Motor': 'Motor 4.0 Turbo', 'Ano': 2003, 'Quilometragem': 44410.0, 'Zero_km': False, 'Valor': 88078.64},\n",
    "    {'Nome': 'Passat', 'Motor': 'Motor Diesel', 'Ano': 1991, 'Quilometragem': 5712.0, 'Zero_km': False, 'Valor': 106161.94},\n",
    "    {'Nome': 'Crossfox', 'Motor': 'Motor Diesel V8', 'Ano': 1990, 'Quilometragem': 37123.0, 'Zero_km': False, 'Valor': 72832.16}\n",
    "]"
   ]
  },
  {
   "cell_type": "code",
   "execution_count": 4,
   "metadata": {
    "executionInfo": {
     "elapsed": 992,
     "status": "ok",
     "timestamp": 1611963186192,
     "user": {
      "displayName": "Diego Cowen Pinto",
      "photoUrl": "https://lh3.googleusercontent.com/a-/AOh14GhkSbJn7uVBQmIkmxpBAHIeyBv3MYDnDVJE13xm8w=s64",
      "userId": "00433632151485364739"
     },
     "user_tz": 180
    },
    "id": "WDQb9AnKD1BH"
   },
   "outputs": [],
   "source": [
    "dataset = pd.DataFrame(dados)"
   ]
  },
  {
   "cell_type": "code",
   "execution_count": 5,
   "metadata": {
    "colab": {
     "base_uri": "https://localhost:8080/",
     "height": 250
    },
    "executionInfo": {
     "elapsed": 934,
     "status": "ok",
     "timestamp": 1611963188434,
     "user": {
      "displayName": "Diego Cowen Pinto",
      "photoUrl": "https://lh3.googleusercontent.com/a-/AOh14GhkSbJn7uVBQmIkmxpBAHIeyBv3MYDnDVJE13xm8w=s64",
      "userId": "00433632151485364739"
     },
     "user_tz": 180
    },
    "id": "-2-jGvmGD1BI",
    "outputId": "7fb77bd3-a6a8-413d-fc1a-82e05b254ccf"
   },
   "outputs": [
    {
     "data": {
      "text/html": [
       "<div>\n",
       "<style scoped>\n",
       "    .dataframe tbody tr th:only-of-type {\n",
       "        vertical-align: middle;\n",
       "    }\n",
       "\n",
       "    .dataframe tbody tr th {\n",
       "        vertical-align: top;\n",
       "    }\n",
       "\n",
       "    .dataframe thead th {\n",
       "        text-align: right;\n",
       "    }\n",
       "</style>\n",
       "<table border=\"1\" class=\"dataframe\">\n",
       "  <thead>\n",
       "    <tr style=\"text-align: right;\">\n",
       "      <th></th>\n",
       "      <th>Nome</th>\n",
       "      <th>Motor</th>\n",
       "      <th>Ano</th>\n",
       "      <th>Quilometragem</th>\n",
       "      <th>Zero_km</th>\n",
       "      <th>Valor</th>\n",
       "    </tr>\n",
       "  </thead>\n",
       "  <tbody>\n",
       "    <tr>\n",
       "      <th>0</th>\n",
       "      <td>Jetta Variant</td>\n",
       "      <td>Motor 4.0 Turbo</td>\n",
       "      <td>2003</td>\n",
       "      <td>44410.0</td>\n",
       "      <td>False</td>\n",
       "      <td>88078.64</td>\n",
       "    </tr>\n",
       "    <tr>\n",
       "      <th>1</th>\n",
       "      <td>Passat</td>\n",
       "      <td>Motor Diesel</td>\n",
       "      <td>1991</td>\n",
       "      <td>5712.0</td>\n",
       "      <td>False</td>\n",
       "      <td>106161.94</td>\n",
       "    </tr>\n",
       "    <tr>\n",
       "      <th>2</th>\n",
       "      <td>Crossfox</td>\n",
       "      <td>Motor Diesel V8</td>\n",
       "      <td>1990</td>\n",
       "      <td>37123.0</td>\n",
       "      <td>False</td>\n",
       "      <td>72832.16</td>\n",
       "    </tr>\n",
       "  </tbody>\n",
       "</table>\n",
       "</div>"
      ],
      "text/plain": [
       "            Nome            Motor   Ano  Quilometragem  Zero_km      Valor\n",
       "0  Jetta Variant  Motor 4.0 Turbo  2003        44410.0    False   88078.64\n",
       "1         Passat     Motor Diesel  1991         5712.0    False  106161.94\n",
       "2       Crossfox  Motor Diesel V8  1990        37123.0    False   72832.16"
      ]
     },
     "execution_count": 5,
     "metadata": {
      "tags": []
     },
     "output_type": "execute_result"
    }
   ],
   "source": [
    "dataset"
   ]
  },
  {
   "cell_type": "code",
   "execution_count": 6,
   "metadata": {
    "colab": {
     "base_uri": "https://localhost:8080/",
     "height": 250
    },
    "executionInfo": {
     "elapsed": 1259,
     "status": "ok",
     "timestamp": 1611963207174,
     "user": {
      "displayName": "Diego Cowen Pinto",
      "photoUrl": "https://lh3.googleusercontent.com/a-/AOh14GhkSbJn7uVBQmIkmxpBAHIeyBv3MYDnDVJE13xm8w=s64",
      "userId": "00433632151485364739"
     },
     "user_tz": 180
    },
    "id": "2kbyOThiD1BJ",
    "outputId": "e02ba8a7-3fd7-4913-b69b-8204f72bc369"
   },
   "outputs": [
    {
     "data": {
      "text/html": [
       "<div>\n",
       "<style scoped>\n",
       "    .dataframe tbody tr th:only-of-type {\n",
       "        vertical-align: middle;\n",
       "    }\n",
       "\n",
       "    .dataframe tbody tr th {\n",
       "        vertical-align: top;\n",
       "    }\n",
       "\n",
       "    .dataframe thead th {\n",
       "        text-align: right;\n",
       "    }\n",
       "</style>\n",
       "<table border=\"1\" class=\"dataframe\">\n",
       "  <thead>\n",
       "    <tr style=\"text-align: right;\">\n",
       "      <th></th>\n",
       "      <th>Nome</th>\n",
       "      <th>Motor</th>\n",
       "      <th>Ano</th>\n",
       "      <th>Quilometragem</th>\n",
       "      <th>Zero_km</th>\n",
       "      <th>Valor</th>\n",
       "    </tr>\n",
       "  </thead>\n",
       "  <tbody>\n",
       "    <tr>\n",
       "      <th>0</th>\n",
       "      <td>Jetta Variant</td>\n",
       "      <td>Motor 4.0 Turbo</td>\n",
       "      <td>2003</td>\n",
       "      <td>44410.0</td>\n",
       "      <td>False</td>\n",
       "      <td>88078.64</td>\n",
       "    </tr>\n",
       "    <tr>\n",
       "      <th>1</th>\n",
       "      <td>Passat</td>\n",
       "      <td>Motor Diesel</td>\n",
       "      <td>1991</td>\n",
       "      <td>5712.0</td>\n",
       "      <td>False</td>\n",
       "      <td>106161.94</td>\n",
       "    </tr>\n",
       "    <tr>\n",
       "      <th>2</th>\n",
       "      <td>Crossfox</td>\n",
       "      <td>Motor Diesel V8</td>\n",
       "      <td>1990</td>\n",
       "      <td>37123.0</td>\n",
       "      <td>False</td>\n",
       "      <td>72832.16</td>\n",
       "    </tr>\n",
       "  </tbody>\n",
       "</table>\n",
       "</div>"
      ],
      "text/plain": [
       "            Nome            Motor   Ano  Quilometragem  Zero_km      Valor\n",
       "0  Jetta Variant  Motor 4.0 Turbo  2003        44410.0    False   88078.64\n",
       "1         Passat     Motor Diesel  1991         5712.0    False  106161.94\n",
       "2       Crossfox  Motor Diesel V8  1990        37123.0    False   72832.16"
      ]
     },
     "execution_count": 6,
     "metadata": {
      "tags": []
     },
     "output_type": "execute_result"
    }
   ],
   "source": [
    "dataset[['Nome', 'Motor', 'Ano', 'Quilometragem', 'Zero_km', 'Valor']]"
   ]
  },
  {
   "cell_type": "markdown",
   "metadata": {
    "id": "pJK2tQgYD1BK"
   },
   "source": [
    "### Criando um DataFrame a partir de um dicionário"
   ]
  },
  {
   "cell_type": "code",
   "execution_count": 7,
   "metadata": {
    "executionInfo": {
     "elapsed": 859,
     "status": "ok",
     "timestamp": 1611963218165,
     "user": {
      "displayName": "Diego Cowen Pinto",
      "photoUrl": "https://lh3.googleusercontent.com/a-/AOh14GhkSbJn7uVBQmIkmxpBAHIeyBv3MYDnDVJE13xm8w=s64",
      "userId": "00433632151485364739"
     },
     "user_tz": 180
    },
    "id": "WKNQwKucD1BK"
   },
   "outputs": [],
   "source": [
    "dados = {\n",
    "    'Nome': ['Jetta Variant', 'Passat', 'Crossfox'], \n",
    "    'Motor': ['Motor 4.0 Turbo', 'Motor Diesel', 'Motor Diesel V8'],\n",
    "    'Ano': [2003, 1991, 1990],\n",
    "    'Quilometragem': [44410.0, 5712.0, 37123.0],\n",
    "    'Zero_km': [False, False, False],\n",
    "    'Valor': [88078.64, 106161.94, 72832.16]\n",
    "}"
   ]
  },
  {
   "cell_type": "code",
   "execution_count": 9,
   "metadata": {
    "executionInfo": {
     "elapsed": 870,
     "status": "ok",
     "timestamp": 1611963231484,
     "user": {
      "displayName": "Diego Cowen Pinto",
      "photoUrl": "https://lh3.googleusercontent.com/a-/AOh14GhkSbJn7uVBQmIkmxpBAHIeyBv3MYDnDVJE13xm8w=s64",
      "userId": "00433632151485364739"
     },
     "user_tz": 180
    },
    "id": "lKnuZfzcD1BK"
   },
   "outputs": [],
   "source": [
    "dataset = pd.DataFrame(dados)"
   ]
  },
  {
   "cell_type": "code",
   "execution_count": 10,
   "metadata": {
    "colab": {
     "base_uri": "https://localhost:8080/",
     "height": 250
    },
    "executionInfo": {
     "elapsed": 754,
     "status": "ok",
     "timestamp": 1611963232997,
     "user": {
      "displayName": "Diego Cowen Pinto",
      "photoUrl": "https://lh3.googleusercontent.com/a-/AOh14GhkSbJn7uVBQmIkmxpBAHIeyBv3MYDnDVJE13xm8w=s64",
      "userId": "00433632151485364739"
     },
     "user_tz": 180
    },
    "id": "PNqTytC-D1BL",
    "outputId": "1f35e5b6-2f0c-4f47-d91b-dba5f6d99a1f"
   },
   "outputs": [
    {
     "data": {
      "text/html": [
       "<div>\n",
       "<style scoped>\n",
       "    .dataframe tbody tr th:only-of-type {\n",
       "        vertical-align: middle;\n",
       "    }\n",
       "\n",
       "    .dataframe tbody tr th {\n",
       "        vertical-align: top;\n",
       "    }\n",
       "\n",
       "    .dataframe thead th {\n",
       "        text-align: right;\n",
       "    }\n",
       "</style>\n",
       "<table border=\"1\" class=\"dataframe\">\n",
       "  <thead>\n",
       "    <tr style=\"text-align: right;\">\n",
       "      <th></th>\n",
       "      <th>Nome</th>\n",
       "      <th>Motor</th>\n",
       "      <th>Ano</th>\n",
       "      <th>Quilometragem</th>\n",
       "      <th>Zero_km</th>\n",
       "      <th>Valor</th>\n",
       "    </tr>\n",
       "  </thead>\n",
       "  <tbody>\n",
       "    <tr>\n",
       "      <th>0</th>\n",
       "      <td>Jetta Variant</td>\n",
       "      <td>Motor 4.0 Turbo</td>\n",
       "      <td>2003</td>\n",
       "      <td>44410.0</td>\n",
       "      <td>False</td>\n",
       "      <td>88078.64</td>\n",
       "    </tr>\n",
       "    <tr>\n",
       "      <th>1</th>\n",
       "      <td>Passat</td>\n",
       "      <td>Motor Diesel</td>\n",
       "      <td>1991</td>\n",
       "      <td>5712.0</td>\n",
       "      <td>False</td>\n",
       "      <td>106161.94</td>\n",
       "    </tr>\n",
       "    <tr>\n",
       "      <th>2</th>\n",
       "      <td>Crossfox</td>\n",
       "      <td>Motor Diesel V8</td>\n",
       "      <td>1990</td>\n",
       "      <td>37123.0</td>\n",
       "      <td>False</td>\n",
       "      <td>72832.16</td>\n",
       "    </tr>\n",
       "  </tbody>\n",
       "</table>\n",
       "</div>"
      ],
      "text/plain": [
       "            Nome            Motor   Ano  Quilometragem  Zero_km      Valor\n",
       "0  Jetta Variant  Motor 4.0 Turbo  2003        44410.0    False   88078.64\n",
       "1         Passat     Motor Diesel  1991         5712.0    False  106161.94\n",
       "2       Crossfox  Motor Diesel V8  1990        37123.0    False   72832.16"
      ]
     },
     "execution_count": 10,
     "metadata": {
      "tags": []
     },
     "output_type": "execute_result"
    }
   ],
   "source": [
    "dataset"
   ]
  },
  {
   "cell_type": "markdown",
   "metadata": {
    "id": "fCCXs0reD1BL"
   },
   "source": [
    "### Criando um DataFrame a partir de uma arquivo externo"
   ]
  },
  {
   "cell_type": "code",
   "execution_count": null,
   "metadata": {
    "id": "78PRHGeZD1BL"
   },
   "outputs": [],
   "source": [
    "dataset = pd.read_csv('db.csv', sep = ';', index_col = 0)"
   ]
  },
  {
   "cell_type": "code",
   "execution_count": null,
   "metadata": {
    "colab": {
     "base_uri": "https://localhost:8080/",
     "height": 450
    },
    "executionInfo": {
     "elapsed": 644,
     "status": "ok",
     "timestamp": 1611067995396,
     "user": {
      "displayName": "Diego Cowen Pinto",
      "photoUrl": "https://lh3.googleusercontent.com/a-/AOh14GhkSbJn7uVBQmIkmxpBAHIeyBv3MYDnDVJE13xm8w=s64",
      "userId": "00433632151485364739"
     },
     "user_tz": 180
    },
    "id": "1o1YlnVPD1BM",
    "outputId": "98c1f5c4-0a41-4bc4-cc78-39e7c848ca5d",
    "scrolled": true
   },
   "outputs": [
    {
     "data": {
      "text/html": [
       "<div>\n",
       "<style scoped>\n",
       "    .dataframe tbody tr th:only-of-type {\n",
       "        vertical-align: middle;\n",
       "    }\n",
       "\n",
       "    .dataframe tbody tr th {\n",
       "        vertical-align: top;\n",
       "    }\n",
       "\n",
       "    .dataframe thead th {\n",
       "        text-align: right;\n",
       "    }\n",
       "</style>\n",
       "<table border=\"1\" class=\"dataframe\">\n",
       "  <thead>\n",
       "    <tr style=\"text-align: right;\">\n",
       "      <th></th>\n",
       "      <th>Motor</th>\n",
       "      <th>Ano</th>\n",
       "      <th>Quilometragem</th>\n",
       "      <th>Zero_km</th>\n",
       "      <th>Acessórios</th>\n",
       "      <th>Valor</th>\n",
       "    </tr>\n",
       "    <tr>\n",
       "      <th>Nome</th>\n",
       "      <th></th>\n",
       "      <th></th>\n",
       "      <th></th>\n",
       "      <th></th>\n",
       "      <th></th>\n",
       "      <th></th>\n",
       "    </tr>\n",
       "  </thead>\n",
       "  <tbody>\n",
       "    <tr>\n",
       "      <th>Jetta Variant</th>\n",
       "      <td>Motor 4.0 Turbo</td>\n",
       "      <td>2003</td>\n",
       "      <td>44410.0</td>\n",
       "      <td>False</td>\n",
       "      <td>['Rodas de liga', 'Travas elétricas', 'Piloto ...</td>\n",
       "      <td>88078.64</td>\n",
       "    </tr>\n",
       "    <tr>\n",
       "      <th>Passat</th>\n",
       "      <td>Motor Diesel</td>\n",
       "      <td>1991</td>\n",
       "      <td>5712.0</td>\n",
       "      <td>False</td>\n",
       "      <td>['Central multimídia', 'Teto panorâmico', 'Fre...</td>\n",
       "      <td>106161.94</td>\n",
       "    </tr>\n",
       "    <tr>\n",
       "      <th>Crossfox</th>\n",
       "      <td>Motor Diesel V8</td>\n",
       "      <td>1990</td>\n",
       "      <td>37123.0</td>\n",
       "      <td>False</td>\n",
       "      <td>['Piloto automático', 'Controle de estabilidad...</td>\n",
       "      <td>72832.16</td>\n",
       "    </tr>\n",
       "    <tr>\n",
       "      <th>DS5</th>\n",
       "      <td>Motor 2.4 Turbo</td>\n",
       "      <td>2019</td>\n",
       "      <td>NaN</td>\n",
       "      <td>True</td>\n",
       "      <td>['Travas elétricas', '4 X 4', 'Vidros elétrico...</td>\n",
       "      <td>124549.07</td>\n",
       "    </tr>\n",
       "    <tr>\n",
       "      <th>Aston Martin DB4</th>\n",
       "      <td>Motor 2.4 Turbo</td>\n",
       "      <td>2006</td>\n",
       "      <td>25757.0</td>\n",
       "      <td>False</td>\n",
       "      <td>['Rodas de liga', '4 X 4', 'Central multimídia...</td>\n",
       "      <td>92612.10</td>\n",
       "    </tr>\n",
       "    <tr>\n",
       "      <th>...</th>\n",
       "      <td>...</td>\n",
       "      <td>...</td>\n",
       "      <td>...</td>\n",
       "      <td>...</td>\n",
       "      <td>...</td>\n",
       "      <td>...</td>\n",
       "    </tr>\n",
       "    <tr>\n",
       "      <th>Phantom 2013</th>\n",
       "      <td>Motor V8</td>\n",
       "      <td>2014</td>\n",
       "      <td>27505.0</td>\n",
       "      <td>False</td>\n",
       "      <td>['Controle de estabilidade', 'Piloto automátic...</td>\n",
       "      <td>51759.58</td>\n",
       "    </tr>\n",
       "    <tr>\n",
       "      <th>Cadillac Ciel concept</th>\n",
       "      <td>Motor V8</td>\n",
       "      <td>1991</td>\n",
       "      <td>29981.0</td>\n",
       "      <td>False</td>\n",
       "      <td>['Bancos de couro', 'Painel digital', 'Sensor ...</td>\n",
       "      <td>51667.06</td>\n",
       "    </tr>\n",
       "    <tr>\n",
       "      <th>Classe GLK</th>\n",
       "      <td>Motor 5.0 V8 Bi-Turbo</td>\n",
       "      <td>2002</td>\n",
       "      <td>52637.0</td>\n",
       "      <td>False</td>\n",
       "      <td>['Rodas de liga', 'Controle de tração', 'Câmbi...</td>\n",
       "      <td>68934.03</td>\n",
       "    </tr>\n",
       "    <tr>\n",
       "      <th>Aston Martin DB5</th>\n",
       "      <td>Motor Diesel</td>\n",
       "      <td>1996</td>\n",
       "      <td>7685.0</td>\n",
       "      <td>False</td>\n",
       "      <td>['Ar condicionado', '4 X 4', 'Câmbio automátic...</td>\n",
       "      <td>122110.90</td>\n",
       "    </tr>\n",
       "    <tr>\n",
       "      <th>Macan</th>\n",
       "      <td>Motor Diesel V6</td>\n",
       "      <td>1992</td>\n",
       "      <td>50188.0</td>\n",
       "      <td>False</td>\n",
       "      <td>['Central multimídia', 'Teto panorâmico', 'Vid...</td>\n",
       "      <td>90381.47</td>\n",
       "    </tr>\n",
       "  </tbody>\n",
       "</table>\n",
       "<p>258 rows × 6 columns</p>\n",
       "</div>"
      ],
      "text/plain": [
       "                                       Motor  ...      Valor\n",
       "Nome                                          ...           \n",
       "Jetta Variant                Motor 4.0 Turbo  ...   88078.64\n",
       "Passat                          Motor Diesel  ...  106161.94\n",
       "Crossfox                     Motor Diesel V8  ...   72832.16\n",
       "DS5                          Motor 2.4 Turbo  ...  124549.07\n",
       "Aston Martin DB4             Motor 2.4 Turbo  ...   92612.10\n",
       "...                                      ...  ...        ...\n",
       "Phantom 2013                        Motor V8  ...   51759.58\n",
       "Cadillac Ciel concept               Motor V8  ...   51667.06\n",
       "Classe GLK             Motor 5.0 V8 Bi-Turbo  ...   68934.03\n",
       "Aston Martin DB5                Motor Diesel  ...  122110.90\n",
       "Macan                        Motor Diesel V6  ...   90381.47\n",
       "\n",
       "[258 rows x 6 columns]"
      ]
     },
     "execution_count": 15,
     "metadata": {
      "tags": []
     },
     "output_type": "execute_result"
    }
   ],
   "source": [
    "dataset"
   ]
  },
  {
   "cell_type": "markdown",
   "metadata": {
    "id": "y5V-1AK-D1BN"
   },
   "source": [
    "# 5.2 Seleções com DataFrames"
   ]
  },
  {
   "cell_type": "code",
   "execution_count": null,
   "metadata": {
    "id": "xXKAnPHM4HBL"
   },
   "outputs": [],
   "source": [
    "import pandas as pd"
   ]
  },
  {
   "cell_type": "code",
   "execution_count": null,
   "metadata": {
    "id": "ThlmwhKRMeV0"
   },
   "outputs": [],
   "source": [
    "dataset = pd.read_csv('db.csv', sep = ';', index_col = 0)"
   ]
  },
  {
   "cell_type": "code",
   "execution_count": null,
   "metadata": {
    "colab": {
     "base_uri": "https://localhost:8080/",
     "height": 450
    },
    "executionInfo": {
     "elapsed": 653,
     "status": "ok",
     "timestamp": 1611164330105,
     "user": {
      "displayName": "Diego Cowen Pinto",
      "photoUrl": "https://lh3.googleusercontent.com/a-/AOh14GhkSbJn7uVBQmIkmxpBAHIeyBv3MYDnDVJE13xm8w=s64",
      "userId": "00433632151485364739"
     },
     "user_tz": 180
    },
    "id": "czXY6iPXMg1j",
    "outputId": "631884f7-cf67-46f5-fead-84015197f2b9"
   },
   "outputs": [
    {
     "data": {
      "text/html": [
       "<div>\n",
       "<style scoped>\n",
       "    .dataframe tbody tr th:only-of-type {\n",
       "        vertical-align: middle;\n",
       "    }\n",
       "\n",
       "    .dataframe tbody tr th {\n",
       "        vertical-align: top;\n",
       "    }\n",
       "\n",
       "    .dataframe thead th {\n",
       "        text-align: right;\n",
       "    }\n",
       "</style>\n",
       "<table border=\"1\" class=\"dataframe\">\n",
       "  <thead>\n",
       "    <tr style=\"text-align: right;\">\n",
       "      <th></th>\n",
       "      <th>Motor</th>\n",
       "      <th>Ano</th>\n",
       "      <th>Quilometragem</th>\n",
       "      <th>Zero_km</th>\n",
       "      <th>Acessórios</th>\n",
       "      <th>Valor</th>\n",
       "    </tr>\n",
       "    <tr>\n",
       "      <th>Nome</th>\n",
       "      <th></th>\n",
       "      <th></th>\n",
       "      <th></th>\n",
       "      <th></th>\n",
       "      <th></th>\n",
       "      <th></th>\n",
       "    </tr>\n",
       "  </thead>\n",
       "  <tbody>\n",
       "    <tr>\n",
       "      <th>Jetta Variant</th>\n",
       "      <td>Motor 4.0 Turbo</td>\n",
       "      <td>2003</td>\n",
       "      <td>44410.0</td>\n",
       "      <td>False</td>\n",
       "      <td>['Rodas de liga', 'Travas elétricas', 'Piloto ...</td>\n",
       "      <td>88078.64</td>\n",
       "    </tr>\n",
       "    <tr>\n",
       "      <th>Passat</th>\n",
       "      <td>Motor Diesel</td>\n",
       "      <td>1991</td>\n",
       "      <td>5712.0</td>\n",
       "      <td>False</td>\n",
       "      <td>['Central multimídia', 'Teto panorâmico', 'Fre...</td>\n",
       "      <td>106161.94</td>\n",
       "    </tr>\n",
       "    <tr>\n",
       "      <th>Crossfox</th>\n",
       "      <td>Motor Diesel V8</td>\n",
       "      <td>1990</td>\n",
       "      <td>37123.0</td>\n",
       "      <td>False</td>\n",
       "      <td>['Piloto automático', 'Controle de estabilidad...</td>\n",
       "      <td>72832.16</td>\n",
       "    </tr>\n",
       "    <tr>\n",
       "      <th>DS5</th>\n",
       "      <td>Motor 2.4 Turbo</td>\n",
       "      <td>2019</td>\n",
       "      <td>NaN</td>\n",
       "      <td>True</td>\n",
       "      <td>['Travas elétricas', '4 X 4', 'Vidros elétrico...</td>\n",
       "      <td>124549.07</td>\n",
       "    </tr>\n",
       "    <tr>\n",
       "      <th>Aston Martin DB4</th>\n",
       "      <td>Motor 2.4 Turbo</td>\n",
       "      <td>2006</td>\n",
       "      <td>25757.0</td>\n",
       "      <td>False</td>\n",
       "      <td>['Rodas de liga', '4 X 4', 'Central multimídia...</td>\n",
       "      <td>92612.10</td>\n",
       "    </tr>\n",
       "    <tr>\n",
       "      <th>...</th>\n",
       "      <td>...</td>\n",
       "      <td>...</td>\n",
       "      <td>...</td>\n",
       "      <td>...</td>\n",
       "      <td>...</td>\n",
       "      <td>...</td>\n",
       "    </tr>\n",
       "    <tr>\n",
       "      <th>Phantom 2013</th>\n",
       "      <td>Motor V8</td>\n",
       "      <td>2014</td>\n",
       "      <td>27505.0</td>\n",
       "      <td>False</td>\n",
       "      <td>['Controle de estabilidade', 'Piloto automátic...</td>\n",
       "      <td>51759.58</td>\n",
       "    </tr>\n",
       "    <tr>\n",
       "      <th>Cadillac Ciel concept</th>\n",
       "      <td>Motor V8</td>\n",
       "      <td>1991</td>\n",
       "      <td>29981.0</td>\n",
       "      <td>False</td>\n",
       "      <td>['Bancos de couro', 'Painel digital', 'Sensor ...</td>\n",
       "      <td>51667.06</td>\n",
       "    </tr>\n",
       "    <tr>\n",
       "      <th>Classe GLK</th>\n",
       "      <td>Motor 5.0 V8 Bi-Turbo</td>\n",
       "      <td>2002</td>\n",
       "      <td>52637.0</td>\n",
       "      <td>False</td>\n",
       "      <td>['Rodas de liga', 'Controle de tração', 'Câmbi...</td>\n",
       "      <td>68934.03</td>\n",
       "    </tr>\n",
       "    <tr>\n",
       "      <th>Aston Martin DB5</th>\n",
       "      <td>Motor Diesel</td>\n",
       "      <td>1996</td>\n",
       "      <td>7685.0</td>\n",
       "      <td>False</td>\n",
       "      <td>['Ar condicionado', '4 X 4', 'Câmbio automátic...</td>\n",
       "      <td>122110.90</td>\n",
       "    </tr>\n",
       "    <tr>\n",
       "      <th>Macan</th>\n",
       "      <td>Motor Diesel V6</td>\n",
       "      <td>1992</td>\n",
       "      <td>50188.0</td>\n",
       "      <td>False</td>\n",
       "      <td>['Central multimídia', 'Teto panorâmico', 'Vid...</td>\n",
       "      <td>90381.47</td>\n",
       "    </tr>\n",
       "  </tbody>\n",
       "</table>\n",
       "<p>258 rows × 6 columns</p>\n",
       "</div>"
      ],
      "text/plain": [
       "                                       Motor  ...      Valor\n",
       "Nome                                          ...           \n",
       "Jetta Variant                Motor 4.0 Turbo  ...   88078.64\n",
       "Passat                          Motor Diesel  ...  106161.94\n",
       "Crossfox                     Motor Diesel V8  ...   72832.16\n",
       "DS5                          Motor 2.4 Turbo  ...  124549.07\n",
       "Aston Martin DB4             Motor 2.4 Turbo  ...   92612.10\n",
       "...                                      ...  ...        ...\n",
       "Phantom 2013                        Motor V8  ...   51759.58\n",
       "Cadillac Ciel concept               Motor V8  ...   51667.06\n",
       "Classe GLK             Motor 5.0 V8 Bi-Turbo  ...   68934.03\n",
       "Aston Martin DB5                Motor Diesel  ...  122110.90\n",
       "Macan                        Motor Diesel V6  ...   90381.47\n",
       "\n",
       "[258 rows x 6 columns]"
      ]
     },
     "execution_count": 6,
     "metadata": {
      "tags": []
     },
     "output_type": "execute_result"
    }
   ],
   "source": [
    "dataset"
   ]
  },
  {
   "cell_type": "code",
   "execution_count": null,
   "metadata": {
    "colab": {
     "base_uri": "https://localhost:8080/",
     "height": 235
    },
    "executionInfo": {
     "elapsed": 613,
     "status": "ok",
     "timestamp": 1611164333431,
     "user": {
      "displayName": "Diego Cowen Pinto",
      "photoUrl": "https://lh3.googleusercontent.com/a-/AOh14GhkSbJn7uVBQmIkmxpBAHIeyBv3MYDnDVJE13xm8w=s64",
      "userId": "00433632151485364739"
     },
     "user_tz": 180
    },
    "id": "7Wy8070SMg5_",
    "outputId": "31fc2b6c-0f16-412c-e825-6b3059a11944"
   },
   "outputs": [
    {
     "data": {
      "text/html": [
       "<div>\n",
       "<style scoped>\n",
       "    .dataframe tbody tr th:only-of-type {\n",
       "        vertical-align: middle;\n",
       "    }\n",
       "\n",
       "    .dataframe tbody tr th {\n",
       "        vertical-align: top;\n",
       "    }\n",
       "\n",
       "    .dataframe thead th {\n",
       "        text-align: right;\n",
       "    }\n",
       "</style>\n",
       "<table border=\"1\" class=\"dataframe\">\n",
       "  <thead>\n",
       "    <tr style=\"text-align: right;\">\n",
       "      <th></th>\n",
       "      <th>Motor</th>\n",
       "      <th>Ano</th>\n",
       "      <th>Quilometragem</th>\n",
       "      <th>Zero_km</th>\n",
       "      <th>Acessórios</th>\n",
       "      <th>Valor</th>\n",
       "    </tr>\n",
       "    <tr>\n",
       "      <th>Nome</th>\n",
       "      <th></th>\n",
       "      <th></th>\n",
       "      <th></th>\n",
       "      <th></th>\n",
       "      <th></th>\n",
       "      <th></th>\n",
       "    </tr>\n",
       "  </thead>\n",
       "  <tbody>\n",
       "    <tr>\n",
       "      <th>Jetta Variant</th>\n",
       "      <td>Motor 4.0 Turbo</td>\n",
       "      <td>2003</td>\n",
       "      <td>44410.0</td>\n",
       "      <td>False</td>\n",
       "      <td>['Rodas de liga', 'Travas elétricas', 'Piloto ...</td>\n",
       "      <td>88078.64</td>\n",
       "    </tr>\n",
       "    <tr>\n",
       "      <th>Passat</th>\n",
       "      <td>Motor Diesel</td>\n",
       "      <td>1991</td>\n",
       "      <td>5712.0</td>\n",
       "      <td>False</td>\n",
       "      <td>['Central multimídia', 'Teto panorâmico', 'Fre...</td>\n",
       "      <td>106161.94</td>\n",
       "    </tr>\n",
       "    <tr>\n",
       "      <th>Crossfox</th>\n",
       "      <td>Motor Diesel V8</td>\n",
       "      <td>1990</td>\n",
       "      <td>37123.0</td>\n",
       "      <td>False</td>\n",
       "      <td>['Piloto automático', 'Controle de estabilidad...</td>\n",
       "      <td>72832.16</td>\n",
       "    </tr>\n",
       "    <tr>\n",
       "      <th>DS5</th>\n",
       "      <td>Motor 2.4 Turbo</td>\n",
       "      <td>2019</td>\n",
       "      <td>NaN</td>\n",
       "      <td>True</td>\n",
       "      <td>['Travas elétricas', '4 X 4', 'Vidros elétrico...</td>\n",
       "      <td>124549.07</td>\n",
       "    </tr>\n",
       "    <tr>\n",
       "      <th>Aston Martin DB4</th>\n",
       "      <td>Motor 2.4 Turbo</td>\n",
       "      <td>2006</td>\n",
       "      <td>25757.0</td>\n",
       "      <td>False</td>\n",
       "      <td>['Rodas de liga', '4 X 4', 'Central multimídia...</td>\n",
       "      <td>92612.10</td>\n",
       "    </tr>\n",
       "  </tbody>\n",
       "</table>\n",
       "</div>"
      ],
      "text/plain": [
       "                            Motor  ...      Valor\n",
       "Nome                               ...           \n",
       "Jetta Variant     Motor 4.0 Turbo  ...   88078.64\n",
       "Passat               Motor Diesel  ...  106161.94\n",
       "Crossfox          Motor Diesel V8  ...   72832.16\n",
       "DS5               Motor 2.4 Turbo  ...  124549.07\n",
       "Aston Martin DB4  Motor 2.4 Turbo  ...   92612.10\n",
       "\n",
       "[5 rows x 6 columns]"
      ]
     },
     "execution_count": 7,
     "metadata": {
      "tags": []
     },
     "output_type": "execute_result"
    }
   ],
   "source": [
    "dataset.head()"
   ]
  },
  {
   "cell_type": "markdown",
   "metadata": {
    "id": "wZjqlHe9D1BN"
   },
   "source": [
    "### Selecionando colunas"
   ]
  },
  {
   "cell_type": "code",
   "execution_count": null,
   "metadata": {
    "colab": {
     "base_uri": "https://localhost:8080/"
    },
    "executionInfo": {
     "elapsed": 786,
     "status": "ok",
     "timestamp": 1611164337056,
     "user": {
      "displayName": "Diego Cowen Pinto",
      "photoUrl": "https://lh3.googleusercontent.com/a-/AOh14GhkSbJn7uVBQmIkmxpBAHIeyBv3MYDnDVJE13xm8w=s64",
      "userId": "00433632151485364739"
     },
     "user_tz": 180
    },
    "id": "gM3LbtzlD1BN",
    "outputId": "aedaa0a5-7c9d-466c-f107-e952c38bdbdd",
    "scrolled": true
   },
   "outputs": [
    {
     "data": {
      "text/plain": [
       "Nome\n",
       "Jetta Variant             88078.64\n",
       "Passat                   106161.94\n",
       "Crossfox                  72832.16\n",
       "DS5                      124549.07\n",
       "Aston Martin DB4          92612.10\n",
       "                           ...    \n",
       "Phantom 2013              51759.58\n",
       "Cadillac Ciel concept     51667.06\n",
       "Classe GLK                68934.03\n",
       "Aston Martin DB5         122110.90\n",
       "Macan                     90381.47\n",
       "Name: Valor, Length: 258, dtype: float64"
      ]
     },
     "execution_count": 8,
     "metadata": {
      "tags": []
     },
     "output_type": "execute_result"
    }
   ],
   "source": [
    "dataset['Valor']"
   ]
  },
  {
   "cell_type": "code",
   "execution_count": null,
   "metadata": {
    "colab": {
     "base_uri": "https://localhost:8080/"
    },
    "executionInfo": {
     "elapsed": 810,
     "status": "ok",
     "timestamp": 1611164340843,
     "user": {
      "displayName": "Diego Cowen Pinto",
      "photoUrl": "https://lh3.googleusercontent.com/a-/AOh14GhkSbJn7uVBQmIkmxpBAHIeyBv3MYDnDVJE13xm8w=s64",
      "userId": "00433632151485364739"
     },
     "user_tz": 180
    },
    "id": "R2FWgCM_D1BO",
    "outputId": "58f54301-07ce-461d-8b82-0a0e70de4f1b"
   },
   "outputs": [
    {
     "data": {
      "text/plain": [
       "pandas.core.series.Series"
      ]
     },
     "execution_count": 9,
     "metadata": {
      "tags": []
     },
     "output_type": "execute_result"
    }
   ],
   "source": [
    "type(dataset['Valor'])"
   ]
  },
  {
   "cell_type": "markdown",
   "metadata": {
    "id": "7RPXPm1XD1BQ"
   },
   "source": [
    "### Selecionando linhas - [ i : j ] \n",
    "\n",
    "<font color=red>**Observação:**</font> A indexação tem origem no zero e nos fatiamentos (*slices*) a linha com índice i é **incluída** e a linha com índice j **não é incluída** no resultado."
   ]
  },
  {
   "cell_type": "code",
   "execution_count": null,
   "metadata": {
    "colab": {
     "base_uri": "https://localhost:8080/",
     "height": 173
    },
    "executionInfo": {
     "elapsed": 809,
     "status": "ok",
     "timestamp": 1611165522048,
     "user": {
      "displayName": "Diego Cowen Pinto",
      "photoUrl": "https://lh3.googleusercontent.com/a-/AOh14GhkSbJn7uVBQmIkmxpBAHIeyBv3MYDnDVJE13xm8w=s64",
      "userId": "00433632151485364739"
     },
     "user_tz": 180
    },
    "id": "PdDUwPw3D1BQ",
    "outputId": "75becc47-58bb-465a-b3e3-c76e95f33579"
   },
   "outputs": [
    {
     "data": {
      "text/html": [
       "<div>\n",
       "<style scoped>\n",
       "    .dataframe tbody tr th:only-of-type {\n",
       "        vertical-align: middle;\n",
       "    }\n",
       "\n",
       "    .dataframe tbody tr th {\n",
       "        vertical-align: top;\n",
       "    }\n",
       "\n",
       "    .dataframe thead th {\n",
       "        text-align: right;\n",
       "    }\n",
       "</style>\n",
       "<table border=\"1\" class=\"dataframe\">\n",
       "  <thead>\n",
       "    <tr style=\"text-align: right;\">\n",
       "      <th></th>\n",
       "      <th>Motor</th>\n",
       "      <th>Ano</th>\n",
       "      <th>Quilometragem</th>\n",
       "      <th>Zero_km</th>\n",
       "      <th>Acessórios</th>\n",
       "      <th>Valor</th>\n",
       "    </tr>\n",
       "    <tr>\n",
       "      <th>Nome</th>\n",
       "      <th></th>\n",
       "      <th></th>\n",
       "      <th></th>\n",
       "      <th></th>\n",
       "      <th></th>\n",
       "      <th></th>\n",
       "    </tr>\n",
       "  </thead>\n",
       "  <tbody>\n",
       "    <tr>\n",
       "      <th>Jetta Variant</th>\n",
       "      <td>Motor 4.0 Turbo</td>\n",
       "      <td>2003</td>\n",
       "      <td>44410.0</td>\n",
       "      <td>False</td>\n",
       "      <td>['Rodas de liga', 'Travas elétricas', 'Piloto ...</td>\n",
       "      <td>88078.64</td>\n",
       "    </tr>\n",
       "    <tr>\n",
       "      <th>Passat</th>\n",
       "      <td>Motor Diesel</td>\n",
       "      <td>1991</td>\n",
       "      <td>5712.0</td>\n",
       "      <td>False</td>\n",
       "      <td>['Central multimídia', 'Teto panorâmico', 'Fre...</td>\n",
       "      <td>106161.94</td>\n",
       "    </tr>\n",
       "    <tr>\n",
       "      <th>Crossfox</th>\n",
       "      <td>Motor Diesel V8</td>\n",
       "      <td>1990</td>\n",
       "      <td>37123.0</td>\n",
       "      <td>False</td>\n",
       "      <td>['Piloto automático', 'Controle de estabilidad...</td>\n",
       "      <td>72832.16</td>\n",
       "    </tr>\n",
       "  </tbody>\n",
       "</table>\n",
       "</div>"
      ],
      "text/plain": [
       "                         Motor  ...      Valor\n",
       "Nome                            ...           \n",
       "Jetta Variant  Motor 4.0 Turbo  ...   88078.64\n",
       "Passat            Motor Diesel  ...  106161.94\n",
       "Crossfox       Motor Diesel V8  ...   72832.16\n",
       "\n",
       "[3 rows x 6 columns]"
      ]
     },
     "execution_count": 25,
     "metadata": {
      "tags": []
     },
     "output_type": "execute_result"
    }
   ],
   "source": [
    "dataset[:3]"
   ]
  },
  {
   "cell_type": "markdown",
   "metadata": {
    "id": "G3DMSk97D1BR"
   },
   "source": [
    "### Utilizando .loc para seleções\n",
    "\n",
    "<font color=red>**Observação:**</font> Seleciona um grupo de linhas e colunas segundo os rótulos ou uma matriz booleana."
   ]
  },
  {
   "cell_type": "code",
   "execution_count": null,
   "metadata": {
    "colab": {
     "base_uri": "https://localhost:8080/"
    },
    "executionInfo": {
     "elapsed": 650,
     "status": "ok",
     "timestamp": 1611165200854,
     "user": {
      "displayName": "Diego Cowen Pinto",
      "photoUrl": "https://lh3.googleusercontent.com/a-/AOh14GhkSbJn7uVBQmIkmxpBAHIeyBv3MYDnDVJE13xm8w=s64",
      "userId": "00433632151485364739"
     },
     "user_tz": 180
    },
    "id": "Ftg-hNOoD1BR",
    "outputId": "27aa1ef4-e53d-42c8-df91-845c6d463f40"
   },
   "outputs": [
    {
     "data": {
      "text/plain": [
       "Motor                                                 Motor Diesel\n",
       "Ano                                                           1991\n",
       "Quilometragem                                                 5712\n",
       "Zero_km                                                      False\n",
       "Acessórios       ['Central multimídia', 'Teto panorâmico', 'Fre...\n",
       "Valor                                                       106162\n",
       "Name: Passat, dtype: object"
      ]
     },
     "execution_count": 20,
     "metadata": {
      "tags": []
     },
     "output_type": "execute_result"
    }
   ],
   "source": [
    "dataset.loc['Passat']"
   ]
  },
  {
   "cell_type": "code",
   "execution_count": null,
   "metadata": {
    "colab": {
     "base_uri": "https://localhost:8080/",
     "height": 142
    },
    "executionInfo": {
     "elapsed": 751,
     "status": "ok",
     "timestamp": 1611165414727,
     "user": {
      "displayName": "Diego Cowen Pinto",
      "photoUrl": "https://lh3.googleusercontent.com/a-/AOh14GhkSbJn7uVBQmIkmxpBAHIeyBv3MYDnDVJE13xm8w=s64",
      "userId": "00433632151485364739"
     },
     "user_tz": 180
    },
    "id": "xdxkDrHvD1BS",
    "outputId": "c9715187-cac3-4c6c-c0fc-08c40d3fd3f8"
   },
   "outputs": [
    {
     "data": {
      "text/html": [
       "<div>\n",
       "<style scoped>\n",
       "    .dataframe tbody tr th:only-of-type {\n",
       "        vertical-align: middle;\n",
       "    }\n",
       "\n",
       "    .dataframe tbody tr th {\n",
       "        vertical-align: top;\n",
       "    }\n",
       "\n",
       "    .dataframe thead th {\n",
       "        text-align: right;\n",
       "    }\n",
       "</style>\n",
       "<table border=\"1\" class=\"dataframe\">\n",
       "  <thead>\n",
       "    <tr style=\"text-align: right;\">\n",
       "      <th></th>\n",
       "      <th>Motor</th>\n",
       "      <th>Ano</th>\n",
       "      <th>Quilometragem</th>\n",
       "      <th>Zero_km</th>\n",
       "      <th>Acessórios</th>\n",
       "      <th>Valor</th>\n",
       "    </tr>\n",
       "    <tr>\n",
       "      <th>Nome</th>\n",
       "      <th></th>\n",
       "      <th></th>\n",
       "      <th></th>\n",
       "      <th></th>\n",
       "      <th></th>\n",
       "      <th></th>\n",
       "    </tr>\n",
       "  </thead>\n",
       "  <tbody>\n",
       "    <tr>\n",
       "      <th>Passat</th>\n",
       "      <td>Motor Diesel</td>\n",
       "      <td>1991</td>\n",
       "      <td>5712.0</td>\n",
       "      <td>False</td>\n",
       "      <td>['Central multimídia', 'Teto panorâmico', 'Fre...</td>\n",
       "      <td>106161.94</td>\n",
       "    </tr>\n",
       "    <tr>\n",
       "      <th>DS5</th>\n",
       "      <td>Motor 2.4 Turbo</td>\n",
       "      <td>2019</td>\n",
       "      <td>NaN</td>\n",
       "      <td>True</td>\n",
       "      <td>['Travas elétricas', '4 X 4', 'Vidros elétrico...</td>\n",
       "      <td>124549.07</td>\n",
       "    </tr>\n",
       "  </tbody>\n",
       "</table>\n",
       "</div>"
      ],
      "text/plain": [
       "                  Motor  ...      Valor\n",
       "Nome                     ...           \n",
       "Passat     Motor Diesel  ...  106161.94\n",
       "DS5     Motor 2.4 Turbo  ...  124549.07\n",
       "\n",
       "[2 rows x 6 columns]"
      ]
     },
     "execution_count": 23,
     "metadata": {
      "tags": []
     },
     "output_type": "execute_result"
    }
   ],
   "source": [
    "dataset.loc[['Passat', 'DS5']]"
   ]
  },
  {
   "cell_type": "code",
   "execution_count": null,
   "metadata": {
    "colab": {
     "base_uri": "https://localhost:8080/",
     "height": 142
    },
    "executionInfo": {
     "elapsed": 857,
     "status": "ok",
     "timestamp": 1611165757811,
     "user": {
      "displayName": "Diego Cowen Pinto",
      "photoUrl": "https://lh3.googleusercontent.com/a-/AOh14GhkSbJn7uVBQmIkmxpBAHIeyBv3MYDnDVJE13xm8w=s64",
      "userId": "00433632151485364739"
     },
     "user_tz": 180
    },
    "id": "pMN3U1KjD1BS",
    "outputId": "4955034c-1aec-4ad6-91ad-8564aa11a152"
   },
   "outputs": [
    {
     "data": {
      "text/html": [
       "<div>\n",
       "<style scoped>\n",
       "    .dataframe tbody tr th:only-of-type {\n",
       "        vertical-align: middle;\n",
       "    }\n",
       "\n",
       "    .dataframe tbody tr th {\n",
       "        vertical-align: top;\n",
       "    }\n",
       "\n",
       "    .dataframe thead th {\n",
       "        text-align: right;\n",
       "    }\n",
       "</style>\n",
       "<table border=\"1\" class=\"dataframe\">\n",
       "  <thead>\n",
       "    <tr style=\"text-align: right;\">\n",
       "      <th></th>\n",
       "      <th>Motor</th>\n",
       "      <th>Valor</th>\n",
       "    </tr>\n",
       "    <tr>\n",
       "      <th>Nome</th>\n",
       "      <th></th>\n",
       "      <th></th>\n",
       "    </tr>\n",
       "  </thead>\n",
       "  <tbody>\n",
       "    <tr>\n",
       "      <th>Passat</th>\n",
       "      <td>Motor Diesel</td>\n",
       "      <td>106161.94</td>\n",
       "    </tr>\n",
       "    <tr>\n",
       "      <th>DS5</th>\n",
       "      <td>Motor 2.4 Turbo</td>\n",
       "      <td>124549.07</td>\n",
       "    </tr>\n",
       "  </tbody>\n",
       "</table>\n",
       "</div>"
      ],
      "text/plain": [
       "                  Motor      Valor\n",
       "Nome                              \n",
       "Passat     Motor Diesel  106161.94\n",
       "DS5     Motor 2.4 Turbo  124549.07"
      ]
     },
     "execution_count": 33,
     "metadata": {
      "tags": []
     },
     "output_type": "execute_result"
    }
   ],
   "source": [
    "dataset.loc[['Passat', 'DS5'], ['Motor','Valor']]"
   ]
  },
  {
   "cell_type": "code",
   "execution_count": null,
   "metadata": {
    "colab": {
     "base_uri": "https://localhost:8080/",
     "height": 450
    },
    "executionInfo": {
     "elapsed": 806,
     "status": "ok",
     "timestamp": 1611165769724,
     "user": {
      "displayName": "Diego Cowen Pinto",
      "photoUrl": "https://lh3.googleusercontent.com/a-/AOh14GhkSbJn7uVBQmIkmxpBAHIeyBv3MYDnDVJE13xm8w=s64",
      "userId": "00433632151485364739"
     },
     "user_tz": 180
    },
    "id": "oOEO72uZD1BT",
    "outputId": "eefa8e18-cd1b-4e11-8e0b-a0f1cb607838",
    "scrolled": true
   },
   "outputs": [
    {
     "data": {
      "text/html": [
       "<div>\n",
       "<style scoped>\n",
       "    .dataframe tbody tr th:only-of-type {\n",
       "        vertical-align: middle;\n",
       "    }\n",
       "\n",
       "    .dataframe tbody tr th {\n",
       "        vertical-align: top;\n",
       "    }\n",
       "\n",
       "    .dataframe thead th {\n",
       "        text-align: right;\n",
       "    }\n",
       "</style>\n",
       "<table border=\"1\" class=\"dataframe\">\n",
       "  <thead>\n",
       "    <tr style=\"text-align: right;\">\n",
       "      <th></th>\n",
       "      <th>Motor</th>\n",
       "      <th>Valor</th>\n",
       "    </tr>\n",
       "    <tr>\n",
       "      <th>Nome</th>\n",
       "      <th></th>\n",
       "      <th></th>\n",
       "    </tr>\n",
       "  </thead>\n",
       "  <tbody>\n",
       "    <tr>\n",
       "      <th>Jetta Variant</th>\n",
       "      <td>Motor 4.0 Turbo</td>\n",
       "      <td>88078.64</td>\n",
       "    </tr>\n",
       "    <tr>\n",
       "      <th>Passat</th>\n",
       "      <td>Motor Diesel</td>\n",
       "      <td>106161.94</td>\n",
       "    </tr>\n",
       "    <tr>\n",
       "      <th>Crossfox</th>\n",
       "      <td>Motor Diesel V8</td>\n",
       "      <td>72832.16</td>\n",
       "    </tr>\n",
       "    <tr>\n",
       "      <th>DS5</th>\n",
       "      <td>Motor 2.4 Turbo</td>\n",
       "      <td>124549.07</td>\n",
       "    </tr>\n",
       "    <tr>\n",
       "      <th>Aston Martin DB4</th>\n",
       "      <td>Motor 2.4 Turbo</td>\n",
       "      <td>92612.10</td>\n",
       "    </tr>\n",
       "    <tr>\n",
       "      <th>...</th>\n",
       "      <td>...</td>\n",
       "      <td>...</td>\n",
       "    </tr>\n",
       "    <tr>\n",
       "      <th>Phantom 2013</th>\n",
       "      <td>Motor V8</td>\n",
       "      <td>51759.58</td>\n",
       "    </tr>\n",
       "    <tr>\n",
       "      <th>Cadillac Ciel concept</th>\n",
       "      <td>Motor V8</td>\n",
       "      <td>51667.06</td>\n",
       "    </tr>\n",
       "    <tr>\n",
       "      <th>Classe GLK</th>\n",
       "      <td>Motor 5.0 V8 Bi-Turbo</td>\n",
       "      <td>68934.03</td>\n",
       "    </tr>\n",
       "    <tr>\n",
       "      <th>Aston Martin DB5</th>\n",
       "      <td>Motor Diesel</td>\n",
       "      <td>122110.90</td>\n",
       "    </tr>\n",
       "    <tr>\n",
       "      <th>Macan</th>\n",
       "      <td>Motor Diesel V6</td>\n",
       "      <td>90381.47</td>\n",
       "    </tr>\n",
       "  </tbody>\n",
       "</table>\n",
       "<p>258 rows × 2 columns</p>\n",
       "</div>"
      ],
      "text/plain": [
       "                                       Motor      Valor\n",
       "Nome                                                   \n",
       "Jetta Variant                Motor 4.0 Turbo   88078.64\n",
       "Passat                          Motor Diesel  106161.94\n",
       "Crossfox                     Motor Diesel V8   72832.16\n",
       "DS5                          Motor 2.4 Turbo  124549.07\n",
       "Aston Martin DB4             Motor 2.4 Turbo   92612.10\n",
       "...                                      ...        ...\n",
       "Phantom 2013                        Motor V8   51759.58\n",
       "Cadillac Ciel concept               Motor V8   51667.06\n",
       "Classe GLK             Motor 5.0 V8 Bi-Turbo   68934.03\n",
       "Aston Martin DB5                Motor Diesel  122110.90\n",
       "Macan                        Motor Diesel V6   90381.47\n",
       "\n",
       "[258 rows x 2 columns]"
      ]
     },
     "execution_count": 34,
     "metadata": {
      "tags": []
     },
     "output_type": "execute_result"
    }
   ],
   "source": [
    "dataset.loc[:, ['Motor','Valor']]\n"
   ]
  },
  {
   "cell_type": "markdown",
   "metadata": {
    "id": "SYKEe3vCD1BT"
   },
   "source": [
    "### Utilizando .iloc para seleções\n",
    "\n",
    "<font color=red>**Observação:**</font> Seleciona com base nos índices, ou seja, se baseia na posição das informações."
   ]
  },
  {
   "cell_type": "code",
   "execution_count": null,
   "metadata": {
    "colab": {
     "base_uri": "https://localhost:8080/",
     "height": 235
    },
    "executionInfo": {
     "elapsed": 907,
     "status": "ok",
     "timestamp": 1611165998113,
     "user": {
      "displayName": "Diego Cowen Pinto",
      "photoUrl": "https://lh3.googleusercontent.com/a-/AOh14GhkSbJn7uVBQmIkmxpBAHIeyBv3MYDnDVJE13xm8w=s64",
      "userId": "00433632151485364739"
     },
     "user_tz": 180
    },
    "id": "AeTLOQy2-dD9",
    "outputId": "2ed66281-c7c6-4ccf-c920-71aae8e12acf"
   },
   "outputs": [
    {
     "data": {
      "text/html": [
       "<div>\n",
       "<style scoped>\n",
       "    .dataframe tbody tr th:only-of-type {\n",
       "        vertical-align: middle;\n",
       "    }\n",
       "\n",
       "    .dataframe tbody tr th {\n",
       "        vertical-align: top;\n",
       "    }\n",
       "\n",
       "    .dataframe thead th {\n",
       "        text-align: right;\n",
       "    }\n",
       "</style>\n",
       "<table border=\"1\" class=\"dataframe\">\n",
       "  <thead>\n",
       "    <tr style=\"text-align: right;\">\n",
       "      <th></th>\n",
       "      <th>Motor</th>\n",
       "      <th>Ano</th>\n",
       "      <th>Quilometragem</th>\n",
       "      <th>Zero_km</th>\n",
       "      <th>Acessórios</th>\n",
       "      <th>Valor</th>\n",
       "    </tr>\n",
       "    <tr>\n",
       "      <th>Nome</th>\n",
       "      <th></th>\n",
       "      <th></th>\n",
       "      <th></th>\n",
       "      <th></th>\n",
       "      <th></th>\n",
       "      <th></th>\n",
       "    </tr>\n",
       "  </thead>\n",
       "  <tbody>\n",
       "    <tr>\n",
       "      <th>Jetta Variant</th>\n",
       "      <td>Motor 4.0 Turbo</td>\n",
       "      <td>2003</td>\n",
       "      <td>44410.0</td>\n",
       "      <td>False</td>\n",
       "      <td>['Rodas de liga', 'Travas elétricas', 'Piloto ...</td>\n",
       "      <td>88078.64</td>\n",
       "    </tr>\n",
       "    <tr>\n",
       "      <th>Passat</th>\n",
       "      <td>Motor Diesel</td>\n",
       "      <td>1991</td>\n",
       "      <td>5712.0</td>\n",
       "      <td>False</td>\n",
       "      <td>['Central multimídia', 'Teto panorâmico', 'Fre...</td>\n",
       "      <td>106161.94</td>\n",
       "    </tr>\n",
       "    <tr>\n",
       "      <th>Crossfox</th>\n",
       "      <td>Motor Diesel V8</td>\n",
       "      <td>1990</td>\n",
       "      <td>37123.0</td>\n",
       "      <td>False</td>\n",
       "      <td>['Piloto automático', 'Controle de estabilidad...</td>\n",
       "      <td>72832.16</td>\n",
       "    </tr>\n",
       "    <tr>\n",
       "      <th>DS5</th>\n",
       "      <td>Motor 2.4 Turbo</td>\n",
       "      <td>2019</td>\n",
       "      <td>NaN</td>\n",
       "      <td>True</td>\n",
       "      <td>['Travas elétricas', '4 X 4', 'Vidros elétrico...</td>\n",
       "      <td>124549.07</td>\n",
       "    </tr>\n",
       "    <tr>\n",
       "      <th>Aston Martin DB4</th>\n",
       "      <td>Motor 2.4 Turbo</td>\n",
       "      <td>2006</td>\n",
       "      <td>25757.0</td>\n",
       "      <td>False</td>\n",
       "      <td>['Rodas de liga', '4 X 4', 'Central multimídia...</td>\n",
       "      <td>92612.10</td>\n",
       "    </tr>\n",
       "  </tbody>\n",
       "</table>\n",
       "</div>"
      ],
      "text/plain": [
       "                            Motor  ...      Valor\n",
       "Nome                               ...           \n",
       "Jetta Variant     Motor 4.0 Turbo  ...   88078.64\n",
       "Passat               Motor Diesel  ...  106161.94\n",
       "Crossfox          Motor Diesel V8  ...   72832.16\n",
       "DS5               Motor 2.4 Turbo  ...  124549.07\n",
       "Aston Martin DB4  Motor 2.4 Turbo  ...   92612.10\n",
       "\n",
       "[5 rows x 6 columns]"
      ]
     },
     "execution_count": 40,
     "metadata": {
      "tags": []
     },
     "output_type": "execute_result"
    }
   ],
   "source": [
    "dataset.head()"
   ]
  },
  {
   "cell_type": "code",
   "execution_count": null,
   "metadata": {
    "colab": {
     "base_uri": "https://localhost:8080/",
     "height": 111
    },
    "executionInfo": {
     "elapsed": 789,
     "status": "ok",
     "timestamp": 1611165920607,
     "user": {
      "displayName": "Diego Cowen Pinto",
      "photoUrl": "https://lh3.googleusercontent.com/a-/AOh14GhkSbJn7uVBQmIkmxpBAHIeyBv3MYDnDVJE13xm8w=s64",
      "userId": "00433632151485364739"
     },
     "user_tz": 180
    },
    "id": "U4Bru90bD1BT",
    "outputId": "0f4355d1-41c1-44f5-82bd-f870012f81fa"
   },
   "outputs": [
    {
     "data": {
      "text/html": [
       "<div>\n",
       "<style scoped>\n",
       "    .dataframe tbody tr th:only-of-type {\n",
       "        vertical-align: middle;\n",
       "    }\n",
       "\n",
       "    .dataframe tbody tr th {\n",
       "        vertical-align: top;\n",
       "    }\n",
       "\n",
       "    .dataframe thead th {\n",
       "        text-align: right;\n",
       "    }\n",
       "</style>\n",
       "<table border=\"1\" class=\"dataframe\">\n",
       "  <thead>\n",
       "    <tr style=\"text-align: right;\">\n",
       "      <th></th>\n",
       "      <th>Motor</th>\n",
       "      <th>Ano</th>\n",
       "      <th>Quilometragem</th>\n",
       "      <th>Zero_km</th>\n",
       "      <th>Acessórios</th>\n",
       "      <th>Valor</th>\n",
       "    </tr>\n",
       "    <tr>\n",
       "      <th>Nome</th>\n",
       "      <th></th>\n",
       "      <th></th>\n",
       "      <th></th>\n",
       "      <th></th>\n",
       "      <th></th>\n",
       "      <th></th>\n",
       "    </tr>\n",
       "  </thead>\n",
       "  <tbody>\n",
       "    <tr>\n",
       "      <th>Passat</th>\n",
       "      <td>Motor Diesel</td>\n",
       "      <td>1991</td>\n",
       "      <td>5712.0</td>\n",
       "      <td>False</td>\n",
       "      <td>['Central multimídia', 'Teto panorâmico', 'Fre...</td>\n",
       "      <td>106161.94</td>\n",
       "    </tr>\n",
       "  </tbody>\n",
       "</table>\n",
       "</div>"
      ],
      "text/plain": [
       "               Motor  ...      Valor\n",
       "Nome                  ...           \n",
       "Passat  Motor Diesel  ...  106161.94\n",
       "\n",
       "[1 rows x 6 columns]"
      ]
     },
     "execution_count": 39,
     "metadata": {
      "tags": []
     },
     "output_type": "execute_result"
    }
   ],
   "source": [
    "dataset.iloc[[1]]"
   ]
  },
  {
   "cell_type": "code",
   "execution_count": null,
   "metadata": {
    "colab": {
     "base_uri": "https://localhost:8080/",
     "height": 173
    },
    "executionInfo": {
     "elapsed": 781,
     "status": "ok",
     "timestamp": 1611166037156,
     "user": {
      "displayName": "Diego Cowen Pinto",
      "photoUrl": "https://lh3.googleusercontent.com/a-/AOh14GhkSbJn7uVBQmIkmxpBAHIeyBv3MYDnDVJE13xm8w=s64",
      "userId": "00433632151485364739"
     },
     "user_tz": 180
    },
    "id": "iLKUyrzND1BU",
    "outputId": "08805568-07da-4dfc-e4c7-4dd21d26bbef"
   },
   "outputs": [
    {
     "data": {
      "text/html": [
       "<div>\n",
       "<style scoped>\n",
       "    .dataframe tbody tr th:only-of-type {\n",
       "        vertical-align: middle;\n",
       "    }\n",
       "\n",
       "    .dataframe tbody tr th {\n",
       "        vertical-align: top;\n",
       "    }\n",
       "\n",
       "    .dataframe thead th {\n",
       "        text-align: right;\n",
       "    }\n",
       "</style>\n",
       "<table border=\"1\" class=\"dataframe\">\n",
       "  <thead>\n",
       "    <tr style=\"text-align: right;\">\n",
       "      <th></th>\n",
       "      <th>Motor</th>\n",
       "      <th>Ano</th>\n",
       "      <th>Quilometragem</th>\n",
       "      <th>Zero_km</th>\n",
       "      <th>Acessórios</th>\n",
       "      <th>Valor</th>\n",
       "    </tr>\n",
       "    <tr>\n",
       "      <th>Nome</th>\n",
       "      <th></th>\n",
       "      <th></th>\n",
       "      <th></th>\n",
       "      <th></th>\n",
       "      <th></th>\n",
       "      <th></th>\n",
       "    </tr>\n",
       "  </thead>\n",
       "  <tbody>\n",
       "    <tr>\n",
       "      <th>Passat</th>\n",
       "      <td>Motor Diesel</td>\n",
       "      <td>1991</td>\n",
       "      <td>5712.0</td>\n",
       "      <td>False</td>\n",
       "      <td>['Central multimídia', 'Teto panorâmico', 'Fre...</td>\n",
       "      <td>106161.94</td>\n",
       "    </tr>\n",
       "    <tr>\n",
       "      <th>Crossfox</th>\n",
       "      <td>Motor Diesel V8</td>\n",
       "      <td>1990</td>\n",
       "      <td>37123.0</td>\n",
       "      <td>False</td>\n",
       "      <td>['Piloto automático', 'Controle de estabilidad...</td>\n",
       "      <td>72832.16</td>\n",
       "    </tr>\n",
       "    <tr>\n",
       "      <th>DS5</th>\n",
       "      <td>Motor 2.4 Turbo</td>\n",
       "      <td>2019</td>\n",
       "      <td>NaN</td>\n",
       "      <td>True</td>\n",
       "      <td>['Travas elétricas', '4 X 4', 'Vidros elétrico...</td>\n",
       "      <td>124549.07</td>\n",
       "    </tr>\n",
       "  </tbody>\n",
       "</table>\n",
       "</div>"
      ],
      "text/plain": [
       "                    Motor  ...      Valor\n",
       "Nome                       ...           \n",
       "Passat       Motor Diesel  ...  106161.94\n",
       "Crossfox  Motor Diesel V8  ...   72832.16\n",
       "DS5       Motor 2.4 Turbo  ...  124549.07\n",
       "\n",
       "[3 rows x 6 columns]"
      ]
     },
     "execution_count": 41,
     "metadata": {
      "tags": []
     },
     "output_type": "execute_result"
    }
   ],
   "source": [
    "dataset.iloc[1:4]"
   ]
  },
  {
   "cell_type": "code",
   "execution_count": null,
   "metadata": {
    "colab": {
     "base_uri": "https://localhost:8080/",
     "height": 142
    },
    "executionInfo": {
     "elapsed": 628,
     "status": "ok",
     "timestamp": 1611166064076,
     "user": {
      "displayName": "Diego Cowen Pinto",
      "photoUrl": "https://lh3.googleusercontent.com/a-/AOh14GhkSbJn7uVBQmIkmxpBAHIeyBv3MYDnDVJE13xm8w=s64",
      "userId": "00433632151485364739"
     },
     "user_tz": 180
    },
    "id": "KGZpixYUD1BU",
    "outputId": "a1cdf6dd-fc2a-4115-9513-49a40981b01c"
   },
   "outputs": [
    {
     "data": {
      "text/html": [
       "<div>\n",
       "<style scoped>\n",
       "    .dataframe tbody tr th:only-of-type {\n",
       "        vertical-align: middle;\n",
       "    }\n",
       "\n",
       "    .dataframe tbody tr th {\n",
       "        vertical-align: top;\n",
       "    }\n",
       "\n",
       "    .dataframe thead th {\n",
       "        text-align: right;\n",
       "    }\n",
       "</style>\n",
       "<table border=\"1\" class=\"dataframe\">\n",
       "  <thead>\n",
       "    <tr style=\"text-align: right;\">\n",
       "      <th></th>\n",
       "      <th>Motor</th>\n",
       "      <th>Ano</th>\n",
       "      <th>Quilometragem</th>\n",
       "      <th>Zero_km</th>\n",
       "      <th>Acessórios</th>\n",
       "      <th>Valor</th>\n",
       "    </tr>\n",
       "    <tr>\n",
       "      <th>Nome</th>\n",
       "      <th></th>\n",
       "      <th></th>\n",
       "      <th></th>\n",
       "      <th></th>\n",
       "      <th></th>\n",
       "      <th></th>\n",
       "    </tr>\n",
       "  </thead>\n",
       "  <tbody>\n",
       "    <tr>\n",
       "      <th>Passat</th>\n",
       "      <td>Motor Diesel</td>\n",
       "      <td>1991</td>\n",
       "      <td>5712.0</td>\n",
       "      <td>False</td>\n",
       "      <td>['Central multimídia', 'Teto panorâmico', 'Fre...</td>\n",
       "      <td>106161.94</td>\n",
       "    </tr>\n",
       "    <tr>\n",
       "      <th>Aston Martin DB4</th>\n",
       "      <td>Motor 2.4 Turbo</td>\n",
       "      <td>2006</td>\n",
       "      <td>25757.0</td>\n",
       "      <td>False</td>\n",
       "      <td>['Rodas de liga', '4 X 4', 'Central multimídia...</td>\n",
       "      <td>92612.10</td>\n",
       "    </tr>\n",
       "  </tbody>\n",
       "</table>\n",
       "</div>"
      ],
      "text/plain": [
       "                            Motor  ...      Valor\n",
       "Nome                               ...           \n",
       "Passat               Motor Diesel  ...  106161.94\n",
       "Aston Martin DB4  Motor 2.4 Turbo  ...   92612.10\n",
       "\n",
       "[2 rows x 6 columns]"
      ]
     },
     "execution_count": 43,
     "metadata": {
      "tags": []
     },
     "output_type": "execute_result"
    }
   ],
   "source": [
    "dataset.iloc[[1,4]]\n"
   ]
  },
  {
   "cell_type": "code",
   "execution_count": null,
   "metadata": {
    "colab": {
     "base_uri": "https://localhost:8080/",
     "height": 173
    },
    "executionInfo": {
     "elapsed": 820,
     "status": "ok",
     "timestamp": 1611166120919,
     "user": {
      "displayName": "Diego Cowen Pinto",
      "photoUrl": "https://lh3.googleusercontent.com/a-/AOh14GhkSbJn7uVBQmIkmxpBAHIeyBv3MYDnDVJE13xm8w=s64",
      "userId": "00433632151485364739"
     },
     "user_tz": 180
    },
    "id": "GxdqIz4LD1BV",
    "outputId": "999b5c57-ac34-4567-9089-a872cea23f1a"
   },
   "outputs": [
    {
     "data": {
      "text/html": [
       "<div>\n",
       "<style scoped>\n",
       "    .dataframe tbody tr th:only-of-type {\n",
       "        vertical-align: middle;\n",
       "    }\n",
       "\n",
       "    .dataframe tbody tr th {\n",
       "        vertical-align: top;\n",
       "    }\n",
       "\n",
       "    .dataframe thead th {\n",
       "        text-align: right;\n",
       "    }\n",
       "</style>\n",
       "<table border=\"1\" class=\"dataframe\">\n",
       "  <thead>\n",
       "    <tr style=\"text-align: right;\">\n",
       "      <th></th>\n",
       "      <th>Motor</th>\n",
       "      <th>Valor</th>\n",
       "      <th>Quilometragem</th>\n",
       "    </tr>\n",
       "    <tr>\n",
       "      <th>Nome</th>\n",
       "      <th></th>\n",
       "      <th></th>\n",
       "      <th></th>\n",
       "    </tr>\n",
       "  </thead>\n",
       "  <tbody>\n",
       "    <tr>\n",
       "      <th>Passat</th>\n",
       "      <td>Motor Diesel</td>\n",
       "      <td>106161.94</td>\n",
       "      <td>5712.0</td>\n",
       "    </tr>\n",
       "    <tr>\n",
       "      <th>Crossfox</th>\n",
       "      <td>Motor Diesel V8</td>\n",
       "      <td>72832.16</td>\n",
       "      <td>37123.0</td>\n",
       "    </tr>\n",
       "    <tr>\n",
       "      <th>DS5</th>\n",
       "      <td>Motor 2.4 Turbo</td>\n",
       "      <td>124549.07</td>\n",
       "      <td>NaN</td>\n",
       "    </tr>\n",
       "  </tbody>\n",
       "</table>\n",
       "</div>"
      ],
      "text/plain": [
       "                    Motor      Valor  Quilometragem\n",
       "Nome                                               \n",
       "Passat       Motor Diesel  106161.94         5712.0\n",
       "Crossfox  Motor Diesel V8   72832.16        37123.0\n",
       "DS5       Motor 2.4 Turbo  124549.07            NaN"
      ]
     },
     "execution_count": 44,
     "metadata": {
      "tags": []
     },
     "output_type": "execute_result"
    }
   ],
   "source": [
    "dataset.iloc[1:4, [0, 5, 2]]"
   ]
  },
  {
   "cell_type": "code",
   "execution_count": null,
   "metadata": {
    "colab": {
     "base_uri": "https://localhost:8080/",
     "height": 173
    },
    "executionInfo": {
     "elapsed": 806,
     "status": "ok",
     "timestamp": 1611166219923,
     "user": {
      "displayName": "Diego Cowen Pinto",
      "photoUrl": "https://lh3.googleusercontent.com/a-/AOh14GhkSbJn7uVBQmIkmxpBAHIeyBv3MYDnDVJE13xm8w=s64",
      "userId": "00433632151485364739"
     },
     "user_tz": 180
    },
    "id": "AVIhs7uLD1BW",
    "outputId": "bdcd46cb-927a-4268-fe81-9b59a452ba7f",
    "scrolled": true
   },
   "outputs": [
    {
     "data": {
      "text/html": [
       "<div>\n",
       "<style scoped>\n",
       "    .dataframe tbody tr th:only-of-type {\n",
       "        vertical-align: middle;\n",
       "    }\n",
       "\n",
       "    .dataframe tbody tr th {\n",
       "        vertical-align: top;\n",
       "    }\n",
       "\n",
       "    .dataframe thead th {\n",
       "        text-align: right;\n",
       "    }\n",
       "</style>\n",
       "<table border=\"1\" class=\"dataframe\">\n",
       "  <thead>\n",
       "    <tr style=\"text-align: right;\">\n",
       "      <th></th>\n",
       "      <th>Motor</th>\n",
       "      <th>Valor</th>\n",
       "      <th>Quilometragem</th>\n",
       "    </tr>\n",
       "    <tr>\n",
       "      <th>Nome</th>\n",
       "      <th></th>\n",
       "      <th></th>\n",
       "      <th></th>\n",
       "    </tr>\n",
       "  </thead>\n",
       "  <tbody>\n",
       "    <tr>\n",
       "      <th>Passat</th>\n",
       "      <td>Motor Diesel</td>\n",
       "      <td>106161.94</td>\n",
       "      <td>5712.0</td>\n",
       "    </tr>\n",
       "    <tr>\n",
       "      <th>Optima</th>\n",
       "      <td>Motor 1.8 16v</td>\n",
       "      <td>86641.34</td>\n",
       "      <td>NaN</td>\n",
       "    </tr>\n",
       "    <tr>\n",
       "      <th>Lamborghini Obvious</th>\n",
       "      <td>Motor Diesel V6</td>\n",
       "      <td>133529.84</td>\n",
       "      <td>98079.0</td>\n",
       "    </tr>\n",
       "  </tbody>\n",
       "</table>\n",
       "</div>"
      ],
      "text/plain": [
       "                               Motor      Valor  Quilometragem\n",
       "Nome                                                          \n",
       "Passat                  Motor Diesel  106161.94         5712.0\n",
       "Optima                 Motor 1.8 16v   86641.34            NaN\n",
       "Lamborghini Obvious  Motor Diesel V6  133529.84        98079.0"
      ]
     },
     "execution_count": 48,
     "metadata": {
      "tags": []
     },
     "output_type": "execute_result"
    }
   ],
   "source": [
    "dataset.iloc[[1, 42, 22], [0, 5, 2]]\n"
   ]
  },
  {
   "cell_type": "code",
   "execution_count": null,
   "metadata": {
    "colab": {
     "base_uri": "https://localhost:8080/",
     "height": 450
    },
    "executionInfo": {
     "elapsed": 690,
     "status": "ok",
     "timestamp": 1611166247556,
     "user": {
      "displayName": "Diego Cowen Pinto",
      "photoUrl": "https://lh3.googleusercontent.com/a-/AOh14GhkSbJn7uVBQmIkmxpBAHIeyBv3MYDnDVJE13xm8w=s64",
      "userId": "00433632151485364739"
     },
     "user_tz": 180
    },
    "id": "uHVasa2J_c8Y",
    "outputId": "1d1060e5-7fcc-46b5-b767-82429650dc27"
   },
   "outputs": [
    {
     "data": {
      "text/html": [
       "<div>\n",
       "<style scoped>\n",
       "    .dataframe tbody tr th:only-of-type {\n",
       "        vertical-align: middle;\n",
       "    }\n",
       "\n",
       "    .dataframe tbody tr th {\n",
       "        vertical-align: top;\n",
       "    }\n",
       "\n",
       "    .dataframe thead th {\n",
       "        text-align: right;\n",
       "    }\n",
       "</style>\n",
       "<table border=\"1\" class=\"dataframe\">\n",
       "  <thead>\n",
       "    <tr style=\"text-align: right;\">\n",
       "      <th></th>\n",
       "      <th>Motor</th>\n",
       "      <th>Valor</th>\n",
       "      <th>Quilometragem</th>\n",
       "    </tr>\n",
       "    <tr>\n",
       "      <th>Nome</th>\n",
       "      <th></th>\n",
       "      <th></th>\n",
       "      <th></th>\n",
       "    </tr>\n",
       "  </thead>\n",
       "  <tbody>\n",
       "    <tr>\n",
       "      <th>Jetta Variant</th>\n",
       "      <td>Motor 4.0 Turbo</td>\n",
       "      <td>88078.64</td>\n",
       "      <td>44410.0</td>\n",
       "    </tr>\n",
       "    <tr>\n",
       "      <th>Passat</th>\n",
       "      <td>Motor Diesel</td>\n",
       "      <td>106161.94</td>\n",
       "      <td>5712.0</td>\n",
       "    </tr>\n",
       "    <tr>\n",
       "      <th>Crossfox</th>\n",
       "      <td>Motor Diesel V8</td>\n",
       "      <td>72832.16</td>\n",
       "      <td>37123.0</td>\n",
       "    </tr>\n",
       "    <tr>\n",
       "      <th>DS5</th>\n",
       "      <td>Motor 2.4 Turbo</td>\n",
       "      <td>124549.07</td>\n",
       "      <td>NaN</td>\n",
       "    </tr>\n",
       "    <tr>\n",
       "      <th>Aston Martin DB4</th>\n",
       "      <td>Motor 2.4 Turbo</td>\n",
       "      <td>92612.10</td>\n",
       "      <td>25757.0</td>\n",
       "    </tr>\n",
       "    <tr>\n",
       "      <th>...</th>\n",
       "      <td>...</td>\n",
       "      <td>...</td>\n",
       "      <td>...</td>\n",
       "    </tr>\n",
       "    <tr>\n",
       "      <th>Phantom 2013</th>\n",
       "      <td>Motor V8</td>\n",
       "      <td>51759.58</td>\n",
       "      <td>27505.0</td>\n",
       "    </tr>\n",
       "    <tr>\n",
       "      <th>Cadillac Ciel concept</th>\n",
       "      <td>Motor V8</td>\n",
       "      <td>51667.06</td>\n",
       "      <td>29981.0</td>\n",
       "    </tr>\n",
       "    <tr>\n",
       "      <th>Classe GLK</th>\n",
       "      <td>Motor 5.0 V8 Bi-Turbo</td>\n",
       "      <td>68934.03</td>\n",
       "      <td>52637.0</td>\n",
       "    </tr>\n",
       "    <tr>\n",
       "      <th>Aston Martin DB5</th>\n",
       "      <td>Motor Diesel</td>\n",
       "      <td>122110.90</td>\n",
       "      <td>7685.0</td>\n",
       "    </tr>\n",
       "    <tr>\n",
       "      <th>Macan</th>\n",
       "      <td>Motor Diesel V6</td>\n",
       "      <td>90381.47</td>\n",
       "      <td>50188.0</td>\n",
       "    </tr>\n",
       "  </tbody>\n",
       "</table>\n",
       "<p>258 rows × 3 columns</p>\n",
       "</div>"
      ],
      "text/plain": [
       "                                       Motor      Valor  Quilometragem\n",
       "Nome                                                                  \n",
       "Jetta Variant                Motor 4.0 Turbo   88078.64        44410.0\n",
       "Passat                          Motor Diesel  106161.94         5712.0\n",
       "Crossfox                     Motor Diesel V8   72832.16        37123.0\n",
       "DS5                          Motor 2.4 Turbo  124549.07            NaN\n",
       "Aston Martin DB4             Motor 2.4 Turbo   92612.10        25757.0\n",
       "...                                      ...        ...            ...\n",
       "Phantom 2013                        Motor V8   51759.58        27505.0\n",
       "Cadillac Ciel concept               Motor V8   51667.06        29981.0\n",
       "Classe GLK             Motor 5.0 V8 Bi-Turbo   68934.03        52637.0\n",
       "Aston Martin DB5                Motor Diesel  122110.90         7685.0\n",
       "Macan                        Motor Diesel V6   90381.47        50188.0\n",
       "\n",
       "[258 rows x 3 columns]"
      ]
     },
     "execution_count": 49,
     "metadata": {
      "tags": []
     },
     "output_type": "execute_result"
    }
   ],
   "source": [
    "dataset.iloc[:, [0, 5, 2]]\n"
   ]
  },
  {
   "cell_type": "markdown",
   "metadata": {
    "id": "eAbwq1oLD1BW"
   },
   "source": [
    "# 5.3 Queries com DataFrames"
   ]
  },
  {
   "cell_type": "code",
   "execution_count": null,
   "metadata": {
    "colab": {
     "base_uri": "https://localhost:8080/",
     "height": 235
    },
    "executionInfo": {
     "elapsed": 1311,
     "status": "ok",
     "timestamp": 1611249730109,
     "user": {
      "displayName": "Diego Cowen Pinto",
      "photoUrl": "https://lh3.googleusercontent.com/a-/AOh14GhkSbJn7uVBQmIkmxpBAHIeyBv3MYDnDVJE13xm8w=s64",
      "userId": "00433632151485364739"
     },
     "user_tz": 180
    },
    "id": "AOZTWzehD1BW",
    "outputId": "d0a9eaf9-fbf9-4246-bf13-d581fd0d52a8",
    "scrolled": true
   },
   "outputs": [
    {
     "data": {
      "text/html": [
       "<div>\n",
       "<style scoped>\n",
       "    .dataframe tbody tr th:only-of-type {\n",
       "        vertical-align: middle;\n",
       "    }\n",
       "\n",
       "    .dataframe tbody tr th {\n",
       "        vertical-align: top;\n",
       "    }\n",
       "\n",
       "    .dataframe thead th {\n",
       "        text-align: right;\n",
       "    }\n",
       "</style>\n",
       "<table border=\"1\" class=\"dataframe\">\n",
       "  <thead>\n",
       "    <tr style=\"text-align: right;\">\n",
       "      <th></th>\n",
       "      <th>Motor</th>\n",
       "      <th>Ano</th>\n",
       "      <th>Quilometragem</th>\n",
       "      <th>Zero_km</th>\n",
       "      <th>Acessórios</th>\n",
       "      <th>Valor</th>\n",
       "    </tr>\n",
       "    <tr>\n",
       "      <th>Nome</th>\n",
       "      <th></th>\n",
       "      <th></th>\n",
       "      <th></th>\n",
       "      <th></th>\n",
       "      <th></th>\n",
       "      <th></th>\n",
       "    </tr>\n",
       "  </thead>\n",
       "  <tbody>\n",
       "    <tr>\n",
       "      <th>Jetta Variant</th>\n",
       "      <td>Motor 4.0 Turbo</td>\n",
       "      <td>2003</td>\n",
       "      <td>44410.0</td>\n",
       "      <td>False</td>\n",
       "      <td>['Rodas de liga', 'Travas elétricas', 'Piloto ...</td>\n",
       "      <td>88078.64</td>\n",
       "    </tr>\n",
       "    <tr>\n",
       "      <th>Passat</th>\n",
       "      <td>Motor Diesel</td>\n",
       "      <td>1991</td>\n",
       "      <td>5712.0</td>\n",
       "      <td>False</td>\n",
       "      <td>['Central multimídia', 'Teto panorâmico', 'Fre...</td>\n",
       "      <td>106161.94</td>\n",
       "    </tr>\n",
       "    <tr>\n",
       "      <th>Crossfox</th>\n",
       "      <td>Motor Diesel V8</td>\n",
       "      <td>1990</td>\n",
       "      <td>37123.0</td>\n",
       "      <td>False</td>\n",
       "      <td>['Piloto automático', 'Controle de estabilidad...</td>\n",
       "      <td>72832.16</td>\n",
       "    </tr>\n",
       "    <tr>\n",
       "      <th>DS5</th>\n",
       "      <td>Motor 2.4 Turbo</td>\n",
       "      <td>2019</td>\n",
       "      <td>NaN</td>\n",
       "      <td>True</td>\n",
       "      <td>['Travas elétricas', '4 X 4', 'Vidros elétrico...</td>\n",
       "      <td>124549.07</td>\n",
       "    </tr>\n",
       "    <tr>\n",
       "      <th>Aston Martin DB4</th>\n",
       "      <td>Motor 2.4 Turbo</td>\n",
       "      <td>2006</td>\n",
       "      <td>25757.0</td>\n",
       "      <td>False</td>\n",
       "      <td>['Rodas de liga', '4 X 4', 'Central multimídia...</td>\n",
       "      <td>92612.10</td>\n",
       "    </tr>\n",
       "  </tbody>\n",
       "</table>\n",
       "</div>"
      ],
      "text/plain": [
       "                            Motor  ...      Valor\n",
       "Nome                               ...           \n",
       "Jetta Variant     Motor 4.0 Turbo  ...   88078.64\n",
       "Passat               Motor Diesel  ...  106161.94\n",
       "Crossfox          Motor Diesel V8  ...   72832.16\n",
       "DS5               Motor 2.4 Turbo  ...  124549.07\n",
       "Aston Martin DB4  Motor 2.4 Turbo  ...   92612.10\n",
       "\n",
       "[5 rows x 6 columns]"
      ]
     },
     "execution_count": 3,
     "metadata": {
      "tags": []
     },
     "output_type": "execute_result"
    }
   ],
   "source": [
    "dataset.head()"
   ]
  },
  {
   "cell_type": "code",
   "execution_count": null,
   "metadata": {
    "colab": {
     "base_uri": "https://localhost:8080/"
    },
    "executionInfo": {
     "elapsed": 648,
     "status": "ok",
     "timestamp": 1611249955908,
     "user": {
      "displayName": "Diego Cowen Pinto",
      "photoUrl": "https://lh3.googleusercontent.com/a-/AOh14GhkSbJn7uVBQmIkmxpBAHIeyBv3MYDnDVJE13xm8w=s64",
      "userId": "00433632151485364739"
     },
     "user_tz": 180
    },
    "id": "rO5T4h94D1BX",
    "outputId": "c22d1d4d-b23b-42cf-9a61-35d34a3d88f1",
    "scrolled": true
   },
   "outputs": [
    {
     "data": {
      "text/plain": [
       "Nome\n",
       "Jetta Variant                  Motor 4.0 Turbo\n",
       "Passat                            Motor Diesel\n",
       "Crossfox                       Motor Diesel V8\n",
       "DS5                            Motor 2.4 Turbo\n",
       "Aston Martin DB4               Motor 2.4 Turbo\n",
       "                                 ...          \n",
       "Phantom 2013                          Motor V8\n",
       "Cadillac Ciel concept                 Motor V8\n",
       "Classe GLK               Motor 5.0 V8 Bi-Turbo\n",
       "Aston Martin DB5                  Motor Diesel\n",
       "Macan                          Motor Diesel V6\n",
       "Name: Motor, Length: 258, dtype: object"
      ]
     },
     "execution_count": 4,
     "metadata": {
      "tags": []
     },
     "output_type": "execute_result"
    }
   ],
   "source": [
    "dataset.Motor"
   ]
  },
  {
   "cell_type": "code",
   "execution_count": null,
   "metadata": {
    "id": "STZ-l8oaD1BX"
   },
   "outputs": [],
   "source": [
    "select = dataset.Motor == 'Motor Diesel'"
   ]
  },
  {
   "cell_type": "code",
   "execution_count": null,
   "metadata": {
    "colab": {
     "base_uri": "https://localhost:8080/"
    },
    "executionInfo": {
     "elapsed": 726,
     "status": "ok",
     "timestamp": 1611250599661,
     "user": {
      "displayName": "Diego Cowen Pinto",
      "photoUrl": "https://lh3.googleusercontent.com/a-/AOh14GhkSbJn7uVBQmIkmxpBAHIeyBv3MYDnDVJE13xm8w=s64",
      "userId": "00433632151485364739"
     },
     "user_tz": 180
    },
    "id": "OZC8NAn6D1BX",
    "outputId": "61123f9b-397c-4359-b479-150194c99d5c"
   },
   "outputs": [
    {
     "data": {
      "text/plain": [
       "pandas.core.series.Series"
      ]
     },
     "execution_count": 13,
     "metadata": {
      "tags": []
     },
     "output_type": "execute_result"
    }
   ],
   "source": [
    "type(select)"
   ]
  },
  {
   "cell_type": "code",
   "execution_count": null,
   "metadata": {
    "colab": {
     "base_uri": "https://localhost:8080/",
     "height": 886
    },
    "executionInfo": {
     "elapsed": 678,
     "status": "ok",
     "timestamp": 1611250634053,
     "user": {
      "displayName": "Diego Cowen Pinto",
      "photoUrl": "https://lh3.googleusercontent.com/a-/AOh14GhkSbJn7uVBQmIkmxpBAHIeyBv3MYDnDVJE13xm8w=s64",
      "userId": "00433632151485364739"
     },
     "user_tz": 180
    },
    "id": "OzXC2M40D1BY",
    "outputId": "a1462e60-9ead-4940-f1c9-37a8d6d4f6a4",
    "scrolled": true
   },
   "outputs": [
    {
     "data": {
      "text/html": [
       "<div>\n",
       "<style scoped>\n",
       "    .dataframe tbody tr th:only-of-type {\n",
       "        vertical-align: middle;\n",
       "    }\n",
       "\n",
       "    .dataframe tbody tr th {\n",
       "        vertical-align: top;\n",
       "    }\n",
       "\n",
       "    .dataframe thead th {\n",
       "        text-align: right;\n",
       "    }\n",
       "</style>\n",
       "<table border=\"1\" class=\"dataframe\">\n",
       "  <thead>\n",
       "    <tr style=\"text-align: right;\">\n",
       "      <th></th>\n",
       "      <th>Motor</th>\n",
       "      <th>Ano</th>\n",
       "      <th>Quilometragem</th>\n",
       "      <th>Zero_km</th>\n",
       "      <th>Acessórios</th>\n",
       "      <th>Valor</th>\n",
       "    </tr>\n",
       "    <tr>\n",
       "      <th>Nome</th>\n",
       "      <th></th>\n",
       "      <th></th>\n",
       "      <th></th>\n",
       "      <th></th>\n",
       "      <th></th>\n",
       "      <th></th>\n",
       "    </tr>\n",
       "  </thead>\n",
       "  <tbody>\n",
       "    <tr>\n",
       "      <th>Passat</th>\n",
       "      <td>Motor Diesel</td>\n",
       "      <td>1991</td>\n",
       "      <td>5712.0</td>\n",
       "      <td>False</td>\n",
       "      <td>['Central multimídia', 'Teto panorâmico', 'Fre...</td>\n",
       "      <td>106161.94</td>\n",
       "    </tr>\n",
       "    <tr>\n",
       "      <th>Effa Hafei Picape Baú</th>\n",
       "      <td>Motor Diesel</td>\n",
       "      <td>1991</td>\n",
       "      <td>102959.0</td>\n",
       "      <td>False</td>\n",
       "      <td>['Controle de estabilidade', 'Painel digital',...</td>\n",
       "      <td>125684.65</td>\n",
       "    </tr>\n",
       "    <tr>\n",
       "      <th>Sorento</th>\n",
       "      <td>Motor Diesel</td>\n",
       "      <td>2019</td>\n",
       "      <td>NaN</td>\n",
       "      <td>True</td>\n",
       "      <td>['Sensor de chuva', 'Câmera de estacionamento'...</td>\n",
       "      <td>81399.35</td>\n",
       "    </tr>\n",
       "    <tr>\n",
       "      <th>New Fiesta Hatch</th>\n",
       "      <td>Motor Diesel</td>\n",
       "      <td>2017</td>\n",
       "      <td>118895.0</td>\n",
       "      <td>False</td>\n",
       "      <td>['Sensor de estacionamento', 'Travas elétricas...</td>\n",
       "      <td>66007.16</td>\n",
       "    </tr>\n",
       "    <tr>\n",
       "      <th>Kangoo Express</th>\n",
       "      <td>Motor Diesel</td>\n",
       "      <td>2007</td>\n",
       "      <td>29132.0</td>\n",
       "      <td>False</td>\n",
       "      <td>['Bancos de couro', 'Câmbio automático', 'Pilo...</td>\n",
       "      <td>146716.91</td>\n",
       "    </tr>\n",
       "    <tr>\n",
       "      <th>Fit</th>\n",
       "      <td>Motor Diesel</td>\n",
       "      <td>2013</td>\n",
       "      <td>44329.0</td>\n",
       "      <td>False</td>\n",
       "      <td>['Freios ABS', 'Câmera de estacionamento', 'Câ...</td>\n",
       "      <td>77836.23</td>\n",
       "    </tr>\n",
       "    <tr>\n",
       "      <th>Cielo Hatch</th>\n",
       "      <td>Motor Diesel</td>\n",
       "      <td>2019</td>\n",
       "      <td>NaN</td>\n",
       "      <td>True</td>\n",
       "      <td>['Painel digital', 'Central multimídia', 'Câme...</td>\n",
       "      <td>145197.70</td>\n",
       "    </tr>\n",
       "    <tr>\n",
       "      <th>Symbol</th>\n",
       "      <td>Motor Diesel</td>\n",
       "      <td>2016</td>\n",
       "      <td>117714.0</td>\n",
       "      <td>False</td>\n",
       "      <td>['4 X 4', 'Piloto automático', 'Sensor crepusc...</td>\n",
       "      <td>133030.60</td>\n",
       "    </tr>\n",
       "    <tr>\n",
       "      <th>A4 Sedan</th>\n",
       "      <td>Motor Diesel</td>\n",
       "      <td>2002</td>\n",
       "      <td>30511.0</td>\n",
       "      <td>False</td>\n",
       "      <td>['Câmera de estacionamento', '4 X 4', 'Travas ...</td>\n",
       "      <td>96369.04</td>\n",
       "    </tr>\n",
       "    <tr>\n",
       "      <th>A4 Avant</th>\n",
       "      <td>Motor Diesel</td>\n",
       "      <td>2014</td>\n",
       "      <td>17357.0</td>\n",
       "      <td>False</td>\n",
       "      <td>['Teto panorâmico', '4 X 4', 'Bancos de couro'...</td>\n",
       "      <td>138946.88</td>\n",
       "    </tr>\n",
       "    <tr>\n",
       "      <th>Silver Shadow</th>\n",
       "      <td>Motor Diesel</td>\n",
       "      <td>2015</td>\n",
       "      <td>99052.0</td>\n",
       "      <td>False</td>\n",
       "      <td>['4 X 4', 'Central multimídia', 'Ar condiciona...</td>\n",
       "      <td>143568.22</td>\n",
       "    </tr>\n",
       "    <tr>\n",
       "      <th>Camry</th>\n",
       "      <td>Motor Diesel</td>\n",
       "      <td>2019</td>\n",
       "      <td>NaN</td>\n",
       "      <td>True</td>\n",
       "      <td>['Travas elétricas', 'Rodas de liga', 'Sensor ...</td>\n",
       "      <td>138597.27</td>\n",
       "    </tr>\n",
       "    <tr>\n",
       "      <th>Clio</th>\n",
       "      <td>Motor Diesel</td>\n",
       "      <td>1990</td>\n",
       "      <td>66437.0</td>\n",
       "      <td>False</td>\n",
       "      <td>['4 X 4', 'Câmbio automático', 'Freios ABS', '...</td>\n",
       "      <td>111130.33</td>\n",
       "    </tr>\n",
       "    <tr>\n",
       "      <th>Série 3 M3 Coupé</th>\n",
       "      <td>Motor Diesel</td>\n",
       "      <td>2013</td>\n",
       "      <td>19896.0</td>\n",
       "      <td>False</td>\n",
       "      <td>['Bancos de couro', 'Sensor de chuva', 'Ar con...</td>\n",
       "      <td>69219.89</td>\n",
       "    </tr>\n",
       "    <tr>\n",
       "      <th>Gallardo LP 560 – 4</th>\n",
       "      <td>Motor Diesel</td>\n",
       "      <td>2000</td>\n",
       "      <td>113045.0</td>\n",
       "      <td>False</td>\n",
       "      <td>['Freios ABS', 'Teto panorâmico', 'Central mul...</td>\n",
       "      <td>144118.91</td>\n",
       "    </tr>\n",
       "    <tr>\n",
       "      <th>Chana Utility</th>\n",
       "      <td>Motor Diesel</td>\n",
       "      <td>2009</td>\n",
       "      <td>52034.0</td>\n",
       "      <td>False</td>\n",
       "      <td>['Ar condicionado', 'Sensor de estacionamento'...</td>\n",
       "      <td>132662.32</td>\n",
       "    </tr>\n",
       "    <tr>\n",
       "      <th>TT Roadster</th>\n",
       "      <td>Motor Diesel</td>\n",
       "      <td>1998</td>\n",
       "      <td>107392.0</td>\n",
       "      <td>False</td>\n",
       "      <td>['Ar condicionado', 'Sensor de estacionamento'...</td>\n",
       "      <td>85311.40</td>\n",
       "    </tr>\n",
       "    <tr>\n",
       "      <th>Aston Martin Virage</th>\n",
       "      <td>Motor Diesel</td>\n",
       "      <td>2019</td>\n",
       "      <td>NaN</td>\n",
       "      <td>True</td>\n",
       "      <td>['Travas elétricas', 'Controle de tração', 'Câ...</td>\n",
       "      <td>97290.18</td>\n",
       "    </tr>\n",
       "    <tr>\n",
       "      <th>Sandero</th>\n",
       "      <td>Motor Diesel</td>\n",
       "      <td>2015</td>\n",
       "      <td>34783.0</td>\n",
       "      <td>False</td>\n",
       "      <td>['Piloto automático', 'Teto panorâmico', 'Câmb...</td>\n",
       "      <td>112350.61</td>\n",
       "    </tr>\n",
       "    <tr>\n",
       "      <th>XKR</th>\n",
       "      <td>Motor Diesel</td>\n",
       "      <td>1996</td>\n",
       "      <td>85127.0</td>\n",
       "      <td>False</td>\n",
       "      <td>['Controle de tração', 'Ar condicionado', 'Tra...</td>\n",
       "      <td>54263.16</td>\n",
       "    </tr>\n",
       "    <tr>\n",
       "      <th>X5</th>\n",
       "      <td>Motor Diesel</td>\n",
       "      <td>2002</td>\n",
       "      <td>13606.0</td>\n",
       "      <td>False</td>\n",
       "      <td>['Controle de tração', 'Piloto automático', 'T...</td>\n",
       "      <td>62041.32</td>\n",
       "    </tr>\n",
       "    <tr>\n",
       "      <th>Dodge Dakota</th>\n",
       "      <td>Motor Diesel</td>\n",
       "      <td>1993</td>\n",
       "      <td>71544.0</td>\n",
       "      <td>False</td>\n",
       "      <td>['Controle de tração', 'Sensor de estacionamen...</td>\n",
       "      <td>141083.35</td>\n",
       "    </tr>\n",
       "    <tr>\n",
       "      <th>i30 CW</th>\n",
       "      <td>Motor Diesel</td>\n",
       "      <td>2015</td>\n",
       "      <td>8497.0</td>\n",
       "      <td>False</td>\n",
       "      <td>['Sensor de chuva', 'Vidros elétricos', 'Contr...</td>\n",
       "      <td>73311.75</td>\n",
       "    </tr>\n",
       "    <tr>\n",
       "      <th>Série 7 Sedã</th>\n",
       "      <td>Motor Diesel</td>\n",
       "      <td>2019</td>\n",
       "      <td>NaN</td>\n",
       "      <td>True</td>\n",
       "      <td>['Vidros elétricos', 'Travas elétricas', 'Roda...</td>\n",
       "      <td>67539.79</td>\n",
       "    </tr>\n",
       "    <tr>\n",
       "      <th>V60</th>\n",
       "      <td>Motor Diesel</td>\n",
       "      <td>2004</td>\n",
       "      <td>91840.0</td>\n",
       "      <td>False</td>\n",
       "      <td>['Rodas de liga', 'Sensor crepuscular', 'Ar co...</td>\n",
       "      <td>114728.74</td>\n",
       "    </tr>\n",
       "    <tr>\n",
       "      <th>Aston Martin DB5</th>\n",
       "      <td>Motor Diesel</td>\n",
       "      <td>1996</td>\n",
       "      <td>7685.0</td>\n",
       "      <td>False</td>\n",
       "      <td>['Ar condicionado', '4 X 4', 'Câmbio automátic...</td>\n",
       "      <td>122110.90</td>\n",
       "    </tr>\n",
       "  </tbody>\n",
       "</table>\n",
       "</div>"
      ],
      "text/plain": [
       "                              Motor  ...      Valor\n",
       "Nome                                 ...           \n",
       "Passat                 Motor Diesel  ...  106161.94\n",
       "Effa Hafei Picape Baú  Motor Diesel  ...  125684.65\n",
       "Sorento                Motor Diesel  ...   81399.35\n",
       "New Fiesta Hatch       Motor Diesel  ...   66007.16\n",
       "Kangoo Express         Motor Diesel  ...  146716.91\n",
       "Fit                    Motor Diesel  ...   77836.23\n",
       "Cielo Hatch            Motor Diesel  ...  145197.70\n",
       "Symbol                 Motor Diesel  ...  133030.60\n",
       "A4 Sedan               Motor Diesel  ...   96369.04\n",
       "A4 Avant               Motor Diesel  ...  138946.88\n",
       "Silver Shadow          Motor Diesel  ...  143568.22\n",
       "Camry                  Motor Diesel  ...  138597.27\n",
       "Clio                   Motor Diesel  ...  111130.33\n",
       "Série 3 M3 Coupé       Motor Diesel  ...   69219.89\n",
       "Gallardo LP 560 – 4    Motor Diesel  ...  144118.91\n",
       "Chana Utility          Motor Diesel  ...  132662.32\n",
       "TT Roadster            Motor Diesel  ...   85311.40\n",
       "Aston Martin Virage    Motor Diesel  ...   97290.18\n",
       "Sandero                Motor Diesel  ...  112350.61\n",
       "XKR                    Motor Diesel  ...   54263.16\n",
       "X5                     Motor Diesel  ...   62041.32\n",
       "Dodge Dakota           Motor Diesel  ...  141083.35\n",
       "i30 CW                 Motor Diesel  ...   73311.75\n",
       "Série 7 Sedã           Motor Diesel  ...   67539.79\n",
       "V60                    Motor Diesel  ...  114728.74\n",
       "Aston Martin DB5       Motor Diesel  ...  122110.90\n",
       "\n",
       "[26 rows x 6 columns]"
      ]
     },
     "execution_count": 14,
     "metadata": {
      "tags": []
     },
     "output_type": "execute_result"
    }
   ],
   "source": [
    "dataset[select]"
   ]
  },
  {
   "cell_type": "code",
   "execution_count": null,
   "metadata": {
    "colab": {
     "base_uri": "https://localhost:8080/",
     "height": 235
    },
    "executionInfo": {
     "elapsed": 1027,
     "status": "ok",
     "timestamp": 1611250873754,
     "user": {
      "displayName": "Diego Cowen Pinto",
      "photoUrl": "https://lh3.googleusercontent.com/a-/AOh14GhkSbJn7uVBQmIkmxpBAHIeyBv3MYDnDVJE13xm8w=s64",
      "userId": "00433632151485364739"
     },
     "user_tz": 180
    },
    "id": "X_chJP1KB_wi",
    "outputId": "b180ddae-0ca6-4377-8b99-c6fc366a8708"
   },
   "outputs": [
    {
     "data": {
      "text/html": [
       "<div>\n",
       "<style scoped>\n",
       "    .dataframe tbody tr th:only-of-type {\n",
       "        vertical-align: middle;\n",
       "    }\n",
       "\n",
       "    .dataframe tbody tr th {\n",
       "        vertical-align: top;\n",
       "    }\n",
       "\n",
       "    .dataframe thead th {\n",
       "        text-align: right;\n",
       "    }\n",
       "</style>\n",
       "<table border=\"1\" class=\"dataframe\">\n",
       "  <thead>\n",
       "    <tr style=\"text-align: right;\">\n",
       "      <th></th>\n",
       "      <th>Motor</th>\n",
       "      <th>Ano</th>\n",
       "      <th>Quilometragem</th>\n",
       "      <th>Zero_km</th>\n",
       "      <th>Acessórios</th>\n",
       "      <th>Valor</th>\n",
       "    </tr>\n",
       "    <tr>\n",
       "      <th>Nome</th>\n",
       "      <th></th>\n",
       "      <th></th>\n",
       "      <th></th>\n",
       "      <th></th>\n",
       "      <th></th>\n",
       "      <th></th>\n",
       "    </tr>\n",
       "  </thead>\n",
       "  <tbody>\n",
       "    <tr>\n",
       "      <th>Sorento</th>\n",
       "      <td>Motor Diesel</td>\n",
       "      <td>2019</td>\n",
       "      <td>NaN</td>\n",
       "      <td>True</td>\n",
       "      <td>['Sensor de chuva', 'Câmera de estacionamento'...</td>\n",
       "      <td>81399.35</td>\n",
       "    </tr>\n",
       "    <tr>\n",
       "      <th>Cielo Hatch</th>\n",
       "      <td>Motor Diesel</td>\n",
       "      <td>2019</td>\n",
       "      <td>NaN</td>\n",
       "      <td>True</td>\n",
       "      <td>['Painel digital', 'Central multimídia', 'Câme...</td>\n",
       "      <td>145197.70</td>\n",
       "    </tr>\n",
       "    <tr>\n",
       "      <th>Camry</th>\n",
       "      <td>Motor Diesel</td>\n",
       "      <td>2019</td>\n",
       "      <td>NaN</td>\n",
       "      <td>True</td>\n",
       "      <td>['Travas elétricas', 'Rodas de liga', 'Sensor ...</td>\n",
       "      <td>138597.27</td>\n",
       "    </tr>\n",
       "    <tr>\n",
       "      <th>Aston Martin Virage</th>\n",
       "      <td>Motor Diesel</td>\n",
       "      <td>2019</td>\n",
       "      <td>NaN</td>\n",
       "      <td>True</td>\n",
       "      <td>['Travas elétricas', 'Controle de tração', 'Câ...</td>\n",
       "      <td>97290.18</td>\n",
       "    </tr>\n",
       "    <tr>\n",
       "      <th>Série 7 Sedã</th>\n",
       "      <td>Motor Diesel</td>\n",
       "      <td>2019</td>\n",
       "      <td>NaN</td>\n",
       "      <td>True</td>\n",
       "      <td>['Vidros elétricos', 'Travas elétricas', 'Roda...</td>\n",
       "      <td>67539.79</td>\n",
       "    </tr>\n",
       "  </tbody>\n",
       "</table>\n",
       "</div>"
      ],
      "text/plain": [
       "                            Motor  ...      Valor\n",
       "Nome                               ...           \n",
       "Sorento              Motor Diesel  ...   81399.35\n",
       "Cielo Hatch          Motor Diesel  ...  145197.70\n",
       "Camry                Motor Diesel  ...  138597.27\n",
       "Aston Martin Virage  Motor Diesel  ...   97290.18\n",
       "Série 7 Sedã         Motor Diesel  ...   67539.79\n",
       "\n",
       "[5 rows x 6 columns]"
      ]
     },
     "execution_count": 15,
     "metadata": {
      "tags": []
     },
     "output_type": "execute_result"
    }
   ],
   "source": [
    "dataset[(dataset.Motor == 'Motor Diesel') & (dataset.Zero_km == True)]"
   ]
  },
  {
   "cell_type": "code",
   "execution_count": null,
   "metadata": {
    "colab": {
     "base_uri": "https://localhost:8080/"
    },
    "executionInfo": {
     "elapsed": 799,
     "status": "ok",
     "timestamp": 1611251890045,
     "user": {
      "displayName": "Diego Cowen Pinto",
      "photoUrl": "https://lh3.googleusercontent.com/a-/AOh14GhkSbJn7uVBQmIkmxpBAHIeyBv3MYDnDVJE13xm8w=s64",
      "userId": "00433632151485364739"
     },
     "user_tz": 180
    },
    "id": "V0HCfCaeDXc7",
    "outputId": "a796b453-6105-4446-882f-f206e769267e"
   },
   "outputs": [
    {
     "data": {
      "text/plain": [
       "Nome\n",
       "Jetta Variant            False\n",
       "Passat                   False\n",
       "Crossfox                 False\n",
       "DS5                      False\n",
       "Aston Martin DB4         False\n",
       "                         ...  \n",
       "Phantom 2013             False\n",
       "Cadillac Ciel concept    False\n",
       "Classe GLK               False\n",
       "Aston Martin DB5         False\n",
       "Macan                    False\n",
       "Length: 258, dtype: bool"
      ]
     },
     "execution_count": 23,
     "metadata": {
      "tags": []
     },
     "output_type": "execute_result"
    }
   ],
   "source": [
    "(dataset.Motor == 'Motor Diesel') & (dataset.Zero_km == True)"
   ]
  },
  {
   "cell_type": "markdown",
   "metadata": {
    "id": "_XKXcWO-D1BY"
   },
   "source": [
    "### Utilizando o método query"
   ]
  },
  {
   "cell_type": "code",
   "execution_count": null,
   "metadata": {
    "colab": {
     "base_uri": "https://localhost:8080/",
     "height": 235
    },
    "executionInfo": {
     "elapsed": 699,
     "status": "ok",
     "timestamp": 1611251849017,
     "user": {
      "displayName": "Diego Cowen Pinto",
      "photoUrl": "https://lh3.googleusercontent.com/a-/AOh14GhkSbJn7uVBQmIkmxpBAHIeyBv3MYDnDVJE13xm8w=s64",
      "userId": "00433632151485364739"
     },
     "user_tz": 180
    },
    "id": "AB9JirSoD1BY",
    "outputId": "d88cec91-7cdd-478a-ab8e-c971e81b4029"
   },
   "outputs": [
    {
     "data": {
      "text/html": [
       "<div>\n",
       "<style scoped>\n",
       "    .dataframe tbody tr th:only-of-type {\n",
       "        vertical-align: middle;\n",
       "    }\n",
       "\n",
       "    .dataframe tbody tr th {\n",
       "        vertical-align: top;\n",
       "    }\n",
       "\n",
       "    .dataframe thead th {\n",
       "        text-align: right;\n",
       "    }\n",
       "</style>\n",
       "<table border=\"1\" class=\"dataframe\">\n",
       "  <thead>\n",
       "    <tr style=\"text-align: right;\">\n",
       "      <th></th>\n",
       "      <th>Motor</th>\n",
       "      <th>Ano</th>\n",
       "      <th>Quilometragem</th>\n",
       "      <th>Zero_km</th>\n",
       "      <th>Acessórios</th>\n",
       "      <th>Valor</th>\n",
       "    </tr>\n",
       "    <tr>\n",
       "      <th>Nome</th>\n",
       "      <th></th>\n",
       "      <th></th>\n",
       "      <th></th>\n",
       "      <th></th>\n",
       "      <th></th>\n",
       "      <th></th>\n",
       "    </tr>\n",
       "  </thead>\n",
       "  <tbody>\n",
       "    <tr>\n",
       "      <th>Sorento</th>\n",
       "      <td>Motor Diesel</td>\n",
       "      <td>2019</td>\n",
       "      <td>NaN</td>\n",
       "      <td>True</td>\n",
       "      <td>['Sensor de chuva', 'Câmera de estacionamento'...</td>\n",
       "      <td>81399.35</td>\n",
       "    </tr>\n",
       "    <tr>\n",
       "      <th>Cielo Hatch</th>\n",
       "      <td>Motor Diesel</td>\n",
       "      <td>2019</td>\n",
       "      <td>NaN</td>\n",
       "      <td>True</td>\n",
       "      <td>['Painel digital', 'Central multimídia', 'Câme...</td>\n",
       "      <td>145197.70</td>\n",
       "    </tr>\n",
       "    <tr>\n",
       "      <th>Camry</th>\n",
       "      <td>Motor Diesel</td>\n",
       "      <td>2019</td>\n",
       "      <td>NaN</td>\n",
       "      <td>True</td>\n",
       "      <td>['Travas elétricas', 'Rodas de liga', 'Sensor ...</td>\n",
       "      <td>138597.27</td>\n",
       "    </tr>\n",
       "    <tr>\n",
       "      <th>Aston Martin Virage</th>\n",
       "      <td>Motor Diesel</td>\n",
       "      <td>2019</td>\n",
       "      <td>NaN</td>\n",
       "      <td>True</td>\n",
       "      <td>['Travas elétricas', 'Controle de tração', 'Câ...</td>\n",
       "      <td>97290.18</td>\n",
       "    </tr>\n",
       "    <tr>\n",
       "      <th>Série 7 Sedã</th>\n",
       "      <td>Motor Diesel</td>\n",
       "      <td>2019</td>\n",
       "      <td>NaN</td>\n",
       "      <td>True</td>\n",
       "      <td>['Vidros elétricos', 'Travas elétricas', 'Roda...</td>\n",
       "      <td>67539.79</td>\n",
       "    </tr>\n",
       "  </tbody>\n",
       "</table>\n",
       "</div>"
      ],
      "text/plain": [
       "                            Motor  ...      Valor\n",
       "Nome                               ...           \n",
       "Sorento              Motor Diesel  ...   81399.35\n",
       "Cielo Hatch          Motor Diesel  ...  145197.70\n",
       "Camry                Motor Diesel  ...  138597.27\n",
       "Aston Martin Virage  Motor Diesel  ...   97290.18\n",
       "Série 7 Sedã         Motor Diesel  ...   67539.79\n",
       "\n",
       "[5 rows x 6 columns]"
      ]
     },
     "execution_count": 21,
     "metadata": {
      "tags": []
     },
     "output_type": "execute_result"
    }
   ],
   "source": [
    "dataset.query('Motor == \"Motor Diesel\" and Zero_km == True')"
   ]
  },
  {
   "cell_type": "markdown",
   "metadata": {
    "id": "ciJ4dw_FD1BZ"
   },
   "source": [
    "# 5.4 Iterando com DataFrames"
   ]
  },
  {
   "cell_type": "code",
   "execution_count": null,
   "metadata": {
    "colab": {
     "base_uri": "https://localhost:8080/"
    },
    "executionInfo": {
     "elapsed": 1378,
     "status": "ok",
     "timestamp": 1611253834921,
     "user": {
      "displayName": "Diego Cowen Pinto",
      "photoUrl": "https://lh3.googleusercontent.com/a-/AOh14GhkSbJn7uVBQmIkmxpBAHIeyBv3MYDnDVJE13xm8w=s64",
      "userId": "00433632151485364739"
     },
     "user_tz": 180
    },
    "id": "TKAB-g5KD1BZ",
    "outputId": "bad38f2d-efbf-46a0-8b96-770d27b7e6c3"
   },
   "outputs": [
    {
     "name": "stdout",
     "output_type": "stream",
     "text": [
      "Motor\n",
      "Ano\n",
      "Quilometragem\n",
      "Zero_km\n",
      "Acessórios\n",
      "Valor\n"
     ]
    }
   ],
   "source": [
    "for item in dataset:\n",
    "  print(item)"
   ]
  },
  {
   "cell_type": "code",
   "execution_count": null,
   "metadata": {
    "colab": {
     "base_uri": "https://localhost:8080/",
     "height": 450
    },
    "executionInfo": {
     "elapsed": 652,
     "status": "ok",
     "timestamp": 1611254829172,
     "user": {
      "displayName": "Diego Cowen Pinto",
      "photoUrl": "https://lh3.googleusercontent.com/a-/AOh14GhkSbJn7uVBQmIkmxpBAHIeyBv3MYDnDVJE13xm8w=s64",
      "userId": "00433632151485364739"
     },
     "user_tz": 180
    },
    "id": "eFTNtPRWD1Ba",
    "outputId": "4fca3e1e-9c95-4392-cc48-ae3bd96b875b"
   },
   "outputs": [
    {
     "data": {
      "text/html": [
       "<div>\n",
       "<style scoped>\n",
       "    .dataframe tbody tr th:only-of-type {\n",
       "        vertical-align: middle;\n",
       "    }\n",
       "\n",
       "    .dataframe tbody tr th {\n",
       "        vertical-align: top;\n",
       "    }\n",
       "\n",
       "    .dataframe thead th {\n",
       "        text-align: right;\n",
       "    }\n",
       "</style>\n",
       "<table border=\"1\" class=\"dataframe\">\n",
       "  <thead>\n",
       "    <tr style=\"text-align: right;\">\n",
       "      <th></th>\n",
       "      <th>Motor</th>\n",
       "      <th>Ano</th>\n",
       "      <th>Quilometragem</th>\n",
       "      <th>Zero_km</th>\n",
       "      <th>Acessórios</th>\n",
       "      <th>Valor</th>\n",
       "      <th>Km_media</th>\n",
       "    </tr>\n",
       "    <tr>\n",
       "      <th>Nome</th>\n",
       "      <th></th>\n",
       "      <th></th>\n",
       "      <th></th>\n",
       "      <th></th>\n",
       "      <th></th>\n",
       "      <th></th>\n",
       "      <th></th>\n",
       "    </tr>\n",
       "  </thead>\n",
       "  <tbody>\n",
       "    <tr>\n",
       "      <th>Jetta Variant</th>\n",
       "      <td>Motor 4.0 Turbo</td>\n",
       "      <td>2003</td>\n",
       "      <td>44410.0</td>\n",
       "      <td>False</td>\n",
       "      <td>['Rodas de liga', 'Travas elétricas', 'Piloto ...</td>\n",
       "      <td>88078.64</td>\n",
       "      <td>2775.625000</td>\n",
       "    </tr>\n",
       "    <tr>\n",
       "      <th>Passat</th>\n",
       "      <td>Motor Diesel</td>\n",
       "      <td>1991</td>\n",
       "      <td>5712.0</td>\n",
       "      <td>False</td>\n",
       "      <td>['Central multimídia', 'Teto panorâmico', 'Fre...</td>\n",
       "      <td>106161.94</td>\n",
       "      <td>204.000000</td>\n",
       "    </tr>\n",
       "    <tr>\n",
       "      <th>Crossfox</th>\n",
       "      <td>Motor Diesel V8</td>\n",
       "      <td>1990</td>\n",
       "      <td>37123.0</td>\n",
       "      <td>False</td>\n",
       "      <td>['Piloto automático', 'Controle de estabilidad...</td>\n",
       "      <td>72832.16</td>\n",
       "      <td>1280.103448</td>\n",
       "    </tr>\n",
       "    <tr>\n",
       "      <th>DS5</th>\n",
       "      <td>Motor 2.4 Turbo</td>\n",
       "      <td>2019</td>\n",
       "      <td>NaN</td>\n",
       "      <td>True</td>\n",
       "      <td>['Travas elétricas', '4 X 4', 'Vidros elétrico...</td>\n",
       "      <td>124549.07</td>\n",
       "      <td>0.000000</td>\n",
       "    </tr>\n",
       "    <tr>\n",
       "      <th>Aston Martin DB4</th>\n",
       "      <td>Motor 2.4 Turbo</td>\n",
       "      <td>2006</td>\n",
       "      <td>25757.0</td>\n",
       "      <td>False</td>\n",
       "      <td>['Rodas de liga', '4 X 4', 'Central multimídia...</td>\n",
       "      <td>92612.10</td>\n",
       "      <td>1981.307692</td>\n",
       "    </tr>\n",
       "    <tr>\n",
       "      <th>...</th>\n",
       "      <td>...</td>\n",
       "      <td>...</td>\n",
       "      <td>...</td>\n",
       "      <td>...</td>\n",
       "      <td>...</td>\n",
       "      <td>...</td>\n",
       "      <td>...</td>\n",
       "    </tr>\n",
       "    <tr>\n",
       "      <th>Phantom 2013</th>\n",
       "      <td>Motor V8</td>\n",
       "      <td>2014</td>\n",
       "      <td>27505.0</td>\n",
       "      <td>False</td>\n",
       "      <td>['Controle de estabilidade', 'Piloto automátic...</td>\n",
       "      <td>51759.58</td>\n",
       "      <td>5501.000000</td>\n",
       "    </tr>\n",
       "    <tr>\n",
       "      <th>Cadillac Ciel concept</th>\n",
       "      <td>Motor V8</td>\n",
       "      <td>1991</td>\n",
       "      <td>29981.0</td>\n",
       "      <td>False</td>\n",
       "      <td>['Bancos de couro', 'Painel digital', 'Sensor ...</td>\n",
       "      <td>51667.06</td>\n",
       "      <td>1070.750000</td>\n",
       "    </tr>\n",
       "    <tr>\n",
       "      <th>Classe GLK</th>\n",
       "      <td>Motor 5.0 V8 Bi-Turbo</td>\n",
       "      <td>2002</td>\n",
       "      <td>52637.0</td>\n",
       "      <td>False</td>\n",
       "      <td>['Rodas de liga', 'Controle de tração', 'Câmbi...</td>\n",
       "      <td>68934.03</td>\n",
       "      <td>3096.294118</td>\n",
       "    </tr>\n",
       "    <tr>\n",
       "      <th>Aston Martin DB5</th>\n",
       "      <td>Motor Diesel</td>\n",
       "      <td>1996</td>\n",
       "      <td>7685.0</td>\n",
       "      <td>False</td>\n",
       "      <td>['Ar condicionado', '4 X 4', 'Câmbio automátic...</td>\n",
       "      <td>122110.90</td>\n",
       "      <td>334.130435</td>\n",
       "    </tr>\n",
       "    <tr>\n",
       "      <th>Macan</th>\n",
       "      <td>Motor Diesel V6</td>\n",
       "      <td>1992</td>\n",
       "      <td>50188.0</td>\n",
       "      <td>False</td>\n",
       "      <td>['Central multimídia', 'Teto panorâmico', 'Vid...</td>\n",
       "      <td>90381.47</td>\n",
       "      <td>1858.814815</td>\n",
       "    </tr>\n",
       "  </tbody>\n",
       "</table>\n",
       "<p>258 rows × 7 columns</p>\n",
       "</div>"
      ],
      "text/plain": [
       "                                       Motor   Ano  ...      Valor     Km_media\n",
       "Nome                                                ...                        \n",
       "Jetta Variant                Motor 4.0 Turbo  2003  ...   88078.64  2775.625000\n",
       "Passat                          Motor Diesel  1991  ...  106161.94   204.000000\n",
       "Crossfox                     Motor Diesel V8  1990  ...   72832.16  1280.103448\n",
       "DS5                          Motor 2.4 Turbo  2019  ...  124549.07     0.000000\n",
       "Aston Martin DB4             Motor 2.4 Turbo  2006  ...   92612.10  1981.307692\n",
       "...                                      ...   ...  ...        ...          ...\n",
       "Phantom 2013                        Motor V8  2014  ...   51759.58  5501.000000\n",
       "Cadillac Ciel concept               Motor V8  1991  ...   51667.06  1070.750000\n",
       "Classe GLK             Motor 5.0 V8 Bi-Turbo  2002  ...   68934.03  3096.294118\n",
       "Aston Martin DB5                Motor Diesel  1996  ...  122110.90   334.130435\n",
       "Macan                        Motor Diesel V6  1992  ...   90381.47  1858.814815\n",
       "\n",
       "[258 rows x 7 columns]"
      ]
     },
     "execution_count": 28,
     "metadata": {
      "tags": []
     },
     "output_type": "execute_result"
    }
   ],
   "source": [
    "for index, row in dataset.iterrows():\n",
    "  if(2019 - row['Ano'] != 0 ):\n",
    "    dataset.loc[index, 'Km_media'] = row['Quilometragem'] / (2019 - row['Ano'])\n",
    "  else:\n",
    "    dataset.loc[index, 'Km_media'] = 0\n",
    "\n",
    "dataset"
   ]
  },
  {
   "cell_type": "markdown",
   "metadata": {
    "id": "HnUzHFQPD1Ba"
   },
   "source": [
    "# 5.5 Tratamento de dados"
   ]
  },
  {
   "cell_type": "code",
   "execution_count": 1,
   "metadata": {
    "executionInfo": {
     "elapsed": 903,
     "status": "ok",
     "timestamp": 1611963150437,
     "user": {
      "displayName": "Diego Cowen Pinto",
      "photoUrl": "https://lh3.googleusercontent.com/a-/AOh14GhkSbJn7uVBQmIkmxpBAHIeyBv3MYDnDVJE13xm8w=s64",
      "userId": "00433632151485364739"
     },
     "user_tz": 180
    },
    "id": "FRxBWoBGD1Ba"
   },
   "outputs": [],
   "source": [
    "import pandas as pd"
   ]
  },
  {
   "cell_type": "code",
   "execution_count": null,
   "metadata": {
    "id": "X4KTC9TC_Yqe"
   },
   "outputs": [],
   "source": [
    "dataset = pd.read_csv('db.csv', sep = ';', index_col = 0)"
   ]
  },
  {
   "cell_type": "code",
   "execution_count": null,
   "metadata": {
    "colab": {
     "base_uri": "https://localhost:8080/",
     "height": 235
    },
    "executionInfo": {
     "elapsed": 614,
     "status": "ok",
     "timestamp": 1611334175095,
     "user": {
      "displayName": "Diego Cowen Pinto",
      "photoUrl": "https://lh3.googleusercontent.com/a-/AOh14GhkSbJn7uVBQmIkmxpBAHIeyBv3MYDnDVJE13xm8w=s64",
      "userId": "00433632151485364739"
     },
     "user_tz": 180
    },
    "id": "ohB-UcLk_Y4t",
    "outputId": "e08b05b2-2cb6-4300-f271-76f34525a87c"
   },
   "outputs": [
    {
     "data": {
      "text/html": [
       "<div>\n",
       "<style scoped>\n",
       "    .dataframe tbody tr th:only-of-type {\n",
       "        vertical-align: middle;\n",
       "    }\n",
       "\n",
       "    .dataframe tbody tr th {\n",
       "        vertical-align: top;\n",
       "    }\n",
       "\n",
       "    .dataframe thead th {\n",
       "        text-align: right;\n",
       "    }\n",
       "</style>\n",
       "<table border=\"1\" class=\"dataframe\">\n",
       "  <thead>\n",
       "    <tr style=\"text-align: right;\">\n",
       "      <th></th>\n",
       "      <th>Motor</th>\n",
       "      <th>Ano</th>\n",
       "      <th>Quilometragem</th>\n",
       "      <th>Zero_km</th>\n",
       "      <th>Acessórios</th>\n",
       "      <th>Valor</th>\n",
       "    </tr>\n",
       "    <tr>\n",
       "      <th>Nome</th>\n",
       "      <th></th>\n",
       "      <th></th>\n",
       "      <th></th>\n",
       "      <th></th>\n",
       "      <th></th>\n",
       "      <th></th>\n",
       "    </tr>\n",
       "  </thead>\n",
       "  <tbody>\n",
       "    <tr>\n",
       "      <th>Jetta Variant</th>\n",
       "      <td>Motor 4.0 Turbo</td>\n",
       "      <td>2003</td>\n",
       "      <td>44410.0</td>\n",
       "      <td>False</td>\n",
       "      <td>['Rodas de liga', 'Travas elétricas', 'Piloto ...</td>\n",
       "      <td>88078.64</td>\n",
       "    </tr>\n",
       "    <tr>\n",
       "      <th>Passat</th>\n",
       "      <td>Motor Diesel</td>\n",
       "      <td>1991</td>\n",
       "      <td>5712.0</td>\n",
       "      <td>False</td>\n",
       "      <td>['Central multimídia', 'Teto panorâmico', 'Fre...</td>\n",
       "      <td>106161.94</td>\n",
       "    </tr>\n",
       "    <tr>\n",
       "      <th>Crossfox</th>\n",
       "      <td>Motor Diesel V8</td>\n",
       "      <td>1990</td>\n",
       "      <td>37123.0</td>\n",
       "      <td>False</td>\n",
       "      <td>['Piloto automático', 'Controle de estabilidad...</td>\n",
       "      <td>72832.16</td>\n",
       "    </tr>\n",
       "    <tr>\n",
       "      <th>DS5</th>\n",
       "      <td>Motor 2.4 Turbo</td>\n",
       "      <td>2019</td>\n",
       "      <td>NaN</td>\n",
       "      <td>True</td>\n",
       "      <td>['Travas elétricas', '4 X 4', 'Vidros elétrico...</td>\n",
       "      <td>124549.07</td>\n",
       "    </tr>\n",
       "    <tr>\n",
       "      <th>Aston Martin DB4</th>\n",
       "      <td>Motor 2.4 Turbo</td>\n",
       "      <td>2006</td>\n",
       "      <td>25757.0</td>\n",
       "      <td>False</td>\n",
       "      <td>['Rodas de liga', '4 X 4', 'Central multimídia...</td>\n",
       "      <td>92612.10</td>\n",
       "    </tr>\n",
       "  </tbody>\n",
       "</table>\n",
       "</div>"
      ],
      "text/plain": [
       "                            Motor  ...      Valor\n",
       "Nome                               ...           \n",
       "Jetta Variant     Motor 4.0 Turbo  ...   88078.64\n",
       "Passat               Motor Diesel  ...  106161.94\n",
       "Crossfox          Motor Diesel V8  ...   72832.16\n",
       "DS5               Motor 2.4 Turbo  ...  124549.07\n",
       "Aston Martin DB4  Motor 2.4 Turbo  ...   92612.10\n",
       "\n",
       "[5 rows x 6 columns]"
      ]
     },
     "execution_count": 7,
     "metadata": {
      "tags": []
     },
     "output_type": "execute_result"
    }
   ],
   "source": [
    "dataset.head()"
   ]
  },
  {
   "cell_type": "code",
   "execution_count": null,
   "metadata": {
    "colab": {
     "base_uri": "https://localhost:8080/"
    },
    "executionInfo": {
     "elapsed": 781,
     "status": "ok",
     "timestamp": 1611334433996,
     "user": {
      "displayName": "Diego Cowen Pinto",
      "photoUrl": "https://lh3.googleusercontent.com/a-/AOh14GhkSbJn7uVBQmIkmxpBAHIeyBv3MYDnDVJE13xm8w=s64",
      "userId": "00433632151485364739"
     },
     "user_tz": 180
    },
    "id": "HHSwH0ZaD1Bc",
    "outputId": "fa842666-097e-4b41-a814-17749d1a3eca"
   },
   "outputs": [
    {
     "name": "stdout",
     "output_type": "stream",
     "text": [
      "<class 'pandas.core.frame.DataFrame'>\n",
      "Index: 258 entries, Jetta Variant to Macan\n",
      "Data columns (total 6 columns):\n",
      " #   Column         Non-Null Count  Dtype  \n",
      "---  ------         --------------  -----  \n",
      " 0   Motor          258 non-null    object \n",
      " 1   Ano            258 non-null    int64  \n",
      " 2   Quilometragem  197 non-null    float64\n",
      " 3   Zero_km        258 non-null    bool   \n",
      " 4   Acessórios     258 non-null    object \n",
      " 5   Valor          258 non-null    float64\n",
      "dtypes: bool(1), float64(2), int64(1), object(2)\n",
      "memory usage: 22.3+ KB\n"
     ]
    }
   ],
   "source": [
    "dataset.info()"
   ]
  },
  {
   "cell_type": "code",
   "execution_count": null,
   "metadata": {
    "colab": {
     "base_uri": "https://localhost:8080/"
    },
    "executionInfo": {
     "elapsed": 716,
     "status": "ok",
     "timestamp": 1611334497810,
     "user": {
      "displayName": "Diego Cowen Pinto",
      "photoUrl": "https://lh3.googleusercontent.com/a-/AOh14GhkSbJn7uVBQmIkmxpBAHIeyBv3MYDnDVJE13xm8w=s64",
      "userId": "00433632151485364739"
     },
     "user_tz": 180
    },
    "id": "G27pxgZ5D1Bd",
    "outputId": "80a47de0-0e74-4d8b-a72c-195680555c03",
    "scrolled": true
   },
   "outputs": [
    {
     "data": {
      "text/plain": [
       "Nome\n",
       "Jetta Variant            False\n",
       "Passat                   False\n",
       "Crossfox                 False\n",
       "DS5                       True\n",
       "Aston Martin DB4         False\n",
       "                         ...  \n",
       "Phantom 2013             False\n",
       "Cadillac Ciel concept    False\n",
       "Classe GLK               False\n",
       "Aston Martin DB5         False\n",
       "Macan                    False\n",
       "Name: Quilometragem, Length: 258, dtype: bool"
      ]
     },
     "execution_count": 9,
     "metadata": {
      "tags": []
     },
     "output_type": "execute_result"
    }
   ],
   "source": [
    "dataset.Quilometragem.isna()"
   ]
  },
  {
   "cell_type": "code",
   "execution_count": null,
   "metadata": {
    "colab": {
     "base_uri": "https://localhost:8080/",
     "height": 450
    },
    "executionInfo": {
     "elapsed": 784,
     "status": "ok",
     "timestamp": 1611334659350,
     "user": {
      "displayName": "Diego Cowen Pinto",
      "photoUrl": "https://lh3.googleusercontent.com/a-/AOh14GhkSbJn7uVBQmIkmxpBAHIeyBv3MYDnDVJE13xm8w=s64",
      "userId": "00433632151485364739"
     },
     "user_tz": 180
    },
    "id": "DhlRbxy2D1Bd",
    "outputId": "f225b344-258a-49f1-8145-49e2d05fc68b",
    "scrolled": true
   },
   "outputs": [
    {
     "data": {
      "text/html": [
       "<div>\n",
       "<style scoped>\n",
       "    .dataframe tbody tr th:only-of-type {\n",
       "        vertical-align: middle;\n",
       "    }\n",
       "\n",
       "    .dataframe tbody tr th {\n",
       "        vertical-align: top;\n",
       "    }\n",
       "\n",
       "    .dataframe thead th {\n",
       "        text-align: right;\n",
       "    }\n",
       "</style>\n",
       "<table border=\"1\" class=\"dataframe\">\n",
       "  <thead>\n",
       "    <tr style=\"text-align: right;\">\n",
       "      <th></th>\n",
       "      <th>Motor</th>\n",
       "      <th>Ano</th>\n",
       "      <th>Quilometragem</th>\n",
       "      <th>Zero_km</th>\n",
       "      <th>Acessórios</th>\n",
       "      <th>Valor</th>\n",
       "    </tr>\n",
       "    <tr>\n",
       "      <th>Nome</th>\n",
       "      <th></th>\n",
       "      <th></th>\n",
       "      <th></th>\n",
       "      <th></th>\n",
       "      <th></th>\n",
       "      <th></th>\n",
       "    </tr>\n",
       "  </thead>\n",
       "  <tbody>\n",
       "    <tr>\n",
       "      <th>DS5</th>\n",
       "      <td>Motor 2.4 Turbo</td>\n",
       "      <td>2019</td>\n",
       "      <td>NaN</td>\n",
       "      <td>True</td>\n",
       "      <td>['Travas elétricas', '4 X 4', 'Vidros elétrico...</td>\n",
       "      <td>124549.07</td>\n",
       "    </tr>\n",
       "    <tr>\n",
       "      <th>A5</th>\n",
       "      <td>Motor 4.0 Turbo</td>\n",
       "      <td>2019</td>\n",
       "      <td>NaN</td>\n",
       "      <td>True</td>\n",
       "      <td>['Câmbio automático', 'Câmera de estacionament...</td>\n",
       "      <td>56445.20</td>\n",
       "    </tr>\n",
       "    <tr>\n",
       "      <th>J5</th>\n",
       "      <td>Motor V6</td>\n",
       "      <td>2019</td>\n",
       "      <td>NaN</td>\n",
       "      <td>True</td>\n",
       "      <td>['Sensor crepuscular', 'Painel digital', 'Roda...</td>\n",
       "      <td>53183.38</td>\n",
       "    </tr>\n",
       "    <tr>\n",
       "      <th>A3</th>\n",
       "      <td>Motor 1.0 8v</td>\n",
       "      <td>2019</td>\n",
       "      <td>NaN</td>\n",
       "      <td>True</td>\n",
       "      <td>['4 X 4', 'Piloto automático', 'Central multim...</td>\n",
       "      <td>88552.39</td>\n",
       "    </tr>\n",
       "    <tr>\n",
       "      <th>Série 1 M</th>\n",
       "      <td>Motor V8</td>\n",
       "      <td>2019</td>\n",
       "      <td>NaN</td>\n",
       "      <td>True</td>\n",
       "      <td>['Controle de estabilidade', 'Central multimíd...</td>\n",
       "      <td>94564.40</td>\n",
       "    </tr>\n",
       "    <tr>\n",
       "      <th>...</th>\n",
       "      <td>...</td>\n",
       "      <td>...</td>\n",
       "      <td>...</td>\n",
       "      <td>...</td>\n",
       "      <td>...</td>\n",
       "      <td>...</td>\n",
       "    </tr>\n",
       "    <tr>\n",
       "      <th>Lamborghini Reventón</th>\n",
       "      <td>Motor 4.0 Turbo</td>\n",
       "      <td>2019</td>\n",
       "      <td>NaN</td>\n",
       "      <td>True</td>\n",
       "      <td>['Controle de tração', 'Ar condicionado', 'Cen...</td>\n",
       "      <td>67664.86</td>\n",
       "    </tr>\n",
       "    <tr>\n",
       "      <th>Benni Mini</th>\n",
       "      <td>Motor V8</td>\n",
       "      <td>2019</td>\n",
       "      <td>NaN</td>\n",
       "      <td>True</td>\n",
       "      <td>['Sensor crepuscular', 'Câmbio automático', 'C...</td>\n",
       "      <td>126247.84</td>\n",
       "    </tr>\n",
       "    <tr>\n",
       "      <th>Uno</th>\n",
       "      <td>Motor Diesel V6</td>\n",
       "      <td>2019</td>\n",
       "      <td>NaN</td>\n",
       "      <td>True</td>\n",
       "      <td>['Central multimídia', 'Sensor crepuscular', '...</td>\n",
       "      <td>128852.21</td>\n",
       "    </tr>\n",
       "    <tr>\n",
       "      <th>Santa Fe</th>\n",
       "      <td>Motor 3.0 32v</td>\n",
       "      <td>2019</td>\n",
       "      <td>NaN</td>\n",
       "      <td>True</td>\n",
       "      <td>['Travas elétricas', 'Ar condicionado', '4 X 4...</td>\n",
       "      <td>129415.33</td>\n",
       "    </tr>\n",
       "    <tr>\n",
       "      <th>XC60</th>\n",
       "      <td>Motor 4.0 Turbo</td>\n",
       "      <td>2019</td>\n",
       "      <td>NaN</td>\n",
       "      <td>True</td>\n",
       "      <td>['Painel digital', 'Piloto automático', 'Centr...</td>\n",
       "      <td>77675.79</td>\n",
       "    </tr>\n",
       "  </tbody>\n",
       "</table>\n",
       "<p>61 rows × 6 columns</p>\n",
       "</div>"
      ],
      "text/plain": [
       "                                Motor  ...      Valor\n",
       "Nome                                   ...           \n",
       "DS5                   Motor 2.4 Turbo  ...  124549.07\n",
       "A5                    Motor 4.0 Turbo  ...   56445.20\n",
       "J5                           Motor V6  ...   53183.38\n",
       "A3                       Motor 1.0 8v  ...   88552.39\n",
       "Série 1 M                    Motor V8  ...   94564.40\n",
       "...                               ...  ...        ...\n",
       "Lamborghini Reventón  Motor 4.0 Turbo  ...   67664.86\n",
       "Benni Mini                   Motor V8  ...  126247.84\n",
       "Uno                   Motor Diesel V6  ...  128852.21\n",
       "Santa Fe                Motor 3.0 32v  ...  129415.33\n",
       "XC60                  Motor 4.0 Turbo  ...   77675.79\n",
       "\n",
       "[61 rows x 6 columns]"
      ]
     },
     "execution_count": 10,
     "metadata": {
      "tags": []
     },
     "output_type": "execute_result"
    }
   ],
   "source": [
    "dataset[dataset.Quilometragem.isna()]"
   ]
  },
  {
   "cell_type": "code",
   "execution_count": null,
   "metadata": {
    "id": "OL04QU5RD1Be"
   },
   "outputs": [],
   "source": [
    "dataset.fillna(0, inplace = True)"
   ]
  },
  {
   "cell_type": "code",
   "execution_count": null,
   "metadata": {
    "colab": {
     "base_uri": "https://localhost:8080/"
    },
    "executionInfo": {
     "elapsed": 747,
     "status": "ok",
     "timestamp": 1611334926703,
     "user": {
      "displayName": "Diego Cowen Pinto",
      "photoUrl": "https://lh3.googleusercontent.com/a-/AOh14GhkSbJn7uVBQmIkmxpBAHIeyBv3MYDnDVJE13xm8w=s64",
      "userId": "00433632151485364739"
     },
     "user_tz": 180
    },
    "id": "fTH2JkGDD1Bf",
    "outputId": "f84f1c83-b6d8-444c-bb68-588726884107",
    "scrolled": true
   },
   "outputs": [
    {
     "name": "stdout",
     "output_type": "stream",
     "text": [
      "<class 'pandas.core.frame.DataFrame'>\n",
      "Index: 258 entries, Jetta Variant to Macan\n",
      "Data columns (total 6 columns):\n",
      " #   Column         Non-Null Count  Dtype  \n",
      "---  ------         --------------  -----  \n",
      " 0   Motor          258 non-null    object \n",
      " 1   Ano            258 non-null    int64  \n",
      " 2   Quilometragem  258 non-null    float64\n",
      " 3   Zero_km        258 non-null    bool   \n",
      " 4   Acessórios     258 non-null    object \n",
      " 5   Valor          258 non-null    float64\n",
      "dtypes: bool(1), float64(2), int64(1), object(2)\n",
      "memory usage: 22.3+ KB\n"
     ]
    }
   ],
   "source": [
    "dataset.info()"
   ]
  },
  {
   "cell_type": "code",
   "execution_count": null,
   "metadata": {
    "colab": {
     "base_uri": "https://localhost:8080/",
     "height": 450
    },
    "executionInfo": {
     "elapsed": 602,
     "status": "ok",
     "timestamp": 1611334990089,
     "user": {
      "displayName": "Diego Cowen Pinto",
      "photoUrl": "https://lh3.googleusercontent.com/a-/AOh14GhkSbJn7uVBQmIkmxpBAHIeyBv3MYDnDVJE13xm8w=s64",
      "userId": "00433632151485364739"
     },
     "user_tz": 180
    },
    "id": "lure2GvpD1Bg",
    "outputId": "523cbb91-1e3f-4803-e45f-fc4b988969da"
   },
   "outputs": [
    {
     "data": {
      "text/html": [
       "<div>\n",
       "<style scoped>\n",
       "    .dataframe tbody tr th:only-of-type {\n",
       "        vertical-align: middle;\n",
       "    }\n",
       "\n",
       "    .dataframe tbody tr th {\n",
       "        vertical-align: top;\n",
       "    }\n",
       "\n",
       "    .dataframe thead th {\n",
       "        text-align: right;\n",
       "    }\n",
       "</style>\n",
       "<table border=\"1\" class=\"dataframe\">\n",
       "  <thead>\n",
       "    <tr style=\"text-align: right;\">\n",
       "      <th></th>\n",
       "      <th>Motor</th>\n",
       "      <th>Ano</th>\n",
       "      <th>Quilometragem</th>\n",
       "      <th>Zero_km</th>\n",
       "      <th>Acessórios</th>\n",
       "      <th>Valor</th>\n",
       "    </tr>\n",
       "    <tr>\n",
       "      <th>Nome</th>\n",
       "      <th></th>\n",
       "      <th></th>\n",
       "      <th></th>\n",
       "      <th></th>\n",
       "      <th></th>\n",
       "      <th></th>\n",
       "    </tr>\n",
       "  </thead>\n",
       "  <tbody>\n",
       "    <tr>\n",
       "      <th>DS5</th>\n",
       "      <td>Motor 2.4 Turbo</td>\n",
       "      <td>2019</td>\n",
       "      <td>0.0</td>\n",
       "      <td>True</td>\n",
       "      <td>['Travas elétricas', '4 X 4', 'Vidros elétrico...</td>\n",
       "      <td>124549.07</td>\n",
       "    </tr>\n",
       "    <tr>\n",
       "      <th>A5</th>\n",
       "      <td>Motor 4.0 Turbo</td>\n",
       "      <td>2019</td>\n",
       "      <td>0.0</td>\n",
       "      <td>True</td>\n",
       "      <td>['Câmbio automático', 'Câmera de estacionament...</td>\n",
       "      <td>56445.20</td>\n",
       "    </tr>\n",
       "    <tr>\n",
       "      <th>J5</th>\n",
       "      <td>Motor V6</td>\n",
       "      <td>2019</td>\n",
       "      <td>0.0</td>\n",
       "      <td>True</td>\n",
       "      <td>['Sensor crepuscular', 'Painel digital', 'Roda...</td>\n",
       "      <td>53183.38</td>\n",
       "    </tr>\n",
       "    <tr>\n",
       "      <th>A3</th>\n",
       "      <td>Motor 1.0 8v</td>\n",
       "      <td>2019</td>\n",
       "      <td>0.0</td>\n",
       "      <td>True</td>\n",
       "      <td>['4 X 4', 'Piloto automático', 'Central multim...</td>\n",
       "      <td>88552.39</td>\n",
       "    </tr>\n",
       "    <tr>\n",
       "      <th>Série 1 M</th>\n",
       "      <td>Motor V8</td>\n",
       "      <td>2019</td>\n",
       "      <td>0.0</td>\n",
       "      <td>True</td>\n",
       "      <td>['Controle de estabilidade', 'Central multimíd...</td>\n",
       "      <td>94564.40</td>\n",
       "    </tr>\n",
       "    <tr>\n",
       "      <th>...</th>\n",
       "      <td>...</td>\n",
       "      <td>...</td>\n",
       "      <td>...</td>\n",
       "      <td>...</td>\n",
       "      <td>...</td>\n",
       "      <td>...</td>\n",
       "    </tr>\n",
       "    <tr>\n",
       "      <th>Lamborghini Reventón</th>\n",
       "      <td>Motor 4.0 Turbo</td>\n",
       "      <td>2019</td>\n",
       "      <td>0.0</td>\n",
       "      <td>True</td>\n",
       "      <td>['Controle de tração', 'Ar condicionado', 'Cen...</td>\n",
       "      <td>67664.86</td>\n",
       "    </tr>\n",
       "    <tr>\n",
       "      <th>Benni Mini</th>\n",
       "      <td>Motor V8</td>\n",
       "      <td>2019</td>\n",
       "      <td>0.0</td>\n",
       "      <td>True</td>\n",
       "      <td>['Sensor crepuscular', 'Câmbio automático', 'C...</td>\n",
       "      <td>126247.84</td>\n",
       "    </tr>\n",
       "    <tr>\n",
       "      <th>Uno</th>\n",
       "      <td>Motor Diesel V6</td>\n",
       "      <td>2019</td>\n",
       "      <td>0.0</td>\n",
       "      <td>True</td>\n",
       "      <td>['Central multimídia', 'Sensor crepuscular', '...</td>\n",
       "      <td>128852.21</td>\n",
       "    </tr>\n",
       "    <tr>\n",
       "      <th>Santa Fe</th>\n",
       "      <td>Motor 3.0 32v</td>\n",
       "      <td>2019</td>\n",
       "      <td>0.0</td>\n",
       "      <td>True</td>\n",
       "      <td>['Travas elétricas', 'Ar condicionado', '4 X 4...</td>\n",
       "      <td>129415.33</td>\n",
       "    </tr>\n",
       "    <tr>\n",
       "      <th>XC60</th>\n",
       "      <td>Motor 4.0 Turbo</td>\n",
       "      <td>2019</td>\n",
       "      <td>0.0</td>\n",
       "      <td>True</td>\n",
       "      <td>['Painel digital', 'Piloto automático', 'Centr...</td>\n",
       "      <td>77675.79</td>\n",
       "    </tr>\n",
       "  </tbody>\n",
       "</table>\n",
       "<p>61 rows × 6 columns</p>\n",
       "</div>"
      ],
      "text/plain": [
       "                                Motor  ...      Valor\n",
       "Nome                                   ...           \n",
       "DS5                   Motor 2.4 Turbo  ...  124549.07\n",
       "A5                    Motor 4.0 Turbo  ...   56445.20\n",
       "J5                           Motor V6  ...   53183.38\n",
       "A3                       Motor 1.0 8v  ...   88552.39\n",
       "Série 1 M                    Motor V8  ...   94564.40\n",
       "...                               ...  ...        ...\n",
       "Lamborghini Reventón  Motor 4.0 Turbo  ...   67664.86\n",
       "Benni Mini                   Motor V8  ...  126247.84\n",
       "Uno                   Motor Diesel V6  ...  128852.21\n",
       "Santa Fe                Motor 3.0 32v  ...  129415.33\n",
       "XC60                  Motor 4.0 Turbo  ...   77675.79\n",
       "\n",
       "[61 rows x 6 columns]"
      ]
     },
     "execution_count": 16,
     "metadata": {
      "tags": []
     },
     "output_type": "execute_result"
    }
   ],
   "source": [
    "dataset.query('Zero_km == True')"
   ]
  },
  {
   "cell_type": "code",
   "execution_count": null,
   "metadata": {
    "id": "4-ZvhXjvD1Bj"
   },
   "outputs": [],
   "source": [
    "dataset = pd.read_csv('db.csv', sep = ';')"
   ]
  },
  {
   "cell_type": "code",
   "execution_count": null,
   "metadata": {
    "colab": {
     "base_uri": "https://localhost:8080/",
     "height": 419
    },
    "executionInfo": {
     "elapsed": 610,
     "status": "ok",
     "timestamp": 1611335506607,
     "user": {
      "displayName": "Diego Cowen Pinto",
      "photoUrl": "https://lh3.googleusercontent.com/a-/AOh14GhkSbJn7uVBQmIkmxpBAHIeyBv3MYDnDVJE13xm8w=s64",
      "userId": "00433632151485364739"
     },
     "user_tz": 180
    },
    "id": "MQUw7i1OD1Bk",
    "outputId": "1a90f2b8-22b9-4f5d-93fd-16961280377a",
    "scrolled": true
   },
   "outputs": [
    {
     "data": {
      "text/html": [
       "<div>\n",
       "<style scoped>\n",
       "    .dataframe tbody tr th:only-of-type {\n",
       "        vertical-align: middle;\n",
       "    }\n",
       "\n",
       "    .dataframe tbody tr th {\n",
       "        vertical-align: top;\n",
       "    }\n",
       "\n",
       "    .dataframe thead th {\n",
       "        text-align: right;\n",
       "    }\n",
       "</style>\n",
       "<table border=\"1\" class=\"dataframe\">\n",
       "  <thead>\n",
       "    <tr style=\"text-align: right;\">\n",
       "      <th></th>\n",
       "      <th>Nome</th>\n",
       "      <th>Motor</th>\n",
       "      <th>Ano</th>\n",
       "      <th>Quilometragem</th>\n",
       "      <th>Zero_km</th>\n",
       "      <th>Acessórios</th>\n",
       "      <th>Valor</th>\n",
       "    </tr>\n",
       "  </thead>\n",
       "  <tbody>\n",
       "    <tr>\n",
       "      <th>0</th>\n",
       "      <td>Jetta Variant</td>\n",
       "      <td>Motor 4.0 Turbo</td>\n",
       "      <td>2003</td>\n",
       "      <td>44410.0</td>\n",
       "      <td>False</td>\n",
       "      <td>['Rodas de liga', 'Travas elétricas', 'Piloto ...</td>\n",
       "      <td>88078.64</td>\n",
       "    </tr>\n",
       "    <tr>\n",
       "      <th>1</th>\n",
       "      <td>Passat</td>\n",
       "      <td>Motor Diesel</td>\n",
       "      <td>1991</td>\n",
       "      <td>5712.0</td>\n",
       "      <td>False</td>\n",
       "      <td>['Central multimídia', 'Teto panorâmico', 'Fre...</td>\n",
       "      <td>106161.94</td>\n",
       "    </tr>\n",
       "    <tr>\n",
       "      <th>2</th>\n",
       "      <td>Crossfox</td>\n",
       "      <td>Motor Diesel V8</td>\n",
       "      <td>1990</td>\n",
       "      <td>37123.0</td>\n",
       "      <td>False</td>\n",
       "      <td>['Piloto automático', 'Controle de estabilidad...</td>\n",
       "      <td>72832.16</td>\n",
       "    </tr>\n",
       "    <tr>\n",
       "      <th>3</th>\n",
       "      <td>DS5</td>\n",
       "      <td>Motor 2.4 Turbo</td>\n",
       "      <td>2019</td>\n",
       "      <td>NaN</td>\n",
       "      <td>True</td>\n",
       "      <td>['Travas elétricas', '4 X 4', 'Vidros elétrico...</td>\n",
       "      <td>124549.07</td>\n",
       "    </tr>\n",
       "    <tr>\n",
       "      <th>4</th>\n",
       "      <td>Aston Martin DB4</td>\n",
       "      <td>Motor 2.4 Turbo</td>\n",
       "      <td>2006</td>\n",
       "      <td>25757.0</td>\n",
       "      <td>False</td>\n",
       "      <td>['Rodas de liga', '4 X 4', 'Central multimídia...</td>\n",
       "      <td>92612.10</td>\n",
       "    </tr>\n",
       "    <tr>\n",
       "      <th>...</th>\n",
       "      <td>...</td>\n",
       "      <td>...</td>\n",
       "      <td>...</td>\n",
       "      <td>...</td>\n",
       "      <td>...</td>\n",
       "      <td>...</td>\n",
       "      <td>...</td>\n",
       "    </tr>\n",
       "    <tr>\n",
       "      <th>253</th>\n",
       "      <td>Phantom 2013</td>\n",
       "      <td>Motor V8</td>\n",
       "      <td>2014</td>\n",
       "      <td>27505.0</td>\n",
       "      <td>False</td>\n",
       "      <td>['Controle de estabilidade', 'Piloto automátic...</td>\n",
       "      <td>51759.58</td>\n",
       "    </tr>\n",
       "    <tr>\n",
       "      <th>254</th>\n",
       "      <td>Cadillac Ciel concept</td>\n",
       "      <td>Motor V8</td>\n",
       "      <td>1991</td>\n",
       "      <td>29981.0</td>\n",
       "      <td>False</td>\n",
       "      <td>['Bancos de couro', 'Painel digital', 'Sensor ...</td>\n",
       "      <td>51667.06</td>\n",
       "    </tr>\n",
       "    <tr>\n",
       "      <th>255</th>\n",
       "      <td>Classe GLK</td>\n",
       "      <td>Motor 5.0 V8 Bi-Turbo</td>\n",
       "      <td>2002</td>\n",
       "      <td>52637.0</td>\n",
       "      <td>False</td>\n",
       "      <td>['Rodas de liga', 'Controle de tração', 'Câmbi...</td>\n",
       "      <td>68934.03</td>\n",
       "    </tr>\n",
       "    <tr>\n",
       "      <th>256</th>\n",
       "      <td>Aston Martin DB5</td>\n",
       "      <td>Motor Diesel</td>\n",
       "      <td>1996</td>\n",
       "      <td>7685.0</td>\n",
       "      <td>False</td>\n",
       "      <td>['Ar condicionado', '4 X 4', 'Câmbio automátic...</td>\n",
       "      <td>122110.90</td>\n",
       "    </tr>\n",
       "    <tr>\n",
       "      <th>257</th>\n",
       "      <td>Macan</td>\n",
       "      <td>Motor Diesel V6</td>\n",
       "      <td>1992</td>\n",
       "      <td>50188.0</td>\n",
       "      <td>False</td>\n",
       "      <td>['Central multimídia', 'Teto panorâmico', 'Vid...</td>\n",
       "      <td>90381.47</td>\n",
       "    </tr>\n",
       "  </tbody>\n",
       "</table>\n",
       "<p>258 rows × 7 columns</p>\n",
       "</div>"
      ],
      "text/plain": [
       "                      Nome  ...      Valor\n",
       "0            Jetta Variant  ...   88078.64\n",
       "1                   Passat  ...  106161.94\n",
       "2                 Crossfox  ...   72832.16\n",
       "3                      DS5  ...  124549.07\n",
       "4         Aston Martin DB4  ...   92612.10\n",
       "..                     ...  ...        ...\n",
       "253           Phantom 2013  ...   51759.58\n",
       "254  Cadillac Ciel concept  ...   51667.06\n",
       "255             Classe GLK  ...   68934.03\n",
       "256       Aston Martin DB5  ...  122110.90\n",
       "257                  Macan  ...   90381.47\n",
       "\n",
       "[258 rows x 7 columns]"
      ]
     },
     "execution_count": 20,
     "metadata": {
      "tags": []
     },
     "output_type": "execute_result"
    }
   ],
   "source": [
    "dataset"
   ]
  },
  {
   "cell_type": "code",
   "execution_count": null,
   "metadata": {
    "id": "U4Cse7miD1Bl"
   },
   "outputs": [],
   "source": [
    "dataset.dropna(subset =['Quilometragem'], inplace = True)"
   ]
  },
  {
   "cell_type": "code",
   "execution_count": null,
   "metadata": {
    "colab": {
     "base_uri": "https://localhost:8080/"
    },
    "executionInfo": {
     "elapsed": 839,
     "status": "ok",
     "timestamp": 1611335845037,
     "user": {
      "displayName": "Diego Cowen Pinto",
      "photoUrl": "https://lh3.googleusercontent.com/a-/AOh14GhkSbJn7uVBQmIkmxpBAHIeyBv3MYDnDVJE13xm8w=s64",
      "userId": "00433632151485364739"
     },
     "user_tz": 180
    },
    "id": "8L4wum05D1Bl",
    "outputId": "0f7f225e-764b-452d-a471-23280841fe8e",
    "scrolled": true
   },
   "outputs": [
    {
     "name": "stdout",
     "output_type": "stream",
     "text": [
      "<class 'pandas.core.frame.DataFrame'>\n",
      "Int64Index: 197 entries, 0 to 257\n",
      "Data columns (total 7 columns):\n",
      " #   Column         Non-Null Count  Dtype  \n",
      "---  ------         --------------  -----  \n",
      " 0   Nome           197 non-null    object \n",
      " 1   Motor          197 non-null    object \n",
      " 2   Ano            197 non-null    int64  \n",
      " 3   Quilometragem  197 non-null    float64\n",
      " 4   Zero_km        197 non-null    bool   \n",
      " 5   Acessórios     197 non-null    object \n",
      " 6   Valor          197 non-null    float64\n",
      "dtypes: bool(1), float64(2), int64(1), object(3)\n",
      "memory usage: 11.0+ KB\n"
     ]
    }
   ],
   "source": [
    "dataset.info()"
   ]
  }
 ],
 "metadata": {
  "colab": {
   "name": "Python_para_Data_Science_Pandas.ipynb",
   "provenance": []
  },
  "kernelspec": {
   "display_name": "Python 3",
   "language": "python",
   "name": "python3"
  },
  "language_info": {
   "codemirror_mode": {
    "name": "ipython",
    "version": 3
   },
   "file_extension": ".py",
   "mimetype": "text/x-python",
   "name": "python",
   "nbconvert_exporter": "python",
   "pygments_lexer": "ipython3",
   "version": "3.8.5"
  }
 },
 "nbformat": 4,
 "nbformat_minor": 1
}
