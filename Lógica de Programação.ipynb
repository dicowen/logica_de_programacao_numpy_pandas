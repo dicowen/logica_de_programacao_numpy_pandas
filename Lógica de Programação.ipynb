{
 "cells": [
  {
   "cell_type": "markdown",
   "metadata": {
    "id": "gZKX-bWSIH5Y"
   },
   "source": [
    "## Lógica de Programação Python"
   ]
  },
  {
   "cell_type": "code",
   "execution_count": null,
   "metadata": {
    "id": "_yI8CQ6dF_ou"
   },
   "outputs": [],
   "source": [
    "nome = 'Diego'"
   ]
  },
  {
   "cell_type": "code",
   "execution_count": null,
   "metadata": {
    "id": "TnDY7glHIdwI"
   },
   "outputs": [],
   "source": [
    "idade = 27"
   ]
  },
  {
   "cell_type": "code",
   "execution_count": null,
   "metadata": {
    "colab": {
     "base_uri": "https://localhost:8080/"
    },
    "executionInfo": {
     "elapsed": 623,
     "status": "ok",
     "timestamp": 1607360501320,
     "user": {
      "displayName": "Diego Cowen Pinto",
      "photoUrl": "https://lh3.googleusercontent.com/a-/AOh14GhkSbJn7uVBQmIkmxpBAHIeyBv3MYDnDVJE13xm8w=s64",
      "userId": "00433632151485364739"
     },
     "user_tz": 180
    },
    "id": "h0YMZzSCJfmO",
    "outputId": "64534948-c64f-478f-e506-ef08f231f925"
   },
   "outputs": [
    {
     "name": "stdout",
     "output_type": "stream",
     "text": [
      "Meu nome é Diego e minha idade é 27\n"
     ]
    }
   ],
   "source": [
    "print('Meu nome é {} e minha idade é {}'.format(nome, idade))"
   ]
  },
  {
   "cell_type": "code",
   "execution_count": null,
   "metadata": {
    "colab": {
     "base_uri": "https://localhost:8080/"
    },
    "executionInfo": {
     "elapsed": 714,
     "status": "ok",
     "timestamp": 1607360709050,
     "user": {
      "displayName": "Diego Cowen Pinto",
      "photoUrl": "https://lh3.googleusercontent.com/a-/AOh14GhkSbJn7uVBQmIkmxpBAHIeyBv3MYDnDVJE13xm8w=s64",
      "userId": "00433632151485364739"
     },
     "user_tz": 180
    },
    "id": "S2LFLeLRJtOa",
    "outputId": "5f9a7ad4-665b-45e3-cb75-66d98815d45f"
   },
   "outputs": [
    {
     "name": "stdout",
     "output_type": "stream",
     "text": [
      "Meu nome é Diego e minha idade é 27\n"
     ]
    }
   ],
   "source": [
    "print(f'Meu nome é {nome} e minha idade é {idade}')"
   ]
  },
  {
   "cell_type": "markdown",
   "metadata": {
    "id": "y0mjWFhhKwCF"
   },
   "source": [
    "# Criando Minha Primeira Função"
   ]
  },
  {
   "cell_type": "code",
   "execution_count": null,
   "metadata": {
    "id": "_uBwgDIEK0r7"
   },
   "outputs": [],
   "source": [
    "def saudacao():\n",
    "  nome = input('Qual seu nome? ')\n",
    "  print(f'Olá {nome}!')"
   ]
  },
  {
   "cell_type": "code",
   "execution_count": null,
   "metadata": {
    "colab": {
     "base_uri": "https://localhost:8080/"
    },
    "executionInfo": {
     "elapsed": 3887,
     "status": "ok",
     "timestamp": 1607361125440,
     "user": {
      "displayName": "Diego Cowen Pinto",
      "photoUrl": "https://lh3.googleusercontent.com/a-/AOh14GhkSbJn7uVBQmIkmxpBAHIeyBv3MYDnDVJE13xm8w=s64",
      "userId": "00433632151485364739"
     },
     "user_tz": 180
    },
    "id": "I-ODIYE9LjYl",
    "outputId": "a0979ea5-e612-4b2b-8a17-bfaab768ee21"
   },
   "outputs": [
    {
     "name": "stdout",
     "output_type": "stream",
     "text": [
      "Qual seu nome? Diego\n",
      "Olá Diego!\n"
     ]
    }
   ],
   "source": [
    "saudacao()"
   ]
  },
  {
   "cell_type": "markdown",
   "metadata": {
    "id": "QQqREgoBQtJL"
   },
   "source": [
    "# Parâmetros"
   ]
  },
  {
   "cell_type": "code",
   "execution_count": null,
   "metadata": {
    "id": "5eM4x0gPLuG7"
   },
   "outputs": [],
   "source": [
    "nome = 'Matteo'"
   ]
  },
  {
   "cell_type": "code",
   "execution_count": null,
   "metadata": {
    "id": "hrcc2B--QS6y"
   },
   "outputs": [],
   "source": [
    "def saudacao_com_parametros(nome_da_pessoa):\n",
    "  print(f'Olá {nome_da_pessoa}!')"
   ]
  },
  {
   "cell_type": "code",
   "execution_count": null,
   "metadata": {
    "colab": {
     "base_uri": "https://localhost:8080/"
    },
    "executionInfo": {
     "elapsed": 1351,
     "status": "ok",
     "timestamp": 1607362302735,
     "user": {
      "displayName": "Diego Cowen Pinto",
      "photoUrl": "https://lh3.googleusercontent.com/a-/AOh14GhkSbJn7uVBQmIkmxpBAHIeyBv3MYDnDVJE13xm8w=s64",
      "userId": "00433632151485364739"
     },
     "user_tz": 180
    },
    "id": "30F2aEb3QiJc",
    "outputId": "e5c3ed5e-7569-4960-d22f-cd000585c7ae"
   },
   "outputs": [
    {
     "name": "stdout",
     "output_type": "stream",
     "text": [
      "Olá Matteo!\n"
     ]
    }
   ],
   "source": [
    "saudacao_com_parametros(nome)"
   ]
  },
  {
   "cell_type": "markdown",
   "metadata": {
    "id": "GU3TMd-kT6rj"
   },
   "source": [
    "# Condicional"
   ]
  },
  {
   "cell_type": "code",
   "execution_count": 1,
   "metadata": {
    "colab": {
     "base_uri": "https://localhost:8080/"
    },
    "executionInfo": {
     "elapsed": 793,
     "status": "ok",
     "timestamp": 1607363694600,
     "user": {
      "displayName": "Diego Cowen Pinto",
      "photoUrl": "https://lh3.googleusercontent.com/a-/AOh14GhkSbJn7uVBQmIkmxpBAHIeyBv3MYDnDVJE13xm8w=s64",
      "userId": "00433632151485364739"
     },
     "user_tz": 180
    },
    "id": "5yRWx1piT8_B",
    "outputId": "90fbaea1-de4b-4071-c42f-7245ca990045"
   },
   "outputs": [
    {
     "name": "stdout",
     "output_type": "stream",
     "text": [
      "Você não está apto para dirigir!\n"
     ]
    }
   ],
   "source": [
    "idade = 15\n",
    "\n",
    "def verifica_se_pode_dirigir(idade):\n",
    "  if( idade >= 18):\n",
    "    print('Você está apto para dirigir!')\n",
    "  else:\n",
    "    print('Você não está apto para dirigir!')\n",
    "\n",
    "verifica_se_pode_dirigir(idade)\n"
   ]
  },
  {
   "cell_type": "code",
   "execution_count": 2,
   "metadata": {
    "colab": {
     "base_uri": "https://localhost:8080/"
    },
    "executionInfo": {
     "elapsed": 6792,
     "status": "ok",
     "timestamp": 1607364087796,
     "user": {
      "displayName": "Diego Cowen Pinto",
      "photoUrl": "https://lh3.googleusercontent.com/a-/AOh14GhkSbJn7uVBQmIkmxpBAHIeyBv3MYDnDVJE13xm8w=s64",
      "userId": "00433632151485364739"
     },
     "user_tz": 180
    },
    "id": "YBcVkoIFVCc5",
    "outputId": "dbbf6e27-8f02-4f66-9d55-7ce3c4495ec6"
   },
   "outputs": [
    {
     "name": "stdout",
     "output_type": "stream",
     "text": [
      "Qual a sua idade? 15\n",
      "Você não está apto para dirigir!\n"
     ]
    }
   ],
   "source": [
    "def verifica_se_pode_dirigir_sem_parametros():\n",
    "  idade = int(input('Qual a sua idade? '))\n",
    "   \n",
    "  if( idade >= 18):\n",
    "    print('Você está apto para dirigir!')\n",
    "  else:\n",
    "    print('Você não está apto para dirigir!')\n",
    "\n",
    "verifica_se_pode_dirigir_sem_parametros()"
   ]
  },
  {
   "cell_type": "markdown",
   "metadata": {
    "id": "3_Poyzw6ho-c"
   },
   "source": [
    "# Lista"
   ]
  },
  {
   "cell_type": "code",
   "execution_count": null,
   "metadata": {
    "id": "ic4BTMG1hrrt"
   },
   "outputs": [],
   "source": [
    "idades = [12, 44, 15, 32, 27]\n",
    "#          0   1   2   3   4\n",
    "#          0  -4  -3  -2  -1"
   ]
  },
  {
   "cell_type": "code",
   "execution_count": null,
   "metadata": {
    "colab": {
     "base_uri": "https://localhost:8080/"
    },
    "executionInfo": {
     "elapsed": 639,
     "status": "ok",
     "timestamp": 1607366919943,
     "user": {
      "displayName": "Diego Cowen Pinto",
      "photoUrl": "https://lh3.googleusercontent.com/a-/AOh14GhkSbJn7uVBQmIkmxpBAHIeyBv3MYDnDVJE13xm8w=s64",
      "userId": "00433632151485364739"
     },
     "user_tz": 180
    },
    "id": "HETGMNZGiI_K",
    "outputId": "65caf06b-d392-4866-c78e-8da39fe8af26"
   },
   "outputs": [
    {
     "data": {
      "text/plain": [
       "list"
      ]
     },
     "execution_count": 49,
     "metadata": {
      "tags": []
     },
     "output_type": "execute_result"
    }
   ],
   "source": [
    "type(idades)"
   ]
  },
  {
   "cell_type": "code",
   "execution_count": null,
   "metadata": {
    "colab": {
     "base_uri": "https://localhost:8080/"
    },
    "executionInfo": {
     "elapsed": 920,
     "status": "ok",
     "timestamp": 1607366937763,
     "user": {
      "displayName": "Diego Cowen Pinto",
      "photoUrl": "https://lh3.googleusercontent.com/a-/AOh14GhkSbJn7uVBQmIkmxpBAHIeyBv3MYDnDVJE13xm8w=s64",
      "userId": "00433632151485364739"
     },
     "user_tz": 180
    },
    "id": "nx6I1kDRiMRM",
    "outputId": "5214987f-93bf-4b0c-c581-40996b5d10f6"
   },
   "outputs": [
    {
     "data": {
      "text/plain": [
       "15"
      ]
     },
     "execution_count": 50,
     "metadata": {
      "tags": []
     },
     "output_type": "execute_result"
    }
   ],
   "source": [
    "idades[2]"
   ]
  },
  {
   "cell_type": "code",
   "execution_count": null,
   "metadata": {
    "colab": {
     "base_uri": "https://localhost:8080/"
    },
    "executionInfo": {
     "elapsed": 744,
     "status": "ok",
     "timestamp": 1607367040307,
     "user": {
      "displayName": "Diego Cowen Pinto",
      "photoUrl": "https://lh3.googleusercontent.com/a-/AOh14GhkSbJn7uVBQmIkmxpBAHIeyBv3MYDnDVJE13xm8w=s64",
      "userId": "00433632151485364739"
     },
     "user_tz": 180
    },
    "id": "0LGdNxW1iQjM",
    "outputId": "f733eb5c-921e-46da-f488-438474346881"
   },
   "outputs": [
    {
     "data": {
      "text/plain": [
       "[12, 44]"
      ]
     },
     "execution_count": 51,
     "metadata": {
      "tags": []
     },
     "output_type": "execute_result"
    }
   ],
   "source": [
    "idades[0:2]"
   ]
  },
  {
   "cell_type": "code",
   "execution_count": null,
   "metadata": {
    "colab": {
     "base_uri": "https://localhost:8080/"
    },
    "executionInfo": {
     "elapsed": 814,
     "status": "ok",
     "timestamp": 1607367137188,
     "user": {
      "displayName": "Diego Cowen Pinto",
      "photoUrl": "https://lh3.googleusercontent.com/a-/AOh14GhkSbJn7uVBQmIkmxpBAHIeyBv3MYDnDVJE13xm8w=s64",
      "userId": "00433632151485364739"
     },
     "user_tz": 180
    },
    "id": "JN_q0IEoipoL",
    "outputId": "10b406c6-64d1-406d-d246-3cb441d5fc8b"
   },
   "outputs": [
    {
     "data": {
      "text/plain": [
       "[15, 32, 27]"
      ]
     },
     "execution_count": 53,
     "metadata": {
      "tags": []
     },
     "output_type": "execute_result"
    }
   ],
   "source": [
    "idades[2:]"
   ]
  },
  {
   "cell_type": "code",
   "execution_count": null,
   "metadata": {
    "colab": {
     "base_uri": "https://localhost:8080/"
    },
    "executionInfo": {
     "elapsed": 1086,
     "status": "ok",
     "timestamp": 1607367152118,
     "user": {
      "displayName": "Diego Cowen Pinto",
      "photoUrl": "https://lh3.googleusercontent.com/a-/AOh14GhkSbJn7uVBQmIkmxpBAHIeyBv3MYDnDVJE13xm8w=s64",
      "userId": "00433632151485364739"
     },
     "user_tz": 180
    },
    "id": "FoMf0LXbi4lV",
    "outputId": "5c335337-a97d-41a1-e174-8ef9027809d7"
   },
   "outputs": [
    {
     "data": {
      "text/plain": [
       "27"
      ]
     },
     "execution_count": 54,
     "metadata": {
      "tags": []
     },
     "output_type": "execute_result"
    }
   ],
   "source": [
    "idades[-1]"
   ]
  },
  {
   "cell_type": "code",
   "execution_count": null,
   "metadata": {
    "colab": {
     "base_uri": "https://localhost:8080/"
    },
    "executionInfo": {
     "elapsed": 613,
     "status": "ok",
     "timestamp": 1607367169280,
     "user": {
      "displayName": "Diego Cowen Pinto",
      "photoUrl": "https://lh3.googleusercontent.com/a-/AOh14GhkSbJn7uVBQmIkmxpBAHIeyBv3MYDnDVJE13xm8w=s64",
      "userId": "00433632151485364739"
     },
     "user_tz": 180
    },
    "id": "VvwL86kkjE16",
    "outputId": "4f40ed18-0c91-4b5d-9f8a-4c65b121b457"
   },
   "outputs": [
    {
     "data": {
      "text/plain": [
       "32"
      ]
     },
     "execution_count": 55,
     "metadata": {
      "tags": []
     },
     "output_type": "execute_result"
    }
   ],
   "source": [
    "idades[-2]"
   ]
  },
  {
   "cell_type": "markdown",
   "metadata": {
    "id": "Bxgt6uYhkYOh"
   },
   "source": [
    "# Laços e Loops"
   ]
  },
  {
   "cell_type": "code",
   "execution_count": null,
   "metadata": {
    "id": "U_LZ0hc-kx5K"
   },
   "outputs": [],
   "source": [
    "idades = [18, 22, 15, 50]"
   ]
  },
  {
   "cell_type": "code",
   "execution_count": null,
   "metadata": {
    "colab": {
     "base_uri": "https://localhost:8080/"
    },
    "executionInfo": {
     "elapsed": 664,
     "status": "ok",
     "timestamp": 1607367761938,
     "user": {
      "displayName": "Diego Cowen Pinto",
      "photoUrl": "https://lh3.googleusercontent.com/a-/AOh14GhkSbJn7uVBQmIkmxpBAHIeyBv3MYDnDVJE13xm8w=s64",
      "userId": "00433632151485364739"
     },
     "user_tz": 180
    },
    "id": "9_VgrCzVlY-4",
    "outputId": "e142a724-0b87-4e94-e527-02ae498bb13d"
   },
   "outputs": [
    {
     "data": {
      "text/plain": [
       "[18, 22, 15, 50]"
      ]
     },
     "execution_count": 59,
     "metadata": {
      "tags": []
     },
     "output_type": "execute_result"
    }
   ],
   "source": [
    "idades"
   ]
  },
  {
   "cell_type": "code",
   "execution_count": null,
   "metadata": {
    "colab": {
     "base_uri": "https://localhost:8080/"
    },
    "executionInfo": {
     "elapsed": 678,
     "status": "ok",
     "timestamp": 1607368054690,
     "user": {
      "displayName": "Diego Cowen Pinto",
      "photoUrl": "https://lh3.googleusercontent.com/a-/AOh14GhkSbJn7uVBQmIkmxpBAHIeyBv3MYDnDVJE13xm8w=s64",
      "userId": "00433632151485364739"
     },
     "user_tz": 180
    },
    "id": "9ZxDlV8RkbVG",
    "outputId": "f81bcbae-b62d-45aa-aa8d-65248c94c4fc"
   },
   "outputs": [
    {
     "name": "stdout",
     "output_type": "stream",
     "text": [
      "Com 18 anos você está apto para dirigir!\n",
      "Com 22 anos você está apto para dirigir!\n",
      "Com 15 anos você não está apto para dirigir!\n",
      "Com 50 anos você está apto para dirigir!\n"
     ]
    }
   ],
   "source": [
    "# for fora da função\n",
    "\n",
    "def verifica_se_pode_dirigir(idade):\n",
    "  if( idade >= 18):\n",
    "    print(f'Com {idade} anos você está apto para dirigir!')\n",
    "  else:\n",
    "    print(f'Com {idade} anos você não está apto para dirigir!')\n",
    "\n",
    "for idade in idades:\n",
    "  verifica_se_pode_dirigir(idade)"
   ]
  },
  {
   "cell_type": "code",
   "execution_count": null,
   "metadata": {
    "colab": {
     "base_uri": "https://localhost:8080/"
    },
    "executionInfo": {
     "elapsed": 737,
     "status": "ok",
     "timestamp": 1607368216039,
     "user": {
      "displayName": "Diego Cowen Pinto",
      "photoUrl": "https://lh3.googleusercontent.com/a-/AOh14GhkSbJn7uVBQmIkmxpBAHIeyBv3MYDnDVJE13xm8w=s64",
      "userId": "00433632151485364739"
     },
     "user_tz": 180
    },
    "id": "TfVdeCnbl3ly",
    "outputId": "c5887285-c625-4ff4-b074-526ef2a2d10f"
   },
   "outputs": [
    {
     "name": "stdout",
     "output_type": "stream",
     "text": [
      "Com 18 anos você está apto para dirigir!\n",
      "Com 22 anos você está apto para dirigir!\n",
      "Com 15 anos você não está apto para dirigir!\n",
      "Com 50 anos você está apto para dirigir!\n"
     ]
    }
   ],
   "source": [
    "# for dentro da função\n",
    "def verifica_se_pode_dirigir(idades):\n",
    "  for idade in idades:\n",
    "    if( idade >= 18):\n",
    "      print(f'Com {idade} anos você está apto para dirigir!')\n",
    "    else:\n",
    "      print(f'Com {idade} anos você não está apto para dirigir!')\n",
    "\n",
    "verifica_se_pode_dirigir(idades)"
   ]
  },
  {
   "cell_type": "markdown",
   "metadata": {
    "id": "WYPsTTOyoDup"
   },
   "source": [
    "# Boleano"
   ]
  },
  {
   "cell_type": "code",
   "execution_count": null,
   "metadata": {
    "colab": {
     "base_uri": "https://localhost:8080/"
    },
    "executionInfo": {
     "elapsed": 928,
     "status": "ok",
     "timestamp": 1607368614268,
     "user": {
      "displayName": "Diego Cowen Pinto",
      "photoUrl": "https://lh3.googleusercontent.com/a-/AOh14GhkSbJn7uVBQmIkmxpBAHIeyBv3MYDnDVJE13xm8w=s64",
      "userId": "00433632151485364739"
     },
     "user_tz": 180
    },
    "id": "9KLIG_zRoGtZ",
    "outputId": "29d435aa-d9ed-4389-a711-71b988ede193"
   },
   "outputs": [
    {
     "data": {
      "text/plain": [
       "True"
      ]
     },
     "execution_count": 69,
     "metadata": {
      "tags": []
     },
     "output_type": "execute_result"
    }
   ],
   "source": [
    "idade = 18\n",
    "idade >= 18"
   ]
  },
  {
   "cell_type": "code",
   "execution_count": null,
   "metadata": {
    "colab": {
     "base_uri": "https://localhost:8080/"
    },
    "executionInfo": {
     "elapsed": 693,
     "status": "ok",
     "timestamp": 1607368642146,
     "user": {
      "displayName": "Diego Cowen Pinto",
      "photoUrl": "https://lh3.googleusercontent.com/a-/AOh14GhkSbJn7uVBQmIkmxpBAHIeyBv3MYDnDVJE13xm8w=s64",
      "userId": "00433632151485364739"
     },
     "user_tz": 180
    },
    "id": "dCom35kgop2Z",
    "outputId": "f3e1f24e-0a98-4745-c517-cbb755329be4"
   },
   "outputs": [
    {
     "data": {
      "text/plain": [
       "False"
      ]
     },
     "execution_count": 71,
     "metadata": {
      "tags": []
     },
     "output_type": "execute_result"
    }
   ],
   "source": [
    "idade = 15\n",
    "idade >= 18"
   ]
  },
  {
   "cell_type": "code",
   "execution_count": null,
   "metadata": {
    "id": "TGE1tkVpovYE"
   },
   "outputs": [],
   "source": [
    "permissoes = []\n",
    "idades = [20, 14, 40]\n",
    "\n",
    "def verifica_se_pode_dirigir(idades, permissoes):\n",
    "  for idade in idades:\n",
    "    if idade >= 18:\n",
    "      permissoes.append(True)\n",
    "    else:\n",
    "      permissoes.append(False)\n",
    "\n",
    "verifica_se_pode_dirigir(idades, permissoes)\n"
   ]
  },
  {
   "cell_type": "code",
   "execution_count": null,
   "metadata": {
    "colab": {
     "base_uri": "https://localhost:8080/"
    },
    "executionInfo": {
     "elapsed": 660,
     "status": "ok",
     "timestamp": 1607368970840,
     "user": {
      "displayName": "Diego Cowen Pinto",
      "photoUrl": "https://lh3.googleusercontent.com/a-/AOh14GhkSbJn7uVBQmIkmxpBAHIeyBv3MYDnDVJE13xm8w=s64",
      "userId": "00433632151485364739"
     },
     "user_tz": 180
    },
    "id": "faEV658WpDc9",
    "outputId": "741714c9-1a93-401f-c2e5-a4213ad1cf01"
   },
   "outputs": [
    {
     "data": {
      "text/plain": [
       "[True, False, True]"
      ]
     },
     "execution_count": 76,
     "metadata": {
      "tags": []
     },
     "output_type": "execute_result"
    }
   ],
   "source": [
    "permissoes"
   ]
  },
  {
   "cell_type": "code",
   "execution_count": null,
   "metadata": {
    "colab": {
     "base_uri": "https://localhost:8080/"
    },
    "executionInfo": {
     "elapsed": 687,
     "status": "ok",
     "timestamp": 1607369365604,
     "user": {
      "displayName": "Diego Cowen Pinto",
      "photoUrl": "https://lh3.googleusercontent.com/a-/AOh14GhkSbJn7uVBQmIkmxpBAHIeyBv3MYDnDVJE13xm8w=s64",
      "userId": "00433632151485364739"
     },
     "user_tz": 180
    },
    "id": "_M9EGqIZqA9k",
    "outputId": "caf11a6c-fa02-4583-95df-dc04d0983f69"
   },
   "outputs": [
    {
     "name": "stdout",
     "output_type": "stream",
     "text": [
      "Você está apto a dirigir!\n",
      "Você não está apto a dirigir!\n",
      "Você está apto a dirigir!\n"
     ]
    }
   ],
   "source": [
    "for permissao in permissoes:\n",
    "  if permissao == True:\n",
    "    print('Você está apto a dirigir!')\n",
    "  else:\n",
    "    print('Você não está apto a dirigir!')"
   ]
  },
  {
   "cell_type": "code",
   "execution_count": null,
   "metadata": {
    "colab": {
     "base_uri": "https://localhost:8080/"
    },
    "executionInfo": {
     "elapsed": 1860,
     "status": "ok",
     "timestamp": 1607475155955,
     "user": {
      "displayName": "Diego Cowen Pinto",
      "photoUrl": "https://lh3.googleusercontent.com/a-/AOh14GhkSbJn7uVBQmIkmxpBAHIeyBv3MYDnDVJE13xm8w=s64",
      "userId": "00433632151485364739"
     },
     "user_tz": 180
    },
    "id": "TjNJufJfqgaN",
    "outputId": "4f05b4cd-97f0-4f5e-f9ae-3997b0323b1f"
   },
   "outputs": [
    {
     "name": "stdout",
     "output_type": "stream",
     "text": [
      "Você está apto a dirigir!\n",
      "Você não está apto a dirigir!\n",
      "Você está apto a dirigir!\n"
     ]
    }
   ],
   "source": [
    "permissoes = []\n",
    "idades = [20, 14, 25]\n",
    "\n",
    "def verifica_se_pode_dirigir(idades, permissoes):\n",
    "  for idade in idades:\n",
    "    if idade >= 18:\n",
    "      permissoes.append(True)\n",
    "    else:\n",
    "      permissoes.append(False)\n",
    "\n",
    "  for permissao in permissoes:\n",
    "    if permissao == True:\n",
    "      print('Você está apto a dirigir!')\n",
    "    else:\n",
    "      print('Você não está apto a dirigir!')\n",
    "\n",
    "verifica_se_pode_dirigir(idades, permissoes)\n"
   ]
  },
  {
   "cell_type": "markdown",
   "metadata": {
    "id": "RyLE4HPM-2Qb"
   },
   "source": [
    "# Tipos em uma Lista"
   ]
  },
  {
   "cell_type": "code",
   "execution_count": null,
   "metadata": {
    "colab": {
     "base_uri": "https://localhost:8080/"
    },
    "executionInfo": {
     "elapsed": 1122,
     "status": "ok",
     "timestamp": 1607475439336,
     "user": {
      "displayName": "Diego Cowen Pinto",
      "photoUrl": "https://lh3.googleusercontent.com/a-/AOh14GhkSbJn7uVBQmIkmxpBAHIeyBv3MYDnDVJE13xm8w=s64",
      "userId": "00433632151485364739"
     },
     "user_tz": 180
    },
    "id": "_9ftZn63-6te",
    "outputId": "579dffed-1e08-4f51-a3b1-e8a9bf6a151b"
   },
   "outputs": [
    {
     "name": "stdout",
     "output_type": "stream",
     "text": [
      "O Diego é do tipo:  <class 'str'>\n",
      "O 27 é do tipo:  <class 'int'>\n",
      "O True é do tipo:  <class 'bool'>\n",
      "O 7.2 é do tipo:  <class 'float'>\n"
     ]
    }
   ],
   "source": [
    "lista = ['Diego', 27, True, 7.2]\n",
    "\n",
    "for elemento in lista:\n",
    "  print(f'O {elemento} é do tipo: ', type(elemento))"
   ]
  },
  {
   "cell_type": "markdown",
   "metadata": {
    "id": "pjF_aLdwRcXh"
   },
   "source": [
    "# Import"
   ]
  },
  {
   "cell_type": "code",
   "execution_count": 9,
   "metadata": {
    "executionInfo": {
     "elapsed": 700,
     "status": "ok",
     "timestamp": 1607531079181,
     "user": {
      "displayName": "Diego Cowen Pinto",
      "photoUrl": "https://lh3.googleusercontent.com/a-/AOh14GhkSbJn7uVBQmIkmxpBAHIeyBv3MYDnDVJE13xm8w=s64",
      "userId": "00433632151485364739"
     },
     "user_tz": 180
    },
    "id": "we8-Q5cpAKIb"
   },
   "outputs": [],
   "source": [
    "from random import randrange, seed"
   ]
  },
  {
   "cell_type": "code",
   "execution_count": 14,
   "metadata": {
    "executionInfo": {
     "elapsed": 926,
     "status": "ok",
     "timestamp": 1607531110707,
     "user": {
      "displayName": "Diego Cowen Pinto",
      "photoUrl": "https://lh3.googleusercontent.com/a-/AOh14GhkSbJn7uVBQmIkmxpBAHIeyBv3MYDnDVJE13xm8w=s64",
      "userId": "00433632151485364739"
     },
     "user_tz": 180
    },
    "id": "c4dvPTjgUbtW"
   },
   "outputs": [],
   "source": [
    "seed(11)"
   ]
  },
  {
   "cell_type": "code",
   "execution_count": 15,
   "metadata": {
    "colab": {
     "base_uri": "https://localhost:8080/"
    },
    "executionInfo": {
     "elapsed": 691,
     "status": "ok",
     "timestamp": 1607531112577,
     "user": {
      "displayName": "Diego Cowen Pinto",
      "photoUrl": "https://lh3.googleusercontent.com/a-/AOh14GhkSbJn7uVBQmIkmxpBAHIeyBv3MYDnDVJE13xm8w=s64",
      "userId": "00433632151485364739"
     },
     "user_tz": 180
    },
    "id": "0HXfPORuRyML",
    "outputId": "00534418-28c7-49be-fc4e-5d73d7da0af8"
   },
   "outputs": [
    {
     "data": {
      "text/plain": [
       "7"
      ]
     },
     "execution_count": 15,
     "metadata": {
      "tags": []
     },
     "output_type": "execute_result"
    }
   ],
   "source": [
    "randrange(0, 11)"
   ]
  },
  {
   "cell_type": "code",
   "execution_count": 16,
   "metadata": {
    "colab": {
     "base_uri": "https://localhost:8080/"
    },
    "executionInfo": {
     "elapsed": 672,
     "status": "ok",
     "timestamp": 1607531114812,
     "user": {
      "displayName": "Diego Cowen Pinto",
      "photoUrl": "https://lh3.googleusercontent.com/a-/AOh14GhkSbJn7uVBQmIkmxpBAHIeyBv3MYDnDVJE13xm8w=s64",
      "userId": "00433632151485364739"
     },
     "user_tz": 180
    },
    "id": "MHPKiPw-SQaB",
    "outputId": "d8d084a5-fa0e-4f15-bb0e-5514e7bf138c"
   },
   "outputs": [
    {
     "data": {
      "text/plain": [
       "[8, 7, 7, 8, 9, 3, 2, 8]"
      ]
     },
     "execution_count": 16,
     "metadata": {
      "tags": []
     },
     "output_type": "execute_result"
    }
   ],
   "source": [
    "notas_matematica = []\n",
    "\n",
    "for notas in range(8):\n",
    "  notas_matematica.append(randrange(0, 11))\n",
    "\n",
    "notas_matematica"
   ]
  },
  {
   "cell_type": "markdown",
   "metadata": {
    "id": "vsvX50wjaqSb"
   },
   "source": [
    "# Matplotlib"
   ]
  },
  {
   "cell_type": "code",
   "execution_count": 17,
   "metadata": {
    "executionInfo": {
     "elapsed": 801,
     "status": "ok",
     "timestamp": 1607532982967,
     "user": {
      "displayName": "Diego Cowen Pinto",
      "photoUrl": "https://lh3.googleusercontent.com/a-/AOh14GhkSbJn7uVBQmIkmxpBAHIeyBv3MYDnDVJE13xm8w=s64",
      "userId": "00433632151485364739"
     },
     "user_tz": 180
    },
    "id": "DI5EZ9GyasUY"
   },
   "outputs": [],
   "source": [
    "import matplotlib.pyplot as plt"
   ]
  },
  {
   "cell_type": "code",
   "execution_count": 24,
   "metadata": {
    "colab": {
     "base_uri": "https://localhost:8080/",
     "height": 295
    },
    "executionInfo": {
     "elapsed": 703,
     "status": "ok",
     "timestamp": 1607533374411,
     "user": {
      "displayName": "Diego Cowen Pinto",
      "photoUrl": "https://lh3.googleusercontent.com/a-/AOh14GhkSbJn7uVBQmIkmxpBAHIeyBv3MYDnDVJE13xm8w=s64",
      "userId": "00433632151485364739"
     },
     "user_tz": 180
    },
    "id": "HNhhOlFybq8X",
    "outputId": "ed852afb-d5bb-4962-a717-dcb78eae0aa3"
   },
   "outputs": [
    {
     "data": {
      "image/png": "[encoded data removed]",
      "text/plain": [
       "<Figure size 432x288 with 1 Axes>"
      ]
     },
     "metadata": {
      "needs_background": "light",
      "tags": []
     },
     "output_type": "display_data"
    }
   ],
   "source": [
    "x = list(range(1, 9))\n",
    "y = notas_matematica\n",
    "plt.plot(x, y, marker = 'o')\n",
    "plt.title('Notas de Matemática')\n",
    "plt.xlabel('Provas')\n",
    "plt.ylabel('Notas')\n",
    "plt.show()"
   ]
  }
 ],
 "metadata": {
  "colab": {
   "authorship_tag": "ABX9TyOMX0c1JxMNc1XF/QHCKbNP",
   "collapsed_sections": [
    "gZKX-bWSIH5Y",
    "y0mjWFhhKwCF",
    "QQqREgoBQtJL"
   ],
   "name": "01. Lógica de Programação.ipynb",
   "provenance": []
  },
  "kernelspec": {
   "display_name": "Python 3",
   "language": "python",
   "name": "python3"
  },
  "language_info": {
   "codemirror_mode": {
    "name": "ipython",
    "version": 3
   },
   "file_extension": ".py",
   "mimetype": "text/x-python",
   "name": "python",
   "nbconvert_exporter": "python",
   "pygments_lexer": "ipython3",
   "version": "3.8.5"
  }
 },
 "nbformat": 4,
 "nbformat_minor": 1
}
