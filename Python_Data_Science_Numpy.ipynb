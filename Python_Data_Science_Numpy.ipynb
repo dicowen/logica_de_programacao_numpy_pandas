{
 "cells": [
  {
   "cell_type": "markdown",
   "metadata": {
    "id": "C6vbfq8DltjM"
   },
   "source": [
    "### Verificando versão"
   ]
  },
  {
   "cell_type": "code",
   "execution_count": 1,
   "metadata": {
    "colab": {
     "base_uri": "https://localhost:8080/"
    },
    "executionInfo": {
     "elapsed": 1787,
     "status": "ok",
     "timestamp": 1611772784335,
     "user": {
      "displayName": "Diego Cowen Pinto",
      "photoUrl": "https://lh3.googleusercontent.com/a-/AOh14GhkSbJn7uVBQmIkmxpBAHIeyBv3MYDnDVJE13xm8w=s64",
      "userId": "00433632151485364739"
     },
     "user_tz": 180
    },
    "id": "jeuAt-4NltjM",
    "outputId": "88d1849a-635b-4c45-9a52-e2632eac26ae"
   },
   "outputs": [
    {
     "name": "stdout",
     "output_type": "stream",
     "text": [
      "Python 3.8.5\n"
     ]
    }
   ],
   "source": [
    "!python -V"
   ]
  },
  {
   "cell_type": "markdown",
   "metadata": {
    "id": "v86aEyR2ltjR"
   },
   "source": [
    "# Trabalhando com arrays Numpy"
   ]
  },
  {
   "cell_type": "code",
   "execution_count": null,
   "metadata": {
    "id": "6FEhElzNltjR"
   },
   "outputs": [],
   "source": [
    "import numpy as np"
   ]
  },
  {
   "cell_type": "code",
   "execution_count": null,
   "metadata": {
    "id": "qjL5wPLKltjU"
   },
   "outputs": [],
   "source": [
    "km = np.loadtxt('carros-km.txt')"
   ]
  },
  {
   "cell_type": "code",
   "execution_count": null,
   "metadata": {
    "colab": {
     "base_uri": "https://localhost:8080/"
    },
    "executionInfo": {
     "elapsed": 1201,
     "status": "ok",
     "timestamp": 1607701779180,
     "user": {
      "displayName": "Diego Cowen Pinto",
      "photoUrl": "https://lh3.googleusercontent.com/a-/AOh14GhkSbJn7uVBQmIkmxpBAHIeyBv3MYDnDVJE13xm8w=s64",
      "userId": "00433632151485364739"
     },
     "user_tz": 180
    },
    "id": "OFaxgUptltjW",
    "outputId": "b241b964-3a25-4463-e542-2b908455e1ff",
    "scrolled": true
   },
   "outputs": [
    {
     "data": {
      "text/plain": [
       "array([4.44100e+04, 5.71200e+03, 3.71230e+04, 0.00000e+00, 2.57570e+04,\n",
       "       1.07280e+04, 0.00000e+00, 7.75990e+04, 9.91970e+04, 3.79780e+04,\n",
       "       1.28590e+04, 8.05200e+03, 8.97730e+04, 0.00000e+00, 4.14570e+04,\n",
       "       1.15607e+05, 4.64490e+04, 0.00000e+00, 3.70860e+04, 1.51730e+04,\n",
       "       1.01193e+05, 0.00000e+00, 9.80790e+04, 1.02959e+05, 0.00000e+00,\n",
       "       0.00000e+00, 5.79500e+03, 0.00000e+00, 5.88480e+04, 9.43810e+04,\n",
       "       3.01630e+04, 5.33320e+04, 1.77200e+04, 3.38080e+04, 9.06840e+04,\n",
       "       4.39750e+04, 0.00000e+00, 0.00000e+00, 5.52600e+03, 0.00000e+00,\n",
       "       9.34150e+04, 4.07620e+04, 0.00000e+00, 8.63020e+04, 0.00000e+00,\n",
       "       9.75500e+03, 6.99450e+04, 2.39500e+03, 0.00000e+00, 8.03490e+04,\n",
       "       8.55540e+04, 5.04960e+04, 6.77160e+04, 9.39470e+04, 3.53450e+04,\n",
       "       8.10070e+04, 1.19513e+05, 0.00000e+00, 0.00000e+00, 0.00000e+00,\n",
       "       0.00000e+00, 0.00000e+00, 1.18895e+05, 4.85090e+04, 1.00912e+05,\n",
       "       9.56490e+04, 0.00000e+00, 9.04950e+04, 0.00000e+00, 2.91320e+04,\n",
       "       2.38020e+04, 8.49920e+04, 5.43950e+04, 2.67310e+04, 4.43290e+04,\n",
       "       1.18236e+05, 1.13808e+05, 6.10000e+02, 0.00000e+00, 0.00000e+00,\n",
       "       1.28870e+04, 7.96070e+04, 9.09240e+04, 4.27330e+04, 0.00000e+00,\n",
       "       0.00000e+00, 1.17714e+05, 1.13885e+05, 0.00000e+00, 3.05110e+04,\n",
       "       7.48670e+04, 1.19760e+05, 8.35600e+03, 6.42470e+04, 8.86610e+04,\n",
       "       4.53900e+03, 1.10116e+05, 3.32150e+04, 9.20010e+04, 0.00000e+00,\n",
       "       8.17080e+04, 7.06410e+04, 0.00000e+00, 9.12770e+04, 2.65440e+04,\n",
       "       5.25960e+04, 4.75030e+04, 8.90560e+04, 2.88340e+04, 1.10564e+05,\n",
       "       5.66380e+04, 1.73570e+04, 7.40150e+04, 1.51960e+04, 0.00000e+00,\n",
       "       1.08210e+04, 0.00000e+00, 0.00000e+00, 9.59500e+03, 9.90520e+04,\n",
       "       5.23890e+04, 1.19945e+05, 9.60050e+04, 3.16390e+04, 0.00000e+00,\n",
       "       8.01870e+04, 0.00000e+00, 5.82120e+04, 6.16720e+04, 3.20170e+04,\n",
       "       0.00000e+00, 5.69440e+04, 0.00000e+00, 8.65190e+04, 4.82100e+03,\n",
       "       1.01025e+05, 3.07050e+04, 0.00000e+00, 3.25550e+04, 1.03389e+05,\n",
       "       0.00000e+00, 5.52890e+04, 0.00000e+00, 0.00000e+00, 1.15930e+05,\n",
       "       6.64370e+04, 9.68000e+04, 1.42370e+04, 1.98960e+04, 1.13045e+05,\n",
       "       1.14942e+05, 3.17300e+03, 8.36110e+04, 2.53560e+04, 8.86340e+04,\n",
       "       2.31400e+03, 2.62700e+03, 5.20340e+04, 0.00000e+00, 0.00000e+00,\n",
       "       7.95770e+04, 1.08201e+05, 7.64530e+04, 5.76830e+04, 9.66100e+04,\n",
       "       1.09001e+05, 2.62120e+04, 4.59710e+04, 4.91820e+04, 4.99070e+04,\n",
       "       3.86200e+04, 6.09960e+04, 7.39140e+04, 1.07392e+05, 9.14600e+03,\n",
       "       0.00000e+00, 1.79240e+04, 0.00000e+00, 1.16949e+05, 2.04760e+04,\n",
       "       5.28040e+04, 8.84900e+03, 9.17240e+04, 3.20560e+04, 7.48860e+04,\n",
       "       0.00000e+00, 0.00000e+00, 5.21890e+04, 8.35590e+04, 0.00000e+00,\n",
       "       2.03280e+04, 0.00000e+00, 7.55770e+04, 3.36590e+04, 1.04341e+05,\n",
       "       2.55100e+04, 1.89650e+04, 8.71610e+04, 6.65200e+03, 5.57380e+04,\n",
       "       0.00000e+00, 0.00000e+00, 0.00000e+00, 6.43200e+04, 0.00000e+00,\n",
       "       6.86780e+04, 7.16970e+04, 0.00000e+00, 3.47830e+04, 3.37720e+04,\n",
       "       8.51270e+04, 1.36060e+04, 3.56470e+04, 9.51280e+04, 1.40460e+04,\n",
       "       4.11940e+04, 0.00000e+00, 9.61000e+04, 1.03900e+05, 4.38140e+04,\n",
       "       2.46380e+04, 0.00000e+00, 1.10966e+05, 1.59870e+04, 5.33690e+04,\n",
       "       1.00770e+04, 7.15440e+04, 1.07000e+02, 8.39400e+03, 4.14980e+04,\n",
       "       1.16002e+05, 1.00858e+05, 6.74750e+04, 8.49700e+03, 4.42000e+03,\n",
       "       0.00000e+00, 5.85370e+04, 0.00000e+00, 0.00000e+00, 1.12016e+05,\n",
       "       9.18400e+04, 1.12787e+05, 0.00000e+00, 0.00000e+00, 9.29300e+03,\n",
       "       0.00000e+00, 5.50830e+04, 4.87960e+04, 0.00000e+00, 8.96850e+04,\n",
       "       8.53840e+04, 9.81080e+04, 7.12800e+04, 2.75050e+04, 2.99810e+04,\n",
       "       5.26370e+04, 7.68500e+03, 5.01880e+04])"
      ]
     },
     "execution_count": 18,
     "metadata": {
      "tags": []
     },
     "output_type": "execute_result"
    }
   ],
   "source": [
    "km"
   ]
  },
  {
   "cell_type": "code",
   "execution_count": null,
   "metadata": {
    "id": "FXjYowRDltjZ"
   },
   "outputs": [],
   "source": [
    "anos = np.loadtxt('carros-anos.txt', dtype = int)"
   ]
  },
  {
   "cell_type": "code",
   "execution_count": null,
   "metadata": {
    "colab": {
     "base_uri": "https://localhost:8080/"
    },
    "executionInfo": {
     "elapsed": 844,
     "status": "ok",
     "timestamp": 1607701786069,
     "user": {
      "displayName": "Diego Cowen Pinto",
      "photoUrl": "https://lh3.googleusercontent.com/a-/AOh14GhkSbJn7uVBQmIkmxpBAHIeyBv3MYDnDVJE13xm8w=s64",
      "userId": "00433632151485364739"
     },
     "user_tz": 180
    },
    "id": "f_d2Ya-vltjb",
    "outputId": "13994dfb-005a-4c6a-f390-bfa1cb1c82c9"
   },
   "outputs": [
    {
     "data": {
      "text/plain": [
       "array([2003, 1991, 1990, 2019, 2006, 2012, 2019, 2009, 2010, 2011, 2002,\n",
       "       2007, 2001, 2019, 2009, 2016, 2012, 2019, 2016, 2017, 2002, 2019,\n",
       "       1994, 1991, 2019, 2019, 2016, 2019, 2002, 1991, 1997, 1995, 2018,\n",
       "       1991, 2014, 1995, 2019, 2019, 2009, 2019, 2013, 2003, 2019, 2002,\n",
       "       2019, 2002, 2004, 2001, 2019, 2003, 2009, 2006, 2000, 2006, 2010,\n",
       "       1994, 2007, 2019, 2019, 2019, 2019, 2019, 2017, 2011, 2001, 1996,\n",
       "       2019, 1994, 2019, 2007, 1994, 2007, 1997, 2006, 2013, 1994, 2008,\n",
       "       2008, 2019, 2019, 1999, 2007, 1993, 1995, 2019, 2019, 2016, 2011,\n",
       "       2019, 2002, 2013, 2017, 2016, 2008, 2018, 2003, 2003, 2004, 2010,\n",
       "       2019, 2006, 2001, 2019, 2015, 2018, 2017, 1992, 2001, 1993, 1995,\n",
       "       2003, 2014, 2008, 2013, 2019, 2017, 2019, 2019, 2006, 2015, 2007,\n",
       "       2005, 2017, 1998, 2019, 1999, 2019, 2009, 2003, 1994, 2019, 1994,\n",
       "       2019, 2015, 1996, 1997, 1993, 2019, 1992, 1995, 2019, 1990, 2019,\n",
       "       2019, 1991, 1990, 2012, 2007, 2013, 2000, 2002, 1996, 1996, 2015,\n",
       "       1993, 2013, 2013, 2009, 2019, 2019, 2002, 1997, 1998, 2004, 1996,\n",
       "       2015, 2016, 2005, 1999, 1995, 1993, 2004, 2013, 1998, 2018, 2019,\n",
       "       2018, 2019, 1990, 2009, 1990, 2006, 2002, 1991, 1992, 2019, 2019,\n",
       "       2005, 2010, 2019, 2016, 2019, 2010, 1994, 2001, 2014, 1996, 1993,\n",
       "       1993, 2001, 2019, 2019, 2019, 2007, 2019, 2016, 2014, 2019, 2015,\n",
       "       2015, 1996, 2002, 2005, 1995, 1999, 2005, 2019, 1997, 1990, 2001,\n",
       "       2013, 2019, 2017, 2011, 2005, 2007, 1993, 1991, 1991, 1997, 2000,\n",
       "       2007, 2006, 2015, 2008, 2019, 1996, 2019, 2019, 2014, 2004, 2008,\n",
       "       2019, 2019, 2012, 2019, 1996, 2011, 2019, 2010, 2007, 1994, 2007,\n",
       "       2014, 1991, 2002, 1996, 1992])"
      ]
     },
     "execution_count": 20,
     "metadata": {
      "tags": []
     },
     "output_type": "execute_result"
    }
   ],
   "source": [
    "anos"
   ]
  },
  {
   "cell_type": "markdown",
   "metadata": {
    "id": "wMdUsAq4ltjs"
   },
   "source": [
    "### Obtendo a quilometragem média por ano"
   ]
  },
  {
   "cell_type": "code",
   "execution_count": null,
   "metadata": {
    "colab": {
     "base_uri": "https://localhost:8080/"
    },
    "executionInfo": {
     "elapsed": 717,
     "status": "ok",
     "timestamp": 1607701790141,
     "user": {
      "displayName": "Diego Cowen Pinto",
      "photoUrl": "https://lh3.googleusercontent.com/a-/AOh14GhkSbJn7uVBQmIkmxpBAHIeyBv3MYDnDVJE13xm8w=s64",
      "userId": "00433632151485364739"
     },
     "user_tz": 180
    },
    "id": "cD2M3s3Fltjt",
    "outputId": "6df73402-5dc2-403a-f4f2-626b5d088a7d"
   },
   "outputs": [
    {
     "name": "stderr",
     "output_type": "stream",
     "text": [
      "/usr/local/lib/python3.6/dist-packages/ipykernel_launcher.py:1: RuntimeWarning: invalid value encountered in true_divide\n",
      "  \"\"\"Entry point for launching an IPython kernel.\n"
     ]
    }
   ],
   "source": [
    "km_media = km / (2019 - anos)"
   ]
  },
  {
   "cell_type": "code",
   "execution_count": null,
   "metadata": {
    "colab": {
     "base_uri": "https://localhost:8080/"
    },
    "executionInfo": {
     "elapsed": 1087,
     "status": "ok",
     "timestamp": 1607701790518,
     "user": {
      "displayName": "Diego Cowen Pinto",
      "photoUrl": "https://lh3.googleusercontent.com/a-/AOh14GhkSbJn7uVBQmIkmxpBAHIeyBv3MYDnDVJE13xm8w=s64",
      "userId": "00433632151485364739"
     },
     "user_tz": 180
    },
    "id": "65IyPzKKltjv",
    "outputId": "01f43ba7-536d-4f69-ffd7-14602977d610"
   },
   "outputs": [
    {
     "data": {
      "text/plain": [
       "array([2.77562500e+03, 2.04000000e+02, 1.28010345e+03,            nan,\n",
       "       1.98130769e+03, 1.53257143e+03,            nan, 7.75990000e+03,\n",
       "       1.10218889e+04, 4.74725000e+03, 7.56411765e+02, 6.71000000e+02,\n",
       "       4.98738889e+03,            nan, 4.14570000e+03, 3.85356667e+04,\n",
       "       6.63557143e+03,            nan, 1.23620000e+04, 7.58650000e+03,\n",
       "       5.95252941e+03,            nan, 3.92316000e+03, 3.67710714e+03,\n",
       "                  nan,            nan, 1.93166667e+03,            nan,\n",
       "       3.46164706e+03, 3.37075000e+03, 1.37104545e+03, 2.22216667e+03,\n",
       "       1.77200000e+04, 1.20742857e+03, 1.81368000e+04, 1.83229167e+03,\n",
       "                  nan,            nan, 5.52600000e+02,            nan,\n",
       "       1.55691667e+04, 2.54762500e+03,            nan, 5.07658824e+03,\n",
       "                  nan, 5.73823529e+02, 4.66300000e+03, 1.33055556e+02,\n",
       "                  nan, 5.02181250e+03, 8.55540000e+03, 3.88430769e+03,\n",
       "       3.56400000e+03, 7.22669231e+03, 3.92722222e+03, 3.24028000e+03,\n",
       "       9.95941667e+03,            nan,            nan,            nan,\n",
       "                  nan,            nan, 5.94475000e+04, 6.06362500e+03,\n",
       "       5.60622222e+03, 4.15865217e+03,            nan, 3.61980000e+03,\n",
       "                  nan, 2.42766667e+03, 9.52080000e+02, 7.08266667e+03,\n",
       "       2.47250000e+03, 2.05623077e+03, 7.38816667e+03, 4.72944000e+03,\n",
       "       1.03461818e+04, 5.54545455e+01,            nan,            nan,\n",
       "       6.44350000e+02, 6.63391667e+03, 3.49707692e+03, 1.78054167e+03,\n",
       "                  nan,            nan, 3.92380000e+04, 1.42356250e+04,\n",
       "                  nan, 1.79476471e+03, 1.24778333e+04, 5.98800000e+04,\n",
       "       2.78533333e+03, 5.84063636e+03, 8.86610000e+04, 2.83687500e+02,\n",
       "       6.88225000e+03, 2.21433333e+03, 1.02223333e+04,            nan,\n",
       "       6.28523077e+03, 3.92450000e+03,            nan, 2.28192500e+04,\n",
       "       2.65440000e+04, 2.62980000e+04, 1.75937037e+03, 4.94755556e+03,\n",
       "       1.10900000e+03, 4.60683333e+03, 3.53987500e+03, 3.47140000e+03,\n",
       "       6.72863636e+03, 2.53266667e+03,            nan, 5.41050000e+03,\n",
       "                  nan,            nan, 7.38076923e+02, 2.47630000e+04,\n",
       "       4.36575000e+03, 8.56750000e+03, 4.80025000e+04, 1.50661905e+03,\n",
       "                  nan, 4.00935000e+03,            nan, 5.82120000e+03,\n",
       "       3.85450000e+03, 1.28068000e+03,            nan, 2.27776000e+03,\n",
       "                  nan, 2.16297500e+04, 2.09608696e+02, 4.59204545e+03,\n",
       "       1.18096154e+03,            nan, 1.20574074e+03, 4.30787500e+03,\n",
       "                  nan, 1.90651724e+03,            nan,            nan,\n",
       "       4.14035714e+03, 2.29093103e+03, 1.38285714e+04, 1.18641667e+03,\n",
       "       3.31600000e+03, 5.94973684e+03, 6.76129412e+03, 1.37956522e+02,\n",
       "       3.63526087e+03, 6.33900000e+03, 3.40900000e+03, 3.85666667e+02,\n",
       "       4.37833333e+02, 5.20340000e+03,            nan,            nan,\n",
       "       4.68100000e+03, 4.91822727e+03, 3.64061905e+03, 3.84553333e+03,\n",
       "       4.20043478e+03, 2.72502500e+04, 8.73733333e+03, 3.28364286e+03,\n",
       "       2.45910000e+03, 2.07945833e+03, 1.48538462e+03, 4.06640000e+03,\n",
       "       1.23190000e+04, 5.11390476e+03, 9.14600000e+03,            nan,\n",
       "       1.79240000e+04,            nan, 4.03272414e+03, 2.04760000e+03,\n",
       "       1.82082759e+03, 6.80692308e+02, 5.39552941e+03, 1.14485714e+03,\n",
       "       2.77355556e+03,            nan,            nan, 3.72778571e+03,\n",
       "       9.28433333e+03,            nan, 6.77600000e+03,            nan,\n",
       "       8.39744444e+03, 1.34636000e+03, 5.79672222e+03, 5.10200000e+03,\n",
       "       8.24565217e+02, 3.35234615e+03, 2.55846154e+02, 3.09655556e+03,\n",
       "                  nan,            nan,            nan, 5.36000000e+03,\n",
       "                  nan, 2.28926667e+04, 1.43394000e+04,            nan,\n",
       "       8.69575000e+03, 8.44300000e+03, 3.70117391e+03, 8.00352941e+02,\n",
       "       2.54621429e+03, 3.96366667e+03, 7.02300000e+02, 2.94242857e+03,\n",
       "                  nan, 4.36818182e+03, 3.58275862e+03, 2.43411111e+03,\n",
       "       4.10633333e+03,            nan, 5.54830000e+04, 1.99837500e+03,\n",
       "       3.81207143e+03, 8.39750000e+02, 2.75169231e+03, 3.82142857e+00,\n",
       "       2.99785714e+02, 1.88627273e+03, 6.10536842e+03, 8.40483333e+03,\n",
       "       5.19038462e+03, 2.12425000e+03, 4.01818182e+02,            nan,\n",
       "       2.54508696e+03,            nan,            nan, 2.24032000e+04,\n",
       "       6.12266667e+03, 1.02533636e+04,            nan,            nan,\n",
       "       1.32757143e+03,            nan, 2.39491304e+03, 6.09950000e+03,\n",
       "                  nan, 9.96500000e+03, 7.11533333e+03, 3.92432000e+03,\n",
       "       5.94000000e+03, 5.50100000e+03, 1.07075000e+03, 3.09629412e+03,\n",
       "       3.34130435e+02, 1.85881481e+03])"
      ]
     },
     "execution_count": 22,
     "metadata": {
      "tags": []
     },
     "output_type": "execute_result"
    }
   ],
   "source": [
    "km_media"
   ]
  },
  {
   "cell_type": "code",
   "execution_count": null,
   "metadata": {
    "colab": {
     "base_uri": "https://localhost:8080/"
    },
    "executionInfo": {
     "elapsed": 1077,
     "status": "ok",
     "timestamp": 1607701790519,
     "user": {
      "displayName": "Diego Cowen Pinto",
      "photoUrl": "https://lh3.googleusercontent.com/a-/AOh14GhkSbJn7uVBQmIkmxpBAHIeyBv3MYDnDVJE13xm8w=s64",
      "userId": "00433632151485364739"
     },
     "user_tz": 180
    },
    "id": "Z0JCmAWvltjy",
    "outputId": "ea875b26-7b63-413b-8d36-74763e8c7dc6"
   },
   "outputs": [
    {
     "data": {
      "text/plain": [
       "numpy.ndarray"
      ]
     },
     "execution_count": 23,
     "metadata": {
      "tags": []
     },
     "output_type": "execute_result"
    }
   ],
   "source": [
    "type(km_media)"
   ]
  },
  {
   "cell_type": "markdown",
   "metadata": {
    "id": "KdG5NmmGltj0"
   },
   "source": [
    "# <font color=green> 2. CARACTERÍSTICAS BÁSICAS DA LINGUAGEM\n",
    "---"
   ]
  },
  {
   "cell_type": "markdown",
   "metadata": {
    "id": "X1K5kisFltj1"
   },
   "source": [
    "# 2.1 Operações matemáticas\n",
    "\n",
    "### Operadores aritméticos: $+$, $-$, $*$, $/$, $**$, $\\%$, $//$"
   ]
  },
  {
   "cell_type": "markdown",
   "metadata": {
    "id": "8YCDVpbYltj1"
   },
   "source": [
    "### Adição ($+$)"
   ]
  },
  {
   "cell_type": "code",
   "execution_count": null,
   "metadata": {
    "colab": {
     "base_uri": "https://localhost:8080/"
    },
    "executionInfo": {
     "elapsed": 1451,
     "status": "ok",
     "timestamp": 1607962478014,
     "user": {
      "displayName": "Diego Cowen Pinto",
      "photoUrl": "https://lh3.googleusercontent.com/a-/AOh14GhkSbJn7uVBQmIkmxpBAHIeyBv3MYDnDVJE13xm8w=s64",
      "userId": "00433632151485364739"
     },
     "user_tz": 180
    },
    "id": "h6DsMqhaltj2",
    "outputId": "163743e4-b335-47b1-a456-472d11695f75"
   },
   "outputs": [
    {
     "data": {
      "text/plain": [
       "4"
      ]
     },
     "execution_count": 1,
     "metadata": {
      "tags": []
     },
     "output_type": "execute_result"
    }
   ],
   "source": [
    "2 + 2"
   ]
  },
  {
   "cell_type": "markdown",
   "metadata": {
    "id": "WeJG-WJBltj8"
   },
   "source": [
    "### Subtração ($-$)"
   ]
  },
  {
   "cell_type": "code",
   "execution_count": null,
   "metadata": {
    "colab": {
     "base_uri": "https://localhost:8080/"
    },
    "executionInfo": {
     "elapsed": 2211,
     "status": "ok",
     "timestamp": 1607962478785,
     "user": {
      "displayName": "Diego Cowen Pinto",
      "photoUrl": "https://lh3.googleusercontent.com/a-/AOh14GhkSbJn7uVBQmIkmxpBAHIeyBv3MYDnDVJE13xm8w=s64",
      "userId": "00433632151485364739"
     },
     "user_tz": 180
    },
    "id": "zoB7_OcRltj9",
    "outputId": "448b7c1e-2e51-4a74-f33b-5f69cd5172aa"
   },
   "outputs": [
    {
     "data": {
      "text/plain": [
       "3"
      ]
     },
     "execution_count": 2,
     "metadata": {
      "tags": []
     },
     "output_type": "execute_result"
    }
   ],
   "source": [
    "7 - 4"
   ]
  },
  {
   "cell_type": "markdown",
   "metadata": {
    "id": "zuv8N7fjltkC"
   },
   "source": [
    "### Multiplicação ($*$)"
   ]
  },
  {
   "cell_type": "code",
   "execution_count": null,
   "metadata": {
    "colab": {
     "base_uri": "https://localhost:8080/"
    },
    "executionInfo": {
     "elapsed": 3181,
     "status": "ok",
     "timestamp": 1607962479762,
     "user": {
      "displayName": "Diego Cowen Pinto",
      "photoUrl": "https://lh3.googleusercontent.com/a-/AOh14GhkSbJn7uVBQmIkmxpBAHIeyBv3MYDnDVJE13xm8w=s64",
      "userId": "00433632151485364739"
     },
     "user_tz": 180
    },
    "id": "TAWG7xSTltkD",
    "outputId": "00e30845-f7e2-424a-ad1f-32e93f28f311"
   },
   "outputs": [
    {
     "data": {
      "text/plain": [
       "10"
      ]
     },
     "execution_count": 3,
     "metadata": {
      "tags": []
     },
     "output_type": "execute_result"
    }
   ],
   "source": [
    "2*5"
   ]
  },
  {
   "cell_type": "markdown",
   "metadata": {
    "id": "dMp7BsnwltkF"
   },
   "source": [
    "### Divisão ($/$) e ($//$)\n",
    "A operação divisão sempre retorna um número de ponto flutuante"
   ]
  },
  {
   "cell_type": "code",
   "execution_count": null,
   "metadata": {
    "colab": {
     "base_uri": "https://localhost:8080/"
    },
    "executionInfo": {
     "elapsed": 3174,
     "status": "ok",
     "timestamp": 1607962479762,
     "user": {
      "displayName": "Diego Cowen Pinto",
      "photoUrl": "https://lh3.googleusercontent.com/a-/AOh14GhkSbJn7uVBQmIkmxpBAHIeyBv3MYDnDVJE13xm8w=s64",
      "userId": "00433632151485364739"
     },
     "user_tz": 180
    },
    "id": "DD5kx3H3ltkF",
    "outputId": "2f6301e4-657f-4569-f0c2-dad575d677b3"
   },
   "outputs": [
    {
     "data": {
      "text/plain": [
       "3.3333333333333335"
      ]
     },
     "execution_count": 4,
     "metadata": {
      "tags": []
     },
     "output_type": "execute_result"
    }
   ],
   "source": [
    "10 / 3"
   ]
  },
  {
   "cell_type": "code",
   "execution_count": null,
   "metadata": {
    "colab": {
     "base_uri": "https://localhost:8080/"
    },
    "executionInfo": {
     "elapsed": 3168,
     "status": "ok",
     "timestamp": 1607962479763,
     "user": {
      "displayName": "Diego Cowen Pinto",
      "photoUrl": "https://lh3.googleusercontent.com/a-/AOh14GhkSbJn7uVBQmIkmxpBAHIeyBv3MYDnDVJE13xm8w=s64",
      "userId": "00433632151485364739"
     },
     "user_tz": 180
    },
    "id": "ji0CYH3UltkI",
    "outputId": "ce3a848b-b75b-4744-8989-21240291d7bc"
   },
   "outputs": [
    {
     "data": {
      "text/plain": [
       "3"
      ]
     },
     "execution_count": 5,
     "metadata": {
      "tags": []
     },
     "output_type": "execute_result"
    }
   ],
   "source": [
    "10 // 3"
   ]
  },
  {
   "cell_type": "markdown",
   "metadata": {
    "id": "3DSO7TcvltkL"
   },
   "source": [
    "### Exponenciação ($**$)"
   ]
  },
  {
   "cell_type": "code",
   "execution_count": null,
   "metadata": {
    "colab": {
     "base_uri": "https://localhost:8080/"
    },
    "executionInfo": {
     "elapsed": 3162,
     "status": "ok",
     "timestamp": 1607962479764,
     "user": {
      "displayName": "Diego Cowen Pinto",
      "photoUrl": "https://lh3.googleusercontent.com/a-/AOh14GhkSbJn7uVBQmIkmxpBAHIeyBv3MYDnDVJE13xm8w=s64",
      "userId": "00433632151485364739"
     },
     "user_tz": 180
    },
    "id": "tBKvl2TWltkM",
    "outputId": "baa253cf-b1bb-4a90-da5d-e7797d686acc"
   },
   "outputs": [
    {
     "data": {
      "text/plain": [
       "64"
      ]
     },
     "execution_count": 6,
     "metadata": {
      "tags": []
     },
     "output_type": "execute_result"
    }
   ],
   "source": [
    "4 ** 3"
   ]
  },
  {
   "cell_type": "markdown",
   "metadata": {
    "id": "MhD56p-9ltkQ"
   },
   "source": [
    "### Resto da divisão ($\\%$)"
   ]
  },
  {
   "cell_type": "code",
   "execution_count": null,
   "metadata": {
    "colab": {
     "base_uri": "https://localhost:8080/"
    },
    "executionInfo": {
     "elapsed": 3156,
     "status": "ok",
     "timestamp": 1607962479765,
     "user": {
      "displayName": "Diego Cowen Pinto",
      "photoUrl": "https://lh3.googleusercontent.com/a-/AOh14GhkSbJn7uVBQmIkmxpBAHIeyBv3MYDnDVJE13xm8w=s64",
      "userId": "00433632151485364739"
     },
     "user_tz": 180
    },
    "id": "bfa7phO6ltkR",
    "outputId": "0e58e393-f92d-4ecb-eb8d-754b937841ea"
   },
   "outputs": [
    {
     "data": {
      "text/plain": [
       "3"
      ]
     },
     "execution_count": 7,
     "metadata": {
      "tags": []
     },
     "output_type": "execute_result"
    }
   ],
   "source": [
    "15 % 4"
   ]
  },
  {
   "cell_type": "code",
   "execution_count": null,
   "metadata": {
    "colab": {
     "base_uri": "https://localhost:8080/"
    },
    "executionInfo": {
     "elapsed": 3150,
     "status": "ok",
     "timestamp": 1607962479766,
     "user": {
      "displayName": "Diego Cowen Pinto",
      "photoUrl": "https://lh3.googleusercontent.com/a-/AOh14GhkSbJn7uVBQmIkmxpBAHIeyBv3MYDnDVJE13xm8w=s64",
      "userId": "00433632151485364739"
     },
     "user_tz": 180
    },
    "id": "khIEx6olltkT",
    "outputId": "66a9511b-2fdc-4825-c4a8-8a1eda77968e"
   },
   "outputs": [
    {
     "data": {
      "text/plain": [
       "0"
      ]
     },
     "execution_count": 8,
     "metadata": {
      "tags": []
     },
     "output_type": "execute_result"
    }
   ],
   "source": [
    "10 % 5"
   ]
  },
  {
   "cell_type": "markdown",
   "metadata": {
    "id": "8pVVp5fsltkV"
   },
   "source": [
    "### Expressões matemáticas"
   ]
  },
  {
   "cell_type": "code",
   "execution_count": null,
   "metadata": {
    "colab": {
     "base_uri": "https://localhost:8080/"
    },
    "executionInfo": {
     "elapsed": 3144,
     "status": "ok",
     "timestamp": 1607962479767,
     "user": {
      "displayName": "Diego Cowen Pinto",
      "photoUrl": "https://lh3.googleusercontent.com/a-/AOh14GhkSbJn7uVBQmIkmxpBAHIeyBv3MYDnDVJE13xm8w=s64",
      "userId": "00433632151485364739"
     },
     "user_tz": 180
    },
    "id": "jlQTk4gNltkW",
    "outputId": "93a48193-dffe-48cb-fe29-5d567d2ad752"
   },
   "outputs": [
    {
     "data": {
      "text/plain": [
       "16"
      ]
     },
     "execution_count": 9,
     "metadata": {
      "tags": []
     },
     "output_type": "execute_result"
    }
   ],
   "source": [
    "5 * 2 + 2 * 3"
   ]
  },
  {
   "cell_type": "code",
   "execution_count": null,
   "metadata": {
    "colab": {
     "base_uri": "https://localhost:8080/"
    },
    "executionInfo": {
     "elapsed": 3138,
     "status": "ok",
     "timestamp": 1607962479768,
     "user": {
      "displayName": "Diego Cowen Pinto",
      "photoUrl": "https://lh3.googleusercontent.com/a-/AOh14GhkSbJn7uVBQmIkmxpBAHIeyBv3MYDnDVJE13xm8w=s64",
      "userId": "00433632151485364739"
     },
     "user_tz": 180
    },
    "id": "kkCb6Crgltka",
    "outputId": "e4cdeaf8-bf93-4c26-9ce9-64647600b428"
   },
   "outputs": [
    {
     "data": {
      "text/plain": [
       "16"
      ]
     },
     "execution_count": 10,
     "metadata": {
      "tags": []
     },
     "output_type": "execute_result"
    }
   ],
   "source": [
    "(5 * 2) + (2 * 3)"
   ]
  },
  {
   "cell_type": "code",
   "execution_count": null,
   "metadata": {
    "colab": {
     "base_uri": "https://localhost:8080/"
    },
    "executionInfo": {
     "elapsed": 3133,
     "status": "ok",
     "timestamp": 1607962479770,
     "user": {
      "displayName": "Diego Cowen Pinto",
      "photoUrl": "https://lh3.googleusercontent.com/a-/AOh14GhkSbJn7uVBQmIkmxpBAHIeyBv3MYDnDVJE13xm8w=s64",
      "userId": "00433632151485364739"
     },
     "user_tz": 180
    },
    "id": "UD12tlgAltkd",
    "outputId": "92859e06-f597-4e69-ae35-e8cfaa6b02b8"
   },
   "outputs": [
    {
     "data": {
      "text/plain": [
       "60"
      ]
     },
     "execution_count": 11,
     "metadata": {
      "tags": []
     },
     "output_type": "execute_result"
    }
   ],
   "source": [
    "5 * (2 + 2) * 3"
   ]
  },
  {
   "cell_type": "markdown",
   "metadata": {
    "id": "a5tKQ5Beltkf"
   },
   "source": [
    "### A variável _\n",
    "\n",
    "No modo interativo, o último resultado impresso é atribuído à variável _"
   ]
  },
  {
   "cell_type": "code",
   "execution_count": null,
   "metadata": {
    "colab": {
     "base_uri": "https://localhost:8080/"
    },
    "executionInfo": {
     "elapsed": 3127,
     "status": "ok",
     "timestamp": 1607962479771,
     "user": {
      "displayName": "Diego Cowen Pinto",
      "photoUrl": "https://lh3.googleusercontent.com/a-/AOh14GhkSbJn7uVBQmIkmxpBAHIeyBv3MYDnDVJE13xm8w=s64",
      "userId": "00433632151485364739"
     },
     "user_tz": 180
    },
    "id": "VkHEx516ltkg",
    "outputId": "77132d55-1f93-461c-8631-df50253f2ee3"
   },
   "outputs": [
    {
     "data": {
      "text/plain": [
       "10"
      ]
     },
     "execution_count": 12,
     "metadata": {
      "tags": []
     },
     "output_type": "execute_result"
    }
   ],
   "source": [
    "5 * 2"
   ]
  },
  {
   "cell_type": "code",
   "execution_count": null,
   "metadata": {
    "colab": {
     "base_uri": "https://localhost:8080/"
    },
    "executionInfo": {
     "elapsed": 3121,
     "status": "ok",
     "timestamp": 1607962479772,
     "user": {
      "displayName": "Diego Cowen Pinto",
      "photoUrl": "https://lh3.googleusercontent.com/a-/AOh14GhkSbJn7uVBQmIkmxpBAHIeyBv3MYDnDVJE13xm8w=s64",
      "userId": "00433632151485364739"
     },
     "user_tz": 180
    },
    "id": "dFShsobXltki",
    "outputId": "3d8afb9f-3b8f-4652-af89-4f747885bbee"
   },
   "outputs": [
    {
     "data": {
      "text/plain": [
       "16"
      ]
     },
     "execution_count": 13,
     "metadata": {
      "tags": []
     },
     "output_type": "execute_result"
    }
   ],
   "source": [
    "_ + 3 * 2"
   ]
  },
  {
   "cell_type": "code",
   "execution_count": null,
   "metadata": {
    "colab": {
     "base_uri": "https://localhost:8080/"
    },
    "executionInfo": {
     "elapsed": 3114,
     "status": "ok",
     "timestamp": 1607962479772,
     "user": {
      "displayName": "Diego Cowen Pinto",
      "photoUrl": "https://lh3.googleusercontent.com/a-/AOh14GhkSbJn7uVBQmIkmxpBAHIeyBv3MYDnDVJE13xm8w=s64",
      "userId": "00433632151485364739"
     },
     "user_tz": 180
    },
    "id": "hJIpR3KUltkk",
    "outputId": "8f5d38fa-dc55-4df3-cacc-2d06787d05f6"
   },
   "outputs": [
    {
     "data": {
      "text/plain": [
       "8.0"
      ]
     },
     "execution_count": 14,
     "metadata": {
      "tags": []
     },
     "output_type": "execute_result"
    }
   ],
   "source": [
    "_ / 2"
   ]
  },
  {
   "cell_type": "markdown",
   "metadata": {
    "id": "MUrQAf6Mltkm"
   },
   "source": [
    "# 2.2 Variáveis "
   ]
  },
  {
   "cell_type": "markdown",
   "metadata": {
    "id": "qaVLKIeultkn"
   },
   "source": [
    "### Nomes de variáveis\n",
    "\n",
    "- Nomes de variáveis pode começar com letras (a - z, A - Z) ou o caractere *underscore* (_):\n",
    "\n",
    "    > Altura\n",
    "    >\n",
    "    > _peso\n",
    "    \n",
    "- O restante do nome pode conter letras, números e o caractere \"_\":\n",
    "\n",
    "    > nome_da_variavel\n",
    "    >\n",
    "    > _valor\n",
    "    >\n",
    "    > dia_28_11_\n",
    "    \n",
    "\n",
    "- O nomes são *case sensitive*:\n",
    "\n",
    "    > Nome_Da_Variável $\\ne$ nome_da_variavel $\\ne$ NOME_DA_VARIAVEL\n",
    "    \n",
    "### <font color=red>Observações:\n",
    "- Existem algumas palavras reservadas da linguagem que não podem ser utilizadas como nomes de variável:\n",
    "\n",
    "| |Lista de palavras <br>reservadas em Python| |\n",
    "|:-------------:|:------------:|:-------------:|\n",
    "| and           | as           | not           | \n",
    "| assert        | finally      | or            | \n",
    "| break         | for          | pass          | \n",
    "| class         | from         | nonlocal      | \n",
    "| continue      | global       | raise         | \n",
    "| def           | if           | return        | \n",
    "| del           | import       | try           | \n",
    "| elif          | in           | while         | \n",
    "| else          | is           | with          | \n",
    "| except        | lambda       | yield         | \n",
    "| False         | True         | None          | "
   ]
  },
  {
   "cell_type": "markdown",
   "metadata": {
    "id": "3frWjfAtltkn"
   },
   "source": [
    "### Declaração de variáveis\n",
    "\n",
    "### Operadores de atribuição: $=$, $+=$, $-=$, $*=$, $/=$, $**=$, $\\%=$, $//=$"
   ]
  },
  {
   "cell_type": "code",
   "execution_count": null,
   "metadata": {
    "id": "7VIcrXNHltko"
   },
   "outputs": [],
   "source": [
    "ano_atual = 2020\n",
    "ano_frabicacao = 2004\n",
    "km_total = 44410.0"
   ]
  },
  {
   "cell_type": "code",
   "execution_count": null,
   "metadata": {
    "colab": {
     "base_uri": "https://localhost:8080/"
    },
    "executionInfo": {
     "elapsed": 789,
     "status": "ok",
     "timestamp": 1607701818430,
     "user": {
      "displayName": "Diego Cowen Pinto",
      "photoUrl": "https://lh3.googleusercontent.com/a-/AOh14GhkSbJn7uVBQmIkmxpBAHIeyBv3MYDnDVJE13xm8w=s64",
      "userId": "00433632151485364739"
     },
     "user_tz": 180
    },
    "id": "atVoqp6bltkq",
    "outputId": "27a64b30-01f2-4325-e3cc-6a848553614f"
   },
   "outputs": [
    {
     "data": {
      "text/plain": [
       "2020"
      ]
     },
     "execution_count": 44,
     "metadata": {
      "tags": []
     },
     "output_type": "execute_result"
    }
   ],
   "source": [
    "ano_atual"
   ]
  },
  {
   "cell_type": "code",
   "execution_count": null,
   "metadata": {
    "colab": {
     "base_uri": "https://localhost:8080/"
    },
    "executionInfo": {
     "elapsed": 1169,
     "status": "ok",
     "timestamp": 1607701818819,
     "user": {
      "displayName": "Diego Cowen Pinto",
      "photoUrl": "https://lh3.googleusercontent.com/a-/AOh14GhkSbJn7uVBQmIkmxpBAHIeyBv3MYDnDVJE13xm8w=s64",
      "userId": "00433632151485364739"
     },
     "user_tz": 180
    },
    "id": "_t82qXrOltkt",
    "outputId": "0120dbed-c999-437b-b248-175ec88c0e87"
   },
   "outputs": [
    {
     "data": {
      "text/plain": [
       "2004"
      ]
     },
     "execution_count": 45,
     "metadata": {
      "tags": []
     },
     "output_type": "execute_result"
    }
   ],
   "source": [
    "ano_frabicacao"
   ]
  },
  {
   "cell_type": "code",
   "execution_count": null,
   "metadata": {
    "colab": {
     "base_uri": "https://localhost:8080/"
    },
    "executionInfo": {
     "elapsed": 1160,
     "status": "ok",
     "timestamp": 1607701818820,
     "user": {
      "displayName": "Diego Cowen Pinto",
      "photoUrl": "https://lh3.googleusercontent.com/a-/AOh14GhkSbJn7uVBQmIkmxpBAHIeyBv3MYDnDVJE13xm8w=s64",
      "userId": "00433632151485364739"
     },
     "user_tz": 180
    },
    "id": "1anwuDHiltkv",
    "outputId": "daaca3ba-bdf3-42f9-8fc6-2f1447c2bcdd"
   },
   "outputs": [
    {
     "data": {
      "text/plain": [
       "44410.0"
      ]
     },
     "execution_count": 46,
     "metadata": {
      "tags": []
     },
     "output_type": "execute_result"
    }
   ],
   "source": [
    "km_total"
   ]
  },
  {
   "cell_type": "markdown",
   "metadata": {
    "id": "gCBkfq_8ltky"
   },
   "source": [
    "# $$km_{média} = \\frac {km_{total}}{(Ano_{atual} - Ano_{fabricação})}$$"
   ]
  },
  {
   "cell_type": "markdown",
   "metadata": {
    "id": "zswWS4hNltky"
   },
   "source": [
    "### Operações com variáveis"
   ]
  },
  {
   "cell_type": "code",
   "execution_count": null,
   "metadata": {
    "colab": {
     "base_uri": "https://localhost:8080/"
    },
    "executionInfo": {
     "elapsed": 530,
     "status": "ok",
     "timestamp": 1607701830920,
     "user": {
      "displayName": "Diego Cowen Pinto",
      "photoUrl": "https://lh3.googleusercontent.com/a-/AOh14GhkSbJn7uVBQmIkmxpBAHIeyBv3MYDnDVJE13xm8w=s64",
      "userId": "00433632151485364739"
     },
     "user_tz": 180
    },
    "id": "HxxU0rnfltkz",
    "outputId": "885d17db-ca91-437c-9ae5-faf6699eeff5"
   },
   "outputs": [
    {
     "data": {
      "text/plain": [
       "2775.625"
      ]
     },
     "execution_count": 47,
     "metadata": {
      "tags": []
     },
     "output_type": "execute_result"
    }
   ],
   "source": [
    " km_media = km_total/ (ano_atual - ano_frabicacao)\n",
    " \n",
    " km_media"
   ]
  },
  {
   "cell_type": "code",
   "execution_count": null,
   "metadata": {
    "colab": {
     "base_uri": "https://localhost:8080/"
    },
    "executionInfo": {
     "elapsed": 880,
     "status": "ok",
     "timestamp": 1607701831282,
     "user": {
      "displayName": "Diego Cowen Pinto",
      "photoUrl": "https://lh3.googleusercontent.com/a-/AOh14GhkSbJn7uVBQmIkmxpBAHIeyBv3MYDnDVJE13xm8w=s64",
      "userId": "00433632151485364739"
     },
     "user_tz": 180
    },
    "id": "_2Qhb32jltk1",
    "outputId": "04e3cff3-8cc4-4934-eda4-3da81ee47e51"
   },
   "outputs": [
    {
     "data": {
      "text/plain": [
       "2775.625"
      ]
     },
     "execution_count": 48,
     "metadata": {
      "tags": []
     },
     "output_type": "execute_result"
    }
   ],
   "source": [
    "ano_atual = 2020\n",
    "ano_frabicacao = 2004\n",
    "km_total = 44410.0\n",
    "\n",
    "km_media = km_total/ (ano_atual - ano_frabicacao)\n",
    "\n",
    "km_media"
   ]
  },
  {
   "cell_type": "code",
   "execution_count": null,
   "metadata": {
    "colab": {
     "base_uri": "https://localhost:8080/"
    },
    "executionInfo": {
     "elapsed": 867,
     "status": "ok",
     "timestamp": 1607701831283,
     "user": {
      "displayName": "Diego Cowen Pinto",
      "photoUrl": "https://lh3.googleusercontent.com/a-/AOh14GhkSbJn7uVBQmIkmxpBAHIeyBv3MYDnDVJE13xm8w=s64",
      "userId": "00433632151485364739"
     },
     "user_tz": 180
    },
    "id": "nCJzA7dyltk3",
    "outputId": "a6724bca-ccf5-420a-a2bd-e5e4d4f278b8"
   },
   "outputs": [
    {
     "data": {
      "text/plain": [
       "47185.625"
      ]
     },
     "execution_count": 49,
     "metadata": {
      "tags": []
     },
     "output_type": "execute_result"
    }
   ],
   "source": [
    "ano_atual = 2020\n",
    "ano_frabicacao = 2004\n",
    "km_total = 44410.0\n",
    "\n",
    "km_media = km_total/ (ano_atual - ano_frabicacao)\n",
    "\n",
    "km_total = km_total + km_media\n",
    "\n",
    "km_total"
   ]
  },
  {
   "cell_type": "code",
   "execution_count": null,
   "metadata": {
    "colab": {
     "base_uri": "https://localhost:8080/"
    },
    "executionInfo": {
     "elapsed": 858,
     "status": "ok",
     "timestamp": 1607701831284,
     "user": {
      "displayName": "Diego Cowen Pinto",
      "photoUrl": "https://lh3.googleusercontent.com/a-/AOh14GhkSbJn7uVBQmIkmxpBAHIeyBv3MYDnDVJE13xm8w=s64",
      "userId": "00433632151485364739"
     },
     "user_tz": 180
    },
    "id": "ifRwQ0vEltk9",
    "outputId": "8ba475b3-678e-4809-e5e5-316d4f9a7857"
   },
   "outputs": [
    {
     "data": {
      "text/plain": [
       "47185.625"
      ]
     },
     "execution_count": 50,
     "metadata": {
      "tags": []
     },
     "output_type": "execute_result"
    }
   ],
   "source": [
    "ano_atual = 2020\n",
    "ano_frabicacao = 2004\n",
    "km_total = 44410.0\n",
    "\n",
    "km_media = km_total/ (ano_atual - ano_frabicacao)\n",
    "\n",
    "km_total += km_media\n",
    "\n",
    "km_total"
   ]
  },
  {
   "cell_type": "markdown",
   "metadata": {
    "id": "fDBrHWSBltlB"
   },
   "source": [
    "### Conclusão:\n",
    "```\n",
    "\"valor = valor + 1\" é equivalente a \"valor += 1\"\n",
    "```"
   ]
  },
  {
   "cell_type": "markdown",
   "metadata": {
    "id": "uVAyJbmAltlC"
   },
   "source": [
    "### Declaração múltipla"
   ]
  },
  {
   "cell_type": "code",
   "execution_count": null,
   "metadata": {
    "id": "oMWEzjPOltlC"
   },
   "outputs": [],
   "source": [
    "ano_atual, ano_frabicacao, km_total = 2020, 2004, 44410.0"
   ]
  },
  {
   "cell_type": "code",
   "execution_count": null,
   "metadata": {
    "colab": {
     "base_uri": "https://localhost:8080/"
    },
    "executionInfo": {
     "elapsed": 1098,
     "status": "ok",
     "timestamp": 1607701851115,
     "user": {
      "displayName": "Diego Cowen Pinto",
      "photoUrl": "https://lh3.googleusercontent.com/a-/AOh14GhkSbJn7uVBQmIkmxpBAHIeyBv3MYDnDVJE13xm8w=s64",
      "userId": "00433632151485364739"
     },
     "user_tz": 180
    },
    "id": "9ZKlHkLultlE",
    "outputId": "81aa48bc-0503-4df4-f284-660188ef5ad3"
   },
   "outputs": [
    {
     "data": {
      "text/plain": [
       "2020"
      ]
     },
     "execution_count": 53,
     "metadata": {
      "tags": []
     },
     "output_type": "execute_result"
    }
   ],
   "source": [
    "ano_atual"
   ]
  },
  {
   "cell_type": "code",
   "execution_count": null,
   "metadata": {
    "colab": {
     "base_uri": "https://localhost:8080/"
    },
    "executionInfo": {
     "elapsed": 1092,
     "status": "ok",
     "timestamp": 1607701851116,
     "user": {
      "displayName": "Diego Cowen Pinto",
      "photoUrl": "https://lh3.googleusercontent.com/a-/AOh14GhkSbJn7uVBQmIkmxpBAHIeyBv3MYDnDVJE13xm8w=s64",
      "userId": "00433632151485364739"
     },
     "user_tz": 180
    },
    "id": "-mcMuW9nltlG",
    "outputId": "287531e9-e8b9-42d9-be8e-e6126618f9c9"
   },
   "outputs": [
    {
     "data": {
      "text/plain": [
       "2004"
      ]
     },
     "execution_count": 54,
     "metadata": {
      "tags": []
     },
     "output_type": "execute_result"
    }
   ],
   "source": [
    "ano_frabicacao"
   ]
  },
  {
   "cell_type": "code",
   "execution_count": null,
   "metadata": {
    "colab": {
     "base_uri": "https://localhost:8080/"
    },
    "executionInfo": {
     "elapsed": 1085,
     "status": "ok",
     "timestamp": 1607701851117,
     "user": {
      "displayName": "Diego Cowen Pinto",
      "photoUrl": "https://lh3.googleusercontent.com/a-/AOh14GhkSbJn7uVBQmIkmxpBAHIeyBv3MYDnDVJE13xm8w=s64",
      "userId": "00433632151485364739"
     },
     "user_tz": 180
    },
    "id": "WFFavLIvltlL",
    "outputId": "256d26a6-ac75-4368-9565-9e4ded652334"
   },
   "outputs": [
    {
     "data": {
      "text/plain": [
       "44410.0"
      ]
     },
     "execution_count": 55,
     "metadata": {
      "tags": []
     },
     "output_type": "execute_result"
    }
   ],
   "source": [
    "km_total"
   ]
  },
  {
   "cell_type": "code",
   "execution_count": null,
   "metadata": {
    "id": "iFawOJe6ltlO"
   },
   "outputs": [],
   "source": []
  },
  {
   "cell_type": "markdown",
   "metadata": {
    "id": "uoRXMeRDltlQ"
   },
   "source": [
    "# 2.3 Tipos de dados"
   ]
  },
  {
   "cell_type": "markdown",
   "metadata": {
    "id": "sW_G6EjWltlQ"
   },
   "source": [
    "Os tipos de dados especificam como números e caracteres serão armazenados e manipulados dentro de um programa. Os tipos de dados básicos do Python são:\n",
    "\n",
    "1. **Números**\n",
    "    1. ***int*** - Inteiros\n",
    "    - ***float*** - Ponto flutuante\n",
    "- **Booleanos** - Assume os valores True ou False. Essencial quando começarmos a trabalhar com declarações condicionais\n",
    "- ***Strings*** - Sequência de um ou mais caracteres que pode incluir letras, números e outros tipos de caracteres. Representa um texto.\n",
    "- **None** - Representa a ausência de valor"
   ]
  },
  {
   "cell_type": "markdown",
   "metadata": {
    "id": "-HRRxQOtltlQ"
   },
   "source": [
    "### Números"
   ]
  },
  {
   "cell_type": "code",
   "execution_count": null,
   "metadata": {
    "id": "5PKIcIuUltlR"
   },
   "outputs": [],
   "source": [
    "ano_atual = 2020"
   ]
  },
  {
   "cell_type": "code",
   "execution_count": null,
   "metadata": {
    "colab": {
     "base_uri": "https://localhost:8080/"
    },
    "executionInfo": {
     "elapsed": 2182,
     "status": "ok",
     "timestamp": 1608049489183,
     "user": {
      "displayName": "Diego Cowen Pinto",
      "photoUrl": "https://lh3.googleusercontent.com/a-/AOh14GhkSbJn7uVBQmIkmxpBAHIeyBv3MYDnDVJE13xm8w=s64",
      "userId": "00433632151485364739"
     },
     "user_tz": 180
    },
    "id": "G32Yd1g0ltlT",
    "outputId": "c1d51e20-1854-47c3-ed52-d6b40d868841"
   },
   "outputs": [
    {
     "data": {
      "text/plain": [
       "int"
      ]
     },
     "execution_count": 2,
     "metadata": {
      "tags": []
     },
     "output_type": "execute_result"
    }
   ],
   "source": [
    "type(ano_atual)"
   ]
  },
  {
   "cell_type": "code",
   "execution_count": null,
   "metadata": {
    "id": "b9_v__dEltlV"
   },
   "outputs": [],
   "source": [
    "km_total = 44410.0"
   ]
  },
  {
   "cell_type": "code",
   "execution_count": null,
   "metadata": {
    "colab": {
     "base_uri": "https://localhost:8080/"
    },
    "executionInfo": {
     "elapsed": 2174,
     "status": "ok",
     "timestamp": 1608049489188,
     "user": {
      "displayName": "Diego Cowen Pinto",
      "photoUrl": "https://lh3.googleusercontent.com/a-/AOh14GhkSbJn7uVBQmIkmxpBAHIeyBv3MYDnDVJE13xm8w=s64",
      "userId": "00433632151485364739"
     },
     "user_tz": 180
    },
    "id": "A0nySb3LltlZ",
    "outputId": "95a02e80-a00a-4d54-b347-dc3506611aca"
   },
   "outputs": [
    {
     "data": {
      "text/plain": [
       "float"
      ]
     },
     "execution_count": 4,
     "metadata": {
      "tags": []
     },
     "output_type": "execute_result"
    }
   ],
   "source": [
    "type(km_total)"
   ]
  },
  {
   "cell_type": "markdown",
   "metadata": {
    "id": "7X9iheAnltld"
   },
   "source": [
    "### Booleanos"
   ]
  },
  {
   "cell_type": "code",
   "execution_count": null,
   "metadata": {
    "id": "liUYdchPltle"
   },
   "outputs": [],
   "source": [
    "zero_km = True"
   ]
  },
  {
   "cell_type": "code",
   "execution_count": null,
   "metadata": {
    "colab": {
     "base_uri": "https://localhost:8080/"
    },
    "executionInfo": {
     "elapsed": 2168,
     "status": "ok",
     "timestamp": 1608049489195,
     "user": {
      "displayName": "Diego Cowen Pinto",
      "photoUrl": "https://lh3.googleusercontent.com/a-/AOh14GhkSbJn7uVBQmIkmxpBAHIeyBv3MYDnDVJE13xm8w=s64",
      "userId": "00433632151485364739"
     },
     "user_tz": 180
    },
    "id": "oZIQAghaltlh",
    "outputId": "1344b6c6-4f19-4e1d-9d03-d8e53fadf678"
   },
   "outputs": [
    {
     "data": {
      "text/plain": [
       "bool"
      ]
     },
     "execution_count": 6,
     "metadata": {
      "tags": []
     },
     "output_type": "execute_result"
    }
   ],
   "source": [
    "type(zero_km)"
   ]
  },
  {
   "cell_type": "code",
   "execution_count": null,
   "metadata": {
    "id": "XCAYApe3ltlj"
   },
   "outputs": [],
   "source": [
    "zero_km = False"
   ]
  },
  {
   "cell_type": "code",
   "execution_count": null,
   "metadata": {
    "colab": {
     "base_uri": "https://localhost:8080/"
    },
    "executionInfo": {
     "elapsed": 2158,
     "status": "ok",
     "timestamp": 1608049489198,
     "user": {
      "displayName": "Diego Cowen Pinto",
      "photoUrl": "https://lh3.googleusercontent.com/a-/AOh14GhkSbJn7uVBQmIkmxpBAHIeyBv3MYDnDVJE13xm8w=s64",
      "userId": "00433632151485364739"
     },
     "user_tz": 180
    },
    "id": "mJ0nGEV7ltll",
    "outputId": "cc093a3a-8c0a-4fcd-abcf-6c58692e407b"
   },
   "outputs": [
    {
     "data": {
      "text/plain": [
       "bool"
      ]
     },
     "execution_count": 8,
     "metadata": {
      "tags": []
     },
     "output_type": "execute_result"
    }
   ],
   "source": [
    "type(zero_km)"
   ]
  },
  {
   "cell_type": "markdown",
   "metadata": {
    "id": "Ipjq4eiSltlp"
   },
   "source": [
    "### Strings"
   ]
  },
  {
   "cell_type": "code",
   "execution_count": null,
   "metadata": {
    "colab": {
     "base_uri": "https://localhost:8080/"
    },
    "executionInfo": {
     "elapsed": 3475,
     "status": "ok",
     "timestamp": 1608049490525,
     "user": {
      "displayName": "Diego Cowen Pinto",
      "photoUrl": "https://lh3.googleusercontent.com/a-/AOh14GhkSbJn7uVBQmIkmxpBAHIeyBv3MYDnDVJE13xm8w=s64",
      "userId": "00433632151485364739"
     },
     "user_tz": 180
    },
    "id": "OeW_GQzOltlr",
    "outputId": "75481030-711e-4f63-d014-8df006bffb9f"
   },
   "outputs": [
    {
     "data": {
      "application/vnd.google.colaboratory.intrinsic+json": {
       "type": "string"
      },
      "text/plain": [
       "'Diego'"
      ]
     },
     "execution_count": 9,
     "metadata": {
      "tags": []
     },
     "output_type": "execute_result"
    }
   ],
   "source": [
    "nome = \"Diego\"\n",
    "nome"
   ]
  },
  {
   "cell_type": "code",
   "execution_count": null,
   "metadata": {
    "colab": {
     "base_uri": "https://localhost:8080/"
    },
    "executionInfo": {
     "elapsed": 3466,
     "status": "ok",
     "timestamp": 1608049490527,
     "user": {
      "displayName": "Diego Cowen Pinto",
      "photoUrl": "https://lh3.googleusercontent.com/a-/AOh14GhkSbJn7uVBQmIkmxpBAHIeyBv3MYDnDVJE13xm8w=s64",
      "userId": "00433632151485364739"
     },
     "user_tz": 180
    },
    "id": "xF1Bi-Rkltlu",
    "outputId": "0f961b3b-aea5-4e9d-ad2c-334db823bf49"
   },
   "outputs": [
    {
     "data": {
      "application/vnd.google.colaboratory.intrinsic+json": {
       "type": "string"
      },
      "text/plain": [
       "'Diego'"
      ]
     },
     "execution_count": 10,
     "metadata": {
      "tags": []
     },
     "output_type": "execute_result"
    }
   ],
   "source": [
    "nome = 'Diego'\n",
    "nome"
   ]
  },
  {
   "cell_type": "code",
   "execution_count": null,
   "metadata": {
    "colab": {
     "base_uri": "https://localhost:8080/"
    },
    "executionInfo": {
     "elapsed": 3455,
     "status": "ok",
     "timestamp": 1608049490528,
     "user": {
      "displayName": "Diego Cowen Pinto",
      "photoUrl": "https://lh3.googleusercontent.com/a-/AOh14GhkSbJn7uVBQmIkmxpBAHIeyBv3MYDnDVJE13xm8w=s64",
      "userId": "00433632151485364739"
     },
     "user_tz": 180
    },
    "id": "QlobSFUtltlw",
    "outputId": "65453bd5-2e04-4f41-9f70-1c3288486976"
   },
   "outputs": [
    {
     "data": {
      "application/vnd.google.colaboratory.intrinsic+json": {
       "type": "string"
      },
      "text/plain": [
       "\"'Diego'\""
      ]
     },
     "execution_count": 11,
     "metadata": {
      "tags": []
     },
     "output_type": "execute_result"
    }
   ],
   "source": [
    "nome = \"'Diego'\"\n",
    "nome"
   ]
  },
  {
   "cell_type": "code",
   "execution_count": null,
   "metadata": {
    "colab": {
     "base_uri": "https://localhost:8080/"
    },
    "executionInfo": {
     "elapsed": 3462,
     "status": "ok",
     "timestamp": 1608049490546,
     "user": {
      "displayName": "Diego Cowen Pinto",
      "photoUrl": "https://lh3.googleusercontent.com/a-/AOh14GhkSbJn7uVBQmIkmxpBAHIeyBv3MYDnDVJE13xm8w=s64",
      "userId": "00433632151485364739"
     },
     "user_tz": 180
    },
    "id": "8LBWzzfbltly",
    "outputId": "ff27283a-05e9-425d-d95a-145576c3ca6f"
   },
   "outputs": [
    {
     "data": {
      "application/vnd.google.colaboratory.intrinsic+json": {
       "type": "string"
      },
      "text/plain": [
       "'\"Diego\"'"
      ]
     },
     "execution_count": 12,
     "metadata": {
      "tags": []
     },
     "output_type": "execute_result"
    }
   ],
   "source": [
    "nome = '\"Diego\"'\n",
    "nome"
   ]
  },
  {
   "cell_type": "code",
   "execution_count": null,
   "metadata": {
    "colab": {
     "base_uri": "https://localhost:8080/"
    },
    "executionInfo": {
     "elapsed": 3454,
     "status": "ok",
     "timestamp": 1608049490548,
     "user": {
      "displayName": "Diego Cowen Pinto",
      "photoUrl": "https://lh3.googleusercontent.com/a-/AOh14GhkSbJn7uVBQmIkmxpBAHIeyBv3MYDnDVJE13xm8w=s64",
      "userId": "00433632151485364739"
     },
     "user_tz": 180
    },
    "id": "ycEhoxtUltl0",
    "outputId": "3a6ecaf8-8a2c-4e1c-eac2-7fb115dc13af"
   },
   "outputs": [
    {
     "data": {
      "application/vnd.google.colaboratory.intrinsic+json": {
       "type": "string"
      },
      "text/plain": [
       "'\\n  Nome\\n  Idade\\n  Nota\\n'"
      ]
     },
     "execution_count": 13,
     "metadata": {
      "tags": []
     },
     "output_type": "execute_result"
    }
   ],
   "source": [
    "carro = '''\n",
    "  Nome\n",
    "  Idade\n",
    "  Nota\n",
    "'''\n",
    "carro"
   ]
  },
  {
   "cell_type": "code",
   "execution_count": null,
   "metadata": {
    "colab": {
     "base_uri": "https://localhost:8080/"
    },
    "executionInfo": {
     "elapsed": 3445,
     "status": "ok",
     "timestamp": 1608049490549,
     "user": {
      "displayName": "Diego Cowen Pinto",
      "photoUrl": "https://lh3.googleusercontent.com/a-/AOh14GhkSbJn7uVBQmIkmxpBAHIeyBv3MYDnDVJE13xm8w=s64",
      "userId": "00433632151485364739"
     },
     "user_tz": 180
    },
    "id": "bjZQzpuUltl2",
    "outputId": "44227189-f3ce-4ac6-b819-d49772a4ed14"
   },
   "outputs": [
    {
     "data": {
      "text/plain": [
       "str"
      ]
     },
     "execution_count": 14,
     "metadata": {
      "tags": []
     },
     "output_type": "execute_result"
    }
   ],
   "source": [
    "type(carro)"
   ]
  },
  {
   "cell_type": "markdown",
   "metadata": {
    "id": "w6bJU-R9ltl5"
   },
   "source": [
    "### None"
   ]
  },
  {
   "cell_type": "code",
   "execution_count": null,
   "metadata": {
    "id": "RgeVhXGxltl5"
   },
   "outputs": [],
   "source": [
    "quilometragem = None\n",
    "quilometragem"
   ]
  },
  {
   "cell_type": "code",
   "execution_count": null,
   "metadata": {
    "colab": {
     "base_uri": "https://localhost:8080/"
    },
    "executionInfo": {
     "elapsed": 3435,
     "status": "ok",
     "timestamp": 1608049490552,
     "user": {
      "displayName": "Diego Cowen Pinto",
      "photoUrl": "https://lh3.googleusercontent.com/a-/AOh14GhkSbJn7uVBQmIkmxpBAHIeyBv3MYDnDVJE13xm8w=s64",
      "userId": "00433632151485364739"
     },
     "user_tz": 180
    },
    "id": "MJI6PKS6ltl8",
    "outputId": "901c4cb0-eec7-47f9-da2f-f6f05840a4cc"
   },
   "outputs": [
    {
     "data": {
      "text/plain": [
       "NoneType"
      ]
     },
     "execution_count": 16,
     "metadata": {
      "tags": []
     },
     "output_type": "execute_result"
    }
   ],
   "source": [
    "type(quilometragem)"
   ]
  },
  {
   "cell_type": "markdown",
   "metadata": {
    "id": "_ilupwV-ltl-"
   },
   "source": [
    "# 2.4 Conversão de tipos"
   ]
  },
  {
   "cell_type": "code",
   "execution_count": null,
   "metadata": {
    "id": "D5hq5Qbvltl-"
   },
   "outputs": [],
   "source": [
    "a = 10\n",
    "b = 20\n",
    "c = 'Python é '\n",
    "d = 'legal'"
   ]
  },
  {
   "cell_type": "code",
   "execution_count": null,
   "metadata": {
    "colab": {
     "base_uri": "https://localhost:8080/"
    },
    "executionInfo": {
     "elapsed": 1008,
     "status": "ok",
     "timestamp": 1607708098190,
     "user": {
      "displayName": "Diego Cowen Pinto",
      "photoUrl": "https://lh3.googleusercontent.com/a-/AOh14GhkSbJn7uVBQmIkmxpBAHIeyBv3MYDnDVJE13xm8w=s64",
      "userId": "00433632151485364739"
     },
     "user_tz": 180
    },
    "id": "aJ0vi8_Nltl_",
    "outputId": "728557c9-919e-43bf-bf5a-89c8779c206b"
   },
   "outputs": [
    {
     "data": {
      "text/plain": [
       "int"
      ]
     },
     "execution_count": 83,
     "metadata": {
      "tags": []
     },
     "output_type": "execute_result"
    }
   ],
   "source": [
    "type(a)"
   ]
  },
  {
   "cell_type": "code",
   "execution_count": null,
   "metadata": {
    "colab": {
     "base_uri": "https://localhost:8080/"
    },
    "executionInfo": {
     "elapsed": 1008,
     "status": "ok",
     "timestamp": 1607708101508,
     "user": {
      "displayName": "Diego Cowen Pinto",
      "photoUrl": "https://lh3.googleusercontent.com/a-/AOh14GhkSbJn7uVBQmIkmxpBAHIeyBv3MYDnDVJE13xm8w=s64",
      "userId": "00433632151485364739"
     },
     "user_tz": 180
    },
    "id": "29FVH7p7ltmB",
    "outputId": "48177319-87b6-4b24-ce63-1c0926dbd7a4"
   },
   "outputs": [
    {
     "data": {
      "text/plain": [
       "int"
      ]
     },
     "execution_count": 84,
     "metadata": {
      "tags": []
     },
     "output_type": "execute_result"
    }
   ],
   "source": [
    "type(b)"
   ]
  },
  {
   "cell_type": "code",
   "execution_count": null,
   "metadata": {
    "colab": {
     "base_uri": "https://localhost:8080/"
    },
    "executionInfo": {
     "elapsed": 788,
     "status": "ok",
     "timestamp": 1607708112405,
     "user": {
      "displayName": "Diego Cowen Pinto",
      "photoUrl": "https://lh3.googleusercontent.com/a-/AOh14GhkSbJn7uVBQmIkmxpBAHIeyBv3MYDnDVJE13xm8w=s64",
      "userId": "00433632151485364739"
     },
     "user_tz": 180
    },
    "id": "NGseTO2SltmC",
    "outputId": "2c5647ac-4ba7-480f-fb1f-d51e6e32b4da"
   },
   "outputs": [
    {
     "data": {
      "text/plain": [
       "str"
      ]
     },
     "execution_count": 85,
     "metadata": {
      "tags": []
     },
     "output_type": "execute_result"
    }
   ],
   "source": [
    "type(c)"
   ]
  },
  {
   "cell_type": "code",
   "execution_count": null,
   "metadata": {
    "colab": {
     "base_uri": "https://localhost:8080/"
    },
    "executionInfo": {
     "elapsed": 779,
     "status": "ok",
     "timestamp": 1607708116773,
     "user": {
      "displayName": "Diego Cowen Pinto",
      "photoUrl": "https://lh3.googleusercontent.com/a-/AOh14GhkSbJn7uVBQmIkmxpBAHIeyBv3MYDnDVJE13xm8w=s64",
      "userId": "00433632151485364739"
     },
     "user_tz": 180
    },
    "id": "yaSBhwNWltmE",
    "outputId": "aefa6025-5d29-4c3a-8b27-b2b72e0099a6"
   },
   "outputs": [
    {
     "data": {
      "text/plain": [
       "str"
      ]
     },
     "execution_count": 86,
     "metadata": {
      "tags": []
     },
     "output_type": "execute_result"
    }
   ],
   "source": [
    "type(d)"
   ]
  },
  {
   "cell_type": "code",
   "execution_count": null,
   "metadata": {
    "colab": {
     "base_uri": "https://localhost:8080/"
    },
    "executionInfo": {
     "elapsed": 870,
     "status": "ok",
     "timestamp": 1607708200712,
     "user": {
      "displayName": "Diego Cowen Pinto",
      "photoUrl": "https://lh3.googleusercontent.com/a-/AOh14GhkSbJn7uVBQmIkmxpBAHIeyBv3MYDnDVJE13xm8w=s64",
      "userId": "00433632151485364739"
     },
     "user_tz": 180
    },
    "id": "5zMXVwLHltmF",
    "outputId": "e5695ef7-56c6-4cbb-a950-4c806a814640"
   },
   "outputs": [
    {
     "data": {
      "text/plain": [
       "30"
      ]
     },
     "execution_count": 87,
     "metadata": {
      "tags": []
     },
     "output_type": "execute_result"
    }
   ],
   "source": [
    "a + b"
   ]
  },
  {
   "cell_type": "code",
   "execution_count": null,
   "metadata": {
    "colab": {
     "base_uri": "https://localhost:8080/",
     "height": 35
    },
    "executionInfo": {
     "elapsed": 805,
     "status": "ok",
     "timestamp": 1607708260468,
     "user": {
      "displayName": "Diego Cowen Pinto",
      "photoUrl": "https://lh3.googleusercontent.com/a-/AOh14GhkSbJn7uVBQmIkmxpBAHIeyBv3MYDnDVJE13xm8w=s64",
      "userId": "00433632151485364739"
     },
     "user_tz": 180
    },
    "id": "JJrqKRZFltmJ",
    "outputId": "5ebb0375-9b55-4f9a-d51f-624d6a0d237e"
   },
   "outputs": [
    {
     "data": {
      "application/vnd.google.colaboratory.intrinsic+json": {
       "type": "string"
      },
      "text/plain": [
       "'Python é legal'"
      ]
     },
     "execution_count": 92,
     "metadata": {
      "tags": []
     },
     "output_type": "execute_result"
    }
   ],
   "source": [
    "c + d"
   ]
  },
  {
   "cell_type": "code",
   "execution_count": null,
   "metadata": {
    "id": "hWEIttpgltmM"
   },
   "outputs": [],
   "source": [
    "# a + c"
   ]
  },
  {
   "cell_type": "markdown",
   "metadata": {
    "id": "dByigpENltmO"
   },
   "source": [
    "### Conversões de tipo\n",
    "\n",
    "Funções int(), float(), str()"
   ]
  },
  {
   "cell_type": "code",
   "execution_count": null,
   "metadata": {
    "colab": {
     "base_uri": "https://localhost:8080/",
     "height": 35
    },
    "executionInfo": {
     "elapsed": 809,
     "status": "ok",
     "timestamp": 1607708521202,
     "user": {
      "displayName": "Diego Cowen Pinto",
      "photoUrl": "https://lh3.googleusercontent.com/a-/AOh14GhkSbJn7uVBQmIkmxpBAHIeyBv3MYDnDVJE13xm8w=s64",
      "userId": "00433632151485364739"
     },
     "user_tz": 180
    },
    "id": "MtecvWlsltmP",
    "outputId": "c1c1951d-3ec7-45c8-e805-f7b2bf53aa68"
   },
   "outputs": [
    {
     "data": {
      "application/vnd.google.colaboratory.intrinsic+json": {
       "type": "string"
      },
      "text/plain": [
       "'10'"
      ]
     },
     "execution_count": 97,
     "metadata": {
      "tags": []
     },
     "output_type": "execute_result"
    }
   ],
   "source": [
    "str(a)"
   ]
  },
  {
   "cell_type": "code",
   "execution_count": null,
   "metadata": {
    "colab": {
     "base_uri": "https://localhost:8080/"
    },
    "executionInfo": {
     "elapsed": 1184,
     "status": "ok",
     "timestamp": 1607708552754,
     "user": {
      "displayName": "Diego Cowen Pinto",
      "photoUrl": "https://lh3.googleusercontent.com/a-/AOh14GhkSbJn7uVBQmIkmxpBAHIeyBv3MYDnDVJE13xm8w=s64",
      "userId": "00433632151485364739"
     },
     "user_tz": 180
    },
    "id": "S1NuIhDVltmS",
    "outputId": "b3732e59-cd53-44ce-f735-24b0c00f3f15"
   },
   "outputs": [
    {
     "data": {
      "text/plain": [
       "str"
      ]
     },
     "execution_count": 99,
     "metadata": {
      "tags": []
     },
     "output_type": "execute_result"
    }
   ],
   "source": [
    "type(str(a))"
   ]
  },
  {
   "cell_type": "code",
   "execution_count": null,
   "metadata": {
    "colab": {
     "base_uri": "https://localhost:8080/",
     "height": 35
    },
    "executionInfo": {
     "elapsed": 1070,
     "status": "ok",
     "timestamp": 1607708578991,
     "user": {
      "displayName": "Diego Cowen Pinto",
      "photoUrl": "https://lh3.googleusercontent.com/a-/AOh14GhkSbJn7uVBQmIkmxpBAHIeyBv3MYDnDVJE13xm8w=s64",
      "userId": "00433632151485364739"
     },
     "user_tz": 180
    },
    "id": "3kCUD1X-ltmT",
    "outputId": "846f0c8e-b55b-4a19-84a5-bcba6db1ba39"
   },
   "outputs": [
    {
     "data": {
      "application/vnd.google.colaboratory.intrinsic+json": {
       "type": "string"
      },
      "text/plain": [
       "'Python é 10'"
      ]
     },
     "execution_count": 101,
     "metadata": {
      "tags": []
     },
     "output_type": "execute_result"
    }
   ],
   "source": [
    "c + str(a)"
   ]
  },
  {
   "cell_type": "code",
   "execution_count": null,
   "metadata": {
    "colab": {
     "base_uri": "https://localhost:8080/"
    },
    "executionInfo": {
     "elapsed": 867,
     "status": "ok",
     "timestamp": 1607708612303,
     "user": {
      "displayName": "Diego Cowen Pinto",
      "photoUrl": "https://lh3.googleusercontent.com/a-/AOh14GhkSbJn7uVBQmIkmxpBAHIeyBv3MYDnDVJE13xm8w=s64",
      "userId": "00433632151485364739"
     },
     "user_tz": 180
    },
    "id": "TTjSEVRaltmU",
    "outputId": "960f5919-19cb-4af2-f961-52b47862d52f"
   },
   "outputs": [
    {
     "data": {
      "text/plain": [
       "10.0"
      ]
     },
     "execution_count": 102,
     "metadata": {
      "tags": []
     },
     "output_type": "execute_result"
    }
   ],
   "source": [
    "float(a)"
   ]
  },
  {
   "cell_type": "code",
   "execution_count": null,
   "metadata": {
    "id": "P1P1bXaYltmV"
   },
   "outputs": [],
   "source": [
    "var = 3.141592"
   ]
  },
  {
   "cell_type": "code",
   "execution_count": null,
   "metadata": {
    "colab": {
     "base_uri": "https://localhost:8080/"
    },
    "executionInfo": {
     "elapsed": 811,
     "status": "ok",
     "timestamp": 1607708730494,
     "user": {
      "displayName": "Diego Cowen Pinto",
      "photoUrl": "https://lh3.googleusercontent.com/a-/AOh14GhkSbJn7uVBQmIkmxpBAHIeyBv3MYDnDVJE13xm8w=s64",
      "userId": "00433632151485364739"
     },
     "user_tz": 180
    },
    "id": "F_8Cn0aAltmW",
    "outputId": "ba93e9ab-6035-41cb-9af6-723141d3083a"
   },
   "outputs": [
    {
     "data": {
      "text/plain": [
       "3"
      ]
     },
     "execution_count": 107,
     "metadata": {
      "tags": []
     },
     "output_type": "execute_result"
    }
   ],
   "source": [
    "int(var)"
   ]
  },
  {
   "cell_type": "code",
   "execution_count": null,
   "metadata": {
    "id": "_KA6MUgmltmY"
   },
   "outputs": [],
   "source": [
    "var = 3.5"
   ]
  },
  {
   "cell_type": "code",
   "execution_count": null,
   "metadata": {
    "colab": {
     "base_uri": "https://localhost:8080/"
    },
    "executionInfo": {
     "elapsed": 728,
     "status": "ok",
     "timestamp": 1607708774893,
     "user": {
      "displayName": "Diego Cowen Pinto",
      "photoUrl": "https://lh3.googleusercontent.com/a-/AOh14GhkSbJn7uVBQmIkmxpBAHIeyBv3MYDnDVJE13xm8w=s64",
      "userId": "00433632151485364739"
     },
     "user_tz": 180
    },
    "id": "7uiCxqUcltma",
    "outputId": "34a126e5-a3f3-40e1-8c8c-68d66cd11a33"
   },
   "outputs": [
    {
     "data": {
      "text/plain": [
       "4"
      ]
     },
     "execution_count": 114,
     "metadata": {
      "tags": []
     },
     "output_type": "execute_result"
    }
   ],
   "source": [
    "round(var)"
   ]
  },
  {
   "cell_type": "markdown",
   "metadata": {
    "id": "gGpflJMYltmd"
   },
   "source": [
    "# 2.5 Indentação, comentários e formatação de *strings*"
   ]
  },
  {
   "cell_type": "markdown",
   "metadata": {
    "id": "XbijUgqVltmw"
   },
   "source": [
    "### Indentação\n",
    "\n",
    "Na linguagem Python os programas são estruturados por meio de indentação. Em qualquer linguagem de programação a prática da indentação é bastante útil, facilitando a leitura e também a manutenção do código. Em Python a indentação não é somente uma questão de organização e estilo, mas sim um requisito da linguagem."
   ]
  },
  {
   "cell_type": "code",
   "execution_count": null,
   "metadata": {
    "colab": {
     "base_uri": "https://localhost:8080/"
    },
    "executionInfo": {
     "elapsed": 838,
     "status": "ok",
     "timestamp": 1607709246241,
     "user": {
      "displayName": "Diego Cowen Pinto",
      "photoUrl": "https://lh3.googleusercontent.com/a-/AOh14GhkSbJn7uVBQmIkmxpBAHIeyBv3MYDnDVJE13xm8w=s64",
      "userId": "00433632151485364739"
     },
     "user_tz": 180
    },
    "id": "DqXANnyultmw",
    "outputId": "b4157ec0-57eb-4cbe-e8e7-11fb6a376a5c"
   },
   "outputs": [
    {
     "name": "stdout",
     "output_type": "stream",
     "text": [
      "Falso\n"
     ]
    }
   ],
   "source": [
    "ano_atual = 2020\n",
    "ano_fabricacao = 2019\n",
    "\n",
    "if (ano_atual == ano_fabricacao):\n",
    "    print('Verdadeiro')\n",
    "else:\n",
    "    print('Falso')"
   ]
  },
  {
   "cell_type": "markdown",
   "metadata": {
    "id": "dNBfv7x7ltmy"
   },
   "source": [
    "### Comentários\n",
    "\n",
    "Comentários são extremamente importantes em um programa. Consiste em um texto que descreve o que o programa ou uma parte específica do programa está fazendo. Os comentários são ignorados pelo interpretador Python. \n",
    "\n",
    "Podemos ter comentários de uma única linha ou de múltiplas linhas."
   ]
  },
  {
   "cell_type": "code",
   "execution_count": null,
   "metadata": {
    "colab": {
     "base_uri": "https://localhost:8080/"
    },
    "executionInfo": {
     "elapsed": 1576,
     "status": "ok",
     "timestamp": 1607701803425,
     "user": {
      "displayName": "Diego Cowen Pinto",
      "photoUrl": "https://lh3.googleusercontent.com/a-/AOh14GhkSbJn7uVBQmIkmxpBAHIeyBv3MYDnDVJE13xm8w=s64",
      "userId": "00433632151485364739"
     },
     "user_tz": 180
    },
    "id": "GN3DfwiRltmy",
    "outputId": "692df175-8182-4e9f-97ab-d297af6a4cbc"
   },
   "outputs": [
    {
     "data": {
      "text/plain": [
       "2019"
      ]
     },
     "execution_count": 25,
     "metadata": {
      "tags": []
     },
     "output_type": "execute_result"
    }
   ],
   "source": [
    "# Isto é um comentário usar ctrl + ; para comentar uma linha \n",
    "ano_atual = 2019\n",
    "ano_atual"
   ]
  },
  {
   "cell_type": "code",
   "execution_count": null,
   "metadata": {
    "colab": {
     "base_uri": "https://localhost:8080/"
    },
    "executionInfo": {
     "elapsed": 1574,
     "status": "ok",
     "timestamp": 1607701803426,
     "user": {
      "displayName": "Diego Cowen Pinto",
      "photoUrl": "https://lh3.googleusercontent.com/a-/AOh14GhkSbJn7uVBQmIkmxpBAHIeyBv3MYDnDVJE13xm8w=s64",
      "userId": "00433632151485364739"
     },
     "user_tz": 180
    },
    "id": "PICBiohFltm2",
    "outputId": "5ef4e880-ccf8-45b7-8dc0-be315da3d6eb"
   },
   "outputs": [
    {
     "data": {
      "text/plain": [
       "2019"
      ]
     },
     "execution_count": 26,
     "metadata": {
      "tags": []
     },
     "output_type": "execute_result"
    }
   ],
   "source": [
    "# Isto\n",
    "# é um \n",
    "# comentário\n",
    "ano_atual = 2019\n",
    "ano_atual"
   ]
  },
  {
   "cell_type": "code",
   "execution_count": null,
   "metadata": {
    "colab": {
     "base_uri": "https://localhost:8080/"
    },
    "executionInfo": {
     "elapsed": 1572,
     "status": "ok",
     "timestamp": 1607701803427,
     "user": {
      "displayName": "Diego Cowen Pinto",
      "photoUrl": "https://lh3.googleusercontent.com/a-/AOh14GhkSbJn7uVBQmIkmxpBAHIeyBv3MYDnDVJE13xm8w=s64",
      "userId": "00433632151485364739"
     },
     "user_tz": 180
    },
    "id": "PTkJ4Vjultm4",
    "outputId": "badddf34-5531-4376-e6fd-572777485e3f"
   },
   "outputs": [
    {
     "data": {
      "text/plain": [
       "2019"
      ]
     },
     "execution_count": 27,
     "metadata": {
      "tags": []
     },
     "output_type": "execute_result"
    }
   ],
   "source": [
    "'''Isto é um\n",
    "comentário'''\n",
    "ano_atual = 2019\n",
    "ano_atual"
   ]
  },
  {
   "cell_type": "code",
   "execution_count": null,
   "metadata": {
    "colab": {
     "base_uri": "https://localhost:8080/"
    },
    "executionInfo": {
     "elapsed": 1570,
     "status": "ok",
     "timestamp": 1607701803428,
     "user": {
      "displayName": "Diego Cowen Pinto",
      "photoUrl": "https://lh3.googleusercontent.com/a-/AOh14GhkSbJn7uVBQmIkmxpBAHIeyBv3MYDnDVJE13xm8w=s64",
      "userId": "00433632151485364739"
     },
     "user_tz": 180
    },
    "id": "SYEGdALxltm5",
    "outputId": "91289277-e3d1-4f75-a002-91ddbba08b28"
   },
   "outputs": [
    {
     "name": "stdout",
     "output_type": "stream",
     "text": [
      "Verdadeiro\n"
     ]
    }
   ],
   "source": [
    "# Definindo variáveis\n",
    "ano_atual = 2019\n",
    "ano_fabricacao = 2019\n",
    "\n",
    "'''\n",
    "Estrutura condicional que vamos \n",
    "aprender na próxima aula\n",
    "'''\n",
    "if (ano_atual == ano_fabricacao):   # Testando se condição é verdadeira\n",
    "    print('Verdadeiro')\n",
    "else:                               # Testando se condição é falsa\n",
    "    print('Falso')"
   ]
  },
  {
   "cell_type": "markdown",
   "metadata": {
    "id": "8--bcJ01ltm8"
   },
   "source": [
    "### Formatação de *strings*"
   ]
  },
  {
   "cell_type": "markdown",
   "metadata": {
    "id": "CMovhJZ_ltnG"
   },
   "source": [
    "## *str.format()*\n",
    "\n",
    "https://docs.python.org/3.6/library/stdtypes.html#str.format"
   ]
  },
  {
   "cell_type": "code",
   "execution_count": null,
   "metadata": {
    "colab": {
     "base_uri": "https://localhost:8080/"
    },
    "executionInfo": {
     "elapsed": 753,
     "status": "ok",
     "timestamp": 1607709515712,
     "user": {
      "displayName": "Diego Cowen Pinto",
      "photoUrl": "https://lh3.googleusercontent.com/a-/AOh14GhkSbJn7uVBQmIkmxpBAHIeyBv3MYDnDVJE13xm8w=s64",
      "userId": "00433632151485364739"
     },
     "user_tz": 180
    },
    "id": "N12xmMehltnG",
    "outputId": "05a1ed74-9fa3-4f2c-ddef-b5dcf4af3ec1"
   },
   "outputs": [
    {
     "name": "stdout",
     "output_type": "stream",
     "text": [
      "Olá, Diego!\n"
     ]
    }
   ],
   "source": [
    "print('Olá, {}!'.format('Diego'))"
   ]
  },
  {
   "cell_type": "code",
   "execution_count": null,
   "metadata": {
    "colab": {
     "base_uri": "https://localhost:8080/"
    },
    "executionInfo": {
     "elapsed": 793,
     "status": "ok",
     "timestamp": 1607709667282,
     "user": {
      "displayName": "Diego Cowen Pinto",
      "photoUrl": "https://lh3.googleusercontent.com/a-/AOh14GhkSbJn7uVBQmIkmxpBAHIeyBv3MYDnDVJE13xm8w=s64",
      "userId": "00433632151485364739"
     },
     "user_tz": 180
    },
    "id": "mRBmU9G1ltnJ",
    "outputId": "66d6d406-0a48-4fd1-e449-bf84e2e946cb"
   },
   "outputs": [
    {
     "name": "stdout",
     "output_type": "stream",
     "text": [
      "Olá, Diego! Esse é o seu 10° acesso.\n"
     ]
    }
   ],
   "source": [
    "print('Olá, {}! Esse é o seu {}° acesso.'.format('Diego', 10))"
   ]
  },
  {
   "cell_type": "code",
   "execution_count": null,
   "metadata": {
    "colab": {
     "base_uri": "https://localhost:8080/"
    },
    "executionInfo": {
     "elapsed": 848,
     "status": "ok",
     "timestamp": 1607709775458,
     "user": {
      "displayName": "Diego Cowen Pinto",
      "photoUrl": "https://lh3.googleusercontent.com/a-/AOh14GhkSbJn7uVBQmIkmxpBAHIeyBv3MYDnDVJE13xm8w=s64",
      "userId": "00433632151485364739"
     },
     "user_tz": 180
    },
    "id": "wpqEsTwnltnL",
    "outputId": "ed608c5a-47af-4081-9c34-a898a6b295db"
   },
   "outputs": [
    {
     "name": "stdout",
     "output_type": "stream",
     "text": [
      "Olá, Diego! Esse é o seu 10° acesso.\n"
     ]
    }
   ],
   "source": [
    "print('Olá, {nome}! Esse é o seu {acessos}° acesso.'.format(nome = 'Diego', acessos = 10))"
   ]
  },
  {
   "cell_type": "markdown",
   "metadata": {
    "id": "V-wPNUN9ltnN"
   },
   "source": [
    "## *f-Strings*\n",
    "\n",
    "https://docs.python.org/3.6/reference/lexical_analysis.html#f-strings"
   ]
  },
  {
   "cell_type": "code",
   "execution_count": null,
   "metadata": {
    "id": "7Fq_WPv0ltnO"
   },
   "outputs": [],
   "source": [
    "nome = 'Diego'\n",
    "acessos = 10"
   ]
  },
  {
   "cell_type": "code",
   "execution_count": null,
   "metadata": {
    "colab": {
     "base_uri": "https://localhost:8080/"
    },
    "executionInfo": {
     "elapsed": 1935,
     "status": "ok",
     "timestamp": 1607884025490,
     "user": {
      "displayName": "Diego Cowen Pinto",
      "photoUrl": "https://lh3.googleusercontent.com/a-/AOh14GhkSbJn7uVBQmIkmxpBAHIeyBv3MYDnDVJE13xm8w=s64",
      "userId": "00433632151485364739"
     },
     "user_tz": 180
    },
    "id": "bE3qbd6WltnR",
    "outputId": "365ca4a3-07cf-4a08-e846-a3732cdc0edd"
   },
   "outputs": [
    {
     "name": "stdout",
     "output_type": "stream",
     "text": [
      "Olá, Diego! Esse é o seu 10° acesso.\n"
     ]
    }
   ],
   "source": [
    "print(f'Olá, {nome}! Esse é o seu {acessos}° acesso.')"
   ]
  },
  {
   "cell_type": "markdown",
   "metadata": {
    "id": "_IZuNE48ltnS"
   },
   "source": [
    "# <font color=green> 3. TRABALHANDO COM LISTAS\n",
    "---"
   ]
  },
  {
   "cell_type": "markdown",
   "metadata": {
    "id": "zhS89xysltnS"
   },
   "source": [
    "# 3.1 Criando listas\n",
    "\n",
    "Listas são sequências **mutáveis** que são utilizadas para armazenar coleções de itens, geralmente homogêneos. Podem ser construídas de várias formas:\n",
    "```\n",
    "- Utilizando um par de colchetes: [ ], [ 1 ]\n",
    "- Utilizando um par de colchetes com itens separados por vírgulas: [ 1, 2, 3 ]\n",
    "```"
   ]
  },
  {
   "cell_type": "code",
   "execution_count": null,
   "metadata": {
    "colab": {
     "base_uri": "https://localhost:8080/"
    },
    "collapsed": true,
    "executionInfo": {
     "elapsed": 753,
     "status": "ok",
     "timestamp": 1608137457759,
     "user": {
      "displayName": "Diego Cowen Pinto",
      "photoUrl": "https://lh3.googleusercontent.com/a-/AOh14GhkSbJn7uVBQmIkmxpBAHIeyBv3MYDnDVJE13xm8w=s64",
      "userId": "00433632151485364739"
     },
     "user_tz": 180
    },
    "id": "aE4UWF10ltnS",
    "outputId": "47ba87d6-91e3-49a2-e60f-dacff11afdfe"
   },
   "outputs": [
    {
     "data": {
      "text/plain": [
       "['Rodas de liga',\n",
       " 'Travas elétricas',\n",
       " 'Piloto automático',\n",
       " 'Bancos de couro',\n",
       " 'Ar condicionado',\n",
       " 'Sensor de estacionamento',\n",
       " 'Sensor crepuscular',\n",
       " 'Sensor de chuva']"
      ]
     },
     "execution_count": 21,
     "metadata": {
      "tags": []
     },
     "output_type": "execute_result"
    }
   ],
   "source": [
    "Acessorios = ['Rodas de liga', 'Travas elétricas', 'Piloto automático', 'Bancos de couro', 'Ar condicionado', 'Sensor de estacionamento', 'Sensor crepuscular', 'Sensor de chuva']\n",
    "Acessorios"
   ]
  },
  {
   "cell_type": "markdown",
   "metadata": {
    "id": "Mmlkh5TVltnT"
   },
   "source": [
    "### Lista com tipos de dados variados"
   ]
  },
  {
   "cell_type": "code",
   "execution_count": null,
   "metadata": {
    "id": "Mfpu7NoJltnT"
   },
   "outputs": [],
   "source": [
    "Carro_1 = ['Jetta Variant', 'Motor 4.0 Turbo', 2003, 44410.0, False, ['Rodas de liga', 'Travas elétricas', 'Piloto automático'], 88078.64]\n",
    "Carro_2 = ['Passat', 'Motor Diesel', 1991, 5712.0, False, ['Central multimídia', 'Teto panorâmico', 'Freios ABS'], 106161.94]"
   ]
  },
  {
   "cell_type": "code",
   "execution_count": null,
   "metadata": {
    "colab": {
     "base_uri": "https://localhost:8080/"
    },
    "executionInfo": {
     "elapsed": 957,
     "status": "ok",
     "timestamp": 1608137454981,
     "user": {
      "displayName": "Diego Cowen Pinto",
      "photoUrl": "https://lh3.googleusercontent.com/a-/AOh14GhkSbJn7uVBQmIkmxpBAHIeyBv3MYDnDVJE13xm8w=s64",
      "userId": "00433632151485364739"
     },
     "user_tz": 180
    },
    "id": "EJSJFJjKltnV",
    "outputId": "3c5b92d4-53e3-47a3-ca54-781e5f38c966"
   },
   "outputs": [
    {
     "data": {
      "text/plain": [
       "['Jetta Variant',\n",
       " 'Motor 4.0 Turbo',\n",
       " 2003,\n",
       " 44410.0,\n",
       " False,\n",
       " ['Rodas de liga', 'Travas elétricas', 'Piloto automático'],\n",
       " 88078.64]"
      ]
     },
     "execution_count": 18,
     "metadata": {
      "tags": []
     },
     "output_type": "execute_result"
    }
   ],
   "source": [
    "Carro_1"
   ]
  },
  {
   "cell_type": "code",
   "execution_count": null,
   "metadata": {
    "colab": {
     "base_uri": "https://localhost:8080/"
    },
    "executionInfo": {
     "elapsed": 947,
     "status": "ok",
     "timestamp": 1608137454981,
     "user": {
      "displayName": "Diego Cowen Pinto",
      "photoUrl": "https://lh3.googleusercontent.com/a-/AOh14GhkSbJn7uVBQmIkmxpBAHIeyBv3MYDnDVJE13xm8w=s64",
      "userId": "00433632151485364739"
     },
     "user_tz": 180
    },
    "id": "7MMG7L8VltnX",
    "outputId": "5c871c64-1415-4644-9d88-82a8da238e61"
   },
   "outputs": [
    {
     "data": {
      "text/plain": [
       "['Passat',\n",
       " 'Motor Diesel',\n",
       " 1991,\n",
       " 5712.0,\n",
       " False,\n",
       " ['Central multimídia', 'Teto panorâmico', 'Freios ABS'],\n",
       " 106161.94]"
      ]
     },
     "execution_count": 19,
     "metadata": {
      "tags": []
     },
     "output_type": "execute_result"
    }
   ],
   "source": [
    "Carro_2"
   ]
  },
  {
   "cell_type": "code",
   "execution_count": null,
   "metadata": {
    "colab": {
     "base_uri": "https://localhost:8080/"
    },
    "executionInfo": {
     "elapsed": 937,
     "status": "ok",
     "timestamp": 1608137454982,
     "user": {
      "displayName": "Diego Cowen Pinto",
      "photoUrl": "https://lh3.googleusercontent.com/a-/AOh14GhkSbJn7uVBQmIkmxpBAHIeyBv3MYDnDVJE13xm8w=s64",
      "userId": "00433632151485364739"
     },
     "user_tz": 180
    },
    "id": "7E8erLgZltnZ",
    "outputId": "f5204f0e-3f43-4011-b6f1-3c43cd9487e4"
   },
   "outputs": [
    {
     "data": {
      "text/plain": [
       "[['Jetta Variant',\n",
       "  'Motor 4.0 Turbo',\n",
       "  2003,\n",
       "  44410.0,\n",
       "  False,\n",
       "  ['Rodas de liga', 'Travas elétricas', 'Piloto automático'],\n",
       "  88078.64],\n",
       " ['Passat',\n",
       "  'Motor Diesel',\n",
       "  1991,\n",
       "  5712.0,\n",
       "  False,\n",
       "  ['Central multimídia', 'Teto panorâmico', 'Freios ABS'],\n",
       "  106161.94]]"
      ]
     },
     "execution_count": 20,
     "metadata": {
      "tags": []
     },
     "output_type": "execute_result"
    }
   ],
   "source": [
    "Carros = [Carro_1, Carro_2]\n",
    "Carros"
   ]
  },
  {
   "cell_type": "markdown",
   "metadata": {
    "id": "5yMXJ0xdltna"
   },
   "source": [
    "# 3.2 Operações com listas\n",
    "\n",
    "https://docs.python.org/3.6/library/stdtypes.html#common-sequence-operations"
   ]
  },
  {
   "cell_type": "markdown",
   "metadata": {
    "id": "YSorJOGlltna"
   },
   "source": [
    "## *x in A*\n",
    "\n",
    "Retorna **True** se um elemento da lista *A* for igual a *x*."
   ]
  },
  {
   "cell_type": "code",
   "execution_count": null,
   "metadata": {
    "id": "GgSP_nlHltnb"
   },
   "outputs": [],
   "source": [
    "Acessorios"
   ]
  },
  {
   "cell_type": "code",
   "execution_count": null,
   "metadata": {
    "id": "_JyyHPmWltnd"
   },
   "outputs": [],
   "source": [
    "'Rodas de liga' in Acessorios"
   ]
  },
  {
   "cell_type": "code",
   "execution_count": null,
   "metadata": {
    "id": "tebg9gAyltne"
   },
   "outputs": [],
   "source": [
    "'4 x 4' in Acessorios\n"
   ]
  },
  {
   "cell_type": "code",
   "execution_count": null,
   "metadata": {
    "id": "W_1PKJYsltnf"
   },
   "outputs": [],
   "source": [
    "'Rodas de liga' not in Acessorios\n"
   ]
  },
  {
   "cell_type": "code",
   "execution_count": null,
   "metadata": {
    "id": "1WNsBXFyltng"
   },
   "outputs": [],
   "source": [
    "'4 X 4' not in Acessorios"
   ]
  },
  {
   "cell_type": "markdown",
   "metadata": {
    "id": "RF6_rf90ltnh"
   },
   "source": [
    "## *A + B*\n",
    "\n",
    "Concatena as listas *A* e *B*."
   ]
  },
  {
   "cell_type": "code",
   "execution_count": null,
   "metadata": {
    "id": "8lnzbYnRltnh"
   },
   "outputs": [],
   "source": [
    "A = ['Rodas de liga', 'Travas elétricas', 'Piloto automático', 'Bancos de couro']\n",
    "B = ['Ar condicionado', 'Sensor de estacionamento', 'Sensor crepuscular', 'Sensor de chuva']"
   ]
  },
  {
   "cell_type": "markdown",
   "metadata": {
    "id": "p3rpDqTVdqsz"
   },
   "source": []
  },
  {
   "cell_type": "code",
   "execution_count": null,
   "metadata": {
    "id": "SzbiHHF4ltni"
   },
   "outputs": [],
   "source": [
    "A"
   ]
  },
  {
   "cell_type": "code",
   "execution_count": null,
   "metadata": {
    "id": "It5Cn5aXltni"
   },
   "outputs": [],
   "source": [
    "B"
   ]
  },
  {
   "cell_type": "code",
   "execution_count": null,
   "metadata": {
    "id": "l7gF4Ph5ltnj"
   },
   "outputs": [],
   "source": [
    "A + B"
   ]
  },
  {
   "cell_type": "markdown",
   "metadata": {
    "id": "iTv5t7zAltnk"
   },
   "source": [
    "## *len(A)*\n",
    "\n",
    "Tamanho da lista A."
   ]
  },
  {
   "cell_type": "code",
   "execution_count": null,
   "metadata": {
    "colab": {
     "base_uri": "https://localhost:8080/",
     "height": 163
    },
    "executionInfo": {
     "elapsed": 817,
     "status": "error",
     "timestamp": 1608137447978,
     "user": {
      "displayName": "Diego Cowen Pinto",
      "photoUrl": "https://lh3.googleusercontent.com/a-/AOh14GhkSbJn7uVBQmIkmxpBAHIeyBv3MYDnDVJE13xm8w=s64",
      "userId": "00433632151485364739"
     },
     "user_tz": 180
    },
    "id": "dtbuCDSOltnk",
    "outputId": "7570ce07-12f8-4437-dffd-3ebe0f0133b7"
   },
   "outputs": [
    {
     "ename": "NameError",
     "evalue": "ignored",
     "output_type": "error",
     "traceback": [
      "\u001b[0;31m---------------------------------------------------------------------------\u001b[0m",
      "\u001b[0;31mNameError\u001b[0m                                 Traceback (most recent call last)",
      "\u001b[0;32m<ipython-input-15-cabd66d91167>\u001b[0m in \u001b[0;36m<module>\u001b[0;34m()\u001b[0m\n\u001b[0;32m----> 1\u001b[0;31m \u001b[0mlen\u001b[0m\u001b[0;34m(\u001b[0m\u001b[0mAcessorios\u001b[0m\u001b[0;34m)\u001b[0m\u001b[0;34m\u001b[0m\u001b[0;34m\u001b[0m\u001b[0m\n\u001b[0m",
      "\u001b[0;31mNameError\u001b[0m: name 'Acessorios' is not defined"
     ]
    }
   ],
   "source": [
    "len(Acessorios)"
   ]
  },
  {
   "cell_type": "markdown",
   "metadata": {
    "id": "k7wWCbAmltnl"
   },
   "source": [
    "# 3.3 Seleções em listas"
   ]
  },
  {
   "cell_type": "markdown",
   "metadata": {
    "id": "uF3NmgUaltnl"
   },
   "source": [
    "## *A[ i ]*\n",
    "\n",
    "Retorna o i-ésimo item da lista *A*.\n",
    "\n",
    "<font color=red>**Observação:**</font> Listas têm indexação com origem no zero."
   ]
  },
  {
   "cell_type": "code",
   "execution_count": null,
   "metadata": {
    "colab": {
     "base_uri": "https://localhost:8080/"
    },
    "executionInfo": {
     "elapsed": 993,
     "status": "ok",
     "timestamp": 1608137577003,
     "user": {
      "displayName": "Diego Cowen Pinto",
      "photoUrl": "https://lh3.googleusercontent.com/a-/AOh14GhkSbJn7uVBQmIkmxpBAHIeyBv3MYDnDVJE13xm8w=s64",
      "userId": "00433632151485364739"
     },
     "user_tz": 180
    },
    "id": "f5ct7w1Wltnm",
    "outputId": "b6aa12b1-6508-4b11-ad2a-0c0b5ac63677"
   },
   "outputs": [
    {
     "data": {
      "text/plain": [
       "['Rodas de liga',\n",
       " 'Travas elétricas',\n",
       " 'Piloto automático',\n",
       " 'Bancos de couro',\n",
       " 'Ar condicionado',\n",
       " 'Sensor de estacionamento',\n",
       " 'Sensor crepuscular',\n",
       " 'Sensor de chuva']"
      ]
     },
     "execution_count": 23,
     "metadata": {
      "tags": []
     },
     "output_type": "execute_result"
    }
   ],
   "source": [
    "Acessorios"
   ]
  },
  {
   "cell_type": "code",
   "execution_count": null,
   "metadata": {
    "colab": {
     "base_uri": "https://localhost:8080/",
     "height": 163
    },
    "executionInfo": {
     "elapsed": 977,
     "status": "error",
     "timestamp": 1608137127898,
     "user": {
      "displayName": "Diego Cowen Pinto",
      "photoUrl": "https://lh3.googleusercontent.com/a-/AOh14GhkSbJn7uVBQmIkmxpBAHIeyBv3MYDnDVJE13xm8w=s64",
      "userId": "00433632151485364739"
     },
     "user_tz": 180
    },
    "id": "-BLG7yifltnn",
    "outputId": "0ccc1330-3d09-4e17-d3a8-d1908075605e"
   },
   "outputs": [
    {
     "ename": "NameError",
     "evalue": "ignored",
     "output_type": "error",
     "traceback": [
      "\u001b[0;31m---------------------------------------------------------------------------\u001b[0m",
      "\u001b[0;31mNameError\u001b[0m                                 Traceback (most recent call last)",
      "\u001b[0;32m<ipython-input-12-8f9de0a8335f>\u001b[0m in \u001b[0;36m<module>\u001b[0;34m()\u001b[0m\n\u001b[0;32m----> 1\u001b[0;31m \u001b[0mAcessorios\u001b[0m\u001b[0;34m[\u001b[0m\u001b[0;36m0\u001b[0m\u001b[0;34m]\u001b[0m\u001b[0;34m\u001b[0m\u001b[0;34m\u001b[0m\u001b[0m\n\u001b[0m",
      "\u001b[0;31mNameError\u001b[0m: name 'Acessorios' is not defined"
     ]
    }
   ],
   "source": [
    "Acessorios[0]"
   ]
  },
  {
   "cell_type": "code",
   "execution_count": null,
   "metadata": {
    "id": "SoL6PIjJltno"
   },
   "outputs": [],
   "source": [
    "Acessorios[1]"
   ]
  },
  {
   "cell_type": "code",
   "execution_count": null,
   "metadata": {
    "id": "pGMDc5FLltnq"
   },
   "outputs": [],
   "source": [
    "Acessorios[-1]"
   ]
  },
  {
   "cell_type": "code",
   "execution_count": null,
   "metadata": {
    "id": "m3AaFe73ltnr"
   },
   "outputs": [],
   "source": [
    "Carros"
   ]
  },
  {
   "cell_type": "code",
   "execution_count": null,
   "metadata": {
    "id": "AeDJviqoltns"
   },
   "outputs": [],
   "source": [
    "Carros[0]"
   ]
  },
  {
   "cell_type": "code",
   "execution_count": null,
   "metadata": {
    "id": "KdenG1BZltnt"
   },
   "outputs": [],
   "source": [
    "Carros[0][0]"
   ]
  },
  {
   "cell_type": "code",
   "execution_count": null,
   "metadata": {
    "id": "iOjsfrlFltnu"
   },
   "outputs": [],
   "source": [
    "Carros[0][-2]"
   ]
  },
  {
   "cell_type": "code",
   "execution_count": null,
   "metadata": {
    "id": "6BrON70Zltnu"
   },
   "outputs": [],
   "source": [
    "Carros[0][-2][1]\n"
   ]
  },
  {
   "cell_type": "markdown",
   "metadata": {
    "id": "9WgwxPIMltnv"
   },
   "source": [
    "## *A[ i : j ]*\n",
    "\n",
    "Recorta a lista *A* do índice i até o j. Neste fatiamento o elemento com índice i é **incluído** e o elemento com índice j **não é incluído** no resultado."
   ]
  },
  {
   "cell_type": "code",
   "execution_count": null,
   "metadata": {
    "id": "bJzL2PMiltnv"
   },
   "outputs": [],
   "source": [
    "Acessorios"
   ]
  },
  {
   "cell_type": "code",
   "execution_count": null,
   "metadata": {
    "id": "sFAlJ4u_ltnw"
   },
   "outputs": [],
   "source": [
    "Acessorios[0:3]"
   ]
  },
  {
   "cell_type": "code",
   "execution_count": null,
   "metadata": {
    "id": "dFdTBWa9ltnz"
   },
   "outputs": [],
   "source": [
    "Acessorios[2:]"
   ]
  },
  {
   "cell_type": "code",
   "execution_count": null,
   "metadata": {
    "id": "yxxB2-_Dltn0"
   },
   "outputs": [],
   "source": [
    "Acessorios[:5]"
   ]
  },
  {
   "cell_type": "markdown",
   "metadata": {
    "id": "R-S-LCPGltn0"
   },
   "source": [
    "# 3.4 Métodos de listas\n",
    "\n",
    "https://docs.python.org/3.6/library/stdtypes.html#mutable-sequence-types"
   ]
  },
  {
   "cell_type": "markdown",
   "metadata": {
    "id": "j9s2OyyPltn1"
   },
   "source": [
    "## *A.sort()*\n",
    "\n",
    "Ordena a lista *A*."
   ]
  },
  {
   "cell_type": "code",
   "execution_count": null,
   "metadata": {
    "colab": {
     "base_uri": "https://localhost:8080/"
    },
    "executionInfo": {
     "elapsed": 718,
     "status": "ok",
     "timestamp": 1608137547397,
     "user": {
      "displayName": "Diego Cowen Pinto",
      "photoUrl": "https://lh3.googleusercontent.com/a-/AOh14GhkSbJn7uVBQmIkmxpBAHIeyBv3MYDnDVJE13xm8w=s64",
      "userId": "00433632151485364739"
     },
     "user_tz": 180
    },
    "id": "A2dJGhFsltn1",
    "outputId": "4e854a9d-20a5-4cae-dc04-de43f8912b9b"
   },
   "outputs": [
    {
     "data": {
      "text/plain": [
       "['Rodas de liga',\n",
       " 'Travas elétricas',\n",
       " 'Piloto automático',\n",
       " 'Bancos de couro',\n",
       " 'Ar condicionado',\n",
       " 'Sensor de estacionamento',\n",
       " 'Sensor crepuscular',\n",
       " 'Sensor de chuva']"
      ]
     },
     "execution_count": 22,
     "metadata": {
      "tags": []
     },
     "output_type": "execute_result"
    }
   ],
   "source": [
    "Acessorios"
   ]
  },
  {
   "cell_type": "code",
   "execution_count": null,
   "metadata": {
    "colab": {
     "base_uri": "https://localhost:8080/",
     "height": 180
    },
    "executionInfo": {
     "elapsed": 1102,
     "status": "error",
     "timestamp": 1608137119597,
     "user": {
      "displayName": "Diego Cowen Pinto",
      "photoUrl": "https://lh3.googleusercontent.com/a-/AOh14GhkSbJn7uVBQmIkmxpBAHIeyBv3MYDnDVJE13xm8w=s64",
      "userId": "00433632151485364739"
     },
     "user_tz": 180
    },
    "id": "VDWCHlTcltn2",
    "outputId": "63af58e9-7585-4d8f-b9ea-3928126db700"
   },
   "outputs": [
    {
     "ename": "NameError",
     "evalue": "ignored",
     "output_type": "error",
     "traceback": [
      "\u001b[0;31m---------------------------------------------------------------------------\u001b[0m",
      "\u001b[0;31mNameError\u001b[0m                                 Traceback (most recent call last)",
      "\u001b[0;32m<ipython-input-8-adb70f43701b>\u001b[0m in \u001b[0;36m<module>\u001b[0;34m()\u001b[0m\n\u001b[0;32m----> 1\u001b[0;31m \u001b[0mAcessorios\u001b[0m\u001b[0;34m.\u001b[0m\u001b[0msort\u001b[0m\u001b[0;34m(\u001b[0m\u001b[0;34m)\u001b[0m\u001b[0;34m\u001b[0m\u001b[0;34m\u001b[0m\u001b[0m\n\u001b[0m\u001b[1;32m      2\u001b[0m \u001b[0mAcessorios\u001b[0m\u001b[0;34m\u001b[0m\u001b[0;34m\u001b[0m\u001b[0m\n",
      "\u001b[0;31mNameError\u001b[0m: name 'Acessorios' is not defined"
     ]
    }
   ],
   "source": [
    "Acessorios.sort()\n",
    "Acessorios"
   ]
  },
  {
   "cell_type": "markdown",
   "metadata": {
    "id": "N9Spp7-xltn3"
   },
   "source": [
    "## *A.append(x)*\n",
    "\n",
    "Adiciona o elemnto *x* no final da lista *A*."
   ]
  },
  {
   "cell_type": "code",
   "execution_count": null,
   "metadata": {
    "id": "l7I_U-sRltn4"
   },
   "outputs": [],
   "source": [
    "Acessorios.append('4 X 4')\n",
    "Acessorios"
   ]
  },
  {
   "cell_type": "markdown",
   "metadata": {
    "id": "eiP3oACPltn6"
   },
   "source": [
    "## *A.pop(i)*\n",
    "\n",
    "Remove e retorna o elemento de índice i da lista *A*.\n",
    "\n",
    "<font color=red>**Observação:**</font> Por *default* o método *pop()* remove e retorna o último elemento de uma lista."
   ]
  },
  {
   "cell_type": "code",
   "execution_count": null,
   "metadata": {
    "id": "BoCKa5Hqltn6"
   },
   "outputs": [],
   "source": [
    "Acessorios.pop()"
   ]
  },
  {
   "cell_type": "code",
   "execution_count": null,
   "metadata": {
    "id": "GfGX1jw-ltn9"
   },
   "outputs": [],
   "source": [
    "Acessorios"
   ]
  },
  {
   "cell_type": "code",
   "execution_count": null,
   "metadata": {
    "id": "tppe9tqbltn-"
   },
   "outputs": [],
   "source": [
    "Acessorios.pop(3)"
   ]
  },
  {
   "cell_type": "code",
   "execution_count": null,
   "metadata": {
    "id": "Ku6ZHTdJltn_"
   },
   "outputs": [],
   "source": [
    "Acessorios"
   ]
  },
  {
   "cell_type": "markdown",
   "metadata": {
    "id": "NySIp62hltoC"
   },
   "source": [
    "## *A.copy()*\n",
    "\n",
    "Cria uma cópia da lista *A*.\n",
    "\n",
    "<font color=red>**Observação:**</font> O mesmo resultado pode ser obtido com o seguinte código: \n",
    "```\n",
    "A[:]\n",
    "```"
   ]
  },
  {
   "cell_type": "code",
   "execution_count": null,
   "metadata": {
    "id": "yP9ODygcltoC"
   },
   "outputs": [],
   "source": [
    "Acessorios_2 = Acessorios\n",
    "Acessorios_2"
   ]
  },
  {
   "cell_type": "code",
   "execution_count": null,
   "metadata": {
    "id": "W3eQdVWkltoF"
   },
   "outputs": [],
   "source": [
    "Acessorios_2.append('4 X 4')\n",
    "Acessorios_2"
   ]
  },
  {
   "cell_type": "code",
   "execution_count": null,
   "metadata": {
    "id": "OVbvjjmdltoG"
   },
   "outputs": [],
   "source": [
    "Acessorios"
   ]
  },
  {
   "cell_type": "code",
   "execution_count": null,
   "metadata": {
    "id": "P-MN1JfAltoH"
   },
   "outputs": [],
   "source": [
    "Acessorios.pop()\n",
    "Acessorios"
   ]
  },
  {
   "cell_type": "code",
   "execution_count": null,
   "metadata": {
    "id": "ZVQ38eqVltoJ"
   },
   "outputs": [],
   "source": [
    "Acessorios_2"
   ]
  },
  {
   "cell_type": "code",
   "execution_count": null,
   "metadata": {
    "id": "bqPiw5wSltoM"
   },
   "outputs": [],
   "source": [
    "Acessorios_2 = Acessorios.copy()\n",
    "Acessorios_2"
   ]
  },
  {
   "cell_type": "code",
   "execution_count": null,
   "metadata": {
    "id": "Lo9WgzF6ltoP"
   },
   "outputs": [],
   "source": [
    "Acessorios_2.append('4 X 4')\n",
    "Acessorios_2"
   ]
  },
  {
   "cell_type": "code",
   "execution_count": null,
   "metadata": {
    "id": "r2LPHB34ltoQ"
   },
   "outputs": [],
   "source": [
    "Acessorios"
   ]
  },
  {
   "cell_type": "code",
   "execution_count": null,
   "metadata": {
    "id": "UQqUkO8YltoR"
   },
   "outputs": [],
   "source": [
    "Acessorios_2 = Acessorios[:]\n",
    "Acessorios_2"
   ]
  },
  {
   "cell_type": "markdown",
   "metadata": {
    "id": "8zMZNsg2ltoU"
   },
   "source": [
    "# <font color=green> 4. ESTRUTURAS DE REPETIÇÃO E CONDICIONAIS\n",
    "---"
   ]
  },
  {
   "cell_type": "markdown",
   "metadata": {
    "id": "gxUmCLyJltoU"
   },
   "source": [
    "# 4.1 Instrução *for*\n",
    "\n",
    "#### Formato padrão\n",
    "\n",
    "```\n",
    "for <variável> in <coleção>:\n",
    "    <instruções>\n",
    "```"
   ]
  },
  {
   "cell_type": "markdown",
   "metadata": {
    "id": "Irl5oa0altoU"
   },
   "source": [
    "### Loops com listas"
   ]
  },
  {
   "cell_type": "code",
   "execution_count": null,
   "metadata": {
    "colab": {
     "base_uri": "https://localhost:8080/"
    },
    "executionInfo": {
     "elapsed": 678,
     "status": "ok",
     "timestamp": 1608137691859,
     "user": {
      "displayName": "Diego Cowen Pinto",
      "photoUrl": "https://lh3.googleusercontent.com/a-/AOh14GhkSbJn7uVBQmIkmxpBAHIeyBv3MYDnDVJE13xm8w=s64",
      "userId": "00433632151485364739"
     },
     "user_tz": 180
    },
    "id": "E1LZ5n25ltoV",
    "outputId": "67436435-1bbd-4d63-d70c-5ec00be0306a"
   },
   "outputs": [
    {
     "data": {
      "text/plain": [
       "['Rodas de liga',\n",
       " 'Travas elétricas',\n",
       " 'Piloto automático',\n",
       " 'Bancos de couro',\n",
       " 'Ar condicionado',\n",
       " 'Sensor de estacionamento',\n",
       " 'Sensor crepuscular',\n",
       " 'Sensor de chuva']"
      ]
     },
     "execution_count": 24,
     "metadata": {
      "tags": []
     },
     "output_type": "execute_result"
    }
   ],
   "source": [
    "Acessorios = ['Rodas de liga', 'Travas elétricas', 'Piloto automático', 'Bancos de couro', 'Ar condicionado', 'Sensor de estacionamento', 'Sensor crepuscular', 'Sensor de chuva']\n",
    "Acessorios"
   ]
  },
  {
   "cell_type": "code",
   "execution_count": null,
   "metadata": {
    "colab": {
     "base_uri": "https://localhost:8080/"
    },
    "executionInfo": {
     "elapsed": 626,
     "status": "ok",
     "timestamp": 1608137753877,
     "user": {
      "displayName": "Diego Cowen Pinto",
      "photoUrl": "https://lh3.googleusercontent.com/a-/AOh14GhkSbJn7uVBQmIkmxpBAHIeyBv3MYDnDVJE13xm8w=s64",
      "userId": "00433632151485364739"
     },
     "user_tz": 180
    },
    "id": "Z459QqsFltoY",
    "outputId": "952fdcf6-dd85-41bc-bf14-247e1ff69727"
   },
   "outputs": [
    {
     "name": "stdout",
     "output_type": "stream",
     "text": [
      "Rodas de liga\n",
      "Travas elétricas\n",
      "Piloto automático\n",
      "Bancos de couro\n",
      "Ar condicionado\n",
      "Sensor de estacionamento\n",
      "Sensor crepuscular\n",
      "Sensor de chuva\n"
     ]
    }
   ],
   "source": [
    "for item in Acessorios:\n",
    "  print(item)"
   ]
  },
  {
   "cell_type": "markdown",
   "metadata": {
    "id": "Gbztj9T4ltoZ"
   },
   "source": [
    "###  List comprehensions\n",
    "\n",
    "https://docs.python.org/3.6/tutorial/datastructures.html#list-comprehensions"
   ]
  },
  {
   "cell_type": "markdown",
   "metadata": {
    "id": "4Y8g0cSHjbof"
   },
   "source": [
    "*range()* -> https://docs.python.org/3.6/library/functions.html#func-range"
   ]
  },
  {
   "cell_type": "code",
   "execution_count": null,
   "metadata": {
    "colab": {
     "base_uri": "https://localhost:8080/"
    },
    "executionInfo": {
     "elapsed": 661,
     "status": "ok",
     "timestamp": 1608137850755,
     "user": {
      "displayName": "Diego Cowen Pinto",
      "photoUrl": "https://lh3.googleusercontent.com/a-/AOh14GhkSbJn7uVBQmIkmxpBAHIeyBv3MYDnDVJE13xm8w=s64",
      "userId": "00433632151485364739"
     },
     "user_tz": 180
    },
    "id": "xDo9TLdYltoZ",
    "outputId": "d09bfa00-7d8a-45b5-eec7-561f81db4d30"
   },
   "outputs": [
    {
     "data": {
      "text/plain": [
       "range(0, 10)"
      ]
     },
     "execution_count": 26,
     "metadata": {
      "tags": []
     },
     "output_type": "execute_result"
    }
   ],
   "source": [
    "range(10)"
   ]
  },
  {
   "cell_type": "code",
   "execution_count": null,
   "metadata": {
    "colab": {
     "base_uri": "https://localhost:8080/"
    },
    "executionInfo": {
     "elapsed": 684,
     "status": "ok",
     "timestamp": 1608137862357,
     "user": {
      "displayName": "Diego Cowen Pinto",
      "photoUrl": "https://lh3.googleusercontent.com/a-/AOh14GhkSbJn7uVBQmIkmxpBAHIeyBv3MYDnDVJE13xm8w=s64",
      "userId": "00433632151485364739"
     },
     "user_tz": 180
    },
    "id": "V12p_CQBltoc",
    "outputId": "c1e7526e-43ce-402e-f19d-c605d9fe928c"
   },
   "outputs": [
    {
     "data": {
      "text/plain": [
       "[0, 1, 2, 3, 4, 5, 6, 7, 8, 9]"
      ]
     },
     "execution_count": 27,
     "metadata": {
      "tags": []
     },
     "output_type": "execute_result"
    }
   ],
   "source": [
    "list(range(10))"
   ]
  },
  {
   "cell_type": "code",
   "execution_count": null,
   "metadata": {
    "colab": {
     "base_uri": "https://localhost:8080/"
    },
    "executionInfo": {
     "elapsed": 660,
     "status": "ok",
     "timestamp": 1608137928099,
     "user": {
      "displayName": "Diego Cowen Pinto",
      "photoUrl": "https://lh3.googleusercontent.com/a-/AOh14GhkSbJn7uVBQmIkmxpBAHIeyBv3MYDnDVJE13xm8w=s64",
      "userId": "00433632151485364739"
     },
     "user_tz": 180
    },
    "id": "OOzHHRWHltof",
    "outputId": "b74e8292-9e27-418d-d7cd-79f94cd3a8d5"
   },
   "outputs": [
    {
     "name": "stdout",
     "output_type": "stream",
     "text": [
      "0\n",
      "1\n",
      "4\n",
      "9\n",
      "16\n",
      "25\n",
      "36\n",
      "49\n",
      "64\n",
      "81\n"
     ]
    }
   ],
   "source": [
    "for i in range(10):\n",
    "  print(i ** 2)"
   ]
  },
  {
   "cell_type": "code",
   "execution_count": null,
   "metadata": {
    "colab": {
     "base_uri": "https://localhost:8080/"
    },
    "executionInfo": {
     "elapsed": 1021,
     "status": "ok",
     "timestamp": 1608138425997,
     "user": {
      "displayName": "Diego Cowen Pinto",
      "photoUrl": "https://lh3.googleusercontent.com/a-/AOh14GhkSbJn7uVBQmIkmxpBAHIeyBv3MYDnDVJE13xm8w=s64",
      "userId": "00433632151485364739"
     },
     "user_tz": 180
    },
    "id": "TKynwnxgltog",
    "outputId": "c8fcc1ce-4c4d-49e3-ddad-02246b3bab6c"
   },
   "outputs": [
    {
     "data": {
      "text/plain": [
       "[0, 1, 4, 9, 16, 25, 36, 49, 64, 81]"
      ]
     },
     "execution_count": 35,
     "metadata": {
      "tags": []
     },
     "output_type": "execute_result"
    }
   ],
   "source": [
    "quadrado = []\n",
    "\n",
    "for i in range(10):\n",
    "  quadrado.append(i ** 2)\n",
    "\n",
    "quadrado"
   ]
  },
  {
   "cell_type": "code",
   "execution_count": null,
   "metadata": {
    "colab": {
     "base_uri": "https://localhost:8080/"
    },
    "executionInfo": {
     "elapsed": 1246,
     "status": "ok",
     "timestamp": 1608138502299,
     "user": {
      "displayName": "Diego Cowen Pinto",
      "photoUrl": "https://lh3.googleusercontent.com/a-/AOh14GhkSbJn7uVBQmIkmxpBAHIeyBv3MYDnDVJE13xm8w=s64",
      "userId": "00433632151485364739"
     },
     "user_tz": 180
    },
    "id": "d77YH_dVltoh",
    "outputId": "3e7e341e-8790-4fc0-ac25-05f64a76e04b"
   },
   "outputs": [
    {
     "data": {
      "text/plain": [
       "[0, 1, 4, 9, 16, 25, 36, 49, 64, 81, 100]"
      ]
     },
     "execution_count": 36,
     "metadata": {
      "tags": []
     },
     "output_type": "execute_result"
    }
   ],
   "source": [
    "[i ** 2 for i in range(11)]"
   ]
  },
  {
   "cell_type": "markdown",
   "metadata": {
    "id": "AcAcaKFXltom"
   },
   "source": [
    "# 4.2 Loops aninhados"
   ]
  },
  {
   "cell_type": "code",
   "execution_count": null,
   "metadata": {
    "colab": {
     "base_uri": "https://localhost:8080/"
    },
    "executionInfo": {
     "elapsed": 795,
     "status": "ok",
     "timestamp": 1608140226395,
     "user": {
      "displayName": "Diego Cowen Pinto",
      "photoUrl": "https://lh3.googleusercontent.com/a-/AOh14GhkSbJn7uVBQmIkmxpBAHIeyBv3MYDnDVJE13xm8w=s64",
      "userId": "00433632151485364739"
     },
     "user_tz": 180
    },
    "id": "mjgJCo3dlton",
    "outputId": "c97a3562-99db-400b-eeea-cf70ebbb499c"
   },
   "outputs": [
    {
     "data": {
      "text/plain": [
       "[['Rodas de liga',\n",
       "  'Travas elétricas',\n",
       "  'Piloto automático',\n",
       "  'Bancos de couro',\n",
       "  'Ar condicionado',\n",
       "  'Sensor de estacionamento',\n",
       "  'Sensor crepuscular',\n",
       "  'Sensor de chuva'],\n",
       " ['Central multimídia',\n",
       "  'Teto panorâmico',\n",
       "  'Freios ABS',\n",
       "  '4 X 4',\n",
       "  'Painel digital',\n",
       "  'Piloto automático',\n",
       "  'Bancos de couro',\n",
       "  'Câmera de estacionamento'],\n",
       " ['Piloto automático',\n",
       "  'Controle de estabilidade',\n",
       "  'Sensor crepuscular',\n",
       "  'Freios ABS',\n",
       "  'Câmbio automático',\n",
       "  'Bancos de couro',\n",
       "  'Central multimídia',\n",
       "  'Vidros elétricos']]"
      ]
     },
     "execution_count": 37,
     "metadata": {
      "tags": []
     },
     "output_type": "execute_result"
    }
   ],
   "source": [
    "dados = [ \n",
    "    ['Rodas de liga', 'Travas elétricas', 'Piloto automático', 'Bancos de couro', 'Ar condicionado', 'Sensor de estacionamento', 'Sensor crepuscular', 'Sensor de chuva'],\n",
    "    ['Central multimídia', 'Teto panorâmico', 'Freios ABS', '4 X 4', 'Painel digital', 'Piloto automático', 'Bancos de couro', 'Câmera de estacionamento'],\n",
    "    ['Piloto automático', 'Controle de estabilidade', 'Sensor crepuscular', 'Freios ABS', 'Câmbio automático', 'Bancos de couro', 'Central multimídia', 'Vidros elétricos']\n",
    "]\n",
    "dados"
   ]
  },
  {
   "cell_type": "code",
   "execution_count": null,
   "metadata": {
    "colab": {
     "base_uri": "https://localhost:8080/"
    },
    "executionInfo": {
     "elapsed": 643,
     "status": "ok",
     "timestamp": 1608140481462,
     "user": {
      "displayName": "Diego Cowen Pinto",
      "photoUrl": "https://lh3.googleusercontent.com/a-/AOh14GhkSbJn7uVBQmIkmxpBAHIeyBv3MYDnDVJE13xm8w=s64",
      "userId": "00433632151485364739"
     },
     "user_tz": 180
    },
    "id": "pLgxwApVltop",
    "outputId": "48b01a60-e3f1-4c94-fd91-29ef476ab983"
   },
   "outputs": [
    {
     "name": "stdout",
     "output_type": "stream",
     "text": [
      "['Rodas de liga', 'Travas elétricas', 'Piloto automático', 'Bancos de couro', 'Ar condicionado', 'Sensor de estacionamento', 'Sensor crepuscular', 'Sensor de chuva']\n",
      "['Central multimídia', 'Teto panorâmico', 'Freios ABS', '4 X 4', 'Painel digital', 'Piloto automático', 'Bancos de couro', 'Câmera de estacionamento']\n",
      "['Piloto automático', 'Controle de estabilidade', 'Sensor crepuscular', 'Freios ABS', 'Câmbio automático', 'Bancos de couro', 'Central multimídia', 'Vidros elétricos']\n"
     ]
    }
   ],
   "source": [
    "for lista in dados:\n",
    "  print(lista)"
   ]
  },
  {
   "cell_type": "code",
   "execution_count": null,
   "metadata": {
    "colab": {
     "base_uri": "https://localhost:8080/"
    },
    "executionInfo": {
     "elapsed": 699,
     "status": "ok",
     "timestamp": 1608140555169,
     "user": {
      "displayName": "Diego Cowen Pinto",
      "photoUrl": "https://lh3.googleusercontent.com/a-/AOh14GhkSbJn7uVBQmIkmxpBAHIeyBv3MYDnDVJE13xm8w=s64",
      "userId": "00433632151485364739"
     },
     "user_tz": 180
    },
    "id": "OYnDRvcYltor",
    "outputId": "38d1d2bf-aeca-4de5-cf9f-4aaaff032be8"
   },
   "outputs": [
    {
     "name": "stdout",
     "output_type": "stream",
     "text": [
      "Rodas de liga\n",
      "Travas elétricas\n",
      "Piloto automático\n",
      "Bancos de couro\n",
      "Ar condicionado\n",
      "Sensor de estacionamento\n",
      "Sensor crepuscular\n",
      "Sensor de chuva\n",
      "Central multimídia\n",
      "Teto panorâmico\n",
      "Freios ABS\n",
      "4 X 4\n",
      "Painel digital\n",
      "Piloto automático\n",
      "Bancos de couro\n",
      "Câmera de estacionamento\n",
      "Piloto automático\n",
      "Controle de estabilidade\n",
      "Sensor crepuscular\n",
      "Freios ABS\n",
      "Câmbio automático\n",
      "Bancos de couro\n",
      "Central multimídia\n",
      "Vidros elétricos\n"
     ]
    }
   ],
   "source": [
    "for lista in dados:\n",
    "  for item in lista:\n",
    "    print(item)"
   ]
  },
  {
   "cell_type": "code",
   "execution_count": null,
   "metadata": {
    "colab": {
     "base_uri": "https://localhost:8080/"
    },
    "executionInfo": {
     "elapsed": 657,
     "status": "ok",
     "timestamp": 1608140647938,
     "user": {
      "displayName": "Diego Cowen Pinto",
      "photoUrl": "https://lh3.googleusercontent.com/a-/AOh14GhkSbJn7uVBQmIkmxpBAHIeyBv3MYDnDVJE13xm8w=s64",
      "userId": "00433632151485364739"
     },
     "user_tz": 180
    },
    "id": "DbJa5_cJltos",
    "outputId": "f5be99ec-7511-4796-8097-68cf3141c88a"
   },
   "outputs": [
    {
     "data": {
      "text/plain": [
       "['Rodas de liga',\n",
       " 'Travas elétricas',\n",
       " 'Piloto automático',\n",
       " 'Bancos de couro',\n",
       " 'Ar condicionado',\n",
       " 'Sensor de estacionamento',\n",
       " 'Sensor crepuscular',\n",
       " 'Sensor de chuva',\n",
       " 'Central multimídia',\n",
       " 'Teto panorâmico',\n",
       " 'Freios ABS',\n",
       " '4 X 4',\n",
       " 'Painel digital',\n",
       " 'Piloto automático',\n",
       " 'Bancos de couro',\n",
       " 'Câmera de estacionamento',\n",
       " 'Piloto automático',\n",
       " 'Controle de estabilidade',\n",
       " 'Sensor crepuscular',\n",
       " 'Freios ABS',\n",
       " 'Câmbio automático',\n",
       " 'Bancos de couro',\n",
       " 'Central multimídia',\n",
       " 'Vidros elétricos']"
      ]
     },
     "execution_count": 40,
     "metadata": {
      "tags": []
     },
     "output_type": "execute_result"
    }
   ],
   "source": [
    "Acessorios = []\n",
    "\n",
    "for lista in dados:\n",
    "  for item in lista:\n",
    "    Acessorios.append(item)\n",
    "\n",
    "Acessorios"
   ]
  },
  {
   "cell_type": "markdown",
   "metadata": {
    "id": "RrGAOy1rn1Dj"
   },
   "source": [
    "## *set()*\n",
    "\n",
    "https://docs.python.org/3.6/library/stdtypes.html#types-set\n",
    "\n",
    "https://docs.python.org/3.6/library/functions.html#func-set"
   ]
  },
  {
   "cell_type": "code",
   "execution_count": null,
   "metadata": {
    "colab": {
     "base_uri": "https://localhost:8080/"
    },
    "executionInfo": {
     "elapsed": 717,
     "status": "ok",
     "timestamp": 1608140845861,
     "user": {
      "displayName": "Diego Cowen Pinto",
      "photoUrl": "https://lh3.googleusercontent.com/a-/AOh14GhkSbJn7uVBQmIkmxpBAHIeyBv3MYDnDVJE13xm8w=s64",
      "userId": "00433632151485364739"
     },
     "user_tz": 180
    },
    "id": "CuB-9ClSltos",
    "outputId": "79aac386-7bc1-4e0e-8030-373d2d33f85f"
   },
   "outputs": [
    {
     "data": {
      "text/plain": [
       "['Painel digital',\n",
       " '4 X 4',\n",
       " 'Bancos de couro',\n",
       " 'Sensor crepuscular',\n",
       " 'Central multimídia',\n",
       " 'Teto panorâmico',\n",
       " 'Piloto automático',\n",
       " 'Rodas de liga',\n",
       " 'Câmera de estacionamento',\n",
       " 'Freios ABS',\n",
       " 'Controle de estabilidade',\n",
       " 'Vidros elétricos',\n",
       " 'Câmbio automático',\n",
       " 'Travas elétricas',\n",
       " 'Ar condicionado',\n",
       " 'Sensor de chuva',\n",
       " 'Sensor de estacionamento']"
      ]
     },
     "execution_count": 42,
     "metadata": {
      "tags": []
     },
     "output_type": "execute_result"
    }
   ],
   "source": [
    "list(set(Acessorios))"
   ]
  },
  {
   "cell_type": "markdown",
   "metadata": {
    "id": "9hHKKABhltot"
   },
   "source": [
    "### List comprehensions"
   ]
  },
  {
   "cell_type": "code",
   "execution_count": null,
   "metadata": {
    "colab": {
     "base_uri": "https://localhost:8080/"
    },
    "executionInfo": {
     "elapsed": 693,
     "status": "ok",
     "timestamp": 1608141185277,
     "user": {
      "displayName": "Diego Cowen Pinto",
      "photoUrl": "https://lh3.googleusercontent.com/a-/AOh14GhkSbJn7uVBQmIkmxpBAHIeyBv3MYDnDVJE13xm8w=s64",
      "userId": "00433632151485364739"
     },
     "user_tz": 180
    },
    "id": "T6t79LTlltot",
    "outputId": "efc78980-3fbb-4a5a-8ded-e271eabb651e"
   },
   "outputs": [
    {
     "data": {
      "text/plain": [
       "['Rodas de liga',\n",
       " 'Travas elétricas',\n",
       " 'Piloto automático',\n",
       " 'Bancos de couro',\n",
       " 'Ar condicionado',\n",
       " 'Sensor de estacionamento',\n",
       " 'Sensor crepuscular',\n",
       " 'Sensor de chuva',\n",
       " 'Central multimídia',\n",
       " 'Teto panorâmico',\n",
       " 'Freios ABS',\n",
       " '4 X 4',\n",
       " 'Painel digital',\n",
       " 'Piloto automático',\n",
       " 'Bancos de couro',\n",
       " 'Câmera de estacionamento',\n",
       " 'Piloto automático',\n",
       " 'Controle de estabilidade',\n",
       " 'Sensor crepuscular',\n",
       " 'Freios ABS',\n",
       " 'Câmbio automático',\n",
       " 'Bancos de couro',\n",
       " 'Central multimídia',\n",
       " 'Vidros elétricos']"
      ]
     },
     "execution_count": 45,
     "metadata": {
      "tags": []
     },
     "output_type": "execute_result"
    }
   ],
   "source": [
    "[item for lista in dados for item in lista]"
   ]
  },
  {
   "cell_type": "code",
   "execution_count": null,
   "metadata": {
    "colab": {
     "base_uri": "https://localhost:8080/"
    },
    "executionInfo": {
     "elapsed": 636,
     "status": "ok",
     "timestamp": 1608141214750,
     "user": {
      "displayName": "Diego Cowen Pinto",
      "photoUrl": "https://lh3.googleusercontent.com/a-/AOh14GhkSbJn7uVBQmIkmxpBAHIeyBv3MYDnDVJE13xm8w=s64",
      "userId": "00433632151485364739"
     },
     "user_tz": 180
    },
    "id": "nY6bjvzhrz0u",
    "outputId": "5dd4b20c-5d9a-497e-dfe2-ea9ec98f15c7"
   },
   "outputs": [
    {
     "data": {
      "text/plain": [
       "['Painel digital',\n",
       " '4 X 4',\n",
       " 'Bancos de couro',\n",
       " 'Sensor crepuscular',\n",
       " 'Central multimídia',\n",
       " 'Teto panorâmico',\n",
       " 'Piloto automático',\n",
       " 'Rodas de liga',\n",
       " 'Câmera de estacionamento',\n",
       " 'Freios ABS',\n",
       " 'Controle de estabilidade',\n",
       " 'Vidros elétricos',\n",
       " 'Câmbio automático',\n",
       " 'Travas elétricas',\n",
       " 'Ar condicionado',\n",
       " 'Sensor de chuva',\n",
       " 'Sensor de estacionamento']"
      ]
     },
     "execution_count": 46,
     "metadata": {
      "tags": []
     },
     "output_type": "execute_result"
    }
   ],
   "source": [
    "list(set(item for lista in dados for item in lista))"
   ]
  },
  {
   "cell_type": "markdown",
   "metadata": {
    "id": "cJ4fPdj5ltou"
   },
   "source": [
    "# 4.3 Instrução *if*\n",
    "\n",
    "#### Formato padrão\n",
    "\n",
    "```\n",
    "if <condição>:\n",
    "     <instruções caso a condição seja verdadeira>\n",
    "```"
   ]
  },
  {
   "cell_type": "markdown",
   "metadata": {
    "id": "bqOYDJiWltou"
   },
   "source": [
    "### Operadores de comparação: $==$, $!=$, $>$, $<$, $>=$, $<=$\n",
    "### e\n",
    "### Operadores lógicos: $and$, $or$, $not$"
   ]
  },
  {
   "cell_type": "code",
   "execution_count": null,
   "metadata": {
    "colab": {
     "base_uri": "https://localhost:8080/"
    },
    "executionInfo": {
     "elapsed": 1411,
     "status": "ok",
     "timestamp": 1608311345229,
     "user": {
      "displayName": "Diego Cowen Pinto",
      "photoUrl": "https://lh3.googleusercontent.com/a-/AOh14GhkSbJn7uVBQmIkmxpBAHIeyBv3MYDnDVJE13xm8w=s64",
      "userId": "00433632151485364739"
     },
     "user_tz": 180
    },
    "id": "5eY_XPmrltov",
    "outputId": "28f428cc-1942-41c4-c393-420040c3a5eb"
   },
   "outputs": [
    {
     "data": {
      "text/plain": [
       "[['Jetta Variant', 2003, False],\n",
       " ['Passat', 1991, False],\n",
       " ['Crossfox', 1990, False],\n",
       " ['DS5', 2019, True],\n",
       " ['Aston Martin DB4', 2006, False],\n",
       " ['Palio Weekend', 2012, False],\n",
       " ['A5', 2019, True],\n",
       " ['Série 3 Cabrio', 2009, False],\n",
       " ['Dodge Jorney', 2019, False],\n",
       " ['Carens', 2011, False]]"
      ]
     },
     "execution_count": 1,
     "metadata": {
      "tags": []
     },
     "output_type": "execute_result"
    }
   ],
   "source": [
    "# 1º item da lista - Nome do veículo\n",
    "# 2º item da lista - Ano de fabricação\n",
    "# 3º item da lista - Veículo é zero km?\n",
    "\n",
    "dados = [\n",
    "    ['Jetta Variant', 2003, False],\n",
    "    ['Passat', 1991, False],\n",
    "    ['Crossfox', 1990, False],\n",
    "    ['DS5', 2019, True],\n",
    "    ['Aston Martin DB4', 2006, False],\n",
    "    ['Palio Weekend', 2012, False],\n",
    "    ['A5', 2019, True],\n",
    "    ['Série 3 Cabrio', 2009, False],\n",
    "    ['Dodge Jorney', 2019, False],\n",
    "    ['Carens', 2011, False]\n",
    "]\n",
    "dados"
   ]
  },
  {
   "cell_type": "code",
   "execution_count": null,
   "metadata": {
    "colab": {
     "base_uri": "https://localhost:8080/"
    },
    "executionInfo": {
     "elapsed": 2293,
     "status": "ok",
     "timestamp": 1608311346126,
     "user": {
      "displayName": "Diego Cowen Pinto",
      "photoUrl": "https://lh3.googleusercontent.com/a-/AOh14GhkSbJn7uVBQmIkmxpBAHIeyBv3MYDnDVJE13xm8w=s64",
      "userId": "00433632151485364739"
     },
     "user_tz": 180
    },
    "id": "nyb0iDH1ltoy",
    "outputId": "c765bcb1-058b-4d2b-ac5c-dda89e2e9aa4"
   },
   "outputs": [
    {
     "data": {
      "text/plain": [
       "[['DS5', 2019, True], ['A5', 2019, True]]"
      ]
     },
     "execution_count": 2,
     "metadata": {
      "tags": []
     },
     "output_type": "execute_result"
    }
   ],
   "source": [
    "zero_km_Y = []\n",
    "for lista in dados:\n",
    "  if(lista[2] == True):\n",
    "    zero_km_Y.append(lista)\n",
    "\n",
    "zero_km_Y"
   ]
  },
  {
   "cell_type": "code",
   "execution_count": null,
   "metadata": {
    "colab": {
     "base_uri": "https://localhost:8080/"
    },
    "executionInfo": {
     "elapsed": 2283,
     "status": "ok",
     "timestamp": 1608311346127,
     "user": {
      "displayName": "Diego Cowen Pinto",
      "photoUrl": "https://lh3.googleusercontent.com/a-/AOh14GhkSbJn7uVBQmIkmxpBAHIeyBv3MYDnDVJE13xm8w=s64",
      "userId": "00433632151485364739"
     },
     "user_tz": 180
    },
    "id": "5MlITJppltoy",
    "outputId": "b06b34da-ea18-46a8-ef46-51acd29693c5"
   },
   "outputs": [
    {
     "data": {
      "text/plain": [
       "[['Jetta Variant', 2003, False],\n",
       " ['Passat', 1991, False],\n",
       " ['Crossfox', 1990, False],\n",
       " ['Aston Martin DB4', 2006, False],\n",
       " ['Palio Weekend', 2012, False],\n",
       " ['Série 3 Cabrio', 2009, False],\n",
       " ['Dodge Jorney', 2019, False],\n",
       " ['Carens', 2011, False]]"
      ]
     },
     "execution_count": 3,
     "metadata": {
      "tags": []
     },
     "output_type": "execute_result"
    }
   ],
   "source": [
    "zero_km_N = []\n",
    "for lista in dados:\n",
    "  if(lista[2] == False):\n",
    "    zero_km_N.append(lista)\n",
    "\n",
    "zero_km_N"
   ]
  },
  {
   "cell_type": "markdown",
   "metadata": {
    "id": "51Js0kXD0aRH"
   },
   "source": [
    "### List comprehensions"
   ]
  },
  {
   "cell_type": "code",
   "execution_count": null,
   "metadata": {
    "colab": {
     "base_uri": "https://localhost:8080/"
    },
    "executionInfo": {
     "elapsed": 2273,
     "status": "ok",
     "timestamp": 1608311346128,
     "user": {
      "displayName": "Diego Cowen Pinto",
      "photoUrl": "https://lh3.googleusercontent.com/a-/AOh14GhkSbJn7uVBQmIkmxpBAHIeyBv3MYDnDVJE13xm8w=s64",
      "userId": "00433632151485364739"
     },
     "user_tz": 180
    },
    "id": "Ly4QUX5J0aRI",
    "outputId": "80cef0a9-d1a5-42ec-a255-32ca23d0a52a"
   },
   "outputs": [
    {
     "data": {
      "text/plain": [
       "[['DS5', 2019, True], ['A5', 2019, True]]"
      ]
     },
     "execution_count": 4,
     "metadata": {
      "tags": []
     },
     "output_type": "execute_result"
    }
   ],
   "source": [
    "[lista for lista in dados if lista[2] == True]"
   ]
  },
  {
   "cell_type": "code",
   "execution_count": null,
   "metadata": {
    "colab": {
     "base_uri": "https://localhost:8080/"
    },
    "executionInfo": {
     "elapsed": 2263,
     "status": "ok",
     "timestamp": 1608311346128,
     "user": {
      "displayName": "Diego Cowen Pinto",
      "photoUrl": "https://lh3.googleusercontent.com/a-/AOh14GhkSbJn7uVBQmIkmxpBAHIeyBv3MYDnDVJE13xm8w=s64",
      "userId": "00433632151485364739"
     },
     "user_tz": 180
    },
    "id": "6VFuzlSvxjmj",
    "outputId": "a75b78fb-e933-4167-8874-cea67a1b3e8f"
   },
   "outputs": [
    {
     "data": {
      "text/plain": [
       "[['Jetta Variant', 2003, False],\n",
       " ['Passat', 1991, False],\n",
       " ['Crossfox', 1990, False],\n",
       " ['Aston Martin DB4', 2006, False],\n",
       " ['Palio Weekend', 2012, False],\n",
       " ['Série 3 Cabrio', 2009, False],\n",
       " ['Dodge Jorney', 2019, False],\n",
       " ['Carens', 2011, False]]"
      ]
     },
     "execution_count": 5,
     "metadata": {
      "tags": []
     },
     "output_type": "execute_result"
    }
   ],
   "source": [
    "[lista for lista in dados if lista[2] == False]"
   ]
  },
  {
   "cell_type": "markdown",
   "metadata": {
    "id": "CKjrvO5Tltoz"
   },
   "source": [
    "# 4.4 Instruções *if-else* e *if-elif-else*\n",
    "\n",
    "#### Formato padrão\n",
    "\n",
    "```\n",
    "if <condição>:\n",
    "    <instruções caso a condição seja verdadeira>\n",
    "else:\n",
    "    <instruções caso a condição não seja verdadeira>\n",
    "```"
   ]
  },
  {
   "cell_type": "code",
   "execution_count": null,
   "metadata": {
    "colab": {
     "base_uri": "https://localhost:8080/",
     "height": 231
    },
    "executionInfo": {
     "elapsed": 1285,
     "status": "error",
     "timestamp": 1608567849075,
     "user": {
      "displayName": "Diego Cowen Pinto",
      "photoUrl": "https://lh3.googleusercontent.com/a-/AOh14GhkSbJn7uVBQmIkmxpBAHIeyBv3MYDnDVJE13xm8w=s64",
      "userId": "00433632151485364739"
     },
     "user_tz": 180
    },
    "id": "K_VORb47ltoz",
    "outputId": "20e959f6-05c5-4c2f-e741-3add016a861c"
   },
   "outputs": [
    {
     "ename": "NameError",
     "evalue": "ignored",
     "output_type": "error",
     "traceback": [
      "\u001b[0;31m---------------------------------------------------------------------------\u001b[0m",
      "\u001b[0;31mNameError\u001b[0m                                 Traceback (most recent call last)",
      "\u001b[0;32m<ipython-input-1-5313abcb364d>\u001b[0m in \u001b[0;36m<module>\u001b[0;34m()\u001b[0m\n\u001b[1;32m      1\u001b[0m \u001b[0mzero_km_Y\u001b[0m\u001b[0;34m,\u001b[0m \u001b[0mzero_km_N\u001b[0m \u001b[0;34m=\u001b[0m \u001b[0;34m[\u001b[0m\u001b[0;34m]\u001b[0m\u001b[0;34m,\u001b[0m \u001b[0;34m[\u001b[0m\u001b[0;34m]\u001b[0m\u001b[0;34m\u001b[0m\u001b[0;34m\u001b[0m\u001b[0m\n\u001b[1;32m      2\u001b[0m \u001b[0;34m\u001b[0m\u001b[0m\n\u001b[0;32m----> 3\u001b[0;31m \u001b[0;32mfor\u001b[0m \u001b[0mlista\u001b[0m \u001b[0;32min\u001b[0m \u001b[0mdados\u001b[0m\u001b[0;34m:\u001b[0m\u001b[0;34m\u001b[0m\u001b[0;34m\u001b[0m\u001b[0m\n\u001b[0m\u001b[1;32m      4\u001b[0m   \u001b[0;32mif\u001b[0m\u001b[0;34m(\u001b[0m\u001b[0mlista\u001b[0m\u001b[0;34m[\u001b[0m\u001b[0;36m2\u001b[0m\u001b[0;34m]\u001b[0m \u001b[0;34m==\u001b[0m \u001b[0;32mTrue\u001b[0m\u001b[0;34m)\u001b[0m\u001b[0;34m:\u001b[0m\u001b[0;34m\u001b[0m\u001b[0;34m\u001b[0m\u001b[0m\n\u001b[1;32m      5\u001b[0m     \u001b[0mzero_km_Y\u001b[0m\u001b[0;34m.\u001b[0m\u001b[0mappend\u001b[0m\u001b[0;34m(\u001b[0m\u001b[0mlista\u001b[0m\u001b[0;34m)\u001b[0m\u001b[0;34m\u001b[0m\u001b[0;34m\u001b[0m\u001b[0m\n",
      "\u001b[0;31mNameError\u001b[0m: name 'dados' is not defined"
     ]
    }
   ],
   "source": [
    "zero_km_Y, zero_km_N = [], []\n",
    "\n",
    "for lista in dados:\n",
    "  if(lista[2] == True):\n",
    "    zero_km_Y.append(lista)\n",
    "  else:\n",
    "    zero_km_N.append(lista)"
   ]
  },
  {
   "cell_type": "code",
   "execution_count": null,
   "metadata": {
    "colab": {
     "base_uri": "https://localhost:8080/"
    },
    "executionInfo": {
     "elapsed": 788,
     "status": "ok",
     "timestamp": 1608311906452,
     "user": {
      "displayName": "Diego Cowen Pinto",
      "photoUrl": "https://lh3.googleusercontent.com/a-/AOh14GhkSbJn7uVBQmIkmxpBAHIeyBv3MYDnDVJE13xm8w=s64",
      "userId": "00433632151485364739"
     },
     "user_tz": 180
    },
    "id": "vhz5T7jDlto1",
    "outputId": "6aaac45d-c971-4cc6-b25f-090658de8348"
   },
   "outputs": [
    {
     "data": {
      "text/plain": [
       "[['DS5', 2019, True], ['A5', 2019, True]]"
      ]
     },
     "execution_count": 15,
     "metadata": {
      "tags": []
     },
     "output_type": "execute_result"
    }
   ],
   "source": [
    "zero_km_Y"
   ]
  },
  {
   "cell_type": "code",
   "execution_count": null,
   "metadata": {
    "colab": {
     "base_uri": "https://localhost:8080/"
    },
    "executionInfo": {
     "elapsed": 987,
     "status": "ok",
     "timestamp": 1608311910654,
     "user": {
      "displayName": "Diego Cowen Pinto",
      "photoUrl": "https://lh3.googleusercontent.com/a-/AOh14GhkSbJn7uVBQmIkmxpBAHIeyBv3MYDnDVJE13xm8w=s64",
      "userId": "00433632151485364739"
     },
     "user_tz": 180
    },
    "id": "XlvlpPjhlto1",
    "outputId": "f0339490-62c0-439a-b95f-e021145a515e"
   },
   "outputs": [
    {
     "data": {
      "text/plain": [
       "[['Jetta Variant', 2003, False],\n",
       " ['Passat', 1991, False],\n",
       " ['Crossfox', 1990, False],\n",
       " ['Aston Martin DB4', 2006, False],\n",
       " ['Palio Weekend', 2012, False],\n",
       " ['Série 3 Cabrio', 2009, False],\n",
       " ['Dodge Jorney', 2019, False],\n",
       " ['Carens', 2011, False]]"
      ]
     },
     "execution_count": 16,
     "metadata": {
      "tags": []
     },
     "output_type": "execute_result"
    }
   ],
   "source": [
    "zero_km_N"
   ]
  },
  {
   "cell_type": "markdown",
   "metadata": {
    "id": "Z2-8WeN1lto2"
   },
   "source": [
    "#### Formato padrão\n",
    "\n",
    "```\n",
    "if <condição 1>:\n",
    "    <instruções caso a condição 1 seja verdadeira>\n",
    "elif <condição 2>:\n",
    "    <instruções caso a condição 2 seja verdadeira>\n",
    "elif <condição 3>:\n",
    "    <instruções caso a condição 3 seja verdadeira>\n",
    "                        .\n",
    "                        .\n",
    "                        .\n",
    "else:\n",
    "    <instruções caso as condições anteriores não sejam verdadeiras>\n",
    "```"
   ]
  },
  {
   "cell_type": "code",
   "execution_count": null,
   "metadata": {
    "colab": {
     "base_uri": "https://localhost:8080/"
    },
    "executionInfo": {
     "elapsed": 843,
     "status": "ok",
     "timestamp": 1608312156136,
     "user": {
      "displayName": "Diego Cowen Pinto",
      "photoUrl": "https://lh3.googleusercontent.com/a-/AOh14GhkSbJn7uVBQmIkmxpBAHIeyBv3MYDnDVJE13xm8w=s64",
      "userId": "00433632151485364739"
     },
     "user_tz": 180
    },
    "id": "ggrbaB4Tlto2",
    "outputId": "766451cb-4a9b-4689-e7aa-bd1c88aae995"
   },
   "outputs": [
    {
     "data": {
      "text/plain": [
       "[['Jetta Variant', 2003, False],\n",
       " ['Passat', 1991, False],\n",
       " ['Crossfox', 1990, False],\n",
       " ['DS5', 2019, True],\n",
       " ['Aston Martin DB4', 2006, False],\n",
       " ['Palio Weekend', 2012, False],\n",
       " ['A5', 2019, True],\n",
       " ['Série 3 Cabrio', 2009, False],\n",
       " ['Dodge Jorney', 2019, False],\n",
       " ['Carens', 2011, False]]"
      ]
     },
     "execution_count": 17,
     "metadata": {
      "tags": []
     },
     "output_type": "execute_result"
    }
   ],
   "source": [
    "dados"
   ]
  },
  {
   "cell_type": "code",
   "execution_count": null,
   "metadata": {
    "colab": {
     "base_uri": "https://localhost:8080/"
    },
    "executionInfo": {
     "elapsed": 897,
     "status": "ok",
     "timestamp": 1608312226113,
     "user": {
      "displayName": "Diego Cowen Pinto",
      "photoUrl": "https://lh3.googleusercontent.com/a-/AOh14GhkSbJn7uVBQmIkmxpBAHIeyBv3MYDnDVJE13xm8w=s64",
      "userId": "00433632151485364739"
     },
     "user_tz": 180
    },
    "id": "KJgRc1F9lto3",
    "outputId": "f7bdfdf8-6347-4d8f-a338-2cc59313d4d0"
   },
   "outputs": [
    {
     "name": "stdout",
     "output_type": "stream",
     "text": [
      "AND\n",
      "(True and True) o resultado é: True\n",
      "(True and False) o resultado é: False\n",
      "(False and True) o resultado é: False\n",
      "(False and False) o resultado é: False\n"
     ]
    }
   ],
   "source": [
    "print('AND')\n",
    "print(f'(True and True) o resultado é: {True and True}')\n",
    "print(f'(True and False) o resultado é: {True and False}')\n",
    "print(f'(False and True) o resultado é: {False and True}')\n",
    "print(f'(False and False) o resultado é: {False and False}')"
   ]
  },
  {
   "cell_type": "code",
   "execution_count": null,
   "metadata": {
    "colab": {
     "base_uri": "https://localhost:8080/"
    },
    "executionInfo": {
     "elapsed": 762,
     "status": "ok",
     "timestamp": 1608312228623,
     "user": {
      "displayName": "Diego Cowen Pinto",
      "photoUrl": "https://lh3.googleusercontent.com/a-/AOh14GhkSbJn7uVBQmIkmxpBAHIeyBv3MYDnDVJE13xm8w=s64",
      "userId": "00433632151485364739"
     },
     "user_tz": 180
    },
    "id": "sb0mSh-o0aRM",
    "outputId": "8df515a8-ab44-44e6-c9f8-ec43449505ac"
   },
   "outputs": [
    {
     "name": "stdout",
     "output_type": "stream",
     "text": [
      "OR\n",
      "(True or True) o resultado é: True\n",
      "(True or False) o resultado é: True\n",
      "(False or True) o resultado é: True\n",
      "(False or False) o resultado é: False\n"
     ]
    }
   ],
   "source": [
    "print('OR')\n",
    "print(f'(True or True) o resultado é: {True or True}')\n",
    "print(f'(True or False) o resultado é: {True or False}')\n",
    "print(f'(False or True) o resultado é: {False or True}')\n",
    "print(f'(False or False) o resultado é: {False or False}')"
   ]
  },
  {
   "cell_type": "code",
   "execution_count": null,
   "metadata": {
    "id": "AfNdTPzElto3"
   },
   "outputs": [],
   "source": [
    "A, B, C = [], [], []\n",
    "\n",
    "for lista in dados:\n",
    "  if(lista[1] <= 2000):\n",
    "    A.append(lista)\n",
    "  elif(2000 < lista[1] <= 2010):\n",
    "    B.append(lista)\n",
    "  else:\n",
    "    C.append(lista)"
   ]
  },
  {
   "cell_type": "code",
   "execution_count": null,
   "metadata": {
    "colab": {
     "base_uri": "https://localhost:8080/"
    },
    "executionInfo": {
     "elapsed": 759,
     "status": "ok",
     "timestamp": 1608312778759,
     "user": {
      "displayName": "Diego Cowen Pinto",
      "photoUrl": "https://lh3.googleusercontent.com/a-/AOh14GhkSbJn7uVBQmIkmxpBAHIeyBv3MYDnDVJE13xm8w=s64",
      "userId": "00433632151485364739"
     },
     "user_tz": 180
    },
    "id": "5bN7SuvTlto4",
    "outputId": "f924650e-23d2-4498-9782-b788a64f7ea2"
   },
   "outputs": [
    {
     "data": {
      "text/plain": [
       "[['Passat', 1991, False], ['Crossfox', 1990, False]]"
      ]
     },
     "execution_count": 31,
     "metadata": {
      "tags": []
     },
     "output_type": "execute_result"
    }
   ],
   "source": [
    "A"
   ]
  },
  {
   "cell_type": "code",
   "execution_count": null,
   "metadata": {
    "colab": {
     "base_uri": "https://localhost:8080/"
    },
    "executionInfo": {
     "elapsed": 1005,
     "status": "ok",
     "timestamp": 1608312780330,
     "user": {
      "displayName": "Diego Cowen Pinto",
      "photoUrl": "https://lh3.googleusercontent.com/a-/AOh14GhkSbJn7uVBQmIkmxpBAHIeyBv3MYDnDVJE13xm8w=s64",
      "userId": "00433632151485364739"
     },
     "user_tz": 180
    },
    "id": "dDEl3Vfglto4",
    "outputId": "0349af93-a3b7-4375-80d2-9331e1e47d58"
   },
   "outputs": [
    {
     "data": {
      "text/plain": [
       "[['Jetta Variant', 2003, False],\n",
       " ['Aston Martin DB4', 2006, False],\n",
       " ['Série 3 Cabrio', 2009, False]]"
      ]
     },
     "execution_count": 32,
     "metadata": {
      "tags": []
     },
     "output_type": "execute_result"
    }
   ],
   "source": [
    "B"
   ]
  },
  {
   "cell_type": "code",
   "execution_count": null,
   "metadata": {
    "colab": {
     "base_uri": "https://localhost:8080/"
    },
    "executionInfo": {
     "elapsed": 526,
     "status": "ok",
     "timestamp": 1608312781382,
     "user": {
      "displayName": "Diego Cowen Pinto",
      "photoUrl": "https://lh3.googleusercontent.com/a-/AOh14GhkSbJn7uVBQmIkmxpBAHIeyBv3MYDnDVJE13xm8w=s64",
      "userId": "00433632151485364739"
     },
     "user_tz": 180
    },
    "id": "Ot4HLQlelto5",
    "outputId": "75b24eee-47fd-4bf6-d15a-4bf9c918a614"
   },
   "outputs": [
    {
     "data": {
      "text/plain": [
       "[['DS5', 2019, True],\n",
       " ['Palio Weekend', 2012, False],\n",
       " ['A5', 2019, True],\n",
       " ['Dodge Jorney', 2019, False],\n",
       " ['Carens', 2011, False]]"
      ]
     },
     "execution_count": 33,
     "metadata": {
      "tags": []
     },
     "output_type": "execute_result"
    }
   ],
   "source": [
    "C"
   ]
  },
  {
   "cell_type": "code",
   "execution_count": null,
   "metadata": {
    "id": "FN26ZBKJlto5"
   },
   "outputs": [],
   "source": []
  },
  {
   "cell_type": "markdown",
   "metadata": {
    "id": "b8prsQjmltme"
   },
   "source": [
    "### Importando todo o pacote"
   ]
  },
  {
   "cell_type": "code",
   "execution_count": null,
   "metadata": {
    "id": "lP0tqXHLltmf"
   },
   "outputs": [],
   "source": [
    "import numpy"
   ]
  },
  {
   "cell_type": "code",
   "execution_count": null,
   "metadata": {
    "colab": {
     "base_uri": "https://localhost:8080/"
    },
    "executionInfo": {
     "elapsed": 1681,
     "status": "ok",
     "timestamp": 1609170966696,
     "user": {
      "displayName": "Diego Cowen Pinto",
      "photoUrl": "https://lh3.googleusercontent.com/a-/AOh14GhkSbJn7uVBQmIkmxpBAHIeyBv3MYDnDVJE13xm8w=s64",
      "userId": "00433632151485364739"
     },
     "user_tz": 180
    },
    "id": "Y40UP3K7ltmg",
    "outputId": "3f9b8b06-370b-458e-a586-dc3df0649a46"
   },
   "outputs": [
    {
     "data": {
      "text/plain": [
       "array([0, 1, 2, 3, 4, 5, 6, 7, 8, 9])"
      ]
     },
     "execution_count": 2,
     "metadata": {
      "tags": []
     },
     "output_type": "execute_result"
    }
   ],
   "source": [
    "numpy.arange(10)"
   ]
  },
  {
   "cell_type": "markdown",
   "metadata": {
    "id": "84-53f4Lltmh"
   },
   "source": [
    "### Importando todo o pacote e atribuindo um novo nome "
   ]
  },
  {
   "cell_type": "code",
   "execution_count": null,
   "metadata": {
    "id": "CzESWck7ltmi"
   },
   "outputs": [],
   "source": [
    "import numpy as np"
   ]
  },
  {
   "cell_type": "code",
   "execution_count": null,
   "metadata": {
    "colab": {
     "base_uri": "https://localhost:8080/"
    },
    "executionInfo": {
     "elapsed": 1005,
     "status": "ok",
     "timestamp": 1609171922080,
     "user": {
      "displayName": "Diego Cowen Pinto",
      "photoUrl": "https://lh3.googleusercontent.com/a-/AOh14GhkSbJn7uVBQmIkmxpBAHIeyBv3MYDnDVJE13xm8w=s64",
      "userId": "00433632151485364739"
     },
     "user_tz": 180
    },
    "id": "RC7Dr5Viltmj",
    "outputId": "d7cdd4f3-fb26-4af8-fca5-e9cf9c3a9dc8"
   },
   "outputs": [
    {
     "data": {
      "text/plain": [
       "array([ 1,  2,  3,  4,  5,  6,  7,  8,  9, 10])"
      ]
     },
     "execution_count": 30,
     "metadata": {
      "tags": []
     },
     "output_type": "execute_result"
    }
   ],
   "source": [
    "np.arange(1, 11)"
   ]
  },
  {
   "cell_type": "markdown",
   "metadata": {
    "id": "WWawttSpltml"
   },
   "source": [
    "### Importando parte do pacote"
   ]
  },
  {
   "cell_type": "code",
   "execution_count": null,
   "metadata": {
    "id": "8kTeo3Ltltmo"
   },
   "outputs": [],
   "source": [
    "from numpy import arange"
   ]
  },
  {
   "cell_type": "code",
   "execution_count": null,
   "metadata": {
    "colab": {
     "base_uri": "https://localhost:8080/"
    },
    "executionInfo": {
     "elapsed": 904,
     "status": "ok",
     "timestamp": 1609171929491,
     "user": {
      "displayName": "Diego Cowen Pinto",
      "photoUrl": "https://lh3.googleusercontent.com/a-/AOh14GhkSbJn7uVBQmIkmxpBAHIeyBv3MYDnDVJE13xm8w=s64",
      "userId": "00433632151485364739"
     },
     "user_tz": 180
    },
    "id": "4LPnpiEwltmt",
    "outputId": "8c362593-65ed-4731-ba84-5b5ed63af8ef"
   },
   "outputs": [
    {
     "data": {
      "text/plain": [
       "array([  1,   2,   3,   4,   5,   6,   7,   8,   9,  10,  11,  12,  13,\n",
       "        14,  15,  16,  17,  18,  19,  20,  21,  22,  23,  24,  25,  26,\n",
       "        27,  28,  29,  30,  31,  32,  33,  34,  35,  36,  37,  38,  39,\n",
       "        40,  41,  42,  43,  44,  45,  46,  47,  48,  49,  50,  51,  52,\n",
       "        53,  54,  55,  56,  57,  58,  59,  60,  61,  62,  63,  64,  65,\n",
       "        66,  67,  68,  69,  70,  71,  72,  73,  74,  75,  76,  77,  78,\n",
       "        79,  80,  81,  82,  83,  84,  85,  86,  87,  88,  89,  90,  91,\n",
       "        92,  93,  94,  95,  96,  97,  98,  99, 100])"
      ]
     },
     "execution_count": 32,
     "metadata": {
      "tags": []
     },
     "output_type": "execute_result"
    }
   ],
   "source": [
    "arange(1, 101)"
   ]
  },
  {
   "cell_type": "markdown",
   "metadata": {
    "id": "VSmffnCklto6"
   },
   "source": [
    "# 5.1 Criando arrays Numpy"
   ]
  },
  {
   "cell_type": "code",
   "execution_count": null,
   "metadata": {
    "id": "Wqpin_-Plto8"
   },
   "outputs": [],
   "source": [
    "import numpy as np"
   ]
  },
  {
   "cell_type": "code",
   "execution_count": null,
   "metadata": {
    "id": "82H-09CQlto9"
   },
   "outputs": [],
   "source": [
    "km = np.array([1000, 2300, 4987, 1500])"
   ]
  },
  {
   "cell_type": "code",
   "execution_count": null,
   "metadata": {
    "colab": {
     "base_uri": "https://localhost:8080/"
    },
    "executionInfo": {
     "elapsed": 1026,
     "status": "ok",
     "timestamp": 1609775775931,
     "user": {
      "displayName": "Diego Cowen Pinto",
      "photoUrl": "https://lh3.googleusercontent.com/a-/AOh14GhkSbJn7uVBQmIkmxpBAHIeyBv3MYDnDVJE13xm8w=s64",
      "userId": "00433632151485364739"
     },
     "user_tz": 180
    },
    "id": "8VYE3JSYlto9",
    "outputId": "d4f67fe2-4a02-4ddc-e6e8-61a9920afec0"
   },
   "outputs": [
    {
     "data": {
      "text/plain": [
       "array([1000, 2300, 4987, 1500])"
      ]
     },
     "execution_count": 13,
     "metadata": {
      "tags": []
     },
     "output_type": "execute_result"
    }
   ],
   "source": [
    "km"
   ]
  },
  {
   "cell_type": "code",
   "execution_count": null,
   "metadata": {
    "colab": {
     "base_uri": "https://localhost:8080/"
    },
    "executionInfo": {
     "elapsed": 1018,
     "status": "ok",
     "timestamp": 1609775775933,
     "user": {
      "displayName": "Diego Cowen Pinto",
      "photoUrl": "https://lh3.googleusercontent.com/a-/AOh14GhkSbJn7uVBQmIkmxpBAHIeyBv3MYDnDVJE13xm8w=s64",
      "userId": "00433632151485364739"
     },
     "user_tz": 180
    },
    "id": "OBsa5Cfplto-",
    "outputId": "06efa3da-1084-48f1-f781-4d267e59002e"
   },
   "outputs": [
    {
     "data": {
      "text/plain": [
       "numpy.ndarray"
      ]
     },
     "execution_count": 14,
     "metadata": {
      "tags": []
     },
     "output_type": "execute_result"
    }
   ],
   "source": [
    "type(km)"
   ]
  },
  {
   "cell_type": "code",
   "execution_count": null,
   "metadata": {
    "colab": {
     "base_uri": "https://localhost:8080/"
    },
    "executionInfo": {
     "elapsed": 1012,
     "status": "ok",
     "timestamp": 1609775775934,
     "user": {
      "displayName": "Diego Cowen Pinto",
      "photoUrl": "https://lh3.googleusercontent.com/a-/AOh14GhkSbJn7uVBQmIkmxpBAHIeyBv3MYDnDVJE13xm8w=s64",
      "userId": "00433632151485364739"
     },
     "user_tz": 180
    },
    "id": "6yLpkJcAlto-",
    "outputId": "f28edaa9-4bb6-40af-f380-3c63d8365eb9"
   },
   "outputs": [
    {
     "data": {
      "text/plain": [
       "dtype('int64')"
      ]
     },
     "execution_count": 15,
     "metadata": {
      "tags": []
     },
     "output_type": "execute_result"
    }
   ],
   "source": [
    "km.dtype"
   ]
  },
  {
   "cell_type": "markdown",
   "metadata": {
    "id": "1pFx86QPlto_"
   },
   "source": [
    "### A partir de dados externos\n",
    "\n",
    "https://numpy.org/doc/1.16/reference/generated/numpy.loadtxt.html"
   ]
  },
  {
   "cell_type": "code",
   "execution_count": null,
   "metadata": {
    "id": "26pQLNgrlto_"
   },
   "outputs": [],
   "source": [
    "km = np.loadtxt(fname = 'carros-km.txt', dtype = int)"
   ]
  },
  {
   "cell_type": "code",
   "execution_count": null,
   "metadata": {
    "id": "FoP42bdpltpA",
    "scrolled": true
   },
   "outputs": [],
   "source": [
    "km"
   ]
  },
  {
   "cell_type": "code",
   "execution_count": null,
   "metadata": {
    "id": "MNPjZJbYltpA"
   },
   "outputs": [],
   "source": [
    "km.dtype"
   ]
  },
  {
   "cell_type": "markdown",
   "metadata": {
    "id": "_wnTg0wJltpB"
   },
   "source": [
    "### Arrays com duas dimensões"
   ]
  },
  {
   "cell_type": "code",
   "execution_count": null,
   "metadata": {
    "colab": {
     "base_uri": "https://localhost:8080/"
    },
    "executionInfo": {
     "elapsed": 663,
     "status": "ok",
     "timestamp": 1609775882432,
     "user": {
      "displayName": "Diego Cowen Pinto",
      "photoUrl": "https://lh3.googleusercontent.com/a-/AOh14GhkSbJn7uVBQmIkmxpBAHIeyBv3MYDnDVJE13xm8w=s64",
      "userId": "00433632151485364739"
     },
     "user_tz": 180
    },
    "id": "Gt1dL27GltpB",
    "outputId": "1ce0010e-3ef5-48cd-f6f0-8f0fd8d3437b",
    "scrolled": true
   },
   "outputs": [
    {
     "data": {
      "text/plain": [
       "[['Rodas de liga',\n",
       "  'Travas elétricas',\n",
       "  'Piloto automático',\n",
       "  'Bancos de couro',\n",
       "  'Ar condicionado',\n",
       "  'Sensor de estacionamento',\n",
       "  'Sensor crepuscular',\n",
       "  'Sensor de chuva'],\n",
       " ['Central multimídia',\n",
       "  'Teto panorâmico',\n",
       "  'Freios ABS',\n",
       "  '4 X 4',\n",
       "  'Painel digital',\n",
       "  'Piloto automático',\n",
       "  'Bancos de couro',\n",
       "  'Câmera de estacionamento'],\n",
       " ['Piloto automático',\n",
       "  'Controle de estabilidade',\n",
       "  'Sensor crepuscular',\n",
       "  'Freios ABS',\n",
       "  'Câmbio automático',\n",
       "  'Bancos de couro',\n",
       "  'Central multimídia',\n",
       "  'Vidros elétricos']]"
      ]
     },
     "execution_count": 27,
     "metadata": {
      "tags": []
     },
     "output_type": "execute_result"
    }
   ],
   "source": [
    "dados = [ \n",
    "    ['Rodas de liga', 'Travas elétricas', 'Piloto automático', 'Bancos de couro', 'Ar condicionado', 'Sensor de estacionamento', 'Sensor crepuscular', 'Sensor de chuva'],\n",
    "    ['Central multimídia', 'Teto panorâmico', 'Freios ABS', '4 X 4', 'Painel digital', 'Piloto automático', 'Bancos de couro', 'Câmera de estacionamento'],\n",
    "    ['Piloto automático', 'Controle de estabilidade', 'Sensor crepuscular', 'Freios ABS', 'Câmbio automático', 'Bancos de couro', 'Central multimídia', 'Vidros elétricos']\n",
    "]\n",
    "dados"
   ]
  },
  {
   "cell_type": "code",
   "execution_count": null,
   "metadata": {
    "id": "IlbYeZPkltpC"
   },
   "outputs": [],
   "source": [
    "Acessorios = np.array(dados)"
   ]
  },
  {
   "cell_type": "code",
   "execution_count": null,
   "metadata": {
    "id": "FgjmWozgltpD",
    "scrolled": true
   },
   "outputs": [],
   "source": [
    "Acessorios"
   ]
  },
  {
   "cell_type": "code",
   "execution_count": null,
   "metadata": {
    "id": "TDM9HskUltpD"
   },
   "outputs": [],
   "source": [
    "km.shape"
   ]
  },
  {
   "cell_type": "code",
   "execution_count": null,
   "metadata": {
    "id": "bBmnzpF5ltpE"
   },
   "outputs": [],
   "source": [
    "Acessorios.shape"
   ]
  },
  {
   "cell_type": "markdown",
   "metadata": {
    "id": "cPbkST9pltpE"
   },
   "source": [
    "### Comparando desempenho com listas"
   ]
  },
  {
   "cell_type": "code",
   "execution_count": null,
   "metadata": {
    "id": "tTPC-G4vltpE"
   },
   "outputs": [],
   "source": [
    "np_array = np.array(1000000)"
   ]
  },
  {
   "cell_type": "code",
   "execution_count": null,
   "metadata": {
    "id": "PIC-ndg9ltpF"
   },
   "outputs": [],
   "source": [
    "py_list = list(range(1000000))"
   ]
  },
  {
   "cell_type": "code",
   "execution_count": null,
   "metadata": {
    "colab": {
     "base_uri": "https://localhost:8080/"
    },
    "executionInfo": {
     "elapsed": 628,
     "status": "ok",
     "timestamp": 1609775850612,
     "user": {
      "displayName": "Diego Cowen Pinto",
      "photoUrl": "https://lh3.googleusercontent.com/a-/AOh14GhkSbJn7uVBQmIkmxpBAHIeyBv3MYDnDVJE13xm8w=s64",
      "userId": "00433632151485364739"
     },
     "user_tz": 180
    },
    "id": "vXy57nk2ltpF",
    "outputId": "4ac8b22d-74f7-4218-b7cd-07346251fee4"
   },
   "outputs": [
    {
     "name": "stdout",
     "output_type": "stream",
     "text": [
      "CPU times: user 381 µs, sys: 0 ns, total: 381 µs\n",
      "Wall time: 490 µs\n"
     ]
    }
   ],
   "source": [
    "%time for _ in range(100): np_array *= 2"
   ]
  },
  {
   "cell_type": "code",
   "execution_count": null,
   "metadata": {
    "colab": {
     "base_uri": "https://localhost:8080/"
    },
    "executionInfo": {
     "elapsed": 10262,
     "status": "ok",
     "timestamp": 1609775862544,
     "user": {
      "displayName": "Diego Cowen Pinto",
      "photoUrl": "https://lh3.googleusercontent.com/a-/AOh14GhkSbJn7uVBQmIkmxpBAHIeyBv3MYDnDVJE13xm8w=s64",
      "userId": "00433632151485364739"
     },
     "user_tz": 180
    },
    "id": "I94lVgCRltpG",
    "outputId": "48cef977-2eda-4a13-977d-a3f6bc48825c"
   },
   "outputs": [
    {
     "name": "stdout",
     "output_type": "stream",
     "text": [
      "CPU times: user 7.79 s, sys: 1.78 s, total: 9.56 s\n",
      "Wall time: 9.6 s\n"
     ]
    }
   ],
   "source": [
    "%time for _ in range(100): py_list = [x * 2 for x in py_list]"
   ]
  },
  {
   "cell_type": "markdown",
   "metadata": {
    "id": "ul4MuKyTltpG"
   },
   "source": [
    "# 5.2 Operações aritméticas com arrays Numpy"
   ]
  },
  {
   "cell_type": "markdown",
   "metadata": {
    "id": "QwnxO_rYltpH"
   },
   "source": [
    "### Operações entre arrays e constantes"
   ]
  },
  {
   "cell_type": "code",
   "execution_count": null,
   "metadata": {
    "id": "63KVHPK0ltpH"
   },
   "outputs": [],
   "source": [
    "km = [44410., 5712., 37123., 0., 25757.]\n",
    "anos = [2003, 1991, 1990, 2019, 2006]"
   ]
  },
  {
   "cell_type": "code",
   "execution_count": null,
   "metadata": {
    "id": "AryIZaBIltpH"
   },
   "outputs": [],
   "source": [
    "# idade = 2020 - anos"
   ]
  },
  {
   "cell_type": "code",
   "execution_count": null,
   "metadata": {
    "id": "s8GvEk4HltpI"
   },
   "outputs": [],
   "source": [
    "km = np.array([44410., 5712., 37123., 0., 25757.])\n",
    "anos = np.array([2003, 1991, 1990, 2019, 2006])"
   ]
  },
  {
   "cell_type": "code",
   "execution_count": null,
   "metadata": {
    "id": "aUnYV7OultpI"
   },
   "outputs": [],
   "source": [
    "idade = 2019 - anos"
   ]
  },
  {
   "cell_type": "code",
   "execution_count": null,
   "metadata": {
    "colab": {
     "base_uri": "https://localhost:8080/"
    },
    "executionInfo": {
     "elapsed": 673,
     "status": "ok",
     "timestamp": 1609775928376,
     "user": {
      "displayName": "Diego Cowen Pinto",
      "photoUrl": "https://lh3.googleusercontent.com/a-/AOh14GhkSbJn7uVBQmIkmxpBAHIeyBv3MYDnDVJE13xm8w=s64",
      "userId": "00433632151485364739"
     },
     "user_tz": 180
    },
    "id": "vg5yZ9IpltpJ",
    "outputId": "c89d1788-dc21-425d-99c7-04df42a60ca9"
   },
   "outputs": [
    {
     "data": {
      "text/plain": [
       "array([16, 28, 29,  0, 13])"
      ]
     },
     "execution_count": 37,
     "metadata": {
      "tags": []
     },
     "output_type": "execute_result"
    }
   ],
   "source": [
    "idade"
   ]
  },
  {
   "cell_type": "markdown",
   "metadata": {
    "id": "qn1PUsM9ltpJ"
   },
   "source": [
    "### Operações entre arrays"
   ]
  },
  {
   "cell_type": "code",
   "execution_count": null,
   "metadata": {
    "colab": {
     "base_uri": "https://localhost:8080/"
    },
    "executionInfo": {
     "elapsed": 872,
     "status": "ok",
     "timestamp": 1609775931424,
     "user": {
      "displayName": "Diego Cowen Pinto",
      "photoUrl": "https://lh3.googleusercontent.com/a-/AOh14GhkSbJn7uVBQmIkmxpBAHIeyBv3MYDnDVJE13xm8w=s64",
      "userId": "00433632151485364739"
     },
     "user_tz": 180
    },
    "id": "gU_d5aZkltpJ",
    "outputId": "b935c655-c419-4aba-e7d1-4045ade1065f"
   },
   "outputs": [
    {
     "name": "stderr",
     "output_type": "stream",
     "text": [
      "/usr/local/lib/python3.6/dist-packages/ipykernel_launcher.py:1: RuntimeWarning: invalid value encountered in true_divide\n",
      "  \"\"\"Entry point for launching an IPython kernel.\n"
     ]
    }
   ],
   "source": [
    "km_media = km / idade"
   ]
  },
  {
   "cell_type": "code",
   "execution_count": null,
   "metadata": {
    "colab": {
     "base_uri": "https://localhost:8080/"
    },
    "executionInfo": {
     "elapsed": 633,
     "status": "ok",
     "timestamp": 1609775936321,
     "user": {
      "displayName": "Diego Cowen Pinto",
      "photoUrl": "https://lh3.googleusercontent.com/a-/AOh14GhkSbJn7uVBQmIkmxpBAHIeyBv3MYDnDVJE13xm8w=s64",
      "userId": "00433632151485364739"
     },
     "user_tz": 180
    },
    "id": "U9DXntUEltpK",
    "outputId": "5f66bb5a-3d8a-480e-d1e7-ae70814e99d4"
   },
   "outputs": [
    {
     "data": {
      "text/plain": [
       "array([2775.625     ,  204.        , 1280.10344828,           nan,\n",
       "       1981.30769231])"
      ]
     },
     "execution_count": 39,
     "metadata": {
      "tags": []
     },
     "output_type": "execute_result"
    }
   ],
   "source": [
    "km_media"
   ]
  },
  {
   "cell_type": "code",
   "execution_count": null,
   "metadata": {
    "colab": {
     "base_uri": "https://localhost:8080/"
    },
    "executionInfo": {
     "elapsed": 606,
     "status": "ok",
     "timestamp": 1609775940193,
     "user": {
      "displayName": "Diego Cowen Pinto",
      "photoUrl": "https://lh3.googleusercontent.com/a-/AOh14GhkSbJn7uVBQmIkmxpBAHIeyBv3MYDnDVJE13xm8w=s64",
      "userId": "00433632151485364739"
     },
     "user_tz": 180
    },
    "id": "n0rPxgY1ltpL",
    "outputId": "63651a84-143e-4fa9-d988-82d05b28092f"
   },
   "outputs": [
    {
     "data": {
      "text/plain": [
       "2775.625"
      ]
     },
     "execution_count": 40,
     "metadata": {
      "tags": []
     },
     "output_type": "execute_result"
    }
   ],
   "source": [
    "44410 / (2019 - 2003)"
   ]
  },
  {
   "cell_type": "markdown",
   "metadata": {
    "id": "o4-gsGICltpN"
   },
   "source": [
    "### Operações com arrays de duas dimensões"
   ]
  },
  {
   "cell_type": "code",
   "execution_count": null,
   "metadata": {
    "id": "VT71Pbb3ltpN"
   },
   "outputs": [],
   "source": [
    "dados = np.array([km, anos])"
   ]
  },
  {
   "cell_type": "code",
   "execution_count": null,
   "metadata": {
    "colab": {
     "base_uri": "https://localhost:8080/"
    },
    "executionInfo": {
     "elapsed": 611,
     "status": "ok",
     "timestamp": 1609775946801,
     "user": {
      "displayName": "Diego Cowen Pinto",
      "photoUrl": "https://lh3.googleusercontent.com/a-/AOh14GhkSbJn7uVBQmIkmxpBAHIeyBv3MYDnDVJE13xm8w=s64",
      "userId": "00433632151485364739"
     },
     "user_tz": 180
    },
    "id": "bgDe00q8ltpO",
    "outputId": "00e4726f-ab18-446e-d46b-98659eaef426"
   },
   "outputs": [
    {
     "data": {
      "text/plain": [
       "array([[44410.,  5712., 37123.,     0., 25757.],\n",
       "       [ 2003.,  1991.,  1990.,  2019.,  2006.]])"
      ]
     },
     "execution_count": 42,
     "metadata": {
      "tags": []
     },
     "output_type": "execute_result"
    }
   ],
   "source": [
    "dados"
   ]
  },
  {
   "cell_type": "code",
   "execution_count": null,
   "metadata": {
    "colab": {
     "base_uri": "https://localhost:8080/"
    },
    "executionInfo": {
     "elapsed": 617,
     "status": "ok",
     "timestamp": 1609775950652,
     "user": {
      "displayName": "Diego Cowen Pinto",
      "photoUrl": "https://lh3.googleusercontent.com/a-/AOh14GhkSbJn7uVBQmIkmxpBAHIeyBv3MYDnDVJE13xm8w=s64",
      "userId": "00433632151485364739"
     },
     "user_tz": 180
    },
    "id": "jIQU2ugKltpP",
    "outputId": "b5b6e0fd-3008-4a4e-eff0-f699448cac62"
   },
   "outputs": [
    {
     "data": {
      "text/plain": [
       "(2, 5)"
      ]
     },
     "execution_count": 43,
     "metadata": {
      "tags": []
     },
     "output_type": "execute_result"
    }
   ],
   "source": [
    "dados.shape"
   ]
  },
  {
   "cell_type": "code",
   "execution_count": null,
   "metadata": {
    "colab": {
     "base_uri": "https://localhost:8080/"
    },
    "executionInfo": {
     "elapsed": 933,
     "status": "ok",
     "timestamp": 1609171845915,
     "user": {
      "displayName": "Diego Cowen Pinto",
      "photoUrl": "https://lh3.googleusercontent.com/a-/AOh14GhkSbJn7uVBQmIkmxpBAHIeyBv3MYDnDVJE13xm8w=s64",
      "userId": "00433632151485364739"
     },
     "user_tz": 180
    },
    "id": "imANn6HultpQ",
    "outputId": "46d99dde-2ad6-473c-c7ac-497c1efcd822"
   },
   "outputs": [
    {
     "data": {
      "text/plain": [
       "['Rodas de liga',\n",
       " 'Travas elétricas',\n",
       " 'Piloto automático',\n",
       " 'Bancos de couro',\n",
       " 'Ar condicionado',\n",
       " 'Sensor de estacionamento',\n",
       " 'Sensor crepuscular',\n",
       " 'Sensor de chuva']"
      ]
     },
     "execution_count": 13,
     "metadata": {
      "tags": []
     },
     "output_type": "execute_result"
    }
   ],
   "source": [
    "dados[0]"
   ]
  },
  {
   "cell_type": "code",
   "execution_count": null,
   "metadata": {
    "colab": {
     "base_uri": "https://localhost:8080/"
    },
    "executionInfo": {
     "elapsed": 929,
     "status": "ok",
     "timestamp": 1609171953748,
     "user": {
      "displayName": "Diego Cowen Pinto",
      "photoUrl": "https://lh3.googleusercontent.com/a-/AOh14GhkSbJn7uVBQmIkmxpBAHIeyBv3MYDnDVJE13xm8w=s64",
      "userId": "00433632151485364739"
     },
     "user_tz": 180
    },
    "id": "Nkp9ljkvltpQ",
    "outputId": "f69c1379-6fec-4e7d-ff5d-7d980b7cee6e"
   },
   "outputs": [
    {
     "data": {
      "text/plain": [
       "array([2003., 1991., 1990., 2019., 2006.])"
      ]
     },
     "execution_count": 36,
     "metadata": {
      "tags": []
     },
     "output_type": "execute_result"
    }
   ],
   "source": [
    "dados[1]"
   ]
  },
  {
   "cell_type": "code",
   "execution_count": null,
   "metadata": {
    "colab": {
     "base_uri": "https://localhost:8080/"
    },
    "executionInfo": {
     "elapsed": 969,
     "status": "ok",
     "timestamp": 1609171950922,
     "user": {
      "displayName": "Diego Cowen Pinto",
      "photoUrl": "https://lh3.googleusercontent.com/a-/AOh14GhkSbJn7uVBQmIkmxpBAHIeyBv3MYDnDVJE13xm8w=s64",
      "userId": "00433632151485364739"
     },
     "user_tz": 180
    },
    "id": "njJ2z3HJltpR",
    "outputId": "eef10638-90c8-405c-9948-56284c79347f"
   },
   "outputs": [
    {
     "name": "stderr",
     "output_type": "stream",
     "text": [
      "/usr/local/lib/python3.6/dist-packages/ipykernel_launcher.py:1: RuntimeWarning: invalid value encountered in true_divide\n",
      "  \"\"\"Entry point for launching an IPython kernel.\n"
     ]
    }
   ],
   "source": [
    "km_media = dados[0] / (2019 - dados[1])\n"
   ]
  },
  {
   "cell_type": "code",
   "execution_count": null,
   "metadata": {
    "colab": {
     "base_uri": "https://localhost:8080/"
    },
    "executionInfo": {
     "elapsed": 1310,
     "status": "ok",
     "timestamp": 1609171955879,
     "user": {
      "displayName": "Diego Cowen Pinto",
      "photoUrl": "https://lh3.googleusercontent.com/a-/AOh14GhkSbJn7uVBQmIkmxpBAHIeyBv3MYDnDVJE13xm8w=s64",
      "userId": "00433632151485364739"
     },
     "user_tz": 180
    },
    "id": "FNsvkMgNdFIK",
    "outputId": "aa422ee5-6e06-4126-fff7-06d28c7e1896"
   },
   "outputs": [
    {
     "data": {
      "text/plain": [
       "array([2775.625     ,  204.        , 1280.10344828,           nan,\n",
       "       1981.30769231])"
      ]
     },
     "execution_count": 37,
     "metadata": {
      "tags": []
     },
     "output_type": "execute_result"
    }
   ],
   "source": [
    "km_media"
   ]
  },
  {
   "cell_type": "markdown",
   "metadata": {
    "id": "4CAwtS0-ltpR"
   },
   "source": [
    "# 5.3 Seleções com arrays Numpy"
   ]
  },
  {
   "cell_type": "code",
   "execution_count": null,
   "metadata": {
    "colab": {
     "base_uri": "https://localhost:8080/"
    },
    "executionInfo": {
     "elapsed": 2235,
     "status": "ok",
     "timestamp": 1609775723334,
     "user": {
      "displayName": "Diego Cowen Pinto",
      "photoUrl": "https://lh3.googleusercontent.com/a-/AOh14GhkSbJn7uVBQmIkmxpBAHIeyBv3MYDnDVJE13xm8w=s64",
      "userId": "00433632151485364739"
     },
     "user_tz": 180
    },
    "id": "mr0Q_X0JltpT",
    "outputId": "bf2cb5de-c9f7-4bb1-b25f-e4924c67c0a1"
   },
   "outputs": [
    {
     "data": {
      "text/plain": [
       "array([0, 1, 2, 3, 4, 5, 6, 7, 8, 9])"
      ]
     },
     "execution_count": 3,
     "metadata": {
      "tags": []
     },
     "output_type": "execute_result"
    }
   ],
   "source": [
    "contador = np.arange(10)\n",
    "contador"
   ]
  },
  {
   "cell_type": "code",
   "execution_count": null,
   "metadata": {
    "colab": {
     "base_uri": "https://localhost:8080/"
    },
    "executionInfo": {
     "elapsed": 2220,
     "status": "ok",
     "timestamp": 1609775723335,
     "user": {
      "displayName": "Diego Cowen Pinto",
      "photoUrl": "https://lh3.googleusercontent.com/a-/AOh14GhkSbJn7uVBQmIkmxpBAHIeyBv3MYDnDVJE13xm8w=s64",
      "userId": "00433632151485364739"
     },
     "user_tz": 180
    },
    "id": "VxiR_IgdltpU",
    "outputId": "6f95e993-27b9-4d39-e256-c822e8766321"
   },
   "outputs": [
    {
     "data": {
      "text/plain": [
       "0"
      ]
     },
     "execution_count": 4,
     "metadata": {
      "tags": []
     },
     "output_type": "execute_result"
    }
   ],
   "source": [
    "contador[0]"
   ]
  },
  {
   "cell_type": "code",
   "execution_count": null,
   "metadata": {
    "colab": {
     "base_uri": "https://localhost:8080/"
    },
    "executionInfo": {
     "elapsed": 2209,
     "status": "ok",
     "timestamp": 1609775723336,
     "user": {
      "displayName": "Diego Cowen Pinto",
      "photoUrl": "https://lh3.googleusercontent.com/a-/AOh14GhkSbJn7uVBQmIkmxpBAHIeyBv3MYDnDVJE13xm8w=s64",
      "userId": "00433632151485364739"
     },
     "user_tz": 180
    },
    "id": "xGDomIyAltpU",
    "outputId": "89b1a5a6-db64-4694-b3ed-b97d7900dff3"
   },
   "outputs": [
    {
     "data": {
      "text/plain": [
       "5"
      ]
     },
     "execution_count": 5,
     "metadata": {
      "tags": []
     },
     "output_type": "execute_result"
    }
   ],
   "source": [
    "item = 6\n",
    "index = item - 1\n",
    "contador[index]"
   ]
  },
  {
   "cell_type": "code",
   "execution_count": null,
   "metadata": {
    "colab": {
     "base_uri": "https://localhost:8080/"
    },
    "executionInfo": {
     "elapsed": 2204,
     "status": "ok",
     "timestamp": 1609775723338,
     "user": {
      "displayName": "Diego Cowen Pinto",
      "photoUrl": "https://lh3.googleusercontent.com/a-/AOh14GhkSbJn7uVBQmIkmxpBAHIeyBv3MYDnDVJE13xm8w=s64",
      "userId": "00433632151485364739"
     },
     "user_tz": 180
    },
    "id": "QEO5Za5PltpV",
    "outputId": "ec7348e4-d0bf-4e5e-b48a-3e7e997a99c0"
   },
   "outputs": [
    {
     "data": {
      "text/plain": [
       "9"
      ]
     },
     "execution_count": 6,
     "metadata": {
      "tags": []
     },
     "output_type": "execute_result"
    }
   ],
   "source": [
    "contador[-1]"
   ]
  },
  {
   "cell_type": "code",
   "execution_count": null,
   "metadata": {
    "colab": {
     "base_uri": "https://localhost:8080/",
     "height": 163
    },
    "executionInfo": {
     "elapsed": 1218,
     "status": "error",
     "timestamp": 1609775754111,
     "user": {
      "displayName": "Diego Cowen Pinto",
      "photoUrl": "https://lh3.googleusercontent.com/a-/AOh14GhkSbJn7uVBQmIkmxpBAHIeyBv3MYDnDVJE13xm8w=s64",
      "userId": "00433632151485364739"
     },
     "user_tz": 180
    },
    "id": "rvkeMK8KltpV",
    "outputId": "8eb931d7-0307-4456-83a9-c493cabc34af"
   },
   "outputs": [
    {
     "ename": "NameError",
     "evalue": "ignored",
     "output_type": "error",
     "traceback": [
      "\u001b[0;31m---------------------------------------------------------------------------\u001b[0m",
      "\u001b[0;31mNameError\u001b[0m                                 Traceback (most recent call last)",
      "\u001b[0;32m<ipython-input-8-795f4a44a5af>\u001b[0m in \u001b[0;36m<module>\u001b[0;34m()\u001b[0m\n\u001b[0;32m----> 1\u001b[0;31m \u001b[0mdados\u001b[0m\u001b[0;34m[\u001b[0m\u001b[0;36m0\u001b[0m\u001b[0;34m]\u001b[0m\u001b[0;34m\u001b[0m\u001b[0;34m\u001b[0m\u001b[0m\n\u001b[0m",
      "\u001b[0;31mNameError\u001b[0m: name 'dados' is not defined"
     ]
    }
   ],
   "source": [
    "dados[0]"
   ]
  },
  {
   "cell_type": "code",
   "execution_count": null,
   "metadata": {
    "id": "X8c-lJRJltpW"
   },
   "outputs": [],
   "source": [
    "dados[1]"
   ]
  },
  {
   "cell_type": "markdown",
   "metadata": {
    "id": "fCWUSI1zltpZ"
   },
   "source": [
    "## <font color=green>**Dica:**</font>\n",
    "### *ndarray[ linha ][ coluna ]* ou *ndarray[ linha, coluna ]*"
   ]
  },
  {
   "cell_type": "code",
   "execution_count": null,
   "metadata": {
    "id": "Nxc3uY-ZltpZ"
   },
   "outputs": [],
   "source": [
    "dados[1][2]"
   ]
  },
  {
   "cell_type": "code",
   "execution_count": null,
   "metadata": {
    "id": "xp8ByjualtpZ"
   },
   "outputs": [],
   "source": [
    "dados[1, 2]"
   ]
  },
  {
   "cell_type": "markdown",
   "metadata": {
    "id": "7osmTUC4ltpa"
   },
   "source": [
    " ### Fatiamentos\n",
    " \n",
    "A sintaxe para realizar fatiamento em um array Numpy é $i : j : k$ onde $i$ é o índice inicial, $j$ é o índice de parada, e $k$ é o indicador de passo ($k\\neq0$)\n",
    " \n",
    "<font color=red>**Observação:**</font> Nos fatiamentos (*slices*) o item com índice i é **incluído** e o item com índice j **não é incluído** no resultado."
   ]
  },
  {
   "cell_type": "code",
   "execution_count": null,
   "metadata": {
    "id": "tlaD1SENltpb"
   },
   "outputs": [],
   "source": [
    "contador = np.arange(10)\n",
    "contador"
   ]
  },
  {
   "cell_type": "code",
   "execution_count": null,
   "metadata": {
    "id": "vXLIO1cVltpc"
   },
   "outputs": [],
   "source": [
    "contador[1:4]"
   ]
  },
  {
   "cell_type": "code",
   "execution_count": null,
   "metadata": {
    "id": "kYLgsQcHltpc"
   },
   "outputs": [],
   "source": [
    "contador[1:10:3]"
   ]
  },
  {
   "cell_type": "code",
   "execution_count": null,
   "metadata": {
    "id": "H2MJpIasltpd"
   },
   "outputs": [],
   "source": [
    "contador[::2]"
   ]
  },
  {
   "cell_type": "code",
   "execution_count": null,
   "metadata": {
    "id": "YVzf4fNCltpe"
   },
   "outputs": [],
   "source": [
    "contador[1::2]"
   ]
  },
  {
   "cell_type": "code",
   "execution_count": null,
   "metadata": {
    "id": "bPyQsUFPltpf"
   },
   "outputs": [],
   "source": [
    "    dados"
   ]
  },
  {
   "cell_type": "code",
   "execution_count": null,
   "metadata": {
    "id": "IRxfixG-ltpg"
   },
   "outputs": [],
   "source": [
    "dados[:, 1:3]"
   ]
  },
  {
   "cell_type": "code",
   "execution_count": null,
   "metadata": {
    "id": "wfoJ84haltph"
   },
   "outputs": [],
   "source": [
    "dados[:, 1:3][0] / (2019 - dados[:, 1:3][1])"
   ]
  },
  {
   "cell_type": "code",
   "execution_count": null,
   "metadata": {
    "id": "UeejSXUAltph"
   },
   "outputs": [],
   "source": [
    "dados[0] / (2019 - dados[1])"
   ]
  },
  {
   "cell_type": "markdown",
   "metadata": {
    "id": "-fW4EXIqltpi"
   },
   "source": [
    "### Indexação com array booleano\n",
    "\n",
    "<font color=red>**Observação:**</font> Seleciona um grupo de linhas e colunas segundo os rótulos ou um array booleano."
   ]
  },
  {
   "cell_type": "code",
   "execution_count": null,
   "metadata": {
    "id": "MgmH-rCSltpi"
   },
   "outputs": [],
   "source": [
    "contador = np.arange(10)\n",
    "contador"
   ]
  },
  {
   "cell_type": "code",
   "execution_count": null,
   "metadata": {
    "id": "HN1i-BlLltpj"
   },
   "outputs": [],
   "source": [
    "contador > 5"
   ]
  },
  {
   "cell_type": "code",
   "execution_count": null,
   "metadata": {
    "id": "iXJa9tL4ltpj"
   },
   "outputs": [],
   "source": [
    "contador[contador > 5]"
   ]
  },
  {
   "cell_type": "code",
   "execution_count": null,
   "metadata": {
    "id": "54gH6X5eltpk"
   },
   "outputs": [],
   "source": [
    "contador[[False, False, False, False, False, False,  True,  True,  True,\n",
    "        True]]"
   ]
  },
  {
   "cell_type": "code",
   "execution_count": null,
   "metadata": {
    "id": "F3z6zMELltpk"
   },
   "outputs": [],
   "source": [
    "dados"
   ]
  },
  {
   "cell_type": "code",
   "execution_count": null,
   "metadata": {
    "id": "pk8A68z1ltpl"
   },
   "outputs": [],
   "source": [
    "dados[1] > 2000"
   ]
  },
  {
   "cell_type": "code",
   "execution_count": null,
   "metadata": {
    "id": "WUVMN29_ltpm"
   },
   "outputs": [],
   "source": [
    "dados[:, dados[1] > 2000]"
   ]
  },
  {
   "cell_type": "code",
   "execution_count": null,
   "metadata": {
    "id": "ltxuW9L8N071"
   },
   "outputs": [],
   "source": [
    "dados[:, dados[1] > 2000][0] / (2019 - dados[:, dados[1] > 2000][1])"
   ]
  },
  {
   "cell_type": "code",
   "execution_count": null,
   "metadata": {
    "id": "VZXhg_oKOBUs"
   },
   "outputs": [],
   "source": [
    "dados[0] / (2019 - dados[1])"
   ]
  },
  {
   "cell_type": "markdown",
   "metadata": {
    "id": "Acw1DffHltpn"
   },
   "source": [
    "# 5.4 Atributos e métodos de arrays Numpy"
   ]
  },
  {
   "cell_type": "markdown",
   "metadata": {
    "id": "RBnSne6Eltpo"
   },
   "source": [
    "### Atributos\n",
    "\n",
    "https://numpy.org/doc/1.16/reference/arrays.ndarray.html#array-attributes"
   ]
  },
  {
   "cell_type": "code",
   "execution_count": null,
   "metadata": {
    "colab": {
     "base_uri": "https://localhost:8080/"
    },
    "executionInfo": {
     "elapsed": 616,
     "status": "ok",
     "timestamp": 1609776228222,
     "user": {
      "displayName": "Diego Cowen Pinto",
      "photoUrl": "https://lh3.googleusercontent.com/a-/AOh14GhkSbJn7uVBQmIkmxpBAHIeyBv3MYDnDVJE13xm8w=s64",
      "userId": "00433632151485364739"
     },
     "user_tz": 180
    },
    "id": "stjvD6m8ltpo",
    "outputId": "8ad53ef5-6c6a-4257-b6c6-e828624a3f86"
   },
   "outputs": [
    {
     "data": {
      "text/plain": [
       "array([[44410.,  5712., 37123.,     0., 25757.],\n",
       "       [ 2003.,  1991.,  1990.,  2019.,  2006.]])"
      ]
     },
     "execution_count": 45,
     "metadata": {
      "tags": []
     },
     "output_type": "execute_result"
    }
   ],
   "source": [
    "dados = np.array([[44410., 5712., 37123., 0., 25757.],\n",
    "                  [2003, 1991, 1990, 2019, 2006]])\n",
    "dados"
   ]
  },
  {
   "cell_type": "markdown",
   "metadata": {
    "id": "uKqPxg2Zltpo"
   },
   "source": [
    "## *ndarray.shape*\n",
    "\n",
    "Retorna uma tupla com as dimensões do array."
   ]
  },
  {
   "cell_type": "code",
   "execution_count": null,
   "metadata": {
    "colab": {
     "base_uri": "https://localhost:8080/"
    },
    "executionInfo": {
     "elapsed": 647,
     "status": "ok",
     "timestamp": 1609776336243,
     "user": {
      "displayName": "Diego Cowen Pinto",
      "photoUrl": "https://lh3.googleusercontent.com/a-/AOh14GhkSbJn7uVBQmIkmxpBAHIeyBv3MYDnDVJE13xm8w=s64",
      "userId": "00433632151485364739"
     },
     "user_tz": 180
    },
    "id": "gmaZhF04ltpp",
    "outputId": "a577a586-3cc1-49a0-e880-d3d53e64b632"
   },
   "outputs": [
    {
     "data": {
      "text/plain": [
       "(2, 5)"
      ]
     },
     "execution_count": 46,
     "metadata": {
      "tags": []
     },
     "output_type": "execute_result"
    }
   ],
   "source": [
    "dados.shape"
   ]
  },
  {
   "cell_type": "markdown",
   "metadata": {
    "id": "XaY6oXkmltpp"
   },
   "source": [
    "## *ndarray.ndim*\n",
    "\n",
    "Retorna o número de dimensões do array."
   ]
  },
  {
   "cell_type": "code",
   "execution_count": null,
   "metadata": {
    "colab": {
     "base_uri": "https://localhost:8080/"
    },
    "executionInfo": {
     "elapsed": 608,
     "status": "ok",
     "timestamp": 1609776667571,
     "user": {
      "displayName": "Diego Cowen Pinto",
      "photoUrl": "https://lh3.googleusercontent.com/a-/AOh14GhkSbJn7uVBQmIkmxpBAHIeyBv3MYDnDVJE13xm8w=s64",
      "userId": "00433632151485364739"
     },
     "user_tz": 180
    },
    "id": "inJ4HDjaltpq",
    "outputId": "942b285b-0d58-493e-84d4-760e1af116c1"
   },
   "outputs": [
    {
     "data": {
      "text/plain": [
       "2"
      ]
     },
     "execution_count": 47,
     "metadata": {
      "tags": []
     },
     "output_type": "execute_result"
    }
   ],
   "source": [
    "dados.ndim"
   ]
  },
  {
   "cell_type": "markdown",
   "metadata": {
    "id": "ESgVt5xOltpq"
   },
   "source": [
    "## *ndarray.size*\n",
    "\n",
    "Retorna o número de elementos do array."
   ]
  },
  {
   "cell_type": "code",
   "execution_count": null,
   "metadata": {
    "colab": {
     "base_uri": "https://localhost:8080/"
    },
    "executionInfo": {
     "elapsed": 728,
     "status": "ok",
     "timestamp": 1609776911403,
     "user": {
      "displayName": "Diego Cowen Pinto",
      "photoUrl": "https://lh3.googleusercontent.com/a-/AOh14GhkSbJn7uVBQmIkmxpBAHIeyBv3MYDnDVJE13xm8w=s64",
      "userId": "00433632151485364739"
     },
     "user_tz": 180
    },
    "id": "BWr4efoiltpq",
    "outputId": "7d70fbab-a7e5-4ddf-9277-05fa6fe34afe"
   },
   "outputs": [
    {
     "data": {
      "text/plain": [
       "10"
      ]
     },
     "execution_count": 48,
     "metadata": {
      "tags": []
     },
     "output_type": "execute_result"
    }
   ],
   "source": [
    "dados.size"
   ]
  },
  {
   "cell_type": "markdown",
   "metadata": {
    "id": "Ox8JlBM3ltpr"
   },
   "source": [
    "## *ndarray.dtype*\n",
    "\n",
    "Retorna o tipo de dados dos elementos do array."
   ]
  },
  {
   "cell_type": "code",
   "execution_count": null,
   "metadata": {
    "colab": {
     "base_uri": "https://localhost:8080/"
    },
    "executionInfo": {
     "elapsed": 609,
     "status": "ok",
     "timestamp": 1609776922059,
     "user": {
      "displayName": "Diego Cowen Pinto",
      "photoUrl": "https://lh3.googleusercontent.com/a-/AOh14GhkSbJn7uVBQmIkmxpBAHIeyBv3MYDnDVJE13xm8w=s64",
      "userId": "00433632151485364739"
     },
     "user_tz": 180
    },
    "id": "npiL84Vfltpu",
    "outputId": "b4d75bf7-73fd-4cff-ab83-0aff327f7dcc"
   },
   "outputs": [
    {
     "data": {
      "text/plain": [
       "dtype('float64')"
      ]
     },
     "execution_count": 49,
     "metadata": {
      "tags": []
     },
     "output_type": "execute_result"
    }
   ],
   "source": [
    "dados.dtype"
   ]
  },
  {
   "cell_type": "markdown",
   "metadata": {
    "id": "j7uPN16oltpv"
   },
   "source": [
    "## *ndarray.T*\n",
    "\n",
    "Retorna o array transposto, isto é, converte linhas em colunas e vice versa."
   ]
  },
  {
   "cell_type": "code",
   "execution_count": null,
   "metadata": {
    "colab": {
     "base_uri": "https://localhost:8080/"
    },
    "executionInfo": {
     "elapsed": 625,
     "status": "ok",
     "timestamp": 1609776979436,
     "user": {
      "displayName": "Diego Cowen Pinto",
      "photoUrl": "https://lh3.googleusercontent.com/a-/AOh14GhkSbJn7uVBQmIkmxpBAHIeyBv3MYDnDVJE13xm8w=s64",
      "userId": "00433632151485364739"
     },
     "user_tz": 180
    },
    "id": "bLjrrx56ltpv",
    "outputId": "8a1aecb6-f039-4dae-8cc2-fc9bf245817f"
   },
   "outputs": [
    {
     "data": {
      "text/plain": [
       "array([[44410.,  2003.],\n",
       "       [ 5712.,  1991.],\n",
       "       [37123.,  1990.],\n",
       "       [    0.,  2019.],\n",
       "       [25757.,  2006.]])"
      ]
     },
     "execution_count": 50,
     "metadata": {
      "tags": []
     },
     "output_type": "execute_result"
    }
   ],
   "source": [
    "dados.T"
   ]
  },
  {
   "cell_type": "code",
   "execution_count": null,
   "metadata": {
    "colab": {
     "base_uri": "https://localhost:8080/"
    },
    "executionInfo": {
     "elapsed": 633,
     "status": "ok",
     "timestamp": 1609777019876,
     "user": {
      "displayName": "Diego Cowen Pinto",
      "photoUrl": "https://lh3.googleusercontent.com/a-/AOh14GhkSbJn7uVBQmIkmxpBAHIeyBv3MYDnDVJE13xm8w=s64",
      "userId": "00433632151485364739"
     },
     "user_tz": 180
    },
    "id": "5A9SlJQvltpw",
    "outputId": "6cdaead1-d89e-4b82-8018-261bbe91e465"
   },
   "outputs": [
    {
     "data": {
      "text/plain": [
       "array([[44410.,  2003.],\n",
       "       [ 5712.,  1991.],\n",
       "       [37123.,  1990.],\n",
       "       [    0.,  2019.],\n",
       "       [25757.,  2006.]])"
      ]
     },
     "execution_count": 51,
     "metadata": {
      "tags": []
     },
     "output_type": "execute_result"
    }
   ],
   "source": [
    "dados.transpose()"
   ]
  },
  {
   "cell_type": "markdown",
   "metadata": {
    "id": "e9r6ryTrltpw"
   },
   "source": [
    "### Métodos\n",
    "\n",
    "https://numpy.org/doc/1.16/reference/arrays.ndarray.html#array-methods"
   ]
  },
  {
   "cell_type": "markdown",
   "metadata": {
    "id": "SR9KYy-0ltpw"
   },
   "source": [
    "## *ndarray.tolist()*\n",
    "\n",
    "Retorna o array como uma lista Python."
   ]
  },
  {
   "cell_type": "code",
   "execution_count": null,
   "metadata": {
    "colab": {
     "base_uri": "https://localhost:8080/"
    },
    "executionInfo": {
     "elapsed": 665,
     "status": "ok",
     "timestamp": 1609777072619,
     "user": {
      "displayName": "Diego Cowen Pinto",
      "photoUrl": "https://lh3.googleusercontent.com/a-/AOh14GhkSbJn7uVBQmIkmxpBAHIeyBv3MYDnDVJE13xm8w=s64",
      "userId": "00433632151485364739"
     },
     "user_tz": 180
    },
    "id": "C2aTAwOXltpw",
    "outputId": "795c9087-ba84-426c-eb03-3892504fc9c7"
   },
   "outputs": [
    {
     "data": {
      "text/plain": [
       "[[44410.0, 5712.0, 37123.0, 0.0, 25757.0],\n",
       " [2003.0, 1991.0, 1990.0, 2019.0, 2006.0]]"
      ]
     },
     "execution_count": 52,
     "metadata": {
      "tags": []
     },
     "output_type": "execute_result"
    }
   ],
   "source": [
    "dados.tolist()"
   ]
  },
  {
   "cell_type": "markdown",
   "metadata": {
    "id": "bHxcxugPltpx"
   },
   "source": [
    "## *ndarray.reshape(shape[, order])*\n",
    "\n",
    "Retorna um array que contém os mesmos dados com uma nova forma."
   ]
  },
  {
   "cell_type": "code",
   "execution_count": null,
   "metadata": {
    "colab": {
     "base_uri": "https://localhost:8080/"
    },
    "executionInfo": {
     "elapsed": 644,
     "status": "ok",
     "timestamp": 1609777135305,
     "user": {
      "displayName": "Diego Cowen Pinto",
      "photoUrl": "https://lh3.googleusercontent.com/a-/AOh14GhkSbJn7uVBQmIkmxpBAHIeyBv3MYDnDVJE13xm8w=s64",
      "userId": "00433632151485364739"
     },
     "user_tz": 180
    },
    "id": "lwESxO71ltpx",
    "outputId": "0bc36211-4263-476a-c693-ad6daed76b86"
   },
   "outputs": [
    {
     "data": {
      "text/plain": [
       "array([0, 1, 2, 3, 4, 5, 6, 7, 8, 9])"
      ]
     },
     "execution_count": 53,
     "metadata": {
      "tags": []
     },
     "output_type": "execute_result"
    }
   ],
   "source": [
    "contador = np.arange(10)\n",
    "contador"
   ]
  },
  {
   "cell_type": "code",
   "execution_count": null,
   "metadata": {
    "colab": {
     "base_uri": "https://localhost:8080/"
    },
    "executionInfo": {
     "elapsed": 646,
     "status": "ok",
     "timestamp": 1609777312685,
     "user": {
      "displayName": "Diego Cowen Pinto",
      "photoUrl": "https://lh3.googleusercontent.com/a-/AOh14GhkSbJn7uVBQmIkmxpBAHIeyBv3MYDnDVJE13xm8w=s64",
      "userId": "00433632151485364739"
     },
     "user_tz": 180
    },
    "id": "sh9poyfzltpy",
    "outputId": "82f67bdf-17c9-429a-a499-7f1b2f9738ea"
   },
   "outputs": [
    {
     "data": {
      "text/plain": [
       "array([[0, 1],\n",
       "       [2, 3],\n",
       "       [4, 5],\n",
       "       [6, 7],\n",
       "       [8, 9]])"
      ]
     },
     "execution_count": 55,
     "metadata": {
      "tags": []
     },
     "output_type": "execute_result"
    }
   ],
   "source": [
    "contador.reshape((5, 2))"
   ]
  },
  {
   "cell_type": "code",
   "execution_count": null,
   "metadata": {
    "colab": {
     "base_uri": "https://localhost:8080/"
    },
    "executionInfo": {
     "elapsed": 941,
     "status": "ok",
     "timestamp": 1609777389476,
     "user": {
      "displayName": "Diego Cowen Pinto",
      "photoUrl": "https://lh3.googleusercontent.com/a-/AOh14GhkSbJn7uVBQmIkmxpBAHIeyBv3MYDnDVJE13xm8w=s64",
      "userId": "00433632151485364739"
     },
     "user_tz": 180
    },
    "id": "5332Xu8-ltpy",
    "outputId": "dede4e55-bb4f-4c7c-b1c4-78f90445521f"
   },
   "outputs": [
    {
     "data": {
      "text/plain": [
       "array([[0, 1],\n",
       "       [2, 3],\n",
       "       [4, 5],\n",
       "       [6, 7],\n",
       "       [8, 9]])"
      ]
     },
     "execution_count": 57,
     "metadata": {
      "tags": []
     },
     "output_type": "execute_result"
    }
   ],
   "source": [
    "contador.reshape((5, 2), order='C')"
   ]
  },
  {
   "cell_type": "code",
   "execution_count": null,
   "metadata": {
    "colab": {
     "base_uri": "https://localhost:8080/"
    },
    "executionInfo": {
     "elapsed": 656,
     "status": "ok",
     "timestamp": 1609777417476,
     "user": {
      "displayName": "Diego Cowen Pinto",
      "photoUrl": "https://lh3.googleusercontent.com/a-/AOh14GhkSbJn7uVBQmIkmxpBAHIeyBv3MYDnDVJE13xm8w=s64",
      "userId": "00433632151485364739"
     },
     "user_tz": 180
    },
    "id": "2RoZvbgHltpz",
    "outputId": "5e7193a6-9659-47bb-e4bf-ca6228acce3d"
   },
   "outputs": [
    {
     "data": {
      "text/plain": [
       "array([[0, 5],\n",
       "       [1, 6],\n",
       "       [2, 7],\n",
       "       [3, 8],\n",
       "       [4, 9]])"
      ]
     },
     "execution_count": 58,
     "metadata": {
      "tags": []
     },
     "output_type": "execute_result"
    }
   ],
   "source": [
    "contador.reshape((5, 2), order='F')"
   ]
  },
  {
   "cell_type": "code",
   "execution_count": null,
   "metadata": {
    "id": "6q0dJZ-dltp0"
   },
   "outputs": [],
   "source": [
    "km = [44410, 5712, 37123, 0, 25757]\n",
    "anos = [2003, 1991, 1990, 2019, 2006]"
   ]
  },
  {
   "cell_type": "code",
   "execution_count": null,
   "metadata": {
    "colab": {
     "base_uri": "https://localhost:8080/"
    },
    "executionInfo": {
     "elapsed": 883,
     "status": "ok",
     "timestamp": 1609777532071,
     "user": {
      "displayName": "Diego Cowen Pinto",
      "photoUrl": "https://lh3.googleusercontent.com/a-/AOh14GhkSbJn7uVBQmIkmxpBAHIeyBv3MYDnDVJE13xm8w=s64",
      "userId": "00433632151485364739"
     },
     "user_tz": 180
    },
    "id": "bs56aGrkltp0",
    "outputId": "b3a2e586-e25d-4829-ea40-e825d6665e11"
   },
   "outputs": [
    {
     "data": {
      "text/plain": [
       "[44410, 5712, 37123, 0, 25757, 2003, 1991, 1990, 2019, 2006]"
      ]
     },
     "execution_count": 60,
     "metadata": {
      "tags": []
     },
     "output_type": "execute_result"
    }
   ],
   "source": [
    "info_carros = km + anos\n",
    "info_carros"
   ]
  },
  {
   "cell_type": "code",
   "execution_count": null,
   "metadata": {
    "colab": {
     "base_uri": "https://localhost:8080/"
    },
    "executionInfo": {
     "elapsed": 608,
     "status": "ok",
     "timestamp": 1609777785207,
     "user": {
      "displayName": "Diego Cowen Pinto",
      "photoUrl": "https://lh3.googleusercontent.com/a-/AOh14GhkSbJn7uVBQmIkmxpBAHIeyBv3MYDnDVJE13xm8w=s64",
      "userId": "00433632151485364739"
     },
     "user_tz": 180
    },
    "id": "s_GkTk2fltp1",
    "outputId": "e2fc621d-dd78-42cf-9196-c8248dac6619"
   },
   "outputs": [
    {
     "data": {
      "text/plain": [
       "array([[44410,  5712, 37123,     0, 25757],\n",
       "       [ 2003,  1991,  1990,  2019,  2006]])"
      ]
     },
     "execution_count": 67,
     "metadata": {
      "tags": []
     },
     "output_type": "execute_result"
    }
   ],
   "source": [
    "np.array(info_carros).reshape((2, 5))"
   ]
  },
  {
   "cell_type": "code",
   "execution_count": null,
   "metadata": {
    "colab": {
     "base_uri": "https://localhost:8080/"
    },
    "executionInfo": {
     "elapsed": 608,
     "status": "ok",
     "timestamp": 1609777796908,
     "user": {
      "displayName": "Diego Cowen Pinto",
      "photoUrl": "https://lh3.googleusercontent.com/a-/AOh14GhkSbJn7uVBQmIkmxpBAHIeyBv3MYDnDVJE13xm8w=s64",
      "userId": "00433632151485364739"
     },
     "user_tz": 180
    },
    "id": "xodm8DVZltp1",
    "outputId": "3f7ad7fd-0b2d-490c-9fa7-ac2edc453a3a"
   },
   "outputs": [
    {
     "data": {
      "text/plain": [
       "array([[44410,  2003],\n",
       "       [ 5712,  1991],\n",
       "       [37123,  1990],\n",
       "       [    0,  2019],\n",
       "       [25757,  2006]])"
      ]
     },
     "execution_count": 69,
     "metadata": {
      "tags": []
     },
     "output_type": "execute_result"
    }
   ],
   "source": [
    "np.array(info_carros).reshape((5, 2), order='F')"
   ]
  },
  {
   "cell_type": "markdown",
   "metadata": {
    "id": "Tdj5iArbltp2"
   },
   "source": [
    "## *ndarray.resize(new_shape[, refcheck])*\n",
    "\n",
    "Altera a forma e o tamanho do array."
   ]
  },
  {
   "cell_type": "code",
   "execution_count": null,
   "metadata": {
    "colab": {
     "base_uri": "https://localhost:8080/"
    },
    "executionInfo": {
     "elapsed": 698,
     "status": "ok",
     "timestamp": 1609778277291,
     "user": {
      "displayName": "Diego Cowen Pinto",
      "photoUrl": "https://lh3.googleusercontent.com/a-/AOh14GhkSbJn7uVBQmIkmxpBAHIeyBv3MYDnDVJE13xm8w=s64",
      "userId": "00433632151485364739"
     },
     "user_tz": 180
    },
    "id": "vB2zxCDtltp2",
    "outputId": "0f64ac55-47ec-4bca-cc3c-4a686444ae61"
   },
   "outputs": [
    {
     "data": {
      "text/plain": [
       "array([[44410.,  5712., 37123.,     0., 25757.],\n",
       "       [ 2003.,  1991.,  1990.,  2019.,  2006.]])"
      ]
     },
     "execution_count": 75,
     "metadata": {
      "tags": []
     },
     "output_type": "execute_result"
    }
   ],
   "source": [
    "dados_new = dados.copy()\n",
    "dados_new"
   ]
  },
  {
   "cell_type": "code",
   "execution_count": null,
   "metadata": {
    "id": "IMv0m4Multp2"
   },
   "outputs": [],
   "source": [
    "dados_new.resize((3,5), refcheck=False)"
   ]
  },
  {
   "cell_type": "code",
   "execution_count": null,
   "metadata": {
    "colab": {
     "base_uri": "https://localhost:8080/"
    },
    "executionInfo": {
     "elapsed": 480,
     "status": "ok",
     "timestamp": 1609778280599,
     "user": {
      "displayName": "Diego Cowen Pinto",
      "photoUrl": "https://lh3.googleusercontent.com/a-/AOh14GhkSbJn7uVBQmIkmxpBAHIeyBv3MYDnDVJE13xm8w=s64",
      "userId": "00433632151485364739"
     },
     "user_tz": 180
    },
    "id": "wpAi9928ltp3",
    "outputId": "9cbb7699-1ad3-4e5c-d6cc-cccbde285b71"
   },
   "outputs": [
    {
     "data": {
      "text/plain": [
       "array([[44410.,  5712., 37123.,     0., 25757.],\n",
       "       [ 2003.,  1991.,  1990.,  2019.,  2006.],\n",
       "       [    0.,     0.,     0.,     0.,     0.]])"
      ]
     },
     "execution_count": 77,
     "metadata": {
      "tags": []
     },
     "output_type": "execute_result"
    }
   ],
   "source": [
    "dados_new"
   ]
  },
  {
   "cell_type": "code",
   "execution_count": null,
   "metadata": {
    "colab": {
     "base_uri": "https://localhost:8080/"
    },
    "executionInfo": {
     "elapsed": 632,
     "status": "ok",
     "timestamp": 1609778388780,
     "user": {
      "displayName": "Diego Cowen Pinto",
      "photoUrl": "https://lh3.googleusercontent.com/a-/AOh14GhkSbJn7uVBQmIkmxpBAHIeyBv3MYDnDVJE13xm8w=s64",
      "userId": "00433632151485364739"
     },
     "user_tz": 180
    },
    "id": "CJyuKqaFltp3",
    "outputId": "ce524e1d-e3fc-4611-bf29-1c6765a824f8"
   },
   "outputs": [
    {
     "name": "stderr",
     "output_type": "stream",
     "text": [
      "/usr/local/lib/python3.6/dist-packages/ipykernel_launcher.py:1: RuntimeWarning: invalid value encountered in true_divide\n",
      "  \"\"\"Entry point for launching an IPython kernel.\n"
     ]
    }
   ],
   "source": [
    "dados_new[2] = dados_new[0] / (2019 - dados_new[1])"
   ]
  },
  {
   "cell_type": "code",
   "execution_count": null,
   "metadata": {
    "colab": {
     "base_uri": "https://localhost:8080/"
    },
    "executionInfo": {
     "elapsed": 621,
     "status": "ok",
     "timestamp": 1609778391659,
     "user": {
      "displayName": "Diego Cowen Pinto",
      "photoUrl": "https://lh3.googleusercontent.com/a-/AOh14GhkSbJn7uVBQmIkmxpBAHIeyBv3MYDnDVJE13xm8w=s64",
      "userId": "00433632151485364739"
     },
     "user_tz": 180
    },
    "id": "bj_iPZAultp4",
    "outputId": "c3763748-7f02-4718-f996-70a691c68732"
   },
   "outputs": [
    {
     "data": {
      "text/plain": [
       "array([[44410.        ,  5712.        , 37123.        ,     0.        ,\n",
       "        25757.        ],\n",
       "       [ 2003.        ,  1991.        ,  1990.        ,  2019.        ,\n",
       "         2006.        ],\n",
       "       [ 2775.625     ,   204.        ,  1280.10344828,            nan,\n",
       "         1981.30769231]])"
      ]
     },
     "execution_count": 81,
     "metadata": {
      "tags": []
     },
     "output_type": "execute_result"
    }
   ],
   "source": [
    "dados_new"
   ]
  },
  {
   "cell_type": "markdown",
   "metadata": {
    "id": "GPSk7Q_Dltp4"
   },
   "source": [
    "# 5.5 Estatísticas com arrays Numpy\n",
    "\n",
    "https://numpy.org/doc/1.16/reference/arrays.ndarray.html#calculation\n",
    "\n",
    "e\n",
    "\n",
    "https://numpy.org/doc/1.16/reference/routines.statistics.html\n",
    "\n",
    "e\n",
    "\n",
    "https://numpy.org/doc/1.16/reference/routines.math.html"
   ]
  },
  {
   "cell_type": "code",
   "execution_count": null,
   "metadata": {
    "id": "RH2u1orXltp5"
   },
   "outputs": [],
   "source": [
    "anos = np.loadtxt(fname = \"carros-anos.txt\", dtype = int)\n",
    "km = np.loadtxt(fname = \"carros-km.txt\")\n",
    "valor = np.loadtxt(fname = \"carros-valor.txt\")"
   ]
  },
  {
   "cell_type": "code",
   "execution_count": null,
   "metadata": {
    "colab": {
     "base_uri": "https://localhost:8080/"
    },
    "executionInfo": {
     "elapsed": 607,
     "status": "ok",
     "timestamp": 1609779268459,
     "user": {
      "displayName": "Diego Cowen Pinto",
      "photoUrl": "https://lh3.googleusercontent.com/a-/AOh14GhkSbJn7uVBQmIkmxpBAHIeyBv3MYDnDVJE13xm8w=s64",
      "userId": "00433632151485364739"
     },
     "user_tz": 180
    },
    "id": "wbITF7r6ltp5",
    "outputId": "66d378da-6a2f-4f4c-c4a9-97c5afd9d453"
   },
   "outputs": [
    {
     "data": {
      "text/plain": [
       "(258,)"
      ]
     },
     "execution_count": 86,
     "metadata": {
      "tags": []
     },
     "output_type": "execute_result"
    }
   ],
   "source": [
    "anos.shape"
   ]
  },
  {
   "cell_type": "markdown",
   "metadata": {
    "id": "U_x3SOVDltp7"
   },
   "source": [
    "https://numpy.org/doc/1.16/reference/generated/numpy.column_stack.html"
   ]
  },
  {
   "cell_type": "code",
   "execution_count": null,
   "metadata": {
    "id": "wefxl-XBltp8"
   },
   "outputs": [],
   "source": [
    "dataset = np.column_stack((anos, km, valor))\n",
    "dataset"
   ]
  },
  {
   "cell_type": "code",
   "execution_count": null,
   "metadata": {
    "colab": {
     "base_uri": "https://localhost:8080/"
    },
    "executionInfo": {
     "elapsed": 700,
     "status": "ok",
     "timestamp": 1609779601395,
     "user": {
      "displayName": "Diego Cowen Pinto",
      "photoUrl": "https://lh3.googleusercontent.com/a-/AOh14GhkSbJn7uVBQmIkmxpBAHIeyBv3MYDnDVJE13xm8w=s64",
      "userId": "00433632151485364739"
     },
     "user_tz": 180
    },
    "id": "OzDTTmj8ltp_",
    "outputId": "637a110a-a7fc-4b86-ca39-244ed1ae2d8d",
    "scrolled": true
   },
   "outputs": [
    {
     "data": {
      "text/plain": [
       "(258, 3)"
      ]
     },
     "execution_count": 89,
     "metadata": {
      "tags": []
     },
     "output_type": "execute_result"
    }
   ],
   "source": [
    "dataset.shape"
   ]
  },
  {
   "cell_type": "markdown",
   "metadata": {
    "id": "Me6yUU_RltqA"
   },
   "source": [
    "## *np.mean()*\n",
    "\n",
    "Retorna a média dos elementos do array ao longo do eixo especificado."
   ]
  },
  {
   "cell_type": "code",
   "execution_count": null,
   "metadata": {
    "colab": {
     "base_uri": "https://localhost:8080/"
    },
    "executionInfo": {
     "elapsed": 736,
     "status": "ok",
     "timestamp": 1609780013465,
     "user": {
      "displayName": "Diego Cowen Pinto",
      "photoUrl": "https://lh3.googleusercontent.com/a-/AOh14GhkSbJn7uVBQmIkmxpBAHIeyBv3MYDnDVJE13xm8w=s64",
      "userId": "00433632151485364739"
     },
     "user_tz": 180
    },
    "id": "MNEKcP38ltqA",
    "outputId": "65587e6e-3043-4785-8615-120c18cfc903"
   },
   "outputs": [
    {
     "data": {
      "text/plain": [
       "array([ 2007.51162791, 44499.41472868, 98960.51310078])"
      ]
     },
     "execution_count": 92,
     "metadata": {
      "tags": []
     },
     "output_type": "execute_result"
    }
   ],
   "source": [
    "np.mean(dataset, axis = 0)"
   ]
  },
  {
   "cell_type": "code",
   "execution_count": null,
   "metadata": {
    "id": "sekHQ84zltqB"
   },
   "outputs": [],
   "source": [
    "np.mean(dataset, axis = 1)"
   ]
  },
  {
   "cell_type": "code",
   "execution_count": null,
   "metadata": {
    "colab": {
     "base_uri": "https://localhost:8080/"
    },
    "executionInfo": {
     "elapsed": 670,
     "status": "ok",
     "timestamp": 1609780147905,
     "user": {
      "displayName": "Diego Cowen Pinto",
      "photoUrl": "https://lh3.googleusercontent.com/a-/AOh14GhkSbJn7uVBQmIkmxpBAHIeyBv3MYDnDVJE13xm8w=s64",
      "userId": "00433632151485364739"
     },
     "user_tz": 180
    },
    "id": "RpyETIVSltqC",
    "outputId": "13566da9-2913-41d1-b3d8-51c325973da4"
   },
   "outputs": [
    {
     "data": {
      "text/plain": [
       "44499.41472868217"
      ]
     },
     "execution_count": 96,
     "metadata": {
      "tags": []
     },
     "output_type": "execute_result"
    }
   ],
   "source": [
    "np.mean(dataset[:, 1])"
   ]
  },
  {
   "cell_type": "code",
   "execution_count": null,
   "metadata": {
    "colab": {
     "base_uri": "https://localhost:8080/"
    },
    "executionInfo": {
     "elapsed": 748,
     "status": "ok",
     "timestamp": 1609780173991,
     "user": {
      "displayName": "Diego Cowen Pinto",
      "photoUrl": "https://lh3.googleusercontent.com/a-/AOh14GhkSbJn7uVBQmIkmxpBAHIeyBv3MYDnDVJE13xm8w=s64",
      "userId": "00433632151485364739"
     },
     "user_tz": 180
    },
    "id": "_-kpcTI8ltqD",
    "outputId": "7503ff7d-b818-41d1-9204-9a8ccd8c5a30",
    "scrolled": true
   },
   "outputs": [
    {
     "data": {
      "text/plain": [
       "98960.51310077519"
      ]
     },
     "execution_count": 98,
     "metadata": {
      "tags": []
     },
     "output_type": "execute_result"
    }
   ],
   "source": [
    "np.mean(dataset[:, 2])"
   ]
  },
  {
   "cell_type": "markdown",
   "metadata": {
    "id": "71jViVBUltqE"
   },
   "source": [
    "## *np.std()*\n",
    "\n",
    "Retorna o desvio padrão dos elementos do array ao longo do eixo especificado."
   ]
  },
  {
   "cell_type": "code",
   "execution_count": null,
   "metadata": {
    "colab": {
     "base_uri": "https://localhost:8080/"
    },
    "executionInfo": {
     "elapsed": 707,
     "status": "ok",
     "timestamp": 1609780183188,
     "user": {
      "displayName": "Diego Cowen Pinto",
      "photoUrl": "https://lh3.googleusercontent.com/a-/AOh14GhkSbJn7uVBQmIkmxpBAHIeyBv3MYDnDVJE13xm8w=s64",
      "userId": "00433632151485364739"
     },
     "user_tz": 180
    },
    "id": "lEwUbPx2ltqE",
    "outputId": "da199535-ea9e-4bf2-9bbb-f14471d688f6",
    "scrolled": true
   },
   "outputs": [
    {
     "data": {
      "text/plain": [
       "29754.101150388564"
      ]
     },
     "execution_count": 99,
     "metadata": {
      "tags": []
     },
     "output_type": "execute_result"
    }
   ],
   "source": [
    "np.std(dataset[:, 2])"
   ]
  },
  {
   "cell_type": "markdown",
   "metadata": {
    "id": "JTUH-vAeltqG"
   },
   "source": [
    "## *ndarray.sum()*\n",
    "\n",
    "Retorna a soma dos elementos do array ao longo do eixo especificado."
   ]
  },
  {
   "cell_type": "code",
   "execution_count": null,
   "metadata": {
    "colab": {
     "base_uri": "https://localhost:8080/"
    },
    "executionInfo": {
     "elapsed": 623,
     "status": "ok",
     "timestamp": 1609780337171,
     "user": {
      "displayName": "Diego Cowen Pinto",
      "photoUrl": "https://lh3.googleusercontent.com/a-/AOh14GhkSbJn7uVBQmIkmxpBAHIeyBv3MYDnDVJE13xm8w=s64",
      "userId": "00433632151485364739"
     },
     "user_tz": 180
    },
    "id": "jIi3yoaWltqG",
    "outputId": "04bde52f-56bf-4fee-a194-0630d5a668e3"
   },
   "outputs": [
    {
     "data": {
      "text/plain": [
       "array([  517938.        , 11480849.        , 25531812.37999999])"
      ]
     },
     "execution_count": 102,
     "metadata": {
      "tags": []
     },
     "output_type": "execute_result"
    }
   ],
   "source": [
    "dataset.sum(axis = 0)"
   ]
  },
  {
   "cell_type": "code",
   "execution_count": null,
   "metadata": {
    "colab": {
     "base_uri": "https://localhost:8080/"
    },
    "executionInfo": {
     "elapsed": 616,
     "status": "ok",
     "timestamp": 1609780339253,
     "user": {
      "displayName": "Diego Cowen Pinto",
      "photoUrl": "https://lh3.googleusercontent.com/a-/AOh14GhkSbJn7uVBQmIkmxpBAHIeyBv3MYDnDVJE13xm8w=s64",
      "userId": "00433632151485364739"
     },
     "user_tz": 180
    },
    "id": "X3QYbdYLltqH",
    "outputId": "e757eafa-b5ec-41a8-e00d-7b95a8f727c4"
   },
   "outputs": [
    {
     "data": {
      "text/plain": [
       "11480849.0"
      ]
     },
     "execution_count": 103,
     "metadata": {
      "tags": []
     },
     "output_type": "execute_result"
    }
   ],
   "source": [
    "dataset[:, 1].sum()"
   ]
  },
  {
   "cell_type": "markdown",
   "metadata": {
    "id": "WbBD5ixaltqH"
   },
   "source": [
    "## *np.sum()*\n",
    "\n",
    "Retorna a soma dos elementos do array ao longo do eixo especificado."
   ]
  },
  {
   "cell_type": "code",
   "execution_count": null,
   "metadata": {
    "colab": {
     "base_uri": "https://localhost:8080/"
    },
    "executionInfo": {
     "elapsed": 642,
     "status": "ok",
     "timestamp": 1609780368129,
     "user": {
      "displayName": "Diego Cowen Pinto",
      "photoUrl": "https://lh3.googleusercontent.com/a-/AOh14GhkSbJn7uVBQmIkmxpBAHIeyBv3MYDnDVJE13xm8w=s64",
      "userId": "00433632151485364739"
     },
     "user_tz": 180
    },
    "id": "omB6kgWgltqH",
    "outputId": "24923393-787a-496c-f212-9ab843bc7e8d"
   },
   "outputs": [
    {
     "data": {
      "text/plain": [
       "array([  517938.        , 11480849.        , 25531812.37999999])"
      ]
     },
     "execution_count": 104,
     "metadata": {
      "tags": []
     },
     "output_type": "execute_result"
    }
   ],
   "source": [
    "np.sum(dataset, axis = 0)"
   ]
  },
  {
   "cell_type": "code",
   "execution_count": null,
   "metadata": {
    "colab": {
     "base_uri": "https://localhost:8080/"
    },
    "executionInfo": {
     "elapsed": 616,
     "status": "ok",
     "timestamp": 1609780389958,
     "user": {
      "displayName": "Diego Cowen Pinto",
      "photoUrl": "https://lh3.googleusercontent.com/a-/AOh14GhkSbJn7uVBQmIkmxpBAHIeyBv3MYDnDVJE13xm8w=s64",
      "userId": "00433632151485364739"
     },
     "user_tz": 180
    },
    "id": "LiD4G3kQltqI",
    "outputId": "86707a81-23e0-4c55-d953-ec503fd576b5"
   },
   "outputs": [
    {
     "data": {
      "text/plain": [
       "11480849.0"
      ]
     },
     "execution_count": 105,
     "metadata": {
      "tags": []
     },
     "output_type": "execute_result"
    }
   ],
   "source": [
    "np.sum(dataset[:, 1])"
   ]
  },
  {
   "cell_type": "code",
   "execution_count": null,
   "metadata": {
    "colab": {
     "base_uri": "https://localhost:8080/"
    },
    "executionInfo": {
     "elapsed": 655,
     "status": "ok",
     "timestamp": 1609780398359,
     "user": {
      "displayName": "Diego Cowen Pinto",
      "photoUrl": "https://lh3.googleusercontent.com/a-/AOh14GhkSbJn7uVBQmIkmxpBAHIeyBv3MYDnDVJE13xm8w=s64",
      "userId": "00433632151485364739"
     },
     "user_tz": 180
    },
    "id": "kpakpnntltqJ",
    "outputId": "962a4cf6-0b98-454f-88b6-4a473e880c27"
   },
   "outputs": [
    {
     "data": {
      "text/plain": [
       "25531812.38"
      ]
     },
     "execution_count": 106,
     "metadata": {
      "tags": []
     },
     "output_type": "execute_result"
    }
   ],
   "source": [
    "np.sum(dataset[:, 2])"
   ]
  }
 ],
 "metadata": {
  "colab": {
   "name": "Python_Data_Science_Numpy.ipynb",
   "provenance": []
  },
  "kernelspec": {
   "display_name": "Python 3",
   "language": "python",
   "name": "python3"
  },
  "language_info": {
   "codemirror_mode": {
    "name": "ipython",
    "version": 3
   },
   "file_extension": ".py",
   "mimetype": "text/x-python",
   "name": "python",
   "nbconvert_exporter": "python",
   "pygments_lexer": "ipython3",
   "version": "3.8.5"
  }
 },
 "nbformat": 4,
 "nbformat_minor": 1
}
